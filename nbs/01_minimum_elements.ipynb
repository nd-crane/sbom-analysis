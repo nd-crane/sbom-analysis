{
 "cells": [
  {
   "cell_type": "markdown",
   "id": "6271a307-1d8f-4b41-8fce-9bc082ca9ce0",
   "metadata": {},
   "source": [
    "# Minimum SBOM Elements"
   ]
  },
  {
   "cell_type": "markdown",
   "id": "d0a65d01-2df0-40ed-a77e-821d08ff7495",
   "metadata": {},
   "source": [
    "On this page we explore the minimum required specifications for an SBOM declared under Executive Order 14028 and outlined in this [document](https://www.cisa.gov/resources-tools/resources/types-software-bill-materials-sbom)."
   ]
  },
  {
   "cell_type": "markdown",
   "id": "a3805b9a-4b6e-4c91-89ae-e7e76c8b87e8",
   "metadata": {},
   "source": [
    "## Brief Introduction"
   ]
  },
  {
   "cell_type": "markdown",
   "id": "3b32d526-0365-4cd9-bc0e-add382aa0062",
   "metadata": {},
   "source": [
    "SBOM's form a foundational data layer on which further security tools, practices, and assurances can be built. To achieve this, three interrelated areas are specified:\n",
    "\n",
    "1. Data Fields\n",
    "2. Automation Support\n",
    "3. Practices and Processes"
   ]
  },
  {
   "cell_type": "markdown",
   "id": "5dfabc45-2abb-401b-86a2-506bc5911f4e",
   "metadata": {},
   "source": [
    "## Data Fields"
   ]
  },
  {
   "cell_type": "markdown",
   "id": "1f4e7bfd-4936-400d-a7e9-1ab60d494178",
   "metadata": {},
   "source": [
    "Data fields contain baseline information about each component to track them across the software supply chain and map them to other sources of data such as vulnerability databases or license databases.  This includes:\n",
    "\n",
    "1. Supplier name - name of entity that creates, defines, and identifies components\n",
    "2. Component Name - name assigned to software package defined by original supplier\n",
    "3. Version of the Component - ID to specify version\n",
    "4. Other Unique Identifiers\n",
    "5. Dependency Relationship  - characterizing relationship for component X included in software Y\n",
    "6. Author of SBOM Data - the name of the creating entity\n",
    "7. Timestamp - of SBOM data assembly"
   ]
  },
  {
   "cell_type": "markdown",
   "id": "83c079de-6e50-40ac-86f3-b12afd3f7907",
   "metadata": {},
   "source": [
    "## Automation Support"
   ]
  },
  {
   "cell_type": "markdown",
   "id": "7534ad7f-50d1-4b01-80af-3013cb533ebd",
   "metadata": {},
   "source": [
    "SBOM's should have support for automation including automatic generation and machine-readability.  Three standards have been deemed interoperable for core data fields and sytax representations:\n",
    "\n",
    "1. Software Package Data eXchange (SPDX)\n",
    "2. CycloneDX\n",
    "3. Software Indentification (SWID) tags)"
   ]
  },
  {
   "cell_type": "markdown",
   "id": "4eff26e3-1f6e-47ca-8813-421c1b6e6f9b",
   "metadata": {},
   "source": [
    "## Practices and Processes"
   ]
  },
  {
   "cell_type": "markdown",
   "id": "ed9f7740-8209-40e2-b5d0-3e084e63fde3",
   "metadata": {},
   "source": [
    "Certain practices and processes should be followed that focus on the mechanics of SBOM use.  These include:\n",
    "\n",
    "1. Frequence - a new SBOM must be created upon version updates or error correction\n",
    "2. Depth - a SBOM should contain all primary components with transitive dependencies listed.  At a minimum all dependencies must be listed with enough detail to seek recursive transitive dependencies.  \n",
    "3. Known Unknowns - in cases when a full dependency graph is unable to be enumerated, a SBOM must explicitly identify \"known uknowns\".  Futhermore the author should affirmatively state when all direct dependencies of a component have been fully enumerated, or when there are no further cdependencies.\n",
    "4. Distribution and Delivery - SBOMs should be available in a timely fassion to those who need them and must have appropriate access permissions in place\n",
    "5. Access Control - if access control is desired, the terms for integrading SBOM datta to a user's security tools must be specified\n",
    "6. Accommadation of Mistakes - should be built into the initial phase of SBOM, allowing for omissions and errors."
   ]
  },
  {
   "cell_type": "markdown",
   "id": "fed1833a-dd10-44bb-a353-0aed00def8fb",
   "metadata": {},
   "source": [
    "## Recommended Elements"
   ]
  },
  {
   "cell_type": "markdown",
   "id": "91c66d5d-dfe6-47f1-bc52-ba17dad52d40",
   "metadata": {},
   "source": [
    "In addition to the minimum requirements above, further steps can be taken to expand transparency in the software supply chain."
   ]
  },
  {
   "cell_type": "markdown",
   "id": "734aa663-c0eb-40ac-9d8e-c260680e79aa",
   "metadata": {},
   "source": [
    "### Data Fields"
   ]
  },
  {
   "cell_type": "markdown",
   "id": "38a6b906-a9b3-4549-8d28-3c33bf516618",
   "metadata": {},
   "source": [
    "1. Component Hash - used as a robust identifier\n",
    "2. Lifecycle Phase - noting how SBOM data was caputres (\"source\", \"build\", or \"post-build\")\n",
    "3. Other Component Relationships - relationships indicating \"derivation\" or \"descendancy\" noting if a component is similar to another component\n",
    "4. License Information - overall license of a component"
   ]
  }
 ],
 "metadata": {
  "kernelspec": {
   "display_name": "local-venv",
   "language": "python",
   "name": "local-venv"
  }
 },
 "nbformat": 4,
 "nbformat_minor": 5
}

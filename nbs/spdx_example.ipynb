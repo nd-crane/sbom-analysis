{
 "cells": [
  {
   "cell_type": "code",
   "execution_count": 2,
   "id": "6d946c38-e55c-40e2-a679-f061a365e25a",
   "metadata": {},
   "outputs": [],
   "source": [
    "#| hide\n",
    "import kglab"
   ]
  },
  {
   "cell_type": "markdown",
   "id": "5a27fdd0-2848-433e-88ec-88e1d0824f36",
   "metadata": {},
   "source": [
    "# Analyzing SPDX Example SBOM"
   ]
  },
  {
   "cell_type": "markdown",
   "id": "1f76a2fc-fa1f-4027-9c3d-2a65e62fa9ad",
   "metadata": {},
   "source": [
    "SBOM Source: [spdx/spdx-spec/examples](https://github.com/spdx/spdx-spec/tree/development/v2.2.2/examples)\n",
    "\n",
    "RDF Source: Generated using [pyspdxtools](https://github.com/spdx/tools-python)"
   ]
  },
  {
   "cell_type": "markdown",
   "id": "82196fac-e751-4e7f-b572-240c5367ba3e",
   "metadata": {},
   "source": [
    "## Import Graph"
   ]
  },
  {
   "cell_type": "code",
   "execution_count": 5,
   "id": "623ab3f8-2b80-416f-8049-fd56cbd1ace4",
   "metadata": {},
   "outputs": [],
   "source": [
    "kg = kglab.KnowledgeGraph().load_rdf(\"sboms/rdf/model.rdf.xml\", format=\"xml\")"
   ]
  },
  {
   "cell_type": "markdown",
   "id": "cc08bb85-4210-433f-95da-aea9a1f25558",
   "metadata": {
    "tags": []
   },
   "source": [
    "## Querying"
   ]
  },
  {
   "cell_type": "markdown",
   "id": "aceab5fe-5628-456e-a686-d45f476e15e3",
   "metadata": {},
   "source": [
    "**Total Number of Triples**"
   ]
  },
  {
   "cell_type": "code",
   "execution_count": 17,
   "id": "b2c56be7-dd90-4ccf-ad36-e06a6f57bb05",
   "metadata": {},
   "outputs": [
    {
     "name": "stdout",
     "output_type": "stream",
     "text": [
      "Total Triples: 306\n"
     ]
    }
   ],
   "source": [
    "query = \"\"\"\n",
    "SELECT (COUNT(*) as ?count)\n",
    "WHERE {\n",
    "  ?s ?p ?o .\n",
    "}\n",
    "\"\"\"\n",
    "\n",
    "result = kg.query(query)\n",
    "for row in result:\n",
    "    print(\"Total Triples:\", row[\"count\"])\n"
   ]
  },
  {
   "cell_type": "markdown",
   "id": "59f7c7a9-d850-4d43-bdf7-ec69e903e617",
   "metadata": {},
   "source": [
    "**Number of Distinct Entities**"
   ]
  },
  {
   "cell_type": "code",
   "execution_count": 9,
   "id": "5ce6d3b8-597f-4b28-a788-c2ea8ae114e1",
   "metadata": {},
   "outputs": [
    {
     "name": "stdout",
     "output_type": "stream",
     "text": [
      "Distinct Entities: 56\n"
     ]
    }
   ],
   "source": [
    "query = \"\"\"\n",
    "SELECT (COUNT(DISTINCT ?entity) as ?count)\n",
    "WHERE {\n",
    "  ?entity a ?type .\n",
    "}\n",
    "\"\"\"\n",
    "\n",
    "result = kg.query(query)\n",
    "for row in result:\n",
    "    print(\"Distinct Entities:\", row[\"count\"])\n"
   ]
  },
  {
   "cell_type": "markdown",
   "id": "ebb4403b-6c4c-491b-b290-e5b90a8cc5e5",
   "metadata": {},
   "source": [
    "**Number of Distinct Properties**"
   ]
  },
  {
   "cell_type": "code",
   "execution_count": 10,
   "id": "0f185488-0a10-465c-aef9-ea08d553f7e1",
   "metadata": {},
   "outputs": [
    {
     "name": "stdout",
     "output_type": "stream",
     "text": [
      "Distinct Properties: 62\n"
     ]
    }
   ],
   "source": [
    "query = \"\"\"\n",
    "SELECT (COUNT(DISTINCT ?property) as ?count)\n",
    "WHERE {\n",
    "  ?s ?property ?o .\n",
    "}\n",
    "\"\"\"\n",
    "\n",
    "result = kg.query(query)\n",
    "for row in result:\n",
    "    print(\"Distinct Properties:\", row[\"count\"])"
   ]
  },
  {
   "cell_type": "markdown",
   "id": "36064c3a-4143-4872-803e-7c5480a3947f",
   "metadata": {},
   "source": [
    "**Number of Entities per Type**"
   ]
  },
  {
   "cell_type": "code",
   "execution_count": 11,
   "id": "73ad65ce-1e6e-480b-81db-814ce87a96ee",
   "metadata": {},
   "outputs": [
    {
     "name": "stdout",
     "output_type": "stream",
     "text": [
      "http://spdx.org/rdf/terms#Relationship : 11\n",
      "http://spdx.org/rdf/terms#Checksum : 10\n",
      "http://spdx.org/rdf/terms#ExtractedLicensingInfo : 5\n",
      "http://spdx.org/rdf/terms#Annotation : 5\n",
      "http://spdx.org/rdf/terms#File : 4\n",
      "http://spdx.org/rdf/terms#Package : 4\n",
      "http://spdx.org/rdf/terms#ExternalRef : 3\n",
      "http://www.w3.org/2009/pointers#StartEndPointer : 2\n",
      "http://www.w3.org/2009/pointers#ByteOffsetPointer : 2\n",
      "http://www.w3.org/2009/pointers#LineCharPointer : 2\n",
      "http://spdx.org/rdf/terms#DisjunctiveLicenseSet : 2\n",
      "http://spdx.org/rdf/terms#Snippet : 1\n",
      "http://spdx.org/rdf/terms#SpdxDocument : 1\n",
      "http://spdx.org/rdf/terms#ExternalDocumentRef : 1\n",
      "http://spdx.org/rdf/terms#PackageVerificationCode : 1\n",
      "http://spdx.org/rdf/terms#ConjunctiveLicenseSet : 1\n",
      "http://spdx.org/rdf/terms#CreationInfo : 1\n"
     ]
    }
   ],
   "source": [
    "query = \"\"\"\n",
    "SELECT ?type (COUNT(?entity) as ?count)\n",
    "WHERE {\n",
    "  ?entity a ?type .\n",
    "}\n",
    "GROUP BY ?type\n",
    "ORDER BY DESC(?count)\n",
    "\"\"\"\n",
    "\n",
    "result = kg.query(query)\n",
    "for row in result:\n",
    "    print(row[\"type\"], \":\", row[\"count\"])\n"
   ]
  },
  {
   "cell_type": "markdown",
   "id": "f83ad0fe-85e7-41fa-9959-76b912df0d37",
   "metadata": {},
   "source": [
    "**Top N Properties by Popularity**"
   ]
  },
  {
   "cell_type": "code",
   "execution_count": 12,
   "id": "c44321e6-a15d-4e79-8740-5682d4ff9d88",
   "metadata": {},
   "outputs": [
    {
     "name": "stdout",
     "output_type": "stream",
     "text": [
      "http://www.w3.org/1999/02/22-rdf-syntax-ns#type : 56\n",
      "http://www.w3.org/2000/01/rdf-schema#comment : 14\n",
      "http://spdx.org/rdf/terms#relationship : 11\n",
      "http://spdx.org/rdf/terms#relatedSpdxElement : 11\n",
      "http://spdx.org/rdf/terms#fileContributor : 11\n",
      "http://spdx.org/rdf/terms#relationshipType : 11\n",
      "http://spdx.org/rdf/terms#algorithm : 10\n",
      "http://spdx.org/rdf/terms#checksum : 10\n",
      "http://spdx.org/rdf/terms#checksumValue : 10\n",
      "http://spdx.org/rdf/terms#licenseConcluded : 9\n"
     ]
    }
   ],
   "source": [
    "N = 10\n",
    "\n",
    "query = \"\"\"\n",
    "SELECT ?property (COUNT(?property) as ?count)\n",
    "WHERE {\n",
    "  ?s ?property ?o .\n",
    "}\n",
    "GROUP BY ?property\n",
    "ORDER BY DESC(?count)\n",
    "LIMIT %d\n",
    "\"\"\" % N\n",
    "\n",
    "result = kg.query(query)\n",
    "for row in result:\n",
    "    print(row[\"property\"], \":\", row[\"count\"])\n"
   ]
  },
  {
   "cell_type": "markdown",
   "id": "40c1eee8-bc8c-405f-8d86-1f16f06c437c",
   "metadata": {},
   "source": [
    "## Visualization"
   ]
  },
  {
   "cell_type": "code",
   "execution_count": 3,
   "id": "3b384e6c-9254-4423-8a3c-42669cd37611",
   "metadata": {},
   "outputs": [
    {
     "name": "stdout",
     "output_type": "stream",
     "text": [
      "Warning: When  cdn_resources is 'local' jupyter notebook has issues displaying graphics on chrome/safari. Use cdn_resources='in_line' or cdn_resources='remote' if you have issues viewing graphics in a notebook.\n"
     ]
    }
   ],
   "source": [
    "\n",
    "\n",
    "VIS_STYLE = {\n",
    "    \"spdx\": {\n",
    "        \"color\": \"orange\",\n",
    "        \"size\": 40,\n",
    "    },\n",
    "    \"rdf\":{\n",
    "        \"color\": \"blue\",\n",
    "        \"size\": 30,\n",
    "    },\n",
    "    \"ptr\":{\n",
    "        \"color\": \"red\",\n",
    "        \"size\": 20,\n",
    "    },\n",
    "}\n",
    "\n",
    "subgraph = kglab.SubgraphTensor(kg)\n",
    "pyvis_graph = subgraph.build_pyvis_graph(notebook=True, style=VIS_STYLE)"
   ]
  },
  {
   "cell_type": "code",
   "execution_count": 4,
   "id": "4dfd8abe-bc04-4b60-aeab-115e65403cb2",
   "metadata": {},
   "outputs": [
    {
     "name": "stdout",
     "output_type": "stream",
     "text": [
      "tmp.fig03.html\n"
     ]
    },
    {
     "data": {
      "text/html": [
       "\n",
       "        <iframe\n",
       "            width=\"100%\"\n",
       "            height=\"600px\"\n",
       "            src=\"tmp.fig03.html\"\n",
       "            frameborder=\"0\"\n",
       "            allowfullscreen\n",
       "            \n",
       "        ></iframe>\n",
       "        "
      ],
      "text/plain": [
       "<IPython.lib.display.IFrame at 0x7fe1040c26a0>"
      ]
     },
     "execution_count": 4,
     "metadata": {},
     "output_type": "execute_result"
    }
   ],
   "source": [
    "pyvis_graph.force_atlas_2based()\n",
    "pyvis_graph.show(\"tmp.fig03.html\")"
   ]
  }
 ],
 "metadata": {
  "kernelspec": {
   "display_name": "local-venv",
   "language": "python",
   "name": "local-venv"
  },
  "language_info": {
   "codemirror_mode": {
    "name": "ipython",
    "version": 3
   },
   "file_extension": ".py",
   "mimetype": "text/x-python",
   "name": "python",
   "nbconvert_exporter": "python",
   "pygments_lexer": "ipython3",
   "version": "3.9.15"
  }
 },
 "nbformat": 4,
 "nbformat_minor": 5
}

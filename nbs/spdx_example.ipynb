{
 "cells": [
  {
   "cell_type": "code",
   "execution_count": 1,
   "id": "6d946c38-e55c-40e2-a679-f061a365e25a",
   "metadata": {},
   "outputs": [],
   "source": [
    "#| hide\n",
    "import kglab\n",
    "import pandas as pd\n",
    "from sbom_analysis.core import *"
   ]
  },
  {
   "cell_type": "markdown",
   "id": "5a27fdd0-2848-433e-88ec-88e1d0824f36",
   "metadata": {},
   "source": [
    "# Analyzing SPDX Example SBOM"
   ]
  },
  {
   "attachments": {},
   "cell_type": "markdown",
   "id": "1f76a2fc-fa1f-4027-9c3d-2a65e62fa9ad",
   "metadata": {},
   "source": [
    "SBOM Source: [spdx/spdx-spec/examples](https://github.com/spdx/spdx-spec/tree/development/v2.2.2/examples)\n",
    "\n",
    "RDF Source: Generated using [pyspdxtools](https://github.com/spdx/tools-python)\n",
    "\n",
    "**NOTICE:** For ease of viewing some cell inputs are hidden.  Please view inputs [here](https://github.com/nd-crane/sbom-analysis/blob/main/nbs/spdx_example.ipynb) for further explinations."
   ]
  },
  {
   "attachments": {},
   "cell_type": "markdown",
   "id": "a11edeed",
   "metadata": {},
   "source": [
    "#### Importing Graph\n",
    "\n",
    "Here we import the graph to be analyzed as an XML with kglab"
   ]
  },
  {
   "cell_type": "code",
   "execution_count": 3,
   "id": "623ab3f8-2b80-416f-8049-fd56cbd1ace4",
   "metadata": {},
   "outputs": [
    {
     "data": {
      "text/plain": [
       "<kglab.kglab.KnowledgeGraph at 0x133655570>"
      ]
     },
     "execution_count": 3,
     "metadata": {},
     "output_type": "execute_result"
    }
   ],
   "source": [
    "kg = kglab.KnowledgeGraph()\n",
    "kg.load_rdf(\"sboms/rdf/model.rdf.xml\", format=\"xml\")"
   ]
  },
  {
   "attachments": {},
   "cell_type": "markdown",
   "id": "2078febb",
   "metadata": {},
   "source": [
    "## Graph Overview"
   ]
  },
  {
   "attachments": {},
   "cell_type": "markdown",
   "id": "e6ec84e2",
   "metadata": {},
   "source": [
    "å"
   ]
  }
 ],
 "metadata": {
  "kernelspec": {
   "display_name": ".venv",
   "language": "python",
   "name": "python3"
  },
  "language_info": {
   "codemirror_mode": {
    "name": "ipython",
    "version": 3
   },
   "file_extension": ".py",
   "mimetype": "text/x-python",
   "name": "python",
   "nbconvert_exporter": "python",
   "pygments_lexer": "ipython3",
   "version": "3.10.9"
  }
 },
 "nbformat": 4,
 "nbformat_minor": 5
}

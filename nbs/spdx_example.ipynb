{
 "cells": [
  {
   "cell_type": "code",
   "execution_count": 78,
   "id": "6d946c38-e55c-40e2-a679-f061a365e25a",
   "metadata": {},
   "outputs": [],
   "source": [
    "#| hide\n",
    "import kglab\n",
    "import pandas as pd"
   ]
  },
  {
   "cell_type": "markdown",
   "id": "5a27fdd0-2848-433e-88ec-88e1d0824f36",
   "metadata": {},
   "source": [
    "# Analyzing SPDX Example SBOM"
   ]
  },
  {
   "cell_type": "markdown",
   "id": "1f76a2fc-fa1f-4027-9c3d-2a65e62fa9ad",
   "metadata": {},
   "source": [
    "SBOM Source: [spdx/spdx-spec/examples](https://github.com/spdx/spdx-spec/tree/development/v2.2.2/examples)\n",
    "\n",
    "RDF Source: Generated using [pyspdxtools](https://github.com/spdx/tools-python)"
   ]
  },
  {
   "cell_type": "markdown",
   "id": "82196fac-e751-4e7f-b572-240c5367ba3e",
   "metadata": {},
   "source": [
    "## Import Graph"
   ]
  },
  {
   "cell_type": "code",
   "execution_count": 61,
   "id": "623ab3f8-2b80-416f-8049-fd56cbd1ace4",
   "metadata": {},
   "outputs": [
    {
     "data": {
      "text/plain": [
       "<kglab.kglab.KnowledgeGraph at 0x7fe06bebf280>"
      ]
     },
     "execution_count": 61,
     "metadata": {},
     "output_type": "execute_result"
    }
   ],
   "source": [
    "kg.load_rdf(\"sboms/rdf/model.rdf.xml\", format=\"xml\")"
   ]
  },
  {
   "cell_type": "markdown",
   "id": "cc08bb85-4210-433f-95da-aea9a1f25558",
   "metadata": {
    "tags": []
   },
   "source": [
    "## Querying"
   ]
  },
  {
   "cell_type": "markdown",
   "id": "aceab5fe-5628-456e-a686-d45f476e15e3",
   "metadata": {},
   "source": [
    "**Total Number of Triples**"
   ]
  },
  {
   "cell_type": "code",
   "execution_count": 17,
   "id": "b2c56be7-dd90-4ccf-ad36-e06a6f57bb05",
   "metadata": {},
   "outputs": [
    {
     "name": "stdout",
     "output_type": "stream",
     "text": [
      "Total Triples: 306\n"
     ]
    }
   ],
   "source": [
    "query = \"\"\"\n",
    "SELECT (COUNT(*) as ?count)\n",
    "WHERE {\n",
    "  ?s ?p ?o .\n",
    "}\n",
    "\"\"\"\n",
    "\n",
    "result = kg.query(query)\n",
    "for row in result:\n",
    "    print(\"Total Triples:\", row[\"count\"])\n"
   ]
  },
  {
   "cell_type": "markdown",
   "id": "59f7c7a9-d850-4d43-bdf7-ec69e903e617",
   "metadata": {},
   "source": [
    "**Number of Distinct Entities**"
   ]
  },
  {
   "cell_type": "code",
   "execution_count": 9,
   "id": "5ce6d3b8-597f-4b28-a788-c2ea8ae114e1",
   "metadata": {},
   "outputs": [
    {
     "name": "stdout",
     "output_type": "stream",
     "text": [
      "Distinct Entities: 56\n"
     ]
    }
   ],
   "source": [
    "query = \"\"\"\n",
    "SELECT (COUNT(DISTINCT ?entity) as ?count)\n",
    "WHERE {\n",
    "  ?entity a ?type .\n",
    "}\n",
    "\"\"\"\n",
    "\n",
    "result = kg.query(query)\n",
    "for row in result:\n",
    "    print(\"Distinct Entities:\", row[\"count\"])\n"
   ]
  },
  {
   "cell_type": "markdown",
   "id": "ebb4403b-6c4c-491b-b290-e5b90a8cc5e5",
   "metadata": {},
   "source": [
    "**Number of Distinct Properties**"
   ]
  },
  {
   "cell_type": "code",
   "execution_count": 10,
   "id": "0f185488-0a10-465c-aef9-ea08d553f7e1",
   "metadata": {},
   "outputs": [
    {
     "name": "stdout",
     "output_type": "stream",
     "text": [
      "Distinct Properties: 62\n"
     ]
    }
   ],
   "source": [
    "query = \"\"\"\n",
    "SELECT (COUNT(DISTINCT ?property) as ?count)\n",
    "WHERE {\n",
    "  ?s ?property ?o .\n",
    "}\n",
    "\"\"\"\n",
    "\n",
    "result = kg.query(query)\n",
    "for row in result:\n",
    "    print(\"Distinct Properties:\", row[\"count\"])"
   ]
  },
  {
   "cell_type": "markdown",
   "id": "36064c3a-4143-4872-803e-7c5480a3947f",
   "metadata": {},
   "source": [
    "**Number of Entities per Type**"
   ]
  },
  {
   "cell_type": "code",
   "execution_count": 11,
   "id": "73ad65ce-1e6e-480b-81db-814ce87a96ee",
   "metadata": {},
   "outputs": [
    {
     "name": "stdout",
     "output_type": "stream",
     "text": [
      "http://spdx.org/rdf/terms#Relationship : 11\n",
      "http://spdx.org/rdf/terms#Checksum : 10\n",
      "http://spdx.org/rdf/terms#ExtractedLicensingInfo : 5\n",
      "http://spdx.org/rdf/terms#Annotation : 5\n",
      "http://spdx.org/rdf/terms#File : 4\n",
      "http://spdx.org/rdf/terms#Package : 4\n",
      "http://spdx.org/rdf/terms#ExternalRef : 3\n",
      "http://www.w3.org/2009/pointers#StartEndPointer : 2\n",
      "http://www.w3.org/2009/pointers#ByteOffsetPointer : 2\n",
      "http://www.w3.org/2009/pointers#LineCharPointer : 2\n",
      "http://spdx.org/rdf/terms#DisjunctiveLicenseSet : 2\n",
      "http://spdx.org/rdf/terms#Snippet : 1\n",
      "http://spdx.org/rdf/terms#SpdxDocument : 1\n",
      "http://spdx.org/rdf/terms#ExternalDocumentRef : 1\n",
      "http://spdx.org/rdf/terms#PackageVerificationCode : 1\n",
      "http://spdx.org/rdf/terms#ConjunctiveLicenseSet : 1\n",
      "http://spdx.org/rdf/terms#CreationInfo : 1\n"
     ]
    }
   ],
   "source": [
    "query = \"\"\"\n",
    "SELECT ?type (COUNT(?entity) as ?count)\n",
    "WHERE {\n",
    "  ?entity a ?type .\n",
    "}\n",
    "GROUP BY ?type\n",
    "ORDER BY DESC(?count)\n",
    "\"\"\"\n",
    "\n",
    "result = kg.query(query)\n",
    "for row in result:\n",
    "    print(row[\"type\"], \":\", row[\"count\"])\n"
   ]
  },
  {
   "cell_type": "markdown",
   "id": "f83ad0fe-85e7-41fa-9959-76b912df0d37",
   "metadata": {},
   "source": [
    "**Top N Properties by Popularity**"
   ]
  },
  {
   "cell_type": "code",
   "execution_count": 12,
   "id": "c44321e6-a15d-4e79-8740-5682d4ff9d88",
   "metadata": {},
   "outputs": [
    {
     "name": "stdout",
     "output_type": "stream",
     "text": [
      "http://www.w3.org/1999/02/22-rdf-syntax-ns#type : 56\n",
      "http://www.w3.org/2000/01/rdf-schema#comment : 14\n",
      "http://spdx.org/rdf/terms#relationship : 11\n",
      "http://spdx.org/rdf/terms#relatedSpdxElement : 11\n",
      "http://spdx.org/rdf/terms#fileContributor : 11\n",
      "http://spdx.org/rdf/terms#relationshipType : 11\n",
      "http://spdx.org/rdf/terms#algorithm : 10\n",
      "http://spdx.org/rdf/terms#checksum : 10\n",
      "http://spdx.org/rdf/terms#checksumValue : 10\n",
      "http://spdx.org/rdf/terms#licenseConcluded : 9\n"
     ]
    }
   ],
   "source": [
    "N = 10\n",
    "\n",
    "query = \"\"\"\n",
    "SELECT ?property (COUNT(?property) as ?count)\n",
    "WHERE {\n",
    "  ?s ?property ?o .\n",
    "}\n",
    "GROUP BY ?property\n",
    "ORDER BY DESC(?count)\n",
    "LIMIT %d\n",
    "\"\"\" % N\n",
    "\n",
    "result = kg.query(query)\n",
    "for row in result:\n",
    "    print(row[\"property\"], \":\", row[\"count\"])\n"
   ]
  },
  {
   "cell_type": "code",
   "execution_count": 19,
   "id": "6b49dec1-1194-4a18-a519-2a465e076e33",
   "metadata": {},
   "outputs": [
    {
     "name": "stdout",
     "output_type": "stream",
     "text": [
      "edges 306\n",
      "nodes 99\n"
     ]
    }
   ],
   "source": [
    "measure = kglab.Measure()\n",
    "measure.measure_graph(kg)\n",
    "\n",
    "print(\"edges\", measure.get_edge_count())\n",
    "print(\"nodes\", measure.get_node_count())"
   ]
  },
  {
   "cell_type": "markdown",
   "id": "2cb54288-b54b-4a02-9e9b-ad4d2da04f84",
   "metadata": {},
   "source": [
    "### Files"
   ]
  },
  {
   "cell_type": "markdown",
   "id": "24ee3c3d-e40d-4f18-bbc8-f7de53746f80",
   "metadata": {},
   "source": [
    "Contained file schema"
   ]
  },
  {
   "cell_type": "code",
   "execution_count": 100,
   "id": "3ae484af-73ed-4a2f-930e-d69aa151671e",
   "metadata": {},
   "outputs": [
    {
     "data": {
      "text/html": [
       "<div>\n",
       "<style scoped>\n",
       "    .dataframe tbody tr th:only-of-type {\n",
       "        vertical-align: middle;\n",
       "    }\n",
       "\n",
       "    .dataframe tbody tr th {\n",
       "        vertical-align: top;\n",
       "    }\n",
       "\n",
       "    .dataframe thead th {\n",
       "        text-align: right;\n",
       "    }\n",
       "</style>\n",
       "<table border=\"1\" class=\"dataframe\">\n",
       "  <thead>\n",
       "    <tr style=\"text-align: right;\">\n",
       "      <th></th>\n",
       "      <th>property</th>\n",
       "    </tr>\n",
       "  </thead>\n",
       "  <tbody>\n",
       "    <tr>\n",
       "      <th>0</th>\n",
       "      <td>rdf:type</td>\n",
       "    </tr>\n",
       "    <tr>\n",
       "      <th>1</th>\n",
       "      <td>spdx:licenseInfoInFile</td>\n",
       "    </tr>\n",
       "    <tr>\n",
       "      <th>2</th>\n",
       "      <td>spdx:fileContributor</td>\n",
       "    </tr>\n",
       "    <tr>\n",
       "      <th>3</th>\n",
       "      <td>spdx:licenseConcluded</td>\n",
       "    </tr>\n",
       "    <tr>\n",
       "      <th>4</th>\n",
       "      <td>spdx:checksum</td>\n",
       "    </tr>\n",
       "    <tr>\n",
       "      <th>5</th>\n",
       "      <td>spdx:fileName</td>\n",
       "    </tr>\n",
       "    <tr>\n",
       "      <th>6</th>\n",
       "      <td>spdx:copyrightText</td>\n",
       "    </tr>\n",
       "    <tr>\n",
       "      <th>7</th>\n",
       "      <td>spdx:fileType</td>\n",
       "    </tr>\n",
       "    <tr>\n",
       "      <th>8</th>\n",
       "      <td>spdx:relationship</td>\n",
       "    </tr>\n",
       "    <tr>\n",
       "      <th>9</th>\n",
       "      <td>spdx:annotation</td>\n",
       "    </tr>\n",
       "    <tr>\n",
       "      <th>10</th>\n",
       "      <td>rdfs:comment</td>\n",
       "    </tr>\n",
       "    <tr>\n",
       "      <th>11</th>\n",
       "      <td>spdx:licenseComments</td>\n",
       "    </tr>\n",
       "    <tr>\n",
       "      <th>12</th>\n",
       "      <td>spdx:noticeText</td>\n",
       "    </tr>\n",
       "  </tbody>\n",
       "</table>\n",
       "</div>"
      ],
      "text/plain": [
       "                  property\n",
       "0                 rdf:type\n",
       "1   spdx:licenseInfoInFile\n",
       "2     spdx:fileContributor\n",
       "3    spdx:licenseConcluded\n",
       "4            spdx:checksum\n",
       "5            spdx:fileName\n",
       "6       spdx:copyrightText\n",
       "7            spdx:fileType\n",
       "8        spdx:relationship\n",
       "9          spdx:annotation\n",
       "10            rdfs:comment\n",
       "11    spdx:licenseComments\n",
       "12         spdx:noticeText"
      ]
     },
     "execution_count": 100,
     "metadata": {},
     "output_type": "execute_result"
    }
   ],
   "source": [
    "query = \"\"\"\n",
    "PREFIX spdx:<http://spdx.org/rdf/terms#>\n",
    "SELECT DISTINCT ?property\n",
    "WHERE {\n",
    "  ?file rdf:type spdx:File .\n",
    "  ?file ?property ?value .\n",
    "}\n",
    "\"\"\"\n",
    "\n",
    "\n",
    "df = kg.query_as_df(query)\n",
    "df"
   ]
  },
  {
   "cell_type": "code",
   "execution_count": 146,
   "id": "c0c6832a-5f3c-495a-bb8d-7766b82b0d9c",
   "metadata": {},
   "outputs": [
    {
     "data": {
      "text/html": [
       "<div>\n",
       "<style scoped>\n",
       "    .dataframe tbody tr th:only-of-type {\n",
       "        vertical-align: middle;\n",
       "    }\n",
       "\n",
       "    .dataframe tbody tr th {\n",
       "        vertical-align: top;\n",
       "    }\n",
       "\n",
       "    .dataframe thead th {\n",
       "        text-align: right;\n",
       "    }\n",
       "</style>\n",
       "<table border=\"1\" class=\"dataframe\">\n",
       "  <thead>\n",
       "    <tr style=\"text-align: right;\">\n",
       "      <th></th>\n",
       "      <th>fileID</th>\n",
       "      <th>fileName</th>\n",
       "      <th>fileType</th>\n",
       "      <th>licenseInFile</th>\n",
       "      <th>contributors</th>\n",
       "      <th>licenseConcluded</th>\n",
       "      <th>checksum</th>\n",
       "      <th>relationship</th>\n",
       "      <th>annotation</th>\n",
       "      <th>comment</th>\n",
       "      <th>licenseComments</th>\n",
       "      <th>noticeText</th>\n",
       "    </tr>\n",
       "  </thead>\n",
       "  <tbody>\n",
       "    <tr>\n",
       "      <th>0</th>\n",
       "      <td>&lt;http://spdx.org/spdxdocs/spdx-example-444504E...</td>\n",
       "      <td>./src/org/spdx/parser/DOAPProject.java</td>\n",
       "      <td>spdx:fileType_source</td>\n",
       "      <td>&lt;http://spdx.org/licenses/Apache-2.0&gt;</td>\n",
       "      <td>Open Logic Inc., Source Auditor Inc., SPDX Tec...</td>\n",
       "      <td>http://spdx.org/licenses/Apache-2.0, http://sp...</td>\n",
       "      <td>_:N28d080231b7741e49be559be668f1b8d</td>\n",
       "      <td>NaN</td>\n",
       "      <td>NaN</td>\n",
       "      <td>NaN</td>\n",
       "      <td>NaN</td>\n",
       "      <td>NaN</td>\n",
       "    </tr>\n",
       "    <tr>\n",
       "      <th>1</th>\n",
       "      <td>&lt;http://spdx.org/spdxdocs/spdx-example-444504E...</td>\n",
       "      <td>./package/foo.c</td>\n",
       "      <td>spdx:fileType_source</td>\n",
       "      <td>&lt;http://spdx.org/spdxdocs/spdx-example-444504E...</td>\n",
       "      <td>Modified by Paul Mundt lethal@linux-sh.org, Mo...</td>\n",
       "      <td>N88df131d279c47c4a7307cc8aae23a78, N88df131d27...</td>\n",
       "      <td>_:N463446d551064ca99daa369d9243524f</td>\n",
       "      <td>_:Ncc6fc35341df45df8fed3b6c31f08297</td>\n",
       "      <td>_:Na4325b02158b40fb9d06521c6d563bf5</td>\n",
       "      <td>The concluded license was taken from the packa...</td>\n",
       "      <td>The concluded license was taken from the packa...</td>\n",
       "      <td>Copyright (c) 2001 Aaron Lehmann aaroni@vitelu...</td>\n",
       "    </tr>\n",
       "    <tr>\n",
       "      <th>2</th>\n",
       "      <td>&lt;http://spdx.org/spdxdocs/spdx-example-444504E...</td>\n",
       "      <td>./lib-source/jena-2.6.3-sources.jar</td>\n",
       "      <td>spdx:fileType_archive</td>\n",
       "      <td>&lt;http://spdx.org/spdxdocs/spdx-example-444504E...</td>\n",
       "      <td>Apache Software Foundation, Apache Software Fo...</td>\n",
       "      <td>http://spdx.org/spdxdocs/spdx-example-444504E0...</td>\n",
       "      <td>_:N4ac8db8d68ed47ec8d607140cf592534</td>\n",
       "      <td>_:N3e1acf9f51ca489eade5dc1452f7bf9e</td>\n",
       "      <td>NaN</td>\n",
       "      <td>This file belongs to Jena</td>\n",
       "      <td>This license is used by Jena</td>\n",
       "      <td>NaN</td>\n",
       "    </tr>\n",
       "    <tr>\n",
       "      <th>3</th>\n",
       "      <td>&lt;http://spdx.org/spdxdocs/spdx-example-444504E...</td>\n",
       "      <td>./lib-source/commons-lang3-3.1-sources.jar</td>\n",
       "      <td>spdx:fileType_archive</td>\n",
       "      <td>&lt;http://spdx.org/licenses/Apache-2.0&gt;</td>\n",
       "      <td>Apache Software Foundation, Apache Software Fo...</td>\n",
       "      <td>http://spdx.org/licenses/Apache-2.0, http://sp...</td>\n",
       "      <td>_:Nef4d6df3250d4e42bb4f99a95bf3a2c7</td>\n",
       "      <td>_:Nf475fec285554b63a018b722d6055602</td>\n",
       "      <td>NaN</td>\n",
       "      <td>This file is used by Jena</td>\n",
       "      <td>NaN</td>\n",
       "      <td>Apache Commons Lang\\nCopyright 2001-2011 The A...</td>\n",
       "    </tr>\n",
       "  </tbody>\n",
       "</table>\n",
       "</div>"
      ],
      "text/plain": [
       "                                              fileID  \\\n",
       "0  <http://spdx.org/spdxdocs/spdx-example-444504E...   \n",
       "1  <http://spdx.org/spdxdocs/spdx-example-444504E...   \n",
       "2  <http://spdx.org/spdxdocs/spdx-example-444504E...   \n",
       "3  <http://spdx.org/spdxdocs/spdx-example-444504E...   \n",
       "\n",
       "                                     fileName               fileType  \\\n",
       "0      ./src/org/spdx/parser/DOAPProject.java   spdx:fileType_source   \n",
       "1                             ./package/foo.c   spdx:fileType_source   \n",
       "2         ./lib-source/jena-2.6.3-sources.jar  spdx:fileType_archive   \n",
       "3  ./lib-source/commons-lang3-3.1-sources.jar  spdx:fileType_archive   \n",
       "\n",
       "                                       licenseInFile  \\\n",
       "0              <http://spdx.org/licenses/Apache-2.0>   \n",
       "1  <http://spdx.org/spdxdocs/spdx-example-444504E...   \n",
       "2  <http://spdx.org/spdxdocs/spdx-example-444504E...   \n",
       "3              <http://spdx.org/licenses/Apache-2.0>   \n",
       "\n",
       "                                        contributors  \\\n",
       "0  Open Logic Inc., Source Auditor Inc., SPDX Tec...   \n",
       "1  Modified by Paul Mundt lethal@linux-sh.org, Mo...   \n",
       "2  Apache Software Foundation, Apache Software Fo...   \n",
       "3  Apache Software Foundation, Apache Software Fo...   \n",
       "\n",
       "                                    licenseConcluded  \\\n",
       "0  http://spdx.org/licenses/Apache-2.0, http://sp...   \n",
       "1  N88df131d279c47c4a7307cc8aae23a78, N88df131d27...   \n",
       "2  http://spdx.org/spdxdocs/spdx-example-444504E0...   \n",
       "3  http://spdx.org/licenses/Apache-2.0, http://sp...   \n",
       "\n",
       "                              checksum                         relationship  \\\n",
       "0  _:N28d080231b7741e49be559be668f1b8d                                  NaN   \n",
       "1  _:N463446d551064ca99daa369d9243524f  _:Ncc6fc35341df45df8fed3b6c31f08297   \n",
       "2  _:N4ac8db8d68ed47ec8d607140cf592534  _:N3e1acf9f51ca489eade5dc1452f7bf9e   \n",
       "3  _:Nef4d6df3250d4e42bb4f99a95bf3a2c7  _:Nf475fec285554b63a018b722d6055602   \n",
       "\n",
       "                            annotation  \\\n",
       "0                                  NaN   \n",
       "1  _:Na4325b02158b40fb9d06521c6d563bf5   \n",
       "2                                  NaN   \n",
       "3                                  NaN   \n",
       "\n",
       "                                             comment  \\\n",
       "0                                                NaN   \n",
       "1  The concluded license was taken from the packa...   \n",
       "2                          This file belongs to Jena   \n",
       "3                          This file is used by Jena   \n",
       "\n",
       "                                     licenseComments  \\\n",
       "0                                                NaN   \n",
       "1  The concluded license was taken from the packa...   \n",
       "2                       This license is used by Jena   \n",
       "3                                                NaN   \n",
       "\n",
       "                                          noticeText  \n",
       "0                                                NaN  \n",
       "1  Copyright (c) 2001 Aaron Lehmann aaroni@vitelu...  \n",
       "2                                                NaN  \n",
       "3  Apache Commons Lang\\nCopyright 2001-2011 The A...  "
      ]
     },
     "execution_count": 146,
     "metadata": {},
     "output_type": "execute_result"
    }
   ],
   "source": [
    "query = \"\"\"\n",
    "SELECT \n",
    "(?file AS ?fileID)\n",
    "?fileName\n",
    "?fileType\n",
    "?licenseInFile\n",
    "(GROUP_CONCAT(?contributor; SEPARATOR=\", \") AS ?contributors)\n",
    "(GROUP_CONCAT(?licenseConcluded; SEPARATOR=\", \") AS ?licenseConcluded)\n",
    "?checksum\n",
    "?relationship\n",
    "?annotation\n",
    "?comment\n",
    "?licenseComments\n",
    "?noticeText\n",
    "WHERE {\n",
    "  ?file rdf:type spdx:File .\n",
    "  ?file spdx:fileName ?fileName .\n",
    "  ?file spdx:fileContributor ?contributor .\n",
    "  ?file spdx:licenseInfoInFile ?licenseInFile .\n",
    "  ?file spdx:licenseConcluded ?licenseConcluded .\n",
    "  ?file spdx:checksum ?checksum .\n",
    "  ?file spdx:copyrightText ?copyrightText .\n",
    "  ?file spdx:fileType ?fileType .\n",
    "  OPTIONAL {?file spdx:relationship ?relationship .}\n",
    "  OPTIONAL {?file spdx:annotation ?annotation . }\n",
    "  OPTIONAL {?file rdfs:comment ?comment . }\n",
    "  OPTIONAL {?file spdx:licenseComments ?licenseComments . }\n",
    "  OPTIONAL {?file spdx:noticeText ?noticeText . }\n",
    "}\n",
    "GROUP BY ?file\n",
    "\"\"\"\n",
    "\n",
    "result = kg.query(query)\n",
    "\n",
    "df = kg.query_as_df(query)\n",
    "df.head(5)"
   ]
  },
  {
   "cell_type": "markdown",
   "id": "40c1eee8-bc8c-405f-8d86-1f16f06c437c",
   "metadata": {},
   "source": [
    "## Visualization"
   ]
  },
  {
   "cell_type": "code",
   "execution_count": 3,
   "id": "3b384e6c-9254-4423-8a3c-42669cd37611",
   "metadata": {},
   "outputs": [
    {
     "name": "stdout",
     "output_type": "stream",
     "text": [
      "Warning: When  cdn_resources is 'local' jupyter notebook has issues displaying graphics on chrome/safari. Use cdn_resources='in_line' or cdn_resources='remote' if you have issues viewing graphics in a notebook.\n"
     ]
    }
   ],
   "source": [
    "\n",
    "\n",
    "VIS_STYLE = {\n",
    "    \"spdx\": {\n",
    "        \"color\": \"orange\",\n",
    "        \"size\": 40,\n",
    "    },\n",
    "    \"rdf\":{\n",
    "        \"color\": \"blue\",\n",
    "        \"size\": 30,\n",
    "    },\n",
    "    \"ptr\":{\n",
    "        \"color\": \"red\",\n",
    "        \"size\": 20,\n",
    "    },\n",
    "}\n",
    "\n",
    "subgraph = kglab.SubgraphTensor(kg)\n",
    "pyvis_graph = subgraph.build_pyvis_graph(notebook=True, style=VIS_STYLE)"
   ]
  },
  {
   "cell_type": "code",
   "execution_count": 4,
   "id": "4dfd8abe-bc04-4b60-aeab-115e65403cb2",
   "metadata": {},
   "outputs": [
    {
     "name": "stdout",
     "output_type": "stream",
     "text": [
      "tmp.fig03.html\n"
     ]
    },
    {
     "data": {
      "text/html": [
       "\n",
       "        <iframe\n",
       "            width=\"100%\"\n",
       "            height=\"600px\"\n",
       "            src=\"tmp.fig03.html\"\n",
       "            frameborder=\"0\"\n",
       "            allowfullscreen\n",
       "            \n",
       "        ></iframe>\n",
       "        "
      ],
      "text/plain": [
       "<IPython.lib.display.IFrame at 0x7fe1040c26a0>"
      ]
     },
     "execution_count": 4,
     "metadata": {},
     "output_type": "execute_result"
    }
   ],
   "source": [
    "pyvis_graph.force_atlas_2based()\n",
    "pyvis_graph.show(\"tmp.fig03.html\")"
   ]
  }
 ],
 "metadata": {
  "kernelspec": {
   "display_name": "local-venv",
   "language": "python",
   "name": "local-venv"
  },
  "language_info": {
   "codemirror_mode": {
    "name": "ipython",
    "version": 3
   },
   "file_extension": ".py",
   "mimetype": "text/x-python",
   "name": "python",
   "nbconvert_exporter": "python",
   "pygments_lexer": "ipython3",
   "version": "3.9.15"
  }
 },
 "nbformat": 4,
 "nbformat_minor": 5
}

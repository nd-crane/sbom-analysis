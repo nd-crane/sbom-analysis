{
 "cells": [
  {
   "cell_type": "code",
   "execution_count": 4,
   "id": "6d946c38-e55c-40e2-a679-f061a365e25a",
   "metadata": {},
   "outputs": [],
   "source": [
    "#| hide\n",
    "import kglab"
   ]
  },
  {
   "cell_type": "markdown",
   "id": "5a27fdd0-2848-433e-88ec-88e1d0824f36",
   "metadata": {},
   "source": [
    "# Analyzing SPDX Example SBOM"
   ]
  },
  {
   "cell_type": "markdown",
   "id": "1f76a2fc-fa1f-4027-9c3d-2a65e62fa9ad",
   "metadata": {},
   "source": [
    "SBOM Source: [spdx/spdx-spec/examples](https://github.com/spdx/spdx-spec/tree/development/v2.2.2/examples)\n",
    "\n",
    "RDF Source: Generated using [pyspdxtools](https://github.com/spdx/tools-python)"
   ]
  },
  {
   "cell_type": "markdown",
   "id": "cc08bb85-4210-433f-95da-aea9a1f25558",
   "metadata": {},
   "source": [
    "## Querying"
   ]
  },
  {
   "cell_type": "markdown",
   "id": "40c1eee8-bc8c-405f-8d86-1f16f06c437c",
   "metadata": {},
   "source": [
    "## Visualization"
   ]
  },
  {
   "cell_type": "code",
   "execution_count": 18,
   "id": "3b384e6c-9254-4423-8a3c-42669cd37611",
   "metadata": {},
   "outputs": [
    {
     "name": "stdout",
     "output_type": "stream",
     "text": [
      "Warning: When  cdn_resources is 'local' jupyter notebook has issues displaying graphics on chrome/safari. Use cdn_resources='in_line' or cdn_resources='remote' if you have issues viewing graphics in a notebook.\n"
     ]
    }
   ],
   "source": [
    "kg = kglab.KnowledgeGraph().load_rdf(\"sboms/rdf/model.rdf.xml\", format=\"xml\")\n",
    "\n",
    "VIS_STYLE = {\n",
    "    \"spdx\": {\n",
    "        \"color\": \"orange\",\n",
    "        \"size\": 40,\n",
    "    },\n",
    "    \"rdf\":{\n",
    "        \"color\": \"blue\",\n",
    "        \"size\": 30,\n",
    "    },\n",
    "    \"ptr\":{\n",
    "        \"color\": \"red\",\n",
    "        \"size\": 20,\n",
    "    },\n",
    "}\n",
    "\n",
    "subgraph = kglab.SubgraphTensor(kg)\n",
    "pyvis_graph = subgraph.build_pyvis_graph(notebook=True, style=VIS_STYLE)"
   ]
  },
  {
   "cell_type": "code",
   "execution_count": 19,
   "id": "4dfd8abe-bc04-4b60-aeab-115e65403cb2",
   "metadata": {},
   "outputs": [
    {
     "name": "stdout",
     "output_type": "stream",
     "text": [
      "tmp.fig03.html\n"
     ]
    },
    {
     "data": {
      "text/html": [
       "\n",
       "        <iframe\n",
       "            width=\"100%\"\n",
       "            height=\"600px\"\n",
       "            src=\"tmp.fig03.html\"\n",
       "            frameborder=\"0\"\n",
       "            allowfullscreen\n",
       "            \n",
       "        ></iframe>\n",
       "        "
      ],
      "text/plain": [
       "<IPython.lib.display.IFrame at 0x7f6e33323d00>"
      ]
     },
     "execution_count": 19,
     "metadata": {},
     "output_type": "execute_result"
    }
   ],
   "source": [
    "pyvis_graph.force_atlas_2based()\n",
    "pyvis_graph.show(\"tmp.fig03.html\")"
   ]
  },
  {
   "cell_type": "code",
   "execution_count": null,
   "id": "e8cb45a2-acb1-488d-851d-1d1b8b4bb2cd",
   "metadata": {},
   "outputs": [],
   "source": []
  }
 ],
 "metadata": {
  "kernelspec": {
   "display_name": "local-venv",
   "language": "python",
   "name": "local-venv"
  },
  "language_info": {
   "codemirror_mode": {
    "name": "ipython",
    "version": 3
   },
   "file_extension": ".py",
   "mimetype": "text/x-python",
   "name": "python",
   "nbconvert_exporter": "python",
   "pygments_lexer": "ipython3",
   "version": "3.9.15"
  }
 },
 "nbformat": 4,
 "nbformat_minor": 5
}

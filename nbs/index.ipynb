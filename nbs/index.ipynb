{
 "cells": [
  {
   "cell_type": "code",
   "execution_count": null,
   "metadata": {},
   "outputs": [],
   "source": [
    "#| hide\n",
    "from sbom_analysis.core import *"
   ]
  },
  {
   "attachments": {},
   "cell_type": "markdown",
   "metadata": {},
   "source": [
    "# sbom-analysis\n",
    "\n",
    "> SBOM generation tool analysis with kglab in terms of accuracy and coverage"
   ]
  },
  {
   "attachments": {},
   "cell_type": "markdown",
   "metadata": {},
   "source": [
    "## Getting Started\n",
    "\n",
    "The content on the website is divided into three sections for easy organization.\n",
    "\n",
    "\n",
    "**SBOMs**: This section contains general pages about SBOMs, core functions used to analyze them, SPDX definitions, and the minimum elements required by NITIA. Additionally, in that section, there are pages about the case studies showcasing the initial SBOM analysis using Microsoft's SBOM generation tool.\n",
    "\n",
    "\n",
    "**Tool Analysis**: This section contains the analysis of some SBOMs generation tools available in the market. The analysis is based on the fossa framework for Evaluating SBOM Tools, on the NTIA minimum element guidelines, and in some quality metrics for SBOMs available in the sbomqs tool. We also analyzed the SBOMs generated through knowledge graphs.\n",
    "\n",
    "\n",
    "**AI Specifications**: This section contains pages about SPDX AI Package, Hugging face cards and others AI metadata specifications."
   ]
  },
  {
   "attachments": {},
   "cell_type": "markdown",
   "metadata": {},
   "source": [
    "## Installation"
   ]
  },
  {
   "attachments": {},
   "cell_type": "markdown",
   "metadata": {},
   "source": [
    "To install this repo, first clone it, then run the following commands:\n",
    "\n",
    "Create a virtual environment with PDM for package installation:\n",
    "\n",
    "```bash\n",
    "pdm venv create 3.9\n",
    "```\n",
    "\n",
    "Select the correct python interpreter (the one in the virtual environment):\n",
    "\n",
    "```bash\n",
    "pdm use\n",
    "```\n",
    "\n",
    "Install the packages:\n",
    "\n",
    "```bash\n",
    "pdm install\n",
    "```"
   ]
  },
  {
   "attachments": {},
   "cell_type": "markdown",
   "metadata": {},
   "source": [
    "### Running Commands"
   ]
  },
  {
   "attachments": {},
   "cell_type": "markdown",
   "metadata": {},
   "source": [
    "All commands should be run with PDM like the following:\n",
    "\n",
    "```bash\n",
    "pdm run <command>\n",
    "```"
   ]
  }
 ],
 "metadata": {
  "kernelspec": {
   "display_name": "python3",
   "language": "python",
   "name": "python3"
  }
 },
 "nbformat": 4,
 "nbformat_minor": 4
}

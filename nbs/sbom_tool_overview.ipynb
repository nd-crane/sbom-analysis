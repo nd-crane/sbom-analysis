{
 "cells": [
  {
   "cell_type": "markdown",
   "id": "d15bcadd-9194-4b46-a890-3208574f2fc7",
   "metadata": {},
   "source": [
    "# microsoft/sbom-tool Analysis"
   ]
  },
  {
   "cell_type": "markdown",
   "id": "8eaa451b-f579-4103-83f8-e6e9b9c73d9e",
   "metadata": {},
   "source": [
    "This page is an overview of the [microsoft/sbom-tool](https://github.com/microsoft/sbom-tool) highlighting our findings from knowledge graph analysis on the previous pages.\n",
    "\n",
    "Let's break this up by section of the generated SBOM to highlight what its good at, and what it isn't.\n",
    "\n"
   ]
  },
  {
   "cell_type": "markdown",
   "id": "64fd730d-019a-456b-8525-11ad13ed7754",
   "metadata": {},
   "source": [
    "## Overview"
   ]
  },
  {
   "cell_type": "markdown",
   "id": "75dc12f5-87c0-4eda-b73a-05b1da376720",
   "metadata": {},
   "source": [
    "This tool generates SBOMs in **SPDX-2.2 JSON format**.  In it it identifies files, packages, relationships and project metadata.  Project metadata includes project name, organization name, and project version which are all provided as command line arguments upon execution.\n",
    "\n",
    "The sbom-tool is a command line tool that has options to either generate SBOMs, or validate SBOMs.  In our experiments we've only focused on generation. Generation requires a number of command line arguments including, package name, version, and supplier organization."
   ]
  },
  {
   "cell_type": "markdown",
   "id": "8ce6db6f-c436-4872-b5e4-5affce2d22c9",
   "metadata": {},
   "source": [
    "## Files"
   ]
  },
  {
   "cell_type": "markdown",
   "id": "ddb63179-228a-4f29-ac94-64d411ac6c12",
   "metadata": {},
   "source": [
    "The sbom-tool generates a list of all files within a parent directory recursively. For each file it identifies the path (from the parent directory) and calculates the SHA256 and SHA1 checksums as a unique file identifier.\n",
    "\n",
    "The sbom-tool **does not identify individual file licenses nor file authors** despite the SPDX schema providing identifiers for these.  \n",
    "\n",
    "The list of generated files includes all files within a parent directory including files labeled in the `.gitignore`.  This means all files present in a repository **including those not for a package distribution** and **files for local python virtual environments** will be identified by the sbom-tool.\n"
   ]
  },
  {
   "cell_type": "markdown",
   "id": "4b0f3596-7b2d-4898-8c49-958c0d2df0fb",
   "metadata": {},
   "source": [
    "## Packages"
   ]
  },
  {
   "cell_type": "markdown",
   "id": "c91e8c92-14d2-48e1-bbe3-bb2bb2bbcac9",
   "metadata": {},
   "source": [
    "The sbom-tool uses [microsoft/component-detection](https://github.com/microsoft/component-detection) to identify dependencies of a repository.  This includes CocoaPods, Linux, Gradle, Go, Maven, NPM, NuGet, Pip, Poetry, Ruby, and Rust.  Since most of our experiments have been with python (Pip) based projects, further descriptions will refer to that.\n",
    "\n",
    "The sbom-tool requires either a `requirements.txt` or `setup.py` file to identify project dependencies.  In it it can detect both packages using PyPI or from github (using the `git:` identifier).  Dependencies of each package are found with PyPI where a depth first search approach is used to find all transitive dependencies. \n",
    "\n",
    "Our studies show the sbom-tool skips all python `stdlib` packages and does not specify the python version used in the project. \n",
    "\n",
    "Further in the case of non python subdependencies, the sbom-tool fails to identify these. For example, `numpy` uses C/C++ based linear algebra libraries that are not detected by the sbom-tool.\n",
    "\n",
    "Finally, the sbom-tool does not identify license and distribution information for each package, which is readily available on PyPI."
   ]
  },
  {
   "cell_type": "markdown",
   "id": "5b17915b-ed9a-4adf-979f-7fd7c6cc0484",
   "metadata": {},
   "source": [
    "## Relationships "
   ]
  },
  {
   "cell_type": "markdown",
   "id": "4a5f1339-dc75-497b-aa6e-fec7d79d2237",
   "metadata": {},
   "source": [
    "The sbom-tool also identifies some relationships (specified by the SPDX standard) in the project.  However, these relationships are limited to the type `contains` where the `root-project` `contains` `some-package`.\n",
    "\n",
    "There is opportunity to identify many other types of relationships under the SPDX standard including but not limited to the dependency tree (direct dependencies vs transitive dependencies), which files use which packages, authors to files, etc. "
   ]
  }
 ],
 "metadata": {
  "kernelspec": {
   "display_name": "local-venv",
   "language": "python",
   "name": "local-venv"
  }
 },
 "nbformat": 4,
 "nbformat_minor": 5
}

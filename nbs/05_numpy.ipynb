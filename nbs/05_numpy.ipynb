{
 "cells": [
  {
   "cell_type": "code",
   "execution_count": 1,
   "id": "3f8b68de-f7d5-4787-9a5f-13d4c0f7a44a",
   "metadata": {},
   "outputs": [],
   "source": [
    "#| hide\n",
    "import kglab\n",
    "import pandas as pd\n",
    "from sbom_analysis.core import *"
   ]
  },
  {
   "cell_type": "markdown",
   "id": "ccc10587-6177-4a4f-bd98-8badb4c2dfed",
   "metadata": {},
   "source": [
    "# numpy"
   ]
  },
  {
   "cell_type": "markdown",
   "id": "ced43d87-cc4e-4ea3-bbfa-cf346647512d",
   "metadata": {},
   "source": [
    "Let's look at an incredibly common and well developed python data science package [numpy](https://github.com/numpy/numpy) to analyze how accurate and complete our SBOM generation tools are."
   ]
  },
  {
   "cell_type": "markdown",
   "id": "802e4fe8-f9b9-4f07-8364-c5cbbccd3fa9",
   "metadata": {},
   "source": [
    "## Known Dependencies"
   ]
  },
  {
   "cell_type": "markdown",
   "id": "b70e8d0b-be9d-4995-b69b-f560eddbcc81",
   "metadata": {},
   "source": [
    "According to numpy's installation website:\n",
    "> \"NumPy doesn’t depend on any other Python packages, however, it does depend on an accelerated linear algebra library - typically Intel MKL or OpenBLAS. Users don’t have to worry about installing those (they’re automatically included in all NumPy install methods).\""
   ]
  },
  {
   "cell_type": "markdown",
   "id": "3aaa814a-2b52-4711-ade9-0e36d49cb84c",
   "metadata": {},
   "source": [
    "To test this let's pretend we are creating an empty conda environmennt with just numpy to see what packages will be installed"
   ]
  },
  {
   "cell_type": "code",
   "execution_count": 10,
   "id": "5ef49dcb-6b4c-4480-98da-8185964da2f9",
   "metadata": {},
   "outputs": [
    {
     "name": "stdout",
     "output_type": "stream",
     "text": [
      "Collecting package metadata (current_repodata.json): done\n",
      "Solving environment: done\n",
      "\n",
      "\n",
      "==> WARNING: A newer version of conda exists. <==\n",
      "  current version: 22.11.1\n",
      "  latest version: 23.5.0\n",
      "\n",
      "Please update conda by running\n",
      "\n",
      "    $ conda update -n base -c defaults conda\n",
      "\n",
      "Or to minimize the number of packages updated during conda update use\n",
      "\n",
      "     conda install conda=23.5.0\n",
      "\n",
      "\n",
      "\n",
      "## Package Plan ##\n",
      "\n",
      "  environment location: /afs/crc.nd.edu/user/p/painswor/.conda/envs/numpy\n",
      "\n",
      "  added / updated specs:\n",
      "    - numpy\n",
      "\n",
      "\n",
      "The following packages will be downloaded:\n",
      "\n",
      "    package                    |            build\n",
      "    ---------------------------|-----------------\n",
      "    ca-certificates-2023.01.10 |       h06a4308_0         120 KB\n",
      "    intel-openmp-2023.1.0      |   hdb19cb5_46305        17.1 MB\n",
      "    libffi-3.4.4               |       h6a678d5_0         142 KB\n",
      "    libuuid-1.41.5             |       h5eee18b_0          27 KB\n",
      "    mkl-2023.1.0               |   h6d00ec8_46342       171.5 MB\n",
      "    mkl-service-2.4.0          |  py311h5eee18b_1          54 KB\n",
      "    mkl_fft-1.3.6              |  py311ha02d727_1         217 KB\n",
      "    mkl_random-1.2.2           |  py311ha02d727_1         291 KB\n",
      "    ncurses-6.4                |       h6a678d5_0         914 KB\n",
      "    numpy-1.24.3               |  py311h08b1b3b_1          11 KB\n",
      "    numpy-base-1.24.3          |  py311hf175353_1         7.2 MB\n",
      "    openssl-1.1.1t             |       h7f8727e_0         3.7 MB\n",
      "    pip-23.0.1                 |  py311h06a4308_0         2.8 MB\n",
      "    python-3.11.3              |       h7a1cb2a_0        32.6 MB\n",
      "    readline-8.2               |       h5eee18b_0         357 KB\n",
      "    setuptools-67.8.0          |  py311h06a4308_0         1.4 MB\n",
      "    sqlite-3.41.2              |       h5eee18b_0         1.2 MB\n",
      "    tbb-2021.8.0               |       hdb19cb5_0         1.6 MB\n",
      "    tzdata-2023c               |       h04d1e81_0         116 KB\n",
      "    wheel-0.38.4               |  py311h06a4308_0          79 KB\n",
      "    xz-5.4.2                   |       h5eee18b_0         642 KB\n",
      "    ------------------------------------------------------------\n",
      "                                           Total:       242.1 MB\n",
      "\n",
      "The following NEW packages will be INSTALLED:\n",
      "\n",
      "  _libgcc_mutex      pkgs/main/linux-64::_libgcc_mutex-0.1-main \n",
      "  _openmp_mutex      pkgs/main/linux-64::_openmp_mutex-5.1-1_gnu \n",
      "  blas               pkgs/main/linux-64::blas-1.0-mkl \n",
      "  bzip2              pkgs/main/linux-64::bzip2-1.0.8-h7b6447c_0 \n",
      "  ca-certificates    pkgs/main/linux-64::ca-certificates-2023.01.10-h06a4308_0 \n",
      "  intel-openmp       pkgs/main/linux-64::intel-openmp-2023.1.0-hdb19cb5_46305 \n",
      "  ld_impl_linux-64   pkgs/main/linux-64::ld_impl_linux-64-2.38-h1181459_1 \n",
      "  libffi             pkgs/main/linux-64::libffi-3.4.4-h6a678d5_0 \n",
      "  libgcc-ng          pkgs/main/linux-64::libgcc-ng-11.2.0-h1234567_1 \n",
      "  libgomp            pkgs/main/linux-64::libgomp-11.2.0-h1234567_1 \n",
      "  libstdcxx-ng       pkgs/main/linux-64::libstdcxx-ng-11.2.0-h1234567_1 \n",
      "  libuuid            pkgs/main/linux-64::libuuid-1.41.5-h5eee18b_0 \n",
      "  mkl                pkgs/main/linux-64::mkl-2023.1.0-h6d00ec8_46342 \n",
      "  mkl-service        pkgs/main/linux-64::mkl-service-2.4.0-py311h5eee18b_1 \n",
      "  mkl_fft            pkgs/main/linux-64::mkl_fft-1.3.6-py311ha02d727_1 \n",
      "  mkl_random         pkgs/main/linux-64::mkl_random-1.2.2-py311ha02d727_1 \n",
      "  ncurses            pkgs/main/linux-64::ncurses-6.4-h6a678d5_0 \n",
      "  numpy              pkgs/main/linux-64::numpy-1.24.3-py311h08b1b3b_1 \n",
      "  numpy-base         pkgs/main/linux-64::numpy-base-1.24.3-py311hf175353_1 \n",
      "  openssl            pkgs/main/linux-64::openssl-1.1.1t-h7f8727e_0 \n",
      "  pip                pkgs/main/linux-64::pip-23.0.1-py311h06a4308_0 \n",
      "  python             pkgs/main/linux-64::python-3.11.3-h7a1cb2a_0 \n",
      "  readline           pkgs/main/linux-64::readline-8.2-h5eee18b_0 \n",
      "  setuptools         pkgs/main/linux-64::setuptools-67.8.0-py311h06a4308_0 \n",
      "  sqlite             pkgs/main/linux-64::sqlite-3.41.2-h5eee18b_0 \n",
      "  tbb                pkgs/main/linux-64::tbb-2021.8.0-hdb19cb5_0 \n",
      "  tk                 pkgs/main/linux-64::tk-8.6.12-h1ccaba5_0 \n",
      "  tzdata             pkgs/main/noarch::tzdata-2023c-h04d1e81_0 \n",
      "  wheel              pkgs/main/linux-64::wheel-0.38.4-py311h06a4308_0 \n",
      "  xz                 pkgs/main/linux-64::xz-5.4.2-h5eee18b_0 \n",
      "  zlib               pkgs/main/linux-64::zlib-1.2.13-h5eee18b_0 \n",
      "\n",
      "\n",
      "Proceed ([y]/n)? \n",
      "\n",
      "CondaSystemExit: Exiting.\n",
      "\n"
     ]
    }
   ],
   "source": [
    "!echo 'n' | conda create -n numpy numpy"
   ]
  },
  {
   "cell_type": "markdown",
   "id": "236a86c2-a67b-48e2-905d-4cc6a9212dc7",
   "metadata": {},
   "source": [
    "Looking at the output above, we see a number of dependencies.  Most of these are required for python (which is required for numpy) But some are those C/C++ libraries needed for linear algebra.  So, how will a generated SBOM reflect these?"
   ]
  },
  {
   "cell_type": "markdown",
   "id": "99c6eb76-86d3-4202-b907-94e16069b5a4",
   "metadata": {},
   "source": [
    "## microsoft/sbom-tool "
   ]
  },
  {
   "cell_type": "markdown",
   "id": "dce7c991-6b67-456d-8259-056fafc4855a",
   "metadata": {},
   "source": [
    "The sbom-tool queries [PyPi](https://pypi.org/) for all package dependencies.  Since numpy is uploaded to PyPi, we can query it directly before running the tool on the repo:"
   ]
  },
  {
   "cell_type": "code",
   "execution_count": 11,
   "id": "c4a911b7-28bd-488e-a1b2-8630c4acda86",
   "metadata": {},
   "outputs": [
    {
     "name": "stdout",
     "output_type": "stream",
     "text": [
      "None\n"
     ]
    }
   ],
   "source": [
    "import requests\n",
    "response = requests.get('https://pypi.org/pypi/numpy/json')\n",
    "data = response.json()\n",
    "print(data['info']['requires_dist'])"
   ]
  },
  {
   "cell_type": "markdown",
   "id": "856f8f02-8a75-4e25-a527-3daed32d5286",
   "metadata": {},
   "source": [
    "PyPi shows no deps for numpy, which makes sense as there are no python dependencies.  **This means when using the sbom-tool on a pacakge that depends on numpy, no child dependencies will be found for numpy.**"
   ]
  },
  {
   "cell_type": "markdown",
   "id": "ce0d7102-c1e6-4b6e-9d9a-64ada820f9e7",
   "metadata": {},
   "source": [
    "Running the tool against the repo cloned as is produced **0 packages**.  As established the sbom-tool uses [microsoft/component-detection](https://github.com/microsoft/component-detection) to detect all packages used in the repository.  This tool looks for either `setup.py` or `requirements.txt`.  \n",
    "\n",
    "In the numpy repo there are:\n",
    "\n",
    "- `setup.py`\n",
    "- `build_requirements.txt`\n",
    "- `doc_requirements.txt`\n",
    "- `linter_requirements.txt`\n",
    "- `release_requirements.txt`\n",
    "- `test_requirments.txt`"
   ]
  },
  {
   "cell_type": "code",
   "execution_count": null,
   "id": "1974f701-c600-4a10-ae06-65cb4b274f06",
   "metadata": {},
   "outputs": [],
   "source": []
  }
 ],
 "metadata": {
  "kernelspec": {
   "display_name": "local-venv",
   "language": "python",
   "name": "local-venv"
  },
  "language_info": {
   "codemirror_mode": {
    "name": "ipython",
    "version": 3
   },
   "file_extension": ".py",
   "mimetype": "text/x-python",
   "name": "python",
   "nbconvert_exporter": "python",
   "pygments_lexer": "ipython3",
   "version": "3.9.15"
  }
 },
 "nbformat": 4,
 "nbformat_minor": 5
}

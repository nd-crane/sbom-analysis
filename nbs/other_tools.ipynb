{
 "cells": [
  {
   "attachments": {},
   "cell_type": "markdown",
   "id": "a4f2cc65-a414-4404-b8be-964d131d952b",
   "metadata": {},
   "source": [
    "# Top SBOM Tools"
   ]
  },
  {
   "attachments": {},
   "cell_type": "markdown",
   "id": "cde88d2a-18aa-43e6-b4b5-d466fd1f1ccb",
   "metadata": {},
   "source": [
    "Open Source\n",
    "\n",
    "- [Augur](#augur)\n",
    "- [Bom](#bom)\n",
    "- [Cosign](#cosign)\n",
    "- [Trivy](#trivy)\n",
    "- Dependency-Track\n",
    "- FOSSology\n",
    "- Github OSS Review Toolkit\n",
    "- Orion\n",
    "- SwiftBOM\n",
    "- GitHub ScanCode-Toolkit\n",
    "- SPDX SBOM Generator\n",
    "- Syft\n",
    "- Tern\n",
    "- Yocto\n",
    "\n"
   ]
  },
  {
   "attachments": {},
   "cell_type": "markdown",
   "id": "bbd03e60-d84f-492a-8425-a208caa05399",
   "metadata": {},
   "source": [
    "Commercial\n",
    "\n",
    "- [ANCHORE](#anchore)\n",
    "- Aqua Security\n",
    "- Condenotary\n",
    "- Contrast Security\n",
    "- Cybeats\n",
    "- NowSecure\n",
    "- Secure Software\n",
    "- Snyk\n",
    "- Sonatype\n",
    "- SOOS\n",
    "- Synopsys\n",
    "- Tidelift\n",
    "- WhiteSource"
   ]
  },
  {
   "attachments": {},
   "cell_type": "markdown",
   "id": "abbcd3e1-9cf3-464d-9705-ef3eece82fe3",
   "metadata": {},
   "source": [
    "## Framework For Evaluating SBOM Tools"
   ]
  },
  {
   "attachments": {},
   "cell_type": "markdown",
   "id": "4c48a7fa-9e1c-4884-a380-f36e85ff6cec",
   "metadata": {},
   "source": [
    "This is derived from [fossa](https://fossa.com/blog/framework-evaluating-sbom-tools/)."
   ]
  },
  {
   "attachments": {},
   "cell_type": "markdown",
   "id": "92439b2a-5aaa-47df-ab40-9f80a9139499",
   "metadata": {},
   "source": [
    "For each SBOM tool listed above we'll analyze several components.\n",
    "\n",
    "1. What standards it supports (SPDX, Cyclone DX)\n",
    "2. Compliance with the Cyber Security Executive Order\n",
    "3. Data Field Coverage\n",
    "4. Automation Support\n",
    "5. Programming Language Support\n",
    "6. Dependency Recognition Depth"
   ]
  },
  {
   "attachments": {},
   "cell_type": "markdown",
   "id": "08b8e405-7934-47d2-b31a-c116c6c951a9",
   "metadata": {},
   "source": [
    "## Open Source Tools"
   ]
  },
  {
   "attachments": {},
   "cell_type": "markdown",
   "id": "be9b152c-cd97-44a4-9deb-89e0f11e0d37",
   "metadata": {},
   "source": [
    "### [Augur](https://github.com/chaoss/augur-license)"
   ]
  },
  {
   "attachments": {},
   "cell_type": "markdown",
   "id": "12521a49-1df9-4ea2-9ccf-0205eea51e54",
   "metadata": {},
   "source": [
    "**Language**: Python, **Supports:** SPDX, **Functions:** Generate, View"
   ]
  },
  {
   "attachments": {},
   "cell_type": "markdown",
   "id": "ddf04a90-4307-468a-a43d-cb7286da4714",
   "metadata": {},
   "source": [
    "**Description:**  Scans source code destributions to produce SPDX information stored in a relational database and extract it in plain-text upon request"
   ]
  },
  {
   "attachments": {},
   "cell_type": "markdown",
   "id": "04391617-4e52-4f78-8f9f-9fb86dc3504b",
   "metadata": {},
   "source": [
    "**Notes:** Requires sudo capabilities for installation."
   ]
  },
  {
   "attachments": {},
   "cell_type": "markdown",
   "id": "e343cc53-c1c2-4502-ad1b-49b37f4eedf4",
   "metadata": {},
   "source": [
    "### [Bom](https://github.com/kubernetes-sigs/bom)"
   ]
  },
  {
   "attachments": {},
   "cell_type": "markdown",
   "id": "a5fc05bf-51f6-4786-9846-92563ecdaba3",
   "metadata": {},
   "source": [
    "**Language:** Go, **Supports:** SPDX, **Functions** Document, Generate, **License:** `Apache-2.0 license`"
   ]
  },
  {
   "attachments": {},
   "cell_type": "markdown",
   "id": "083bb1a6-2de7-4a35-9dc2-94af0dc930b7",
   "metadata": {},
   "source": [
    "**Description:** Generate can create SBOMs from files, images, and docker archives.  "
   ]
  },
  {
   "attachments": {},
   "cell_type": "markdown",
   "id": "0fb73a92-95e5-4589-89be-c51bceef5154",
   "metadata": {},
   "source": [
    "**Data Fields:**\n",
    "\n",
    "This tool assumes project metadata from the repo including name and license.  It does identify find project version."
   ]
  },
  {
   "attachments": {},
   "cell_type": "markdown",
   "id": "a77b050a-6e01-4307-bf83-60cc2909060e",
   "metadata": {},
   "source": [
    "**Automation Support:**\n",
    "\n",
    "This tool geneartes SBOM files in the tag/value (`.spdx`) format."
   ]
  },
  {
   "attachments": {},
   "cell_type": "markdown",
   "id": "bfc82b5f-c299-4b21-9390-2634a75551c2",
   "metadata": {},
   "source": [
    "**Package Depth**\n",
    "\n",
    "This tools does not identify any project dependencies"
   ]
  },
  {
   "attachments": {},
   "cell_type": "markdown",
   "id": "62222e3f-8dc2-4c5b-961a-ef1b3f40c8b9",
   "metadata": {},
   "source": [
    "**Relationships**\n",
    "\n",
    "This tool only identifies relationships between the project and its files."
   ]
  },
  {
   "attachments": {},
   "cell_type": "markdown",
   "id": "7b65b905-f2ce-4f92-948c-ef0c57c1e235",
   "metadata": {},
   "source": [
    "### [Cosign](https://github.com/sigstore/cosign)"
   ]
  },
  {
   "attachments": {},
   "cell_type": "markdown",
   "id": "33076ded-425a-4566-835d-2d68dd596fcf",
   "metadata": {},
   "source": [
    "**Language:** Go"
   ]
  },
  {
   "attachments": {},
   "cell_type": "markdown",
   "id": "354a45f2",
   "metadata": {},
   "source": [
    "### [Trivy](https://github.com/aquasecurity/trivy)\n",
    "\n",
    "**Support Specifications:** SPDX 2.3 and CycloneDX, **Formats:** json and Tag-Value, **Functions** Scan, Generate, **License:** `Apache-2.0 license`\n",
    "\n",
    "**Description:** Generate SBOMs from container images and repos.\n",
    "\n",
    "```\n",
    "# From image\n",
    "trivy image --list-all-pkgs --format {sbom-format} --output {output-file} {image}:{version}\n",
    "\n",
    "# From repositoty\n",
    "trivy repo --list-all-pkgs --format {sbom-format} --output {output-file} {repository}\n",
    "```\n",
    "\n",
    "\n",
    "**Data Fields:**\n",
    "\n",
    "This tool assumes project metadata from the repo including name and license.  \n",
    "It does identify find project version.\n",
    "\n",
    "**Automation Support:**\n",
    "\n",
    "This tool geneartes SBOM files in the tag/value (`.spdx`) format.\n",
    "\n",
    "**Package Depth**\n",
    "\n",
    "This tool can identify only top-level dependencies when it applied to repositories.\n",
    "\n",
    "**Relationships**\n",
    "\n",
    "When generating SBOM file in the SPDX specification, this tool only identifies relationships between the project and its files and top-level packages. However, when generating an SBOM in the CycloneDX specification for the PyTorch repository, it could generate dependencies between Ruby components based on the `Gemfile.lock`.\n",
    "\n",
    "\n",
    "\n",
    "**Scan can detect:**\n",
    "\n",
    "- Container Image\n",
    "- Filesystem\n",
    "- Git Repository (remote)\n",
    "- Virtual Machine Image\n",
    "- Kubernetes\n",
    "- AWS\n",
    "\n",
    "**Support programming languages:**\n",
    "- Go\n",
    "- Java\n",
    "- JavaScript (Node.js)\n",
    "- Python\n",
    "- Ruby\n",
    "- PHP\n",
    "- C/C++\n",
    "- Rust\n",
    "-.NET (C#)"
   ]
  },
  {
   "attachments": {},
   "cell_type": "markdown",
   "id": "54dcd326-d036-42ce-9a68-02af0f37f098",
   "metadata": {},
   "source": [
    "## Commercial Tools"
   ]
  },
  {
   "attachments": {},
   "cell_type": "markdown",
   "id": "cf49c21f-bf77-47e4-9cdc-7bc08dd30265",
   "metadata": {},
   "source": [
    "### Anchore"
   ]
  },
  {
   "attachments": {},
   "cell_type": "markdown",
   "id": "4b124b8f-8736-4daf-a9ae-8f75628232d9",
   "metadata": {},
   "source": [
    "**Supports:** SPDX, CycloneDX"
   ]
  },
  {
   "attachments": {},
   "cell_type": "markdown",
   "id": "58422683-f250-4b31-a0bb-3349b54b99e4",
   "metadata": {},
   "source": [
    "**Description:** Commercial packaging of Syft"
   ]
  },
  {
   "attachments": {},
   "cell_type": "markdown",
   "id": "c3873bea-75e8-4292-a088-f10239c543e6",
   "metadata": {},
   "source": [
    "**Package Depth**\n",
    "Identifies transitive dependencies at each stage in the dev process. "
   ]
  },
  {
   "cell_type": "code",
   "execution_count": null,
   "id": "6cc0eb79-38ec-40bd-a9b6-b0ca5f111be0",
   "metadata": {},
   "outputs": [],
   "source": []
  }
 ],
 "metadata": {
  "kernelspec": {
   "display_name": "local-venv",
   "language": "python",
   "name": "local-venv"
  }
 },
 "nbformat": 4,
 "nbformat_minor": 5
}

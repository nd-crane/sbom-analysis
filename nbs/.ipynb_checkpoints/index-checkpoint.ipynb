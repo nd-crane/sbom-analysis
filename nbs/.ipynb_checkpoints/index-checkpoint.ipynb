{
 "cells": [
  {
   "cell_type": "code",
   "execution_count": null,
   "metadata": {},
   "outputs": [],
   "source": [
    "#| hide\n",
    "from sbom_analysis.core import *"
   ]
  },
  {
   "cell_type": "markdown",
   "metadata": {},
   "source": [
    "# sbom-analysis\n",
    "\n",
    "> SBOM generation tool analysis with kglab in terms of accuracy and coverage"
   ]
  },
  {
   "cell_type": "markdown",
   "metadata": {},
   "source": [
    "### Installation"
   ]
  },
  {
   "cell_type": "markdown",
   "metadata": {},
   "source": [
    "To install this repo, first clone it, then run the following commands:\n",
    "\n",
    "Create a virtual environment with PDM for package installation:\n",
    "\n",
    "```bash\n",
    "pdm venv create 3.9\n",
    "```\n",
    "\n",
    "Select the correct python interpreter (the one in the virtual environment):\n",
    "\n",
    "```bash\n",
    "pdm use\n",
    "```\n",
    "\n",
    "Install the packages:\n",
    "\n",
    "```bash\n",
    "pdm install\n",
    "```"
   ]
  },
  {
   "cell_type": "markdown",
   "metadata": {},
   "source": [
    "### Running Commands"
   ]
  },
  {
   "cell_type": "markdown",
   "metadata": {},
   "source": [
    "All commands should be run with PDM like the following:\n",
    "\n",
    "```bash\n",
    "pdm run <command>\n",
    "```"
   ]
  }
 ],
 "metadata": {
  "kernelspec": {
   "display_name": "Python 3",
   "language": "python",
   "name": "python3"
  },
  "language_info": {
   "codemirror_mode": {
    "name": "ipython",
    "version": 3
   },
   "file_extension": ".py",
   "mimetype": "text/x-python",
   "name": "python",
   "nbconvert_exporter": "python",
   "pygments_lexer": "ipython3",
   "version": "3.9.15"
  }
 },
 "nbformat": 4,
 "nbformat_minor": 4
}

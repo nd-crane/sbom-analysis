{
 "cells": [
  {
   "cell_type": "code",
   "execution_count": 1,
   "id": "6d946c38-e55c-40e2-a679-f061a365e25a",
   "metadata": {},
   "outputs": [],
   "source": [
    "#| hide\n",
    "import nbdev; nbdev.nbdev_export()\n",
    "import kglab\n",
    "import pandas as pd\n",
    "from pandas import DataFrame"
   ]
  },
  {
   "cell_type": "markdown",
   "id": "5a27fdd0-2848-433e-88ec-88e1d0824f36",
   "metadata": {},
   "source": [
    "# Core Functions"
   ]
  },
  {
   "cell_type": "markdown",
   "id": "1f76a2fc-fa1f-4027-9c3d-2a65e62fa9ad",
   "metadata": {},
   "source": [
    "This page defines all boilerplate functions to be used when analyzing sboms.  To see these functions in action please view the following pages.\n",
    "\n",
    "Many of the queries seen on this page were written with the help of ChatGPT.  To repeat this simply prompt ChatGPT as follows: \n",
    "`Write me a SPARQL query to select X, Y, and Z`"
   ]
  },
  {
   "cell_type": "markdown",
   "id": "d7f838ca-da7f-4de2-8e84-1a1cf1a137ff",
   "metadata": {},
   "source": [
    "#| hide\n",
    "### Load KG for testing"
   ]
  },
  {
   "cell_type": "code",
   "execution_count": 2,
   "id": "6382042f-3b41-4195-ac68-bd2fc66a5332",
   "metadata": {},
   "outputs": [
    {
     "data": {
      "text/plain": [
       "<kglab.kglab.KnowledgeGraph at 0x148411cd0>"
      ]
     },
     "execution_count": 2,
     "metadata": {},
     "output_type": "execute_result"
    }
   ],
   "source": [
    "#| hide\n",
    "kg = kglab.KnowledgeGraph()\n",
    "kg.load_rdf(\"../../sboms/rdf/model.rdf.xml\", format=\"xml\")"
   ]
  },
  {
   "cell_type": "markdown",
   "id": "4944c954",
   "metadata": {},
   "source": [
    "## Basic Queries\n",
    "\n",
    "These functions perform basic queries and return metadata about a given knowledge graph"
   ]
  },
  {
   "cell_type": "code",
   "execution_count": 3,
   "id": "b2c56be7-dd90-4ccf-ad36-e06a6f57bb05",
   "metadata": {},
   "outputs": [],
   "source": [
    "#| export\n",
    "from kglab import KnowledgeGraph\n",
    "def show_metadata(kg:KnowledgeGraph, #Knowledge graph to query from\n",
    "                  dataframe: bool=False): #Optionally, return result to dataframe\n",
    "    \"\"\"\n",
    "    Return total number of triples, distict entities, and properties to a pandas dataframe.\n",
    "    \"\"\"\n",
    "    \n",
    "    query = \"\"\"\n",
    "    SELECT \n",
    "        (COUNT(*) AS ?triples)\n",
    "        (COUNT(DISTINCT ?entity) AS ?entities)\n",
    "        (COUNT(DISTINCT ?property) AS ?properties)\n",
    "    WHERE {\n",
    "        ?subject ?property ?object .\n",
    "        BIND(?subject AS ?entity) .\n",
    "    }\n",
    "    \"\"\"\n",
    "\n",
    "    if dataframe:\n",
    "        return kg.query_as_df(query)\n",
    "\n",
    "    for row in kg.query(query):\n",
    "        print(\"Total Triples:\", row['triples'])\n",
    "        print(\"Distinct Entities:\", row['entities'])\n",
    "        print(\"Distinct Properties:\", row['properties'])"
   ]
  },
  {
   "cell_type": "code",
   "execution_count": 4,
   "id": "c418e186-0582-45f3-a798-d8e88085e825",
   "metadata": {},
   "outputs": [
    {
     "name": "stdout",
     "output_type": "stream",
     "text": [
      "Total Triples: 306\n",
      "Distinct Entities: 56\n",
      "Distinct Properties: 62\n"
     ]
    }
   ],
   "source": [
    "#| hide\n",
    "show_metadata(kg)"
   ]
  },
  {
   "cell_type": "code",
   "execution_count": 5,
   "id": "60ac51e9-32c1-4083-856e-4a700e9b8776",
   "metadata": {},
   "outputs": [],
   "source": [
    "#| export\n",
    "from kglab import KnowledgeGraph\n",
    "def show_entity_types(kg: KnowledgeGraph, # Knowledge graph to query from \n",
    "                      dataframe: bool=False): # Optionally, return result to dataframe\n",
    "    \"\"\"\n",
    "    Show counts of entity types\n",
    "    \"\"\"\n",
    "    \n",
    "    query = \"\"\"\n",
    "    SELECT ?type (COUNT(?entity) as ?count)\n",
    "    WHERE {\n",
    "        ?entity a ?type .\n",
    "    }\n",
    "    GROUP BY ?type\n",
    "    ORDER BY DESC(?count)\n",
    "    \"\"\"\n",
    "    \n",
    "    if dataframe:\n",
    "        return kg.query_as_df(query)\n",
    "\n",
    "    result = kg.query(query)\n",
    "    for row in result:\n",
    "        print(row[\"type\"], \":\", row[\"count\"])\n"
   ]
  },
  {
   "cell_type": "code",
   "execution_count": 6,
   "id": "d30a51f7-7b90-4511-b672-ede9d77bbe2f",
   "metadata": {},
   "outputs": [
    {
     "name": "stdout",
     "output_type": "stream",
     "text": [
      "http://spdx.org/rdf/terms#Relationship : 11\n",
      "http://spdx.org/rdf/terms#Checksum : 10\n",
      "http://spdx.org/rdf/terms#ExtractedLicensingInfo : 5\n",
      "http://spdx.org/rdf/terms#Annotation : 5\n",
      "http://spdx.org/rdf/terms#Package : 4\n",
      "http://spdx.org/rdf/terms#File : 4\n",
      "http://spdx.org/rdf/terms#ExternalRef : 3\n",
      "http://spdx.org/rdf/terms#DisjunctiveLicenseSet : 2\n",
      "http://www.w3.org/2009/pointers#StartEndPointer : 2\n",
      "http://www.w3.org/2009/pointers#ByteOffsetPointer : 2\n",
      "http://www.w3.org/2009/pointers#LineCharPointer : 2\n",
      "http://spdx.org/rdf/terms#SpdxDocument : 1\n",
      "http://spdx.org/rdf/terms#PackageVerificationCode : 1\n",
      "http://spdx.org/rdf/terms#ConjunctiveLicenseSet : 1\n",
      "http://spdx.org/rdf/terms#CreationInfo : 1\n",
      "http://spdx.org/rdf/terms#ExternalDocumentRef : 1\n",
      "http://spdx.org/rdf/terms#Snippet : 1\n"
     ]
    }
   ],
   "source": [
    "#| hide\n",
    "show_entity_types(kg)"
   ]
  },
  {
   "cell_type": "code",
   "execution_count": 7,
   "id": "25db254b-db55-4ca3-922d-987aaa29334b",
   "metadata": {},
   "outputs": [],
   "source": [
    "#| export\n",
    "from kglab import KnowledgeGraph\n",
    "def show_top_n_props(kg: KnowledgeGraph,  # Knowledge graph to query from\n",
    "                     n: int=10, # Top n results to display\n",
    "                     dataframe: bool=False): # Optionally, return result to dataframe\n",
    "    \"\"\"\n",
    "    Display the top N properties from a knowledge graph\n",
    "    \"\"\"\n",
    "    \n",
    "    query = \"\"\"\n",
    "    SELECT ?property (COUNT(?property) as ?count)\n",
    "    WHERE {\n",
    "        ?s ?property ?o .\n",
    "    }\n",
    "    GROUP BY ?property\n",
    "    ORDER BY DESC(?count)\n",
    "    LIMIT %d\n",
    "    \"\"\" % n\n",
    "    \n",
    "    if dataframe:\n",
    "        return kg.query_as_df(query)\n",
    "\n",
    "    result = kg.query(query)\n",
    "    for row in result:\n",
    "        print(row[\"property\"], \":\", row[\"count\"])"
   ]
  },
  {
   "cell_type": "code",
   "execution_count": 8,
   "id": "ad429f9c-2c43-47d1-a723-81fbfa68dc57",
   "metadata": {},
   "outputs": [
    {
     "data": {
      "text/html": [
       "<div>\n",
       "<style scoped>\n",
       "    .dataframe tbody tr th:only-of-type {\n",
       "        vertical-align: middle;\n",
       "    }\n",
       "\n",
       "    .dataframe tbody tr th {\n",
       "        vertical-align: top;\n",
       "    }\n",
       "\n",
       "    .dataframe thead th {\n",
       "        text-align: right;\n",
       "    }\n",
       "</style>\n",
       "<table border=\"1\" class=\"dataframe\">\n",
       "  <thead>\n",
       "    <tr style=\"text-align: right;\">\n",
       "      <th></th>\n",
       "      <th>property</th>\n",
       "      <th>count</th>\n",
       "    </tr>\n",
       "  </thead>\n",
       "  <tbody>\n",
       "    <tr>\n",
       "      <th>0</th>\n",
       "      <td>rdf:type</td>\n",
       "      <td>56</td>\n",
       "    </tr>\n",
       "    <tr>\n",
       "      <th>1</th>\n",
       "      <td>rdfs:comment</td>\n",
       "      <td>14</td>\n",
       "    </tr>\n",
       "    <tr>\n",
       "      <th>2</th>\n",
       "      <td>spdx:relationship</td>\n",
       "      <td>11</td>\n",
       "    </tr>\n",
       "    <tr>\n",
       "      <th>3</th>\n",
       "      <td>spdx:relatedSpdxElement</td>\n",
       "      <td>11</td>\n",
       "    </tr>\n",
       "    <tr>\n",
       "      <th>4</th>\n",
       "      <td>spdx:relationshipType</td>\n",
       "      <td>11</td>\n",
       "    </tr>\n",
       "    <tr>\n",
       "      <th>5</th>\n",
       "      <td>spdx:fileContributor</td>\n",
       "      <td>11</td>\n",
       "    </tr>\n",
       "    <tr>\n",
       "      <th>6</th>\n",
       "      <td>spdx:algorithm</td>\n",
       "      <td>10</td>\n",
       "    </tr>\n",
       "    <tr>\n",
       "      <th>7</th>\n",
       "      <td>spdx:checksum</td>\n",
       "      <td>10</td>\n",
       "    </tr>\n",
       "    <tr>\n",
       "      <th>8</th>\n",
       "      <td>spdx:checksumValue</td>\n",
       "      <td>10</td>\n",
       "    </tr>\n",
       "    <tr>\n",
       "      <th>9</th>\n",
       "      <td>spdx:licenseConcluded</td>\n",
       "      <td>9</td>\n",
       "    </tr>\n",
       "  </tbody>\n",
       "</table>\n",
       "</div>"
      ],
      "text/plain": [
       "                  property  count\n",
       "0                 rdf:type     56\n",
       "1             rdfs:comment     14\n",
       "2        spdx:relationship     11\n",
       "3  spdx:relatedSpdxElement     11\n",
       "4    spdx:relationshipType     11\n",
       "5     spdx:fileContributor     11\n",
       "6           spdx:algorithm     10\n",
       "7            spdx:checksum     10\n",
       "8       spdx:checksumValue     10\n",
       "9    spdx:licenseConcluded      9"
      ]
     },
     "execution_count": 8,
     "metadata": {},
     "output_type": "execute_result"
    }
   ],
   "source": [
    "#| hide\n",
    "show_top_n_props(kg, 10, dataframe=True)"
   ]
  },
  {
   "cell_type": "code",
   "execution_count": 9,
   "id": "9b5b7625-7059-4e2d-a5c7-83f49cddb9f9",
   "metadata": {},
   "outputs": [],
   "source": [
    "#| export\n",
    "from kglab import KnowledgeGraph\n",
    "def show_measures(kg:KnowledgeGraph): #Knowledge graph to query from\n",
    "    \"\"\"\n",
    "    Display number of nodes and edges for knowledge graph\n",
    "    \"\"\"\n",
    "    measure = kglab.Measure()\n",
    "    measure.measure_graph(kg)\n",
    "\n",
    "    print(\"edges\", measure.get_edge_count())\n",
    "    print(\"nodes\", measure.get_node_count())"
   ]
  },
  {
   "cell_type": "markdown",
   "id": "2cb54288-b54b-4a02-9e9b-ad4d2da04f84",
   "metadata": {},
   "source": [
    "## Files\n",
    "\n",
    "These functions peform queries on a SBOM's files"
   ]
  },
  {
   "cell_type": "code",
   "execution_count": 10,
   "id": "3ae484af-73ed-4a2f-930e-d69aa151671e",
   "metadata": {},
   "outputs": [],
   "source": [
    "#| export\n",
    "def file_schema(kg:KnowledgeGraph): #Knowledge graph to query from\n",
    "  \"\"\"\n",
    "  Display all properties for a file\n",
    "  \"\"\"\n",
    "  query = \"\"\"\n",
    "  PREFIX spdx:<http://spdx.org/rdf/terms#>\n",
    "  SELECT DISTINCT ?property\n",
    "  WHERE {\n",
    "    ?file rdf:type spdx:File .\n",
    "    ?file ?property ?value .\n",
    "  }\n",
    "  order by asc(UCASE(str(?property)))\n",
    "  \"\"\"\n",
    "  return kg.query_as_df(query)"
   ]
  },
  {
   "cell_type": "code",
   "execution_count": 11,
   "id": "0b346550",
   "metadata": {},
   "outputs": [
    {
     "data": {
      "text/html": [
       "<div>\n",
       "<style scoped>\n",
       "    .dataframe tbody tr th:only-of-type {\n",
       "        vertical-align: middle;\n",
       "    }\n",
       "\n",
       "    .dataframe tbody tr th {\n",
       "        vertical-align: top;\n",
       "    }\n",
       "\n",
       "    .dataframe thead th {\n",
       "        text-align: right;\n",
       "    }\n",
       "</style>\n",
       "<table border=\"1\" class=\"dataframe\">\n",
       "  <thead>\n",
       "    <tr style=\"text-align: right;\">\n",
       "      <th></th>\n",
       "      <th>property</th>\n",
       "    </tr>\n",
       "  </thead>\n",
       "  <tbody>\n",
       "    <tr>\n",
       "      <th>0</th>\n",
       "      <td>spdx:annotation</td>\n",
       "    </tr>\n",
       "    <tr>\n",
       "      <th>1</th>\n",
       "      <td>spdx:checksum</td>\n",
       "    </tr>\n",
       "    <tr>\n",
       "      <th>2</th>\n",
       "      <td>spdx:copyrightText</td>\n",
       "    </tr>\n",
       "    <tr>\n",
       "      <th>3</th>\n",
       "      <td>spdx:fileContributor</td>\n",
       "    </tr>\n",
       "    <tr>\n",
       "      <th>4</th>\n",
       "      <td>spdx:fileName</td>\n",
       "    </tr>\n",
       "    <tr>\n",
       "      <th>5</th>\n",
       "      <td>spdx:fileType</td>\n",
       "    </tr>\n",
       "    <tr>\n",
       "      <th>6</th>\n",
       "      <td>spdx:licenseComments</td>\n",
       "    </tr>\n",
       "    <tr>\n",
       "      <th>7</th>\n",
       "      <td>spdx:licenseConcluded</td>\n",
       "    </tr>\n",
       "    <tr>\n",
       "      <th>8</th>\n",
       "      <td>spdx:licenseInfoInFile</td>\n",
       "    </tr>\n",
       "    <tr>\n",
       "      <th>9</th>\n",
       "      <td>spdx:noticeText</td>\n",
       "    </tr>\n",
       "    <tr>\n",
       "      <th>10</th>\n",
       "      <td>spdx:relationship</td>\n",
       "    </tr>\n",
       "    <tr>\n",
       "      <th>11</th>\n",
       "      <td>rdf:type</td>\n",
       "    </tr>\n",
       "    <tr>\n",
       "      <th>12</th>\n",
       "      <td>rdfs:comment</td>\n",
       "    </tr>\n",
       "  </tbody>\n",
       "</table>\n",
       "</div>"
      ],
      "text/plain": [
       "                  property\n",
       "0          spdx:annotation\n",
       "1            spdx:checksum\n",
       "2       spdx:copyrightText\n",
       "3     spdx:fileContributor\n",
       "4            spdx:fileName\n",
       "5            spdx:fileType\n",
       "6     spdx:licenseComments\n",
       "7    spdx:licenseConcluded\n",
       "8   spdx:licenseInfoInFile\n",
       "9          spdx:noticeText\n",
       "10       spdx:relationship\n",
       "11                rdf:type\n",
       "12            rdfs:comment"
      ]
     },
     "execution_count": 11,
     "metadata": {},
     "output_type": "execute_result"
    }
   ],
   "source": [
    "#| hide\n",
    "file_schema(kg)"
   ]
  },
  {
   "cell_type": "code",
   "execution_count": 12,
   "id": "6afef59a",
   "metadata": {},
   "outputs": [],
   "source": [
    "#| export\n",
    "from pandas import DataFrame\n",
    "def get_files_data(kg:KnowledgeGraph #Knowledge graph to query from\n",
    "                   ) -> DataFrame: #Return result to dataframe\n",
    "    \"\"\"\n",
    "    Return all files and their properties\n",
    "    \"\"\"\n",
    "    query = \"\"\"\n",
    "    PREFIX spdx:<http://spdx.org/rdf/terms#>\n",
    "    SELECT \n",
    "    (?file AS ?fileID)\n",
    "    ?fileName\n",
    "    ?fileType\n",
    "    ?licenseInFile\n",
    "    (GROUP_CONCAT(?contributor; SEPARATOR=\", \") AS ?contributors)\n",
    "    (GROUP_CONCAT(?licenseConcluded; SEPARATOR=\", \") AS ?licenseConcluded)\n",
    "    ?checksum\n",
    "    ?relationship\n",
    "    ?annotation\n",
    "    ?comment\n",
    "    ?licenseComments\n",
    "    ?noticeText\n",
    "    WHERE {\n",
    "    ?file rdf:type spdx:File .\n",
    "    OPTIONAL {?file spdx:fileName ?fileName .}\n",
    "    OPTIONAL {?file spdx:fileContributor ?contributor .}\n",
    "    OPTIONAL {?file spdx:licenseInfoInFile ?licenseInFile .}\n",
    "    OPTIONAL {?file spdx:licenseConcluded ?licenseConcluded .}\n",
    "    OPTIONAL {?file spdx:checksum ?checksum .}\n",
    "    OPTIONAL {?file spdx:copyrightText ?copyrightText .}\n",
    "    OPTIONAL {?file spdx:fileType ?fileType .}\n",
    "    OPTIONAL {?file spdx:relationship ?relationship .}\n",
    "    OPTIONAL {?file spdx:annotation ?annotation . }\n",
    "    OPTIONAL {?file rdfs:comment ?comment . }\n",
    "    OPTIONAL {?file spdx:licenseComments ?licenseComments . }\n",
    "    OPTIONAL {?file spdx:noticeText ?noticeText . }\n",
    "    }\n",
    "    GROUP BY ?file\n",
    "    \"\"\"\n",
    "\n",
    "    return kg.query_as_df(query)"
   ]
  },
  {
   "cell_type": "code",
   "execution_count": 13,
   "id": "c0c6832a-5f3c-495a-bb8d-7766b82b0d9c",
   "metadata": {},
   "outputs": [
    {
     "data": {
      "text/html": [
       "<div>\n",
       "<style scoped>\n",
       "    .dataframe tbody tr th:only-of-type {\n",
       "        vertical-align: middle;\n",
       "    }\n",
       "\n",
       "    .dataframe tbody tr th {\n",
       "        vertical-align: top;\n",
       "    }\n",
       "\n",
       "    .dataframe thead th {\n",
       "        text-align: right;\n",
       "    }\n",
       "</style>\n",
       "<table border=\"1\" class=\"dataframe\">\n",
       "  <thead>\n",
       "    <tr style=\"text-align: right;\">\n",
       "      <th></th>\n",
       "      <th>fileID</th>\n",
       "      <th>fileName</th>\n",
       "      <th>fileType</th>\n",
       "      <th>licenseInFile</th>\n",
       "      <th>contributors</th>\n",
       "      <th>licenseConcluded</th>\n",
       "      <th>checksum</th>\n",
       "      <th>relationship</th>\n",
       "      <th>comment</th>\n",
       "      <th>licenseComments</th>\n",
       "      <th>noticeText</th>\n",
       "      <th>annotation</th>\n",
       "    </tr>\n",
       "  </thead>\n",
       "  <tbody>\n",
       "    <tr>\n",
       "      <th>0</th>\n",
       "      <td>&lt;http://spdx.org/spdxdocs/spdx-example-444504E...</td>\n",
       "      <td>./lib-source/jena-2.6.3-sources.jar</td>\n",
       "      <td>spdx:fileType_archive</td>\n",
       "      <td>&lt;http://spdx.org/spdxdocs/spdx-example-444504E...</td>\n",
       "      <td>Apache Software Foundation, Hewlett Packard Inc.</td>\n",
       "      <td>http://spdx.org/spdxdocs/spdx-example-444504E0...</td>\n",
       "      <td>_:N2df91c73797548a68e12bb5e5cf94132</td>\n",
       "      <td>_:N12a644bd6b854065a34817c770cb7d5f</td>\n",
       "      <td>This file belongs to Jena</td>\n",
       "      <td>This license is used by Jena</td>\n",
       "      <td>NaN</td>\n",
       "      <td>NaN</td>\n",
       "    </tr>\n",
       "    <tr>\n",
       "      <th>1</th>\n",
       "      <td>&lt;http://spdx.org/spdxdocs/spdx-example-444504E...</td>\n",
       "      <td>./lib-source/commons-lang3-3.1-sources.jar</td>\n",
       "      <td>spdx:fileType_archive</td>\n",
       "      <td>&lt;http://spdx.org/licenses/Apache-2.0&gt;</td>\n",
       "      <td>Apache Software Foundation</td>\n",
       "      <td>http://spdx.org/licenses/Apache-2.0</td>\n",
       "      <td>_:N2f78cfda2f7f42128a94c20f5841b102</td>\n",
       "      <td>_:N6358e1260b364de898b8a291d3ae00b4</td>\n",
       "      <td>This file is used by Jena</td>\n",
       "      <td>NaN</td>\n",
       "      <td>Apache Commons Lang\\nCopyright 2001-2011 The A...</td>\n",
       "      <td>NaN</td>\n",
       "    </tr>\n",
       "    <tr>\n",
       "      <th>2</th>\n",
       "      <td>&lt;http://spdx.org/spdxdocs/spdx-example-444504E...</td>\n",
       "      <td>./src/org/spdx/parser/DOAPProject.java</td>\n",
       "      <td>spdx:fileType_source</td>\n",
       "      <td>&lt;http://spdx.org/licenses/Apache-2.0&gt;</td>\n",
       "      <td>Source Auditor Inc., Black Duck Software In.c,...</td>\n",
       "      <td>http://spdx.org/licenses/Apache-2.0, http://sp...</td>\n",
       "      <td>_:N1c1cadca31014513adcb5a82795a9de0</td>\n",
       "      <td>NaN</td>\n",
       "      <td>NaN</td>\n",
       "      <td>NaN</td>\n",
       "      <td>NaN</td>\n",
       "      <td>NaN</td>\n",
       "    </tr>\n",
       "    <tr>\n",
       "      <th>3</th>\n",
       "      <td>&lt;http://spdx.org/spdxdocs/spdx-example-444504E...</td>\n",
       "      <td>./package/foo.c</td>\n",
       "      <td>spdx:fileType_source</td>\n",
       "      <td>&lt;http://spdx.org/spdxdocs/spdx-example-444504E...</td>\n",
       "      <td>IBM Corporation, IBM Corporation, IBM Corporat...</td>\n",
       "      <td>N927ff8b16bd9404db9d1c7b593551c8c, N927ff8b16b...</td>\n",
       "      <td>_:N28579fbb821448718507464d01f26956</td>\n",
       "      <td>_:N0377cbb2ae264464826de0d60fb414d6</td>\n",
       "      <td>The concluded license was taken from the packa...</td>\n",
       "      <td>The concluded license was taken from the packa...</td>\n",
       "      <td>Copyright (c) 2001 Aaron Lehmann aaroni@vitelu...</td>\n",
       "      <td>_:N16f630e758b54a12ae98a4fc8092e540</td>\n",
       "    </tr>\n",
       "  </tbody>\n",
       "</table>\n",
       "</div>"
      ],
      "text/plain": [
       "                                              fileID  \\\n",
       "0  <http://spdx.org/spdxdocs/spdx-example-444504E...   \n",
       "1  <http://spdx.org/spdxdocs/spdx-example-444504E...   \n",
       "2  <http://spdx.org/spdxdocs/spdx-example-444504E...   \n",
       "3  <http://spdx.org/spdxdocs/spdx-example-444504E...   \n",
       "\n",
       "                                     fileName               fileType  \\\n",
       "0         ./lib-source/jena-2.6.3-sources.jar  spdx:fileType_archive   \n",
       "1  ./lib-source/commons-lang3-3.1-sources.jar  spdx:fileType_archive   \n",
       "2      ./src/org/spdx/parser/DOAPProject.java   spdx:fileType_source   \n",
       "3                             ./package/foo.c   spdx:fileType_source   \n",
       "\n",
       "                                       licenseInFile  \\\n",
       "0  <http://spdx.org/spdxdocs/spdx-example-444504E...   \n",
       "1              <http://spdx.org/licenses/Apache-2.0>   \n",
       "2              <http://spdx.org/licenses/Apache-2.0>   \n",
       "3  <http://spdx.org/spdxdocs/spdx-example-444504E...   \n",
       "\n",
       "                                        contributors  \\\n",
       "0   Apache Software Foundation, Hewlett Packard Inc.   \n",
       "1                         Apache Software Foundation   \n",
       "2  Source Auditor Inc., Black Duck Software In.c,...   \n",
       "3  IBM Corporation, IBM Corporation, IBM Corporat...   \n",
       "\n",
       "                                    licenseConcluded  \\\n",
       "0  http://spdx.org/spdxdocs/spdx-example-444504E0...   \n",
       "1                http://spdx.org/licenses/Apache-2.0   \n",
       "2  http://spdx.org/licenses/Apache-2.0, http://sp...   \n",
       "3  N927ff8b16bd9404db9d1c7b593551c8c, N927ff8b16b...   \n",
       "\n",
       "                              checksum                         relationship  \\\n",
       "0  _:N2df91c73797548a68e12bb5e5cf94132  _:N12a644bd6b854065a34817c770cb7d5f   \n",
       "1  _:N2f78cfda2f7f42128a94c20f5841b102  _:N6358e1260b364de898b8a291d3ae00b4   \n",
       "2  _:N1c1cadca31014513adcb5a82795a9de0                                  NaN   \n",
       "3  _:N28579fbb821448718507464d01f26956  _:N0377cbb2ae264464826de0d60fb414d6   \n",
       "\n",
       "                                             comment  \\\n",
       "0                          This file belongs to Jena   \n",
       "1                          This file is used by Jena   \n",
       "2                                                NaN   \n",
       "3  The concluded license was taken from the packa...   \n",
       "\n",
       "                                     licenseComments  \\\n",
       "0                       This license is used by Jena   \n",
       "1                                                NaN   \n",
       "2                                                NaN   \n",
       "3  The concluded license was taken from the packa...   \n",
       "\n",
       "                                          noticeText  \\\n",
       "0                                                NaN   \n",
       "1  Apache Commons Lang\\nCopyright 2001-2011 The A...   \n",
       "2                                                NaN   \n",
       "3  Copyright (c) 2001 Aaron Lehmann aaroni@vitelu...   \n",
       "\n",
       "                            annotation  \n",
       "0                                  NaN  \n",
       "1                                  NaN  \n",
       "2                                  NaN  \n",
       "3  _:N16f630e758b54a12ae98a4fc8092e540  "
      ]
     },
     "execution_count": 13,
     "metadata": {},
     "output_type": "execute_result"
    }
   ],
   "source": [
    "#| hide\n",
    "get_files_data(kg)"
   ]
  },
  {
   "cell_type": "code",
   "execution_count": 14,
   "id": "6775d949",
   "metadata": {},
   "outputs": [],
   "source": [
    "#| export\n",
    "def get_files_graph(kg:KnowledgeGraph #Knowledge graph to query from\n",
    "                    )-> KnowledgeGraph: #Return result to knowledge graph\n",
    "    \"\"\"\n",
    "    Return a subgraph of the files and their properties\n",
    "    \"\"\"\n",
    "    namespaces = {\n",
    "        \"spdx\": \"http://spdx.org/rdf/terms#\"\n",
    "    }\n",
    "    subgraph = kglab.KnowledgeGraph(\n",
    "        namespaces = namespaces,\n",
    "    )\n",
    "    query = \"\"\"\n",
    "    PREFIX spdx:<http://spdx.org/rdf/terms#>\n",
    "    CONSTRUCT {\n",
    "        ?file rdf:type spdx:File .\n",
    "        ?file spdx:fileName ?fileName .\n",
    "        ?file spdx:fileContributor ?contributor .\n",
    "        ?file spdx:licenseInfoInFile ?licenseInFile .\n",
    "        ?file spdx:checksum ?checksum .\n",
    "        ?file spdx:relationship ?relationship .\n",
    "    }\n",
    "    WHERE {\n",
    "        ?file rdf:type spdx:File .\n",
    "        OPTIONAL {?file spdx:fileName ?fileName .}\n",
    "        OPTIONAL {?file spdx:fileContributor ?contributor .}\n",
    "        OPTIONAL {?file spdx:licenseInfoInFile ?licenseInFile .}\n",
    "        OPTIONAL {?file spdx:relationship ?relationship .}\n",
    "    }\n",
    "    \"\"\"\n",
    "\n",
    "    for row in kg.query(query):\n",
    "        s, p, o = row\n",
    "        subgraph.add(s, p, o)\n",
    "\n",
    "    return subgraph # Return the subgraph"
   ]
  },
  {
   "cell_type": "markdown",
   "id": "41b3760e-bb9e-4573-a730-5582ad6ebedd",
   "metadata": {},
   "source": [
    "## Packages\n",
    "\n"
   ]
  },
  {
   "cell_type": "code",
   "execution_count": 15,
   "id": "4c315db1",
   "metadata": {},
   "outputs": [],
   "source": [
    "#| export\n",
    "def package_schema(kg:KnowledgeGraph #Knowledge graph to query from\n",
    "                  )-> DataFrame: #Return result to dataframe\n",
    "  \"\"\"\n",
    "  Return the schema for the package\n",
    "  \"\"\"\n",
    "  query = \"\"\"\n",
    "  PREFIX spdx:<http://spdx.org/rdf/terms#>\n",
    "  SELECT DISTINCT ?property\n",
    "  WHERE {\n",
    "    ?package rdf:type spdx:Package .\n",
    "    ?package ?property ?value .\n",
    "  }\n",
    "  order by asc(UCASE(str(?property)))\n",
    "  \"\"\"\n",
    "  return kg.query_as_df(query)"
   ]
  },
  {
   "cell_type": "code",
   "execution_count": 16,
   "id": "f69f3a32",
   "metadata": {},
   "outputs": [
    {
     "data": {
      "text/html": [
       "<div>\n",
       "<style scoped>\n",
       "    .dataframe tbody tr th:only-of-type {\n",
       "        vertical-align: middle;\n",
       "    }\n",
       "\n",
       "    .dataframe tbody tr th {\n",
       "        vertical-align: top;\n",
       "    }\n",
       "\n",
       "    .dataframe thead th {\n",
       "        text-align: right;\n",
       "    }\n",
       "</style>\n",
       "<table border=\"1\" class=\"dataframe\">\n",
       "  <thead>\n",
       "    <tr style=\"text-align: right;\">\n",
       "      <th></th>\n",
       "      <th>property</th>\n",
       "    </tr>\n",
       "  </thead>\n",
       "  <tbody>\n",
       "    <tr>\n",
       "      <th>0</th>\n",
       "      <td>spdx:annotation</td>\n",
       "    </tr>\n",
       "    <tr>\n",
       "      <th>1</th>\n",
       "      <td>spdx:attributionText</td>\n",
       "    </tr>\n",
       "    <tr>\n",
       "      <th>2</th>\n",
       "      <td>spdx:checksum</td>\n",
       "    </tr>\n",
       "    <tr>\n",
       "      <th>3</th>\n",
       "      <td>spdx:copyrightText</td>\n",
       "    </tr>\n",
       "    <tr>\n",
       "      <th>4</th>\n",
       "      <td>spdx:description</td>\n",
       "    </tr>\n",
       "    <tr>\n",
       "      <th>5</th>\n",
       "      <td>spdx:downloadLocation</td>\n",
       "    </tr>\n",
       "    <tr>\n",
       "      <th>6</th>\n",
       "      <td>spdx:externalRef</td>\n",
       "    </tr>\n",
       "    <tr>\n",
       "      <th>7</th>\n",
       "      <td>spdx:filesAnalyzed</td>\n",
       "    </tr>\n",
       "    <tr>\n",
       "      <th>8</th>\n",
       "      <td>spdx:licenseComments</td>\n",
       "    </tr>\n",
       "    <tr>\n",
       "      <th>9</th>\n",
       "      <td>spdx:licenseConcluded</td>\n",
       "    </tr>\n",
       "    <tr>\n",
       "      <th>10</th>\n",
       "      <td>spdx:licenseDeclared</td>\n",
       "    </tr>\n",
       "    <tr>\n",
       "      <th>11</th>\n",
       "      <td>spdx:licenseInfoFromFiles</td>\n",
       "    </tr>\n",
       "    <tr>\n",
       "      <th>12</th>\n",
       "      <td>spdx:name</td>\n",
       "    </tr>\n",
       "    <tr>\n",
       "      <th>13</th>\n",
       "      <td>spdx:originator</td>\n",
       "    </tr>\n",
       "    <tr>\n",
       "      <th>14</th>\n",
       "      <td>spdx:packageFileName</td>\n",
       "    </tr>\n",
       "    <tr>\n",
       "      <th>15</th>\n",
       "      <td>spdx:packageVerificationCode</td>\n",
       "    </tr>\n",
       "    <tr>\n",
       "      <th>16</th>\n",
       "      <td>spdx:relationship</td>\n",
       "    </tr>\n",
       "    <tr>\n",
       "      <th>17</th>\n",
       "      <td>spdx:sourceInfo</td>\n",
       "    </tr>\n",
       "    <tr>\n",
       "      <th>18</th>\n",
       "      <td>spdx:summary</td>\n",
       "    </tr>\n",
       "    <tr>\n",
       "      <th>19</th>\n",
       "      <td>spdx:supplier</td>\n",
       "    </tr>\n",
       "    <tr>\n",
       "      <th>20</th>\n",
       "      <td>spdx:versionInfo</td>\n",
       "    </tr>\n",
       "    <tr>\n",
       "      <th>21</th>\n",
       "      <td>doap:homepage</td>\n",
       "    </tr>\n",
       "    <tr>\n",
       "      <th>22</th>\n",
       "      <td>rdf:type</td>\n",
       "    </tr>\n",
       "  </tbody>\n",
       "</table>\n",
       "</div>"
      ],
      "text/plain": [
       "                        property\n",
       "0                spdx:annotation\n",
       "1           spdx:attributionText\n",
       "2                  spdx:checksum\n",
       "3             spdx:copyrightText\n",
       "4               spdx:description\n",
       "5          spdx:downloadLocation\n",
       "6               spdx:externalRef\n",
       "7             spdx:filesAnalyzed\n",
       "8           spdx:licenseComments\n",
       "9          spdx:licenseConcluded\n",
       "10          spdx:licenseDeclared\n",
       "11     spdx:licenseInfoFromFiles\n",
       "12                     spdx:name\n",
       "13               spdx:originator\n",
       "14          spdx:packageFileName\n",
       "15  spdx:packageVerificationCode\n",
       "16             spdx:relationship\n",
       "17               spdx:sourceInfo\n",
       "18                  spdx:summary\n",
       "19                 spdx:supplier\n",
       "20              spdx:versionInfo\n",
       "21                 doap:homepage\n",
       "22                      rdf:type"
      ]
     },
     "execution_count": 16,
     "metadata": {},
     "output_type": "execute_result"
    }
   ],
   "source": [
    "#| hide\n",
    "package_schema(kg)"
   ]
  },
  {
   "cell_type": "code",
   "execution_count": 17,
   "id": "3093f8e0",
   "metadata": {},
   "outputs": [],
   "source": [
    "#| export\n",
    "def get_package_data(kg:KnowledgeGraph #Knowledge graph to query from\n",
    "                     ) -> DataFrame: #Return result to dataframe\n",
    "    \"\"\"\n",
    "    Construct a dataframe of package data\n",
    "    \"\"\"\n",
    "    query = \"\"\"\n",
    "    PREFIX spdx:<http://spdx.org/rdf/terms#>\n",
    "    SELECT ?package\n",
    "        (GROUP_CONCAT(?annotation; SEPARATOR=\", \") AS ?annotations)\n",
    "        (GROUP_CONCAT(?attributionText; SEPARATOR=\", \") AS ?attributionTexts)\n",
    "        ?builtDate\n",
    "        (GROUP_CONCAT(?checksum; SEPARATOR=\", \") AS ?checksums)\n",
    "        ?comment\n",
    "        ?copyrightText\n",
    "        ?description\n",
    "        ?downloadLocation\n",
    "        (GROUP_CONCAT(?externalRef; SEPARATOR=\", \") AS ?externalRefs)\n",
    "        ?filesAnalyzed\n",
    "        (GROUP_CONCAT(?hasFile; SEPARATOR=\", \") AS ?hasFiles)\n",
    "        ?homepage\n",
    "        ?licenseComments\n",
    "        ?licenseConcluded\n",
    "        ?licenseDeclared\n",
    "        (GROUP_CONCAT(?licenseInfoFromFile; SEPARATOR=\", \") AS ?licenseInfoFromFiles)\n",
    "        ?name\n",
    "        ?originator\n",
    "        ?packageFileName\n",
    "        ?packageVerificationCode\n",
    "        ?primaryPackagePurpose\n",
    "        ?releaseDate\n",
    "        ?sourceInfo\n",
    "        ?summary\n",
    "        ?supplier\n",
    "        ?validUntilDate\n",
    "        ?versionInfo\n",
    "        (GROUP_CONCAT(?relationship; SEPARATOR=\", \") AS ?relationships)\n",
    "    WHERE {\n",
    "        ?package rdf:type spdx:Package .\n",
    "        OPTIONAL { ?package spdx:annotation ?annotation . }\n",
    "        OPTIONAL { ?package spdx:attributionText ?attributionText . }\n",
    "        OPTIONAL { ?package spdx:builtDate ?buildDate . }\n",
    "        OPTIONAL { ?package spdx:checksum ?checksum . }\n",
    "        OPTIONAL { ?package spdx:comment ?comment . }\n",
    "        OPTIONAL { ?package spdx:copyrightText ?copyrightText . }\n",
    "        OPTIONAL { ?package spdx:description ?description . }\n",
    "        OPTIONAL { ?package spdx:downloadLocation ?downloadLocation . }\n",
    "        OPTIONAL { ?package spdx:externalRef ?externalRef . }\n",
    "        OPTIONAL { ?package spdx:filesAnalyed ?filesAnalyzed . }\n",
    "        OPTIONAL { ?package spdx:hasFile ?hasFile . }\n",
    "        OPTIONAL { ?package spdx:homepage ?homepage . }\n",
    "        OPTIONAL { ?package spdx:licenseComments ?licenseComments . }\n",
    "        OPTIONAL { ?package spdx:licenseConcluded ?licenseConcluded . }\n",
    "        OPTIONAL { ?package spdx:licenseDeclared ?licenseDeclared . }\n",
    "        OPTIONAL { ?package spdx:licenseInfoFromFile ?licenseInfoFromFile . }\n",
    "        OPTIONAL { ?package spdx:name ?name . }\n",
    "        OPTIONAL { ?package spdx:originator ?originator . }\n",
    "        OPTIONAL { ?package spdx:packageFileName ?packageFileName . }\n",
    "        OPTIONAL { ?package spdx:packageVerificationCode ?packageVerificationCode . }\n",
    "        OPTIONAL { ?package spdx:primaryPackagePurpose ?primaryPackagePurpose . }\n",
    "        OPTIONAL { ?package spdx:releaseDate ?releaseDate . }\n",
    "        OPTIONAL { ?package spdx:sourceInfo ?sourceInfo . }\n",
    "        OPTIONAL { ?package spdx:summary ?summary . }\n",
    "        OPTIONAL { ?package spdx:supplier ?supplier . }\n",
    "        OPTIONAL { ?package spdx:validUntilDate ?validUntilDate . }\n",
    "        OPTIONAL { ?package spdx:versionInfo ?versionInfo . }\n",
    "        OPTIONAL { ?package spdx:relationship ?relationship . }\n",
    "    }\n",
    "    GROUP BY ?package\n",
    "    \"\"\"\n",
    "\n",
    "    return kg.query_as_df(query)"
   ]
  },
  {
   "cell_type": "code",
   "execution_count": 18,
   "id": "e6f0cad5",
   "metadata": {},
   "outputs": [
    {
     "data": {
      "text/html": [
       "<div>\n",
       "<style scoped>\n",
       "    .dataframe tbody tr th:only-of-type {\n",
       "        vertical-align: middle;\n",
       "    }\n",
       "\n",
       "    .dataframe tbody tr th {\n",
       "        vertical-align: top;\n",
       "    }\n",
       "\n",
       "    .dataframe thead th {\n",
       "        text-align: right;\n",
       "    }\n",
       "</style>\n",
       "<table border=\"1\" class=\"dataframe\">\n",
       "  <thead>\n",
       "    <tr style=\"text-align: right;\">\n",
       "      <th></th>\n",
       "      <th>package</th>\n",
       "      <th>annotations</th>\n",
       "      <th>attributionTexts</th>\n",
       "      <th>checksums</th>\n",
       "      <th>copyrightText</th>\n",
       "      <th>downloadLocation</th>\n",
       "      <th>externalRefs</th>\n",
       "      <th>hasFiles</th>\n",
       "      <th>licenseConcluded</th>\n",
       "      <th>licenseDeclared</th>\n",
       "      <th>...</th>\n",
       "      <th>relationships</th>\n",
       "      <th>description</th>\n",
       "      <th>licenseComments</th>\n",
       "      <th>originator</th>\n",
       "      <th>packageFileName</th>\n",
       "      <th>packageVerificationCode</th>\n",
       "      <th>sourceInfo</th>\n",
       "      <th>summary</th>\n",
       "      <th>supplier</th>\n",
       "      <th>versionInfo</th>\n",
       "    </tr>\n",
       "  </thead>\n",
       "  <tbody>\n",
       "    <tr>\n",
       "      <th>0</th>\n",
       "      <td>&lt;http://spdx.org/spdxdocs/spdx-example-444504E...</td>\n",
       "      <td></td>\n",
       "      <td></td>\n",
       "      <td></td>\n",
       "      <td>NOASSERTION</td>\n",
       "      <td>spdx:noassertion</td>\n",
       "      <td></td>\n",
       "      <td></td>\n",
       "      <td>spdx:noassertion</td>\n",
       "      <td>spdx:noassertion</td>\n",
       "      <td>...</td>\n",
       "      <td></td>\n",
       "      <td>NaN</td>\n",
       "      <td>NaN</td>\n",
       "      <td>NaN</td>\n",
       "      <td>NaN</td>\n",
       "      <td>NaN</td>\n",
       "      <td>NaN</td>\n",
       "      <td>NaN</td>\n",
       "      <td>NaN</td>\n",
       "      <td>NaN</td>\n",
       "    </tr>\n",
       "    <tr>\n",
       "      <th>1</th>\n",
       "      <td>&lt;http://spdx.org/spdxdocs/spdx-example-444504E...</td>\n",
       "      <td>Nf79eb74f00b4449e8d1b4c3dc68ec03a, Nf79eb74f00...</td>\n",
       "      <td>The GNU C Library is free software.  See the f...</td>\n",
       "      <td>Nb715d9c9b51945529fef4b45efba76b2, Nb715d9c9b5...</td>\n",
       "      <td>Copyright 2008-2010 John Smith</td>\n",
       "      <td>http://ftp.gnu.org/gnu/glibc/glibc-ports-2.15....</td>\n",
       "      <td>Na44ccbec217244cab06662c07980290d, Na44ccbec21...</td>\n",
       "      <td></td>\n",
       "      <td>_:N5fc6bacd8a704374a631f6cb08711531</td>\n",
       "      <td>_:Na23be0e02e364de0bd90e71399ff8842</td>\n",
       "      <td>...</td>\n",
       "      <td>N5161c81fb5274b42a7b3841864ab231c, N090bd4f4e4...</td>\n",
       "      <td>The GNU C Library defines functions that are s...</td>\n",
       "      <td>The license for this project changed with the ...</td>\n",
       "      <td>Organization: ExampleCodeInspect (contact@exam...</td>\n",
       "      <td>glibc-2.11.1.tar.gz</td>\n",
       "      <td>_:Nbbbe916cf90e414f943c029b53a1d4f6</td>\n",
       "      <td>uses glibc-2_11-branch from git://sourceware.o...</td>\n",
       "      <td>GNU C library.</td>\n",
       "      <td>Person: Jane Doe (jane.doe@example.com)</td>\n",
       "      <td>2.11.1</td>\n",
       "    </tr>\n",
       "    <tr>\n",
       "      <th>2</th>\n",
       "      <td>&lt;http://spdx.org/spdxdocs/spdx-example-444504E...</td>\n",
       "      <td></td>\n",
       "      <td></td>\n",
       "      <td>N92757495b7b6443e994f5eecc3bf3f68</td>\n",
       "      <td>Copyright Saxonica Ltd</td>\n",
       "      <td>https://sourceforge.net/projects/saxon/files/S...</td>\n",
       "      <td></td>\n",
       "      <td></td>\n",
       "      <td>&lt;http://spdx.org/licenses/MPL-1.0&gt;</td>\n",
       "      <td>&lt;http://spdx.org/licenses/MPL-1.0&gt;</td>\n",
       "      <td>...</td>\n",
       "      <td></td>\n",
       "      <td>The Saxon package is a collection of tools for...</td>\n",
       "      <td>Other versions available for a commercial license</td>\n",
       "      <td>NaN</td>\n",
       "      <td>saxonB-8.8.zip</td>\n",
       "      <td>NaN</td>\n",
       "      <td>NaN</td>\n",
       "      <td>NaN</td>\n",
       "      <td>NaN</td>\n",
       "      <td>8.8</td>\n",
       "    </tr>\n",
       "    <tr>\n",
       "      <th>3</th>\n",
       "      <td>&lt;http://spdx.org/spdxdocs/spdx-example-444504E...</td>\n",
       "      <td></td>\n",
       "      <td></td>\n",
       "      <td></td>\n",
       "      <td>NOASSERTION</td>\n",
       "      <td>https://search.maven.org/remotecontent?filepat...</td>\n",
       "      <td>Nea98d4ba0a81479b85c993346125c788</td>\n",
       "      <td></td>\n",
       "      <td>spdx:noassertion</td>\n",
       "      <td>spdx:noassertion</td>\n",
       "      <td>...</td>\n",
       "      <td></td>\n",
       "      <td>NaN</td>\n",
       "      <td>NaN</td>\n",
       "      <td>NaN</td>\n",
       "      <td>NaN</td>\n",
       "      <td>NaN</td>\n",
       "      <td>NaN</td>\n",
       "      <td>NaN</td>\n",
       "      <td>NaN</td>\n",
       "      <td>3.12.0</td>\n",
       "    </tr>\n",
       "  </tbody>\n",
       "</table>\n",
       "<p>4 rows × 22 columns</p>\n",
       "</div>"
      ],
      "text/plain": [
       "                                             package  \\\n",
       "0  <http://spdx.org/spdxdocs/spdx-example-444504E...   \n",
       "1  <http://spdx.org/spdxdocs/spdx-example-444504E...   \n",
       "2  <http://spdx.org/spdxdocs/spdx-example-444504E...   \n",
       "3  <http://spdx.org/spdxdocs/spdx-example-444504E...   \n",
       "\n",
       "                                         annotations  \\\n",
       "0                                                      \n",
       "1  Nf79eb74f00b4449e8d1b4c3dc68ec03a, Nf79eb74f00...   \n",
       "2                                                      \n",
       "3                                                      \n",
       "\n",
       "                                    attributionTexts  \\\n",
       "0                                                      \n",
       "1  The GNU C Library is free software.  See the f...   \n",
       "2                                                      \n",
       "3                                                      \n",
       "\n",
       "                                           checksums  \\\n",
       "0                                                      \n",
       "1  Nb715d9c9b51945529fef4b45efba76b2, Nb715d9c9b5...   \n",
       "2                  N92757495b7b6443e994f5eecc3bf3f68   \n",
       "3                                                      \n",
       "\n",
       "                    copyrightText  \\\n",
       "0                     NOASSERTION   \n",
       "1  Copyright 2008-2010 John Smith   \n",
       "2          Copyright Saxonica Ltd   \n",
       "3                     NOASSERTION   \n",
       "\n",
       "                                    downloadLocation  \\\n",
       "0                                   spdx:noassertion   \n",
       "1  http://ftp.gnu.org/gnu/glibc/glibc-ports-2.15....   \n",
       "2  https://sourceforge.net/projects/saxon/files/S...   \n",
       "3  https://search.maven.org/remotecontent?filepat...   \n",
       "\n",
       "                                        externalRefs hasFiles  \\\n",
       "0                                                               \n",
       "1  Na44ccbec217244cab06662c07980290d, Na44ccbec21...            \n",
       "2                                                               \n",
       "3                  Nea98d4ba0a81479b85c993346125c788            \n",
       "\n",
       "                      licenseConcluded                      licenseDeclared  \\\n",
       "0                     spdx:noassertion                     spdx:noassertion   \n",
       "1  _:N5fc6bacd8a704374a631f6cb08711531  _:Na23be0e02e364de0bd90e71399ff8842   \n",
       "2   <http://spdx.org/licenses/MPL-1.0>   <http://spdx.org/licenses/MPL-1.0>   \n",
       "3                     spdx:noassertion                     spdx:noassertion   \n",
       "\n",
       "   ...                                      relationships  \\\n",
       "0  ...                                                      \n",
       "1  ...  N5161c81fb5274b42a7b3841864ab231c, N090bd4f4e4...   \n",
       "2  ...                                                      \n",
       "3  ...                                                      \n",
       "\n",
       "                                         description  \\\n",
       "0                                                NaN   \n",
       "1  The GNU C Library defines functions that are s...   \n",
       "2  The Saxon package is a collection of tools for...   \n",
       "3                                                NaN   \n",
       "\n",
       "                                     licenseComments  \\\n",
       "0                                                NaN   \n",
       "1  The license for this project changed with the ...   \n",
       "2  Other versions available for a commercial license   \n",
       "3                                                NaN   \n",
       "\n",
       "                                          originator      packageFileName  \\\n",
       "0                                                NaN                  NaN   \n",
       "1  Organization: ExampleCodeInspect (contact@exam...  glibc-2.11.1.tar.gz   \n",
       "2                                                NaN       saxonB-8.8.zip   \n",
       "3                                                NaN                  NaN   \n",
       "\n",
       "               packageVerificationCode  \\\n",
       "0                                  NaN   \n",
       "1  _:Nbbbe916cf90e414f943c029b53a1d4f6   \n",
       "2                                  NaN   \n",
       "3                                  NaN   \n",
       "\n",
       "                                          sourceInfo         summary  \\\n",
       "0                                                NaN             NaN   \n",
       "1  uses glibc-2_11-branch from git://sourceware.o...  GNU C library.   \n",
       "2                                                NaN             NaN   \n",
       "3                                                NaN             NaN   \n",
       "\n",
       "                                  supplier versionInfo  \n",
       "0                                      NaN         NaN  \n",
       "1  Person: Jane Doe (jane.doe@example.com)      2.11.1  \n",
       "2                                      NaN         8.8  \n",
       "3                                      NaN      3.12.0  \n",
       "\n",
       "[4 rows x 22 columns]"
      ]
     },
     "execution_count": 18,
     "metadata": {},
     "output_type": "execute_result"
    }
   ],
   "source": [
    "#| hide\n",
    "get_package_data(kg)"
   ]
  },
  {
   "cell_type": "code",
   "execution_count": 19,
   "id": "584d9813",
   "metadata": {},
   "outputs": [],
   "source": [
    "#| export\n",
    "def get_package_graph(kg:KnowledgeGraph #Knowledge graph to query from\n",
    "                      ) -> KnowledgeGraph: #Return result to knowledge graph\n",
    "    \"\"\"\n",
    "    Construct a subgraph of the package data\n",
    "    \"\"\"\n",
    "    namespaces = {\n",
    "        \"spdx\": \"http://spdx.org/rdf/terms#\"\n",
    "    }   \n",
    "\n",
    "    subgraph = kglab.KnowledgeGraph(\n",
    "        namespaces = namespaces,\n",
    "    )   \n",
    "\n",
    "    query = \"\"\"\n",
    "    PREFIX spdx:<http://spdx.org/rdf/terms#>\n",
    "    CONSTRUCT {\n",
    "        ?package rdf:type spdx:Package .\n",
    "        ?package spdx:annotation ?annotation .\n",
    "        ?package spdx:attributionText ?attributionText .\n",
    "        ?package spdx:builtDate ?buildDate .\n",
    "        ?package spdx:checksum ?checksum .\n",
    "        ?package spdx:comment ?comment .\n",
    "        ?package spdx:copyrightText ?copyrightText .\n",
    "        ?package spdx:description ?description .\n",
    "        ?package spdx:downloadLocation ?downloadLocation .\n",
    "        ?package spdx:externalRef ?externalRef .\n",
    "        ?package spdx:filesAnalyed ?filesAnalyzed .\n",
    "        ?package spdx:hasFile ?hasFile .\n",
    "        ?package spdx:homepage ?homepage .\n",
    "        ?package spdx:licenseComments ?licenseComments .\n",
    "        ?package spdx:licenseConcluded ?licenseConcluded .\n",
    "        ?package spdx:licenseDeclared ?licenseDeclared .\n",
    "        ?package spdx:licenseInfoFromFile ?licenseInfoFromFile .\n",
    "        ?package spdx:name ?name .\n",
    "        ?package spdx:originator ?originator .\n",
    "        ?package spdx:packageFileName ?packageFileName .\n",
    "        ?package spdx:packageVerificationCode ?packageVerificationCode .\n",
    "        ?package spdx:primaryPackagePurpose ?primaryPackagePurpose .\n",
    "        ?package spdx:releaseDate ?releaseDate .\n",
    "        ?package spdx:sourceInfo ?sourceInfo .\n",
    "        ?package spdx:summary ?summary .\n",
    "        ?package spdx:supplier ?supplier .\n",
    "        ?package spdx:validUntilDate ?validUntilDate .\n",
    "        ?package spdx:versionInfo ?versionInfo .\n",
    "        ?package spdx:relationship ?relationship .\n",
    "    }   \n",
    "    WHERE {\n",
    "        ?package rdf:type spdx:Package .\n",
    "        OPTIONAL { ?package spdx:annotation ?annotation . }\n",
    "        OPTIONAL { ?package spdx:attributionText ?attributionText . }\n",
    "        OPTIONAL { ?package spdx:attributionText ?attributionText . }\n",
    "        OPTIONAL { ?package spdx:builtDate ?buildDate . }\n",
    "        OPTIONAL { ?package spdx:checksum ?checksum . }\n",
    "        OPTIONAL { ?package spdx:comment ?comment . }\n",
    "        OPTIONAL { ?package spdx:copyrightText ?copyrightText . }\n",
    "        OPTIONAL { ?package spdx:description ?description . }\n",
    "        OPTIONAL { ?package spdx:downloadLocation ?downloadLocation . }\n",
    "        OPTIONAL { ?package spdx:externalRef ?externalRef . }\n",
    "        OPTIONAL { ?package spdx:filesAnalyed ?filesAnalyzed . }\n",
    "        OPTIONAL { ?package spdx:hasFile ?hasFile . }\n",
    "        OPTIONAL { ?package spdx:homepage ?homepage . }\n",
    "        OPTIONAL { ?package spdx:licenseComments ?licenseComments . }\n",
    "        OPTIONAL { ?package spdx:licenseConcluded ?licenseConcluded . }\n",
    "        OPTIONAL { ?package spdx:licenseDeclared ?licenseDeclared . }\n",
    "        OPTIONAL { ?package spdx:licenseInfoFromFile ?licenseInfoFromFile . }\n",
    "        OPTIONAL { ?package spdx:name ?name . }\n",
    "        OPTIONAL { ?package spdx:originator ?originator . }\n",
    "        OPTIONAL { ?package spdx:packageFileName ?packageFileName . }\n",
    "        OPTIONAL { ?package spdx:packageVerificationCode ?packageVerificationCode . }\n",
    "        OPTIONAL { ?package spdx:primaryPackagePurpose ?primaryPackagePurpose . }\n",
    "        OPTIONAL { ?package spdx:releaseDate ?releaseDate . }\n",
    "        OPTIONAL { ?package spdx:sourceInfo ?sourceInfo . }\n",
    "        OPTIONAL { ?package spdx:summary ?summary . }\n",
    "        OPTIONAL { ?package spdx:supplier ?supplier . }\n",
    "        OPTIONAL { ?package spdx:validUntilDate ?validUntilDate . }\n",
    "        OPTIONAL { ?package spdx:versionInfo ?versionInfo . }\n",
    "        OPTIONAL { ?package spdx:relationship ?relationship . }\n",
    "    }\n",
    "    GROUP BY ?package\n",
    "    \"\"\"\n",
    "    for row in kg.query(query):\n",
    "        s, p, o = row\n",
    "        subgraph.add(s, p, o)\n",
    "\n",
    "    return subgraph # Return the subgraph"
   ]
  },
  {
   "cell_type": "markdown",
   "id": "295e1015-16a2-4094-b265-58db72f9dbe5",
   "metadata": {},
   "source": [
    "## Relationships"
   ]
  },
  {
   "cell_type": "code",
   "execution_count": 20,
   "id": "0a6111ca",
   "metadata": {},
   "outputs": [],
   "source": [
    "#| export\n",
    "def relationship_schema(kg : KnowledgeGraph #Knowledge graph to query from\n",
    "                        ) -> DataFrame: #Return result to dataframe\n",
    "    \"\"\"\n",
    "    Return the schema for the relationships\n",
    "    \"\"\"\n",
    "\n",
    "    query = \"\"\"\n",
    "    PREFIX spdx:<http://spdx.org/rdf/terms#>\n",
    "    SELECT DISTINCT ?property\n",
    "    WHERE {\n",
    "    ?file rdf:type spdx:Relationship .\n",
    "    ?file ?property ?value .\n",
    "    }\n",
    "    \"\"\"\n",
    "\n",
    "\n",
    "    return kg.query_as_df(query)\n"
   ]
  },
  {
   "cell_type": "code",
   "execution_count": 21,
   "id": "d4a44c1a-fd66-44c6-9a97-3cb6edfd42bf",
   "metadata": {},
   "outputs": [
    {
     "data": {
      "text/html": [
       "<div>\n",
       "<style scoped>\n",
       "    .dataframe tbody tr th:only-of-type {\n",
       "        vertical-align: middle;\n",
       "    }\n",
       "\n",
       "    .dataframe tbody tr th {\n",
       "        vertical-align: top;\n",
       "    }\n",
       "\n",
       "    .dataframe thead th {\n",
       "        text-align: right;\n",
       "    }\n",
       "</style>\n",
       "<table border=\"1\" class=\"dataframe\">\n",
       "  <thead>\n",
       "    <tr style=\"text-align: right;\">\n",
       "      <th></th>\n",
       "      <th>property</th>\n",
       "    </tr>\n",
       "  </thead>\n",
       "  <tbody>\n",
       "    <tr>\n",
       "      <th>0</th>\n",
       "      <td>rdf:type</td>\n",
       "    </tr>\n",
       "    <tr>\n",
       "      <th>1</th>\n",
       "      <td>spdx:relationshipType</td>\n",
       "    </tr>\n",
       "    <tr>\n",
       "      <th>2</th>\n",
       "      <td>spdx:relatedSpdxElement</td>\n",
       "    </tr>\n",
       "  </tbody>\n",
       "</table>\n",
       "</div>"
      ],
      "text/plain": [
       "                  property\n",
       "0                 rdf:type\n",
       "1    spdx:relationshipType\n",
       "2  spdx:relatedSpdxElement"
      ]
     },
     "execution_count": 21,
     "metadata": {},
     "output_type": "execute_result"
    }
   ],
   "source": [
    "#| hide\n",
    "relationship_schema(kg)"
   ]
  },
  {
   "cell_type": "code",
   "execution_count": 22,
   "id": "0859e210",
   "metadata": {},
   "outputs": [],
   "source": [
    "#| export\n",
    "def get_relationship_data(kg:KnowledgeGraph #Knowledge graph to query from\n",
    "                          ) -> DataFrame: #Return result to dataframe\n",
    "    \n",
    "    query = \"\"\"\n",
    "    PREFIX spdx:<http://spdx.org/rdf/terms#>\n",
    "    SELECT ?element ?elementType ?relationshipType ?relatedElement ?relatedElementType\n",
    "    WHERE {\n",
    "    ?element spdx:relationship ?relationship .\n",
    "    ?element rdf:type ?elementType .\n",
    "    ?relationship spdx:relatedSpdxElement ?relatedElement .\n",
    "    ?relationship spdx:relationshipType ?relationshipType .\n",
    "    ?relatedElement rdf:type ?relatedElementType .\n",
    "    }\n",
    "    \"\"\"\n",
    "\n",
    "    return kg.query_as_df(query)"
   ]
  },
  {
   "cell_type": "code",
   "execution_count": 23,
   "id": "5bfc5279-fb99-477b-bace-6eff6430c130",
   "metadata": {},
   "outputs": [
    {
     "data": {
      "text/html": [
       "<div>\n",
       "<style scoped>\n",
       "    .dataframe tbody tr th:only-of-type {\n",
       "        vertical-align: middle;\n",
       "    }\n",
       "\n",
       "    .dataframe tbody tr th {\n",
       "        vertical-align: top;\n",
       "    }\n",
       "\n",
       "    .dataframe thead th {\n",
       "        text-align: right;\n",
       "    }\n",
       "</style>\n",
       "<table border=\"1\" class=\"dataframe\">\n",
       "  <thead>\n",
       "    <tr style=\"text-align: right;\">\n",
       "      <th></th>\n",
       "      <th>element</th>\n",
       "      <th>elementType</th>\n",
       "      <th>relationshipType</th>\n",
       "      <th>relatedElement</th>\n",
       "      <th>relatedElementType</th>\n",
       "    </tr>\n",
       "  </thead>\n",
       "  <tbody>\n",
       "    <tr>\n",
       "      <th>0</th>\n",
       "      <td>&lt;http://spdx.org/spdxdocs/spdx-example-444504E...</td>\n",
       "      <td>spdx:File</td>\n",
       "      <td>spdx:relationshipType_contains</td>\n",
       "      <td>&lt;http://spdx.org/spdxdocs/spdx-example-444504E...</td>\n",
       "      <td>spdx:Package</td>\n",
       "    </tr>\n",
       "    <tr>\n",
       "      <th>1</th>\n",
       "      <td>&lt;http://spdx.org/spdxdocs/spdx-example-444504E...</td>\n",
       "      <td>spdx:Package</td>\n",
       "      <td>spdx:relationshipType_contains</td>\n",
       "      <td>&lt;http://spdx.org/spdxdocs/spdx-example-444504E...</td>\n",
       "      <td>spdx:File</td>\n",
       "    </tr>\n",
       "    <tr>\n",
       "      <th>2</th>\n",
       "      <td>&lt;http://spdx.org/spdxdocs/spdx-example-444504E...</td>\n",
       "      <td>spdx:Package</td>\n",
       "      <td>spdx:relationshipType_dynamicLink</td>\n",
       "      <td>&lt;http://spdx.org/spdxdocs/spdx-example-444504E...</td>\n",
       "      <td>spdx:Package</td>\n",
       "    </tr>\n",
       "    <tr>\n",
       "      <th>3</th>\n",
       "      <td>&lt;http://spdx.org/spdxdocs/spdx-example-444504E...</td>\n",
       "      <td>spdx:Package</td>\n",
       "      <td>spdx:relationshipType_contains</td>\n",
       "      <td>&lt;http://spdx.org/spdxdocs/spdx-example-444504E...</td>\n",
       "      <td>spdx:File</td>\n",
       "    </tr>\n",
       "    <tr>\n",
       "      <th>4</th>\n",
       "      <td>&lt;http://spdx.org/spdxdocs/spdx-example-444504E...</td>\n",
       "      <td>spdx:Package</td>\n",
       "      <td>spdx:relationshipType_contains</td>\n",
       "      <td>&lt;http://spdx.org/spdxdocs/spdx-example-444504E...</td>\n",
       "      <td>spdx:File</td>\n",
       "    </tr>\n",
       "    <tr>\n",
       "      <th>5</th>\n",
       "      <td>&lt;http://spdx.org/spdxdocs/spdx-example-444504E...</td>\n",
       "      <td>spdx:SpdxDocument</td>\n",
       "      <td>spdx:relationshipType_contains</td>\n",
       "      <td>&lt;http://spdx.org/spdxdocs/spdx-example-444504E...</td>\n",
       "      <td>spdx:Package</td>\n",
       "    </tr>\n",
       "    <tr>\n",
       "      <th>6</th>\n",
       "      <td>&lt;http://spdx.org/spdxdocs/spdx-example-444504E...</td>\n",
       "      <td>spdx:File</td>\n",
       "      <td>spdx:relationshipType_generatedFrom</td>\n",
       "      <td>&lt;http://spdx.org/spdxdocs/spdx-example-444504E...</td>\n",
       "      <td>spdx:Package</td>\n",
       "    </tr>\n",
       "    <tr>\n",
       "      <th>7</th>\n",
       "      <td>&lt;http://spdx.org/spdxdocs/spdx-example-444504E...</td>\n",
       "      <td>spdx:SpdxDocument</td>\n",
       "      <td>spdx:relationshipType_describes</td>\n",
       "      <td>&lt;http://spdx.org/spdxdocs/spdx-example-444504E...</td>\n",
       "      <td>spdx:File</td>\n",
       "    </tr>\n",
       "    <tr>\n",
       "      <th>8</th>\n",
       "      <td>&lt;http://spdx.org/spdxdocs/spdx-example-444504E...</td>\n",
       "      <td>spdx:SpdxDocument</td>\n",
       "      <td>spdx:relationshipType_describes</td>\n",
       "      <td>&lt;http://spdx.org/spdxdocs/spdx-example-444504E...</td>\n",
       "      <td>spdx:Package</td>\n",
       "    </tr>\n",
       "  </tbody>\n",
       "</table>\n",
       "</div>"
      ],
      "text/plain": [
       "                                             element        elementType  \\\n",
       "0  <http://spdx.org/spdxdocs/spdx-example-444504E...          spdx:File   \n",
       "1  <http://spdx.org/spdxdocs/spdx-example-444504E...       spdx:Package   \n",
       "2  <http://spdx.org/spdxdocs/spdx-example-444504E...       spdx:Package   \n",
       "3  <http://spdx.org/spdxdocs/spdx-example-444504E...       spdx:Package   \n",
       "4  <http://spdx.org/spdxdocs/spdx-example-444504E...       spdx:Package   \n",
       "5  <http://spdx.org/spdxdocs/spdx-example-444504E...  spdx:SpdxDocument   \n",
       "6  <http://spdx.org/spdxdocs/spdx-example-444504E...          spdx:File   \n",
       "7  <http://spdx.org/spdxdocs/spdx-example-444504E...  spdx:SpdxDocument   \n",
       "8  <http://spdx.org/spdxdocs/spdx-example-444504E...  spdx:SpdxDocument   \n",
       "\n",
       "                      relationshipType  \\\n",
       "0       spdx:relationshipType_contains   \n",
       "1       spdx:relationshipType_contains   \n",
       "2    spdx:relationshipType_dynamicLink   \n",
       "3       spdx:relationshipType_contains   \n",
       "4       spdx:relationshipType_contains   \n",
       "5       spdx:relationshipType_contains   \n",
       "6  spdx:relationshipType_generatedFrom   \n",
       "7      spdx:relationshipType_describes   \n",
       "8      spdx:relationshipType_describes   \n",
       "\n",
       "                                      relatedElement relatedElementType  \n",
       "0  <http://spdx.org/spdxdocs/spdx-example-444504E...       spdx:Package  \n",
       "1  <http://spdx.org/spdxdocs/spdx-example-444504E...          spdx:File  \n",
       "2  <http://spdx.org/spdxdocs/spdx-example-444504E...       spdx:Package  \n",
       "3  <http://spdx.org/spdxdocs/spdx-example-444504E...          spdx:File  \n",
       "4  <http://spdx.org/spdxdocs/spdx-example-444504E...          spdx:File  \n",
       "5  <http://spdx.org/spdxdocs/spdx-example-444504E...       spdx:Package  \n",
       "6  <http://spdx.org/spdxdocs/spdx-example-444504E...       spdx:Package  \n",
       "7  <http://spdx.org/spdxdocs/spdx-example-444504E...          spdx:File  \n",
       "8  <http://spdx.org/spdxdocs/spdx-example-444504E...       spdx:Package  "
      ]
     },
     "execution_count": 23,
     "metadata": {},
     "output_type": "execute_result"
    }
   ],
   "source": [
    "#| hide\n",
    "get_relationship_data(kg)"
   ]
  },
  {
   "cell_type": "code",
   "execution_count": 24,
   "id": "9c034bb7",
   "metadata": {},
   "outputs": [],
   "source": [
    "#| export\n",
    "def get_relationship_graph(kg: KnowledgeGraph #Knowledge graph to query from\n",
    "                           ) -> KnowledgeGraph: #Return result to knowledge graph\n",
    "    \"\"\"\n",
    "    Construct a subgraph of the relationship data\n",
    "    \"\"\"\n",
    "\n",
    "    namespaces = {\n",
    "    \"spdx\": \"http://spdx.org/rdf/terms#\",\n",
    "    }\n",
    "    subgraph = kglab.KnowledgeGraph(\n",
    "        namespaces = namespaces,\n",
    "    )\n",
    "    query = \"\"\"\n",
    "    PREFIX spdx:<http://spdx.org/rdf/terms#>\n",
    "    CONSTRUCT {\n",
    "    ?element spdx:relationship ?relationship .\n",
    "    ?element rdf:type ?elementType .\n",
    "    ?relationship spdx:relatedSpdxElement ?relatedElement .\n",
    "    ?relationship spdx:relationshipType ?relationshipType .\n",
    "    ?relatedElement rdf:type ?relatedElementType .\n",
    "    }\n",
    "    WHERE {\n",
    "    ?element spdx:relationship ?relationship .\n",
    "    ?element rdf:type ?elementType .\n",
    "    ?relationship spdx:relatedSpdxElement ?relatedElement .\n",
    "    ?relationship spdx:relationshipType ?relationshipType .\n",
    "    ?relatedElement rdf:type ?relatedElementType .\n",
    "    }\n",
    "    \"\"\"\n",
    "\n",
    "    for row in kg.query(query):\n",
    "        s, p, o = row\n",
    "        subgraph.add(s, p, o)\n",
    "\n",
    "    return subgraph"
   ]
  },
  {
   "cell_type": "code",
   "execution_count": 25,
   "id": "66523f91",
   "metadata": {},
   "outputs": [
    {
     "data": {
      "text/plain": [
       "<kglab.kglab.KnowledgeGraph at 0x14857ac10>"
      ]
     },
     "execution_count": 25,
     "metadata": {},
     "output_type": "execute_result"
    }
   ],
   "source": [
    "#| hide\n",
    "get_relationship_graph(kg)"
   ]
  },
  {
   "cell_type": "markdown",
   "id": "52a28f0f",
   "metadata": {},
   "source": [
    "## Quality Metrics"
   ]
  },
  {
   "cell_type": "code",
   "execution_count": 26,
   "id": "c0d7d543",
   "metadata": {},
   "outputs": [],
   "source": [
    "#| export\n",
    "import pandas as pd\n",
    "from pandas import DataFrame\n",
    "import json, glob\n",
    "from os.path import join\n",
    "from typing import Tuple\n",
    "\n",
    "def sbomqs_scores(\n",
    "    sbomqs_dir: str # Directory for the json files generated by the sbomqs tool\n",
    "    ) -> Tuple[ DataFrame, DataFrame]: # Return two DataFrames, one with the information about each file in `sbomqs_dir` and another with scores for each feature in the SBOM quality categories for all files\n",
    "    \"\"\"\n",
    "    Create DataFrame with quality scores for the SBOM generation tools.\n",
    "    \"\"\"\n",
    "    \n",
    "    fname_list = glob.glob(join(sbomqs_dir,\"*.json\"))\n",
    "\n",
    "    sbomqs_dct = {       \n",
    "                'gen_tool_name':[],            \n",
    "                'avg_score':[],\n",
    "                'num_components':[],  \n",
    "                'gen_tool_version':[],\n",
    "                'spec_version':[],                      \n",
    "                'file_name':[],\n",
    "                'scores': [],\n",
    "                }\n",
    "\n",
    "    for fname in fname_list:\n",
    "        data = json.loads(open(fname, \"r\").read())['files'][0]\n",
    "        for col in sbomqs_dct.keys():        \n",
    "            sbomqs_dct[col].append(data[col]) \n",
    "        \n",
    "    sbomqs_df = pd.DataFrame.from_dict(sbomqs_dct)\n",
    "    sbomqs_df.sort_values(by=['avg_score', 'num_components'], ascending=False, inplace=True)\n",
    "    \n",
    "    # get score details\n",
    "    feature_qscores = pd.concat([ pd.DataFrame.from_dict(row['scores']).assign(tool=row['gen_tool_name']) \n",
    "                              for _, row in sbomqs_df.iterrows()])\n",
    "    \n",
    "    sbomqs_df.drop('scores', axis=1, inplace=True)\n",
    "    \n",
    "    return sbomqs_df, feature_qscores"
   ]
  },
  {
   "cell_type": "code",
   "execution_count": 27,
   "id": "7c41b41d",
   "metadata": {},
   "outputs": [],
   "source": [
    "#| hide\n",
    "# Example of how to get SBOM quality scores based on json files generated by [sbomqs](https://github.com/interlynk-io/sbomqs) tool.\n",
    "#\n",
    "# The input is the path for json files generated using the sbomqs by the following command:\n",
    "#       $ sbomqs score {sbom_name_generated_by_any_tool.json}  --json >  {quality_score_file_name}.json\n",
    "#       where `{sbom_name_generated_by_any_tool.json}` is the name of the SBOM file generated by any tool you want to analyze, \n",
    "#       and `{quality_score_file_name}.json` is the name of the file that will contain the quality scores.\n",
    "#\n",
    "# The output of the function `sbomqs_scores` are two dataframes `sbomqs_df` and `feature_qscores`.\n",
    "\n",
    "sbomqs_df, feature_qscores = sbomqs_scores(\"../../data/tools_cs1/sbomqs/\")"
   ]
  },
  {
   "cell_type": "code",
   "execution_count": 28,
   "id": "9357b9e6",
   "metadata": {},
   "outputs": [
    {
     "data": {
      "text/html": [
       "<div>\n",
       "<style scoped>\n",
       "    .dataframe tbody tr th:only-of-type {\n",
       "        vertical-align: middle;\n",
       "    }\n",
       "\n",
       "    .dataframe tbody tr th {\n",
       "        vertical-align: top;\n",
       "    }\n",
       "\n",
       "    .dataframe thead th {\n",
       "        text-align: right;\n",
       "    }\n",
       "</style>\n",
       "<table border=\"1\" class=\"dataframe\">\n",
       "  <thead>\n",
       "    <tr style=\"text-align: right;\">\n",
       "      <th></th>\n",
       "      <th>gen_tool_name</th>\n",
       "      <th>avg_score</th>\n",
       "      <th>num_components</th>\n",
       "      <th>gen_tool_version</th>\n",
       "      <th>spec_version</th>\n",
       "      <th>file_name</th>\n",
       "    </tr>\n",
       "  </thead>\n",
       "  <tbody>\n",
       "    <tr>\n",
       "      <th>1</th>\n",
       "      <td>cdxgen</td>\n",
       "      <td>7.424242</td>\n",
       "      <td>24</td>\n",
       "      <td>8.5.3</td>\n",
       "      <td>SPDX-2.2</td>\n",
       "      <td>pytorch-cdxgen-spdx22.json</td>\n",
       "    </tr>\n",
       "    <tr>\n",
       "      <th>3</th>\n",
       "      <td>tern</td>\n",
       "      <td>7.381047</td>\n",
       "      <td>181</td>\n",
       "      <td>2.12.0</td>\n",
       "      <td>SPDX-2.2</td>\n",
       "      <td>di-pytorch-tern-spdx22.json</td>\n",
       "    </tr>\n",
       "    <tr>\n",
       "      <th>5</th>\n",
       "      <td>FOSSA v0.12.0</td>\n",
       "      <td>7.301136</td>\n",
       "      <td>212</td>\n",
       "      <td></td>\n",
       "      <td>SPDX-2.3</td>\n",
       "      <td>pytorch-fossa-spdx23.json</td>\n",
       "    </tr>\n",
       "    <tr>\n",
       "      <th>8</th>\n",
       "      <td>bom</td>\n",
       "      <td>7.272727</td>\n",
       "      <td>1</td>\n",
       "      <td>v0.5.1</td>\n",
       "      <td>SPDX-2.3</td>\n",
       "      <td>pytorch-bom-spdx23.json</td>\n",
       "    </tr>\n",
       "    <tr>\n",
       "      <th>7</th>\n",
       "      <td>GitHub.com-Dependency-Graph</td>\n",
       "      <td>6.829988</td>\n",
       "      <td>231</td>\n",
       "      <td></td>\n",
       "      <td>SPDX-2.3</td>\n",
       "      <td>pytorch-gh-sbom-spdx23.json</td>\n",
       "    </tr>\n",
       "    <tr>\n",
       "      <th>0</th>\n",
       "      <td>syft</td>\n",
       "      <td>6.820443</td>\n",
       "      <td>201</td>\n",
       "      <td>0.83.1</td>\n",
       "      <td>SPDX-2.3</td>\n",
       "      <td>pytorch-syft-spdx23.json</td>\n",
       "    </tr>\n",
       "    <tr>\n",
       "      <th>6</th>\n",
       "      <td>trivy</td>\n",
       "      <td>6.774194</td>\n",
       "      <td>124</td>\n",
       "      <td>0.42.1</td>\n",
       "      <td>SPDX-2.3</td>\n",
       "      <td>pytorch-trivy-spdx23.json</td>\n",
       "    </tr>\n",
       "    <tr>\n",
       "      <th>2</th>\n",
       "      <td>Microsoft.SBOMTool</td>\n",
       "      <td>6.363636</td>\n",
       "      <td>308</td>\n",
       "      <td>1.1.2</td>\n",
       "      <td>SPDX-2.2</td>\n",
       "      <td>pytorch-sbomtool-spdx22.json</td>\n",
       "    </tr>\n",
       "    <tr>\n",
       "      <th>4</th>\n",
       "      <td>sbom4python</td>\n",
       "      <td>3.863636</td>\n",
       "      <td>0</td>\n",
       "      <td>0.9.1</td>\n",
       "      <td>SPDX-2.3</td>\n",
       "      <td>pytorch-sbom4python-spdx23.json</td>\n",
       "    </tr>\n",
       "  </tbody>\n",
       "</table>\n",
       "</div>"
      ],
      "text/plain": [
       "                 gen_tool_name  avg_score  num_components gen_tool_version  \\\n",
       "1                       cdxgen   7.424242              24            8.5.3   \n",
       "3                         tern   7.381047             181           2.12.0   \n",
       "5                FOSSA v0.12.0   7.301136             212                    \n",
       "8                          bom   7.272727               1           v0.5.1   \n",
       "7  GitHub.com-Dependency-Graph   6.829988             231                    \n",
       "0                         syft   6.820443             201           0.83.1   \n",
       "6                        trivy   6.774194             124           0.42.1   \n",
       "2           Microsoft.SBOMTool   6.363636             308            1.1.2   \n",
       "4                  sbom4python   3.863636               0            0.9.1   \n",
       "\n",
       "  spec_version                        file_name  \n",
       "1     SPDX-2.2       pytorch-cdxgen-spdx22.json  \n",
       "3     SPDX-2.2      di-pytorch-tern-spdx22.json  \n",
       "5     SPDX-2.3        pytorch-fossa-spdx23.json  \n",
       "8     SPDX-2.3          pytorch-bom-spdx23.json  \n",
       "7     SPDX-2.3      pytorch-gh-sbom-spdx23.json  \n",
       "0     SPDX-2.3         pytorch-syft-spdx23.json  \n",
       "6     SPDX-2.3        pytorch-trivy-spdx23.json  \n",
       "2     SPDX-2.2     pytorch-sbomtool-spdx22.json  \n",
       "4     SPDX-2.3  pytorch-sbom4python-spdx23.json  "
      ]
     },
     "execution_count": 28,
     "metadata": {},
     "output_type": "execute_result"
    }
   ],
   "source": [
    "#| hide\n",
    "# `sbomqs_df` is a DataFrame with the average quality scores for each tool also some metadata info about the tools and SBOMs generated.\n",
    "sbomqs_df"
   ]
  },
  {
   "cell_type": "code",
   "execution_count": 29,
   "id": "b023b2be",
   "metadata": {},
   "outputs": [
    {
     "data": {
      "text/html": [
       "<div>\n",
       "<style scoped>\n",
       "    .dataframe tbody tr th:only-of-type {\n",
       "        vertical-align: middle;\n",
       "    }\n",
       "\n",
       "    .dataframe tbody tr th {\n",
       "        vertical-align: top;\n",
       "    }\n",
       "\n",
       "    .dataframe thead th {\n",
       "        text-align: right;\n",
       "    }\n",
       "</style>\n",
       "<table border=\"1\" class=\"dataframe\">\n",
       "  <thead>\n",
       "    <tr style=\"text-align: right;\">\n",
       "      <th></th>\n",
       "      <th>category</th>\n",
       "      <th>feature</th>\n",
       "      <th>score</th>\n",
       "      <th>max_score</th>\n",
       "      <th>description</th>\n",
       "      <th>ignored</th>\n",
       "      <th>tool</th>\n",
       "    </tr>\n",
       "  </thead>\n",
       "  <tbody>\n",
       "    <tr>\n",
       "      <th>0</th>\n",
       "      <td>Structural</td>\n",
       "      <td>sbom_spec</td>\n",
       "      <td>10.0</td>\n",
       "      <td>10</td>\n",
       "      <td>provided sbom is in a supported sbom format of...</td>\n",
       "      <td>False</td>\n",
       "      <td>cdxgen</td>\n",
       "    </tr>\n",
       "    <tr>\n",
       "      <th>1</th>\n",
       "      <td>Structural</td>\n",
       "      <td>sbom_spec_version</td>\n",
       "      <td>10.0</td>\n",
       "      <td>10</td>\n",
       "      <td>provided sbom should be in supported spec vers...</td>\n",
       "      <td>False</td>\n",
       "      <td>cdxgen</td>\n",
       "    </tr>\n",
       "    <tr>\n",
       "      <th>2</th>\n",
       "      <td>Structural</td>\n",
       "      <td>sbom_spec_file_format</td>\n",
       "      <td>10.0</td>\n",
       "      <td>10</td>\n",
       "      <td>provided sbom should be in supported file form...</td>\n",
       "      <td>False</td>\n",
       "      <td>cdxgen</td>\n",
       "    </tr>\n",
       "    <tr>\n",
       "      <th>3</th>\n",
       "      <td>Structural</td>\n",
       "      <td>sbom_parsable</td>\n",
       "      <td>10.0</td>\n",
       "      <td>10</td>\n",
       "      <td>provided sbom is parsable</td>\n",
       "      <td>False</td>\n",
       "      <td>cdxgen</td>\n",
       "    </tr>\n",
       "    <tr>\n",
       "      <th>4</th>\n",
       "      <td>NTIA-minimum-elements</td>\n",
       "      <td>comp_with_supplier</td>\n",
       "      <td>0.0</td>\n",
       "      <td>10</td>\n",
       "      <td>0/24 have supplier names</td>\n",
       "      <td>False</td>\n",
       "      <td>cdxgen</td>\n",
       "    </tr>\n",
       "    <tr>\n",
       "      <th>...</th>\n",
       "      <td>...</td>\n",
       "      <td>...</td>\n",
       "      <td>...</td>\n",
       "      <td>...</td>\n",
       "      <td>...</td>\n",
       "      <td>...</td>\n",
       "      <td>...</td>\n",
       "    </tr>\n",
       "    <tr>\n",
       "      <th>17</th>\n",
       "      <td>Quality</td>\n",
       "      <td>comp_with_restrictive_licenses</td>\n",
       "      <td>0.0</td>\n",
       "      <td>10</td>\n",
       "      <td>N/A (no components)</td>\n",
       "      <td>True</td>\n",
       "      <td>sbom4python</td>\n",
       "    </tr>\n",
       "    <tr>\n",
       "      <th>18</th>\n",
       "      <td>Quality</td>\n",
       "      <td>comp_with_any_vuln_lookup_id</td>\n",
       "      <td>0.0</td>\n",
       "      <td>10</td>\n",
       "      <td>N/A (no components)</td>\n",
       "      <td>True</td>\n",
       "      <td>sbom4python</td>\n",
       "    </tr>\n",
       "    <tr>\n",
       "      <th>19</th>\n",
       "      <td>Quality</td>\n",
       "      <td>comp_with_multi_vuln_lookup_id</td>\n",
       "      <td>0.0</td>\n",
       "      <td>10</td>\n",
       "      <td>N/A (no components)</td>\n",
       "      <td>True</td>\n",
       "      <td>sbom4python</td>\n",
       "    </tr>\n",
       "    <tr>\n",
       "      <th>20</th>\n",
       "      <td>Quality</td>\n",
       "      <td>sbom_with_creator_and_version</td>\n",
       "      <td>10.0</td>\n",
       "      <td>10</td>\n",
       "      <td>1/1 tools have creator and version</td>\n",
       "      <td>False</td>\n",
       "      <td>sbom4python</td>\n",
       "    </tr>\n",
       "    <tr>\n",
       "      <th>21</th>\n",
       "      <td>Sharing</td>\n",
       "      <td>sbom_sharable</td>\n",
       "      <td>10.0</td>\n",
       "      <td>10</td>\n",
       "      <td>doc has a sharable license free 1 :: of 1</td>\n",
       "      <td>False</td>\n",
       "      <td>sbom4python</td>\n",
       "    </tr>\n",
       "  </tbody>\n",
       "</table>\n",
       "<p>198 rows × 7 columns</p>\n",
       "</div>"
      ],
      "text/plain": [
       "                 category                         feature  score  max_score  \\\n",
       "0              Structural                       sbom_spec   10.0         10   \n",
       "1              Structural               sbom_spec_version   10.0         10   \n",
       "2              Structural           sbom_spec_file_format   10.0         10   \n",
       "3              Structural                   sbom_parsable   10.0         10   \n",
       "4   NTIA-minimum-elements              comp_with_supplier    0.0         10   \n",
       "..                    ...                             ...    ...        ...   \n",
       "17                Quality  comp_with_restrictive_licenses    0.0         10   \n",
       "18                Quality    comp_with_any_vuln_lookup_id    0.0         10   \n",
       "19                Quality  comp_with_multi_vuln_lookup_id    0.0         10   \n",
       "20                Quality   sbom_with_creator_and_version   10.0         10   \n",
       "21                Sharing                   sbom_sharable   10.0         10   \n",
       "\n",
       "                                          description  ignored         tool  \n",
       "0   provided sbom is in a supported sbom format of...    False       cdxgen  \n",
       "1   provided sbom should be in supported spec vers...    False       cdxgen  \n",
       "2   provided sbom should be in supported file form...    False       cdxgen  \n",
       "3                           provided sbom is parsable    False       cdxgen  \n",
       "4                            0/24 have supplier names    False       cdxgen  \n",
       "..                                                ...      ...          ...  \n",
       "17                                N/A (no components)     True  sbom4python  \n",
       "18                                N/A (no components)     True  sbom4python  \n",
       "19                                N/A (no components)     True  sbom4python  \n",
       "20                 1/1 tools have creator and version    False  sbom4python  \n",
       "21          doc has a sharable license free 1 :: of 1    False  sbom4python  \n",
       "\n",
       "[198 rows x 7 columns]"
      ]
     },
     "execution_count": 29,
     "metadata": {},
     "output_type": "execute_result"
    }
   ],
   "source": [
    "#| hide\n",
    "\n",
    "# `feature_qscores` is a DataFrame with the quality scores for each feature in each category for all tools.\n",
    "feature_qscores"
   ]
  },
  {
   "cell_type": "code",
   "execution_count": 30,
   "id": "b66b7467",
   "metadata": {},
   "outputs": [],
   "source": [
    "#| export\n",
    "import numpy as np\n",
    "import pandas as pd\n",
    "from pandas import DataFrame\n",
    "\n",
    "def sbomqs_score_by_cat(\n",
    "    feature_qscores: DataFrame  # It is a DataFrame with the quality scores for each feature in each category for all tools.\n",
    "    ) -> DataFrame:             # Return a DataFrame with the average scores by categories for the SBOM generation tools.            \n",
    "    \"\"\"\n",
    "    Create a DataFrame with the average score by category for each SBOM generation tool\n",
    "    \"\"\"\n",
    "    \n",
    "    # average score by category\n",
    "    avg_score_by_cat = pd.pivot_table(feature_qscores, values='score', index=['category'], columns=['tool'], aggfunc=np.mean)\n",
    "\n",
    "    # Sort by NTIA-minimum-elements\n",
    "    id_sort = np.argsort(avg_score_by_cat.iloc[0,:].values, axis=-1, order=None)\n",
    "    avg_score_by_cat = avg_score_by_cat.iloc[:,id_sort[::-1]]\n",
    "    \n",
    "    # reset index \n",
    "    avg_score_by_cat.reset_index(inplace=True, level=0)\n",
    "\n",
    "    # show for each tool the average score by category\n",
    "    return avg_score_by_cat"
   ]
  },
  {
   "cell_type": "code",
   "execution_count": 31,
   "id": "f9025396",
   "metadata": {},
   "outputs": [
    {
     "data": {
      "text/html": [
       "<div>\n",
       "<style scoped>\n",
       "    .dataframe tbody tr th:only-of-type {\n",
       "        vertical-align: middle;\n",
       "    }\n",
       "\n",
       "    .dataframe tbody tr th {\n",
       "        vertical-align: top;\n",
       "    }\n",
       "\n",
       "    .dataframe thead th {\n",
       "        text-align: right;\n",
       "    }\n",
       "</style>\n",
       "<table border=\"1\" class=\"dataframe\">\n",
       "  <thead>\n",
       "    <tr style=\"text-align: right;\">\n",
       "      <th>tool</th>\n",
       "      <th>category</th>\n",
       "      <th>tern</th>\n",
       "      <th>FOSSA v0.12.0</th>\n",
       "      <th>Microsoft.SBOMTool</th>\n",
       "      <th>syft</th>\n",
       "      <th>trivy</th>\n",
       "      <th>cdxgen</th>\n",
       "      <th>bom</th>\n",
       "      <th>GitHub.com-Dependency-Graph</th>\n",
       "      <th>sbom4python</th>\n",
       "    </tr>\n",
       "  </thead>\n",
       "  <tbody>\n",
       "    <tr>\n",
       "      <th>0</th>\n",
       "      <td>NTIA-minimum-elements</td>\n",
       "      <td>9.415943</td>\n",
       "      <td>9.184636</td>\n",
       "      <td>8.576067</td>\n",
       "      <td>8.571429</td>\n",
       "      <td>8.502304</td>\n",
       "      <td>7.142857</td>\n",
       "      <td>7.142857</td>\n",
       "      <td>6.988250</td>\n",
       "      <td>2.857143</td>\n",
       "    </tr>\n",
       "    <tr>\n",
       "      <th>1</th>\n",
       "      <td>Quality</td>\n",
       "      <td>4.499866</td>\n",
       "      <td>4.172844</td>\n",
       "      <td>2.852505</td>\n",
       "      <td>4.285714</td>\n",
       "      <td>4.216590</td>\n",
       "      <td>5.238095</td>\n",
       "      <td>5.714286</td>\n",
       "      <td>5.003092</td>\n",
       "      <td>1.428571</td>\n",
       "    </tr>\n",
       "    <tr>\n",
       "      <th>2</th>\n",
       "      <td>Semantic</td>\n",
       "      <td>4.990792</td>\n",
       "      <td>5.707547</td>\n",
       "      <td>3.333333</td>\n",
       "      <td>3.349917</td>\n",
       "      <td>3.333333</td>\n",
       "      <td>8.888889</td>\n",
       "      <td>6.666667</td>\n",
       "      <td>5.440115</td>\n",
       "      <td>1.666667</td>\n",
       "    </tr>\n",
       "    <tr>\n",
       "      <th>3</th>\n",
       "      <td>Sharing</td>\n",
       "      <td>10.000000</td>\n",
       "      <td>10.000000</td>\n",
       "      <td>10.000000</td>\n",
       "      <td>10.000000</td>\n",
       "      <td>10.000000</td>\n",
       "      <td>10.000000</td>\n",
       "      <td>10.000000</td>\n",
       "      <td>10.000000</td>\n",
       "      <td>10.000000</td>\n",
       "    </tr>\n",
       "    <tr>\n",
       "      <th>4</th>\n",
       "      <td>Structural</td>\n",
       "      <td>10.000000</td>\n",
       "      <td>10.000000</td>\n",
       "      <td>10.000000</td>\n",
       "      <td>10.000000</td>\n",
       "      <td>10.000000</td>\n",
       "      <td>10.000000</td>\n",
       "      <td>10.000000</td>\n",
       "      <td>10.000000</td>\n",
       "      <td>10.000000</td>\n",
       "    </tr>\n",
       "  </tbody>\n",
       "</table>\n",
       "</div>"
      ],
      "text/plain": [
       "tool               category       tern  FOSSA v0.12.0  Microsoft.SBOMTool  \\\n",
       "0     NTIA-minimum-elements   9.415943       9.184636            8.576067   \n",
       "1                   Quality   4.499866       4.172844            2.852505   \n",
       "2                  Semantic   4.990792       5.707547            3.333333   \n",
       "3                   Sharing  10.000000      10.000000           10.000000   \n",
       "4                Structural  10.000000      10.000000           10.000000   \n",
       "\n",
       "tool       syft      trivy     cdxgen        bom  GitHub.com-Dependency-Graph  \\\n",
       "0      8.571429   8.502304   7.142857   7.142857                     6.988250   \n",
       "1      4.285714   4.216590   5.238095   5.714286                     5.003092   \n",
       "2      3.349917   3.333333   8.888889   6.666667                     5.440115   \n",
       "3     10.000000  10.000000  10.000000  10.000000                    10.000000   \n",
       "4     10.000000  10.000000  10.000000  10.000000                    10.000000   \n",
       "\n",
       "tool  sbom4python  \n",
       "0        2.857143  \n",
       "1        1.428571  \n",
       "2        1.666667  \n",
       "3       10.000000  \n",
       "4       10.000000  "
      ]
     },
     "execution_count": 31,
     "metadata": {},
     "output_type": "execute_result"
    }
   ],
   "source": [
    "#| hide\n",
    "sbomqs_score_by_cat(feature_qscores)"
   ]
  },
  {
   "cell_type": "markdown",
   "id": "8f27c309",
   "metadata": {},
   "source": []
  },
  {
   "cell_type": "markdown",
   "id": "40c1eee8-bc8c-405f-8d86-1f16f06c437c",
   "metadata": {},
   "source": [
    "## Visualization"
   ]
  },
  {
   "cell_type": "markdown",
   "id": "e4d60d7b",
   "metadata": {},
   "source": [
    "Functions to visualize graph results"
   ]
  },
  {
   "cell_type": "code",
   "execution_count": 32,
   "id": "2b249c02",
   "metadata": {},
   "outputs": [],
   "source": [
    "#| export\n",
    "import kglab\n",
    "def visualize_graph(kg:KnowledgeGraph, #Knowledge graph to query from\n",
    "                    VIS_STYLE: str={} #Optional, visualization style\n",
    "                    ):\n",
    "    \"\"\"\n",
    "    Visualize the knowledge graph\n",
    "    \"\"\"\n",
    "    if not VIS_STYLE:\n",
    "        VIS_STYLE = {\n",
    "            \"spdx\": {\n",
    "                \"color\": \"orange\",\n",
    "                \"size\": 40,\n",
    "            },\n",
    "            \"rdf\":{\n",
    "                \"color\": \"blue\",\n",
    "                \"size\": 30,\n",
    "            },\n",
    "            \"ptr\":{\n",
    "                \"color\": \"red\",\n",
    "                \"size\": 20,\n",
    "            },\n",
    "        }\n",
    "    subgraph = kglab.SubgraphTensor(kg)\n",
    "    return subgraph.build_pyvis_graph(notebook=True, style=VIS_STYLE)"
   ]
  },
  {
   "cell_type": "code",
   "execution_count": 33,
   "id": "35260cde",
   "metadata": {},
   "outputs": [
    {
     "name": "stdout",
     "output_type": "stream",
     "text": [
      "Warning: When  cdn_resources is 'local' jupyter notebook has issues displaying graphics on chrome/safari. Use cdn_resources='in_line' or cdn_resources='remote' if you have issues viewing graphics in a notebook.\n",
      "../figs/tmp.html\n"
     ]
    },
    {
     "data": {
      "text/html": [
       "\n",
       "        <iframe\n",
       "            width=\"100%\"\n",
       "            height=\"600px\"\n",
       "            src=\"../figs/tmp.html\"\n",
       "            frameborder=\"0\"\n",
       "            allowfullscreen\n",
       "            \n",
       "        ></iframe>\n",
       "        "
      ],
      "text/plain": [
       "<IPython.lib.display.IFrame at 0x119de4eb0>"
      ]
     },
     "execution_count": 33,
     "metadata": {},
     "output_type": "execute_result"
    }
   ],
   "source": [
    "#| hide\n",
    "\n",
    "# Create a knowledge graph\n",
    "kg = kglab.KnowledgeGraph()\n",
    "\n",
    "\n",
    "# load the knowledge graph info\n",
    "kg.load_rdf(\"../../sboms/rdf/model.rdf.xml\", format=\"xml\")\n",
    "\n",
    "pyvis_graph = visualize_graph(kg)\n",
    "pyvis_graph.force_atlas_2based()\n",
    "pyvis_graph.show(\"../figs/tmp.html\")"
   ]
  },
  {
   "cell_type": "markdown",
   "id": "4816b281",
   "metadata": {},
   "source": []
  },
  {
   "cell_type": "code",
   "execution_count": 34,
   "id": "2cd38602",
   "metadata": {},
   "outputs": [],
   "source": [
    "#| export\n",
    "import kglab\n",
    "from pyvis.network import Network\n",
    "\n",
    "def visualize_relationship_graph(\n",
    "    kg: KnowledgeGraph,     # Knowledge graph to query from\n",
    "    hideTypeFile: str=False # Flag for showing SPDX:File type components in the graph\n",
    "    ) -> Network:           # Return a Network object representing the SBOMs relationship graph\n",
    "\n",
    "    \"\"\"\n",
    "    Construct a Network object for representing the SBOMs components relationship graph.\n",
    "    The returned graph is ready to be visualized using `.show()`. \n",
    "    \"\"\"\n",
    "    \n",
    "    def get_node_title(elmName: str, elmType: str, elmVersion: str, elemPurpose: str) -> str:\n",
    "        \"\"\"\n",
    "        Create a node title. \n",
    "        The title will be the node hover text.\n",
    "        \"\"\"\n",
    "        nodeTitle = f\"{elmType}: {elmName}\"\n",
    "        if elmVersion:\n",
    "            nodeTitle += f\"\\nVersion:{elmVersion}\"\n",
    "        if elemPurpose:\n",
    "            nodeTitle += \"\\nPurpose: \" + elemPurpose.split(\"purpose_\")[1]\n",
    "        return nodeTitle\n",
    "\n",
    "    def get_node_label(elmName: str, elmVersion: str) -> str:\n",
    "        \"\"\"\n",
    "        Create a node label. \n",
    "        The label will be the text under the node.\n",
    "        \"\"\"\n",
    "        nodeLabel = elmName\n",
    "        if elmVersion: nodeLabel += \"==\" + elmVersion\n",
    "        return nodeLabel\n",
    "    \n",
    "       \n",
    "    VIS_STYLE = { \n",
    "        'SpdxDocument': {\n",
    "            \"color\": \"#DE3163\",\n",
    "            \"size\": 20,\n",
    "        },\n",
    "        'Package': {\n",
    "            \"color\": \"#99ccff\",\n",
    "            \"size\": 20,\n",
    "        },\n",
    "        'File': {\n",
    "            \"color\": \"#FFBF00\",\n",
    "            \"size\": 15,\n",
    "        },\n",
    "    }\n",
    "    \n",
    "    SPDX_NS = \"http://spdx.org/rdf/terms#\"\n",
    "    \n",
    "    QUERY = \"\"\"\n",
    "    PREFIX spdx:<http://spdx.org/rdf/terms#>\n",
    "    PREFIX rdf: <http://www.w3.org/1999/02/22-rdf-syntax-ns#>\n",
    "    \n",
    "    SELECT\n",
    "        ?element\n",
    "        ?elementName\n",
    "        ?elementType\n",
    "        ?elementVersionInfo\n",
    "        ?elementPrimaryPackagePurpose\n",
    "        ?relatedElement\n",
    "        ?relationshipType\n",
    "        ?relatedElementName\n",
    "        ?relatedElementType\n",
    "        ?relatedElementVersionInfo\n",
    "        ?relatedElementPrimaryPackagePurpose\n",
    "        \n",
    "    WHERE {\n",
    "        ?element spdx:relationship ?relationship .\n",
    "        ?element rdf:type ?elementType .\n",
    "        ?relationship spdx:relatedSpdxElement ?relatedElement .\n",
    "        ?relationship spdx:relationshipType ?relationshipType .\n",
    "        ?relatedElement rdf:type ?relatedElementType .\n",
    "        \n",
    "        OPTIONAL { ?element spdx:name ?elementName . }\n",
    "        OPTIONAL { ?element spdx:fileName ?elementName . }\n",
    "        OPTIONAL { ?element spdx:primaryPackagePurpose ?elementPrimaryPackagePurpose . }\n",
    "        OPTIONAL { ?relatedElement spdx:name ?relatedElementName . }\n",
    "        OPTIONAL { ?relatedElement spdx:fileName ?relatedElementName . }\n",
    "        OPTIONAL { ?element spdx:versionInfo ?elementVersionInfo .}\n",
    "        OPTIONAL { ?relatedElement spdx:versionInfo ?relatedElementVersionInfo .}\n",
    "        OPTIONAL { ?relatedElement spdx:primaryPackagePurpose ?relatedElementPrimaryPackagePurpose . }\n",
    "    }\n",
    "    \"\"\"\n",
    "    \n",
    "    # run query\n",
    "    query_result = kg.query(QUERY)\n",
    "\n",
    "    # hide from query_result the components of the spdx:File type     \n",
    "    if hideTypeFile:\n",
    "        query_result = [ row for row in query_result if str(row.relatedElementType).split(SPDX_NS)[-1] != \"File\"]\n",
    "        \n",
    "    # create a graph of the relationships using Network\n",
    "    relationship_graph = Network(notebook=True, directed=True, cdn_resources=\"remote\")\n",
    "    \n",
    "    # update the graph of the relationships based on the query_result\n",
    "    for row in query_result:\n",
    "        \n",
    "        # element\n",
    "        elementName = str(row.elementName)\n",
    "        elementType = str(row.elementType).split(SPDX_NS)[-1]\n",
    "        elementVersionInfo = row.elementVersionInfo\n",
    "        elementPrimaryPackagePurpose= row.elementPrimaryPackagePurpose\n",
    "        \n",
    "        # relationship\n",
    "        relationshipTypeName = row.relationshipType.split(\"relationshipType_\")[1]\n",
    "        \n",
    "        # relatedElement        \n",
    "        relatedElementName = str(row.relatedElementName)\n",
    "        relatedElementType = str(row.relatedElementType).split(SPDX_NS)[-1]\n",
    "        relatedElementVersionInfo = row.relatedElementVersionInfo\n",
    "        relatedElementPrimaryPackagePurpose = row.relatedElementPrimaryPackagePurpose\n",
    "\n",
    "        ## update graph\n",
    "        # element Node info\n",
    "        elementNodeId = row.element \n",
    "        elementNodeLabel = get_node_label(elementName, elementVersionInfo)\n",
    "        elementNodeTitle = get_node_title(elementName, elementType, \n",
    "                                          elementVersionInfo, elementPrimaryPackagePurpose)\n",
    "        elementNodeColor = VIS_STYLE[elementType]['color']\n",
    "        elementNodeSize = VIS_STYLE[elementType]['size']        \n",
    "        \n",
    "        # relatedElement Node info\n",
    "        relatedElementNodeId = row.relatedElement \n",
    "        relatedElementNodeLabel = get_node_label(relatedElementName, relatedElementVersionInfo)\n",
    "        relatedElementNodeTitle = get_node_title(relatedElementName, relatedElementType, \n",
    "                                                 relatedElementVersionInfo, relatedElementPrimaryPackagePurpose)\n",
    "        relatedElementNodeColor = VIS_STYLE[relatedElementType]['color']\n",
    "        relatedElementNodeSize = VIS_STYLE[relatedElementType]['size']            \n",
    "        \n",
    "        # add nodes (elementName, relatedElementName) to the graph\n",
    "        relationship_graph.add_node(elementNodeId,\n",
    "                                    label = elementNodeLabel,\n",
    "                                    title = elementNodeTitle,\n",
    "                                    color = elementNodeColor,\n",
    "                                    size = elementNodeSize\n",
    "                                   )\n",
    "        relationship_graph.add_node(relatedElementNodeId,\n",
    "                                    label = relatedElementNodeLabel,\n",
    "                                    title = relatedElementNodeTitle,\n",
    "                                    color = relatedElementNodeColor,\n",
    "                                    size = relatedElementNodeSize\n",
    "                                   )\n",
    "        # and edge(relatedElementName) to the graph\n",
    "        relationship_graph.add_edge(elementNodeId,\n",
    "                                    relatedElementNodeId,\n",
    "                                    title = relationshipTypeName,\n",
    "                                    label = relationshipTypeName # text over the edge\n",
    "                                   )\n",
    "    return relationship_graph"
   ]
  },
  {
   "cell_type": "code",
   "execution_count": 35,
   "id": "c538c1d1",
   "metadata": {},
   "outputs": [],
   "source": [
    "#| export\n",
    "from pandas import DataFrame\n",
    "def display_relationship_graph_legend():    \n",
    "    \"\"\"\n",
    "    Display the legend of the SBOMs components relationship graph that can be visualized by `visualize_relationship_graph()`.\n",
    "    \"\"\"    \n",
    "    legend_df = DataFrame([['File', 'Yellow'], ['Package', 'Blue'], ['SPDXDocument', 'Red']], \n",
    "                  columns=['SPDX Type', 'Node Color'])\n",
    "\n",
    "    display(legend_df)\n"
   ]
  },
  {
   "cell_type": "markdown",
   "id": "b1664f5b",
   "metadata": {},
   "source": [
    "#### How to visualize the relationship graph\n",
    "\n",
    "You can use the function `visualize_relationship_graph(kg)` where `kg` is a knowledge graph and the returned graph is ready to be visualized using the method `.show()`.\n",
    "\n",
    "You can also change the physics layout of the graph. In the example below, we are using the option `.force_atlas_2based()`. See the example below. "
   ]
  },
  {
   "cell_type": "code",
   "execution_count": 36,
   "id": "17e33dec",
   "metadata": {},
   "outputs": [
    {
     "name": "stdout",
     "output_type": "stream",
     "text": [
      "../figs/fig00.relationship_full.html\n"
     ]
    },
    {
     "data": {
      "text/html": [
       "\n",
       "        <iframe\n",
       "            width=\"100%\"\n",
       "            height=\"600px\"\n",
       "            src=\"../figs/fig00.relationship_full.html\"\n",
       "            frameborder=\"0\"\n",
       "            allowfullscreen\n",
       "            \n",
       "        ></iframe>\n",
       "        "
      ],
      "text/plain": [
       "<IPython.lib.display.IFrame at 0x119df6430>"
      ]
     },
     "execution_count": 36,
     "metadata": {},
     "output_type": "execute_result"
    }
   ],
   "source": [
    "# Create a knowledge graph\n",
    "kg = kglab.KnowledgeGraph()\n",
    "\n",
    "# load the knowledge graph info\n",
    "kg.load_rdf(\"../../sboms/rdf/model.rdf.xml\", format=\"xml\")\n",
    "\n",
    "# get the relationship graph to be visualized\n",
    "graph = visualize_relationship_graph(kg)\n",
    "\n",
    "# optional: set the physics layout of the network\n",
    "graph.force_atlas_2based()\n",
    "graph.set_edge_smooth('dynamic')\n",
    "\n",
    "# show graph\n",
    "graph.show(\"../figs/fig00.relationship_full.html\")"
   ]
  },
  {
   "cell_type": "code",
   "execution_count": 37,
   "id": "f43ccbe8",
   "metadata": {},
   "outputs": [
    {
     "data": {
      "text/html": [
       "<div>\n",
       "<style scoped>\n",
       "    .dataframe tbody tr th:only-of-type {\n",
       "        vertical-align: middle;\n",
       "    }\n",
       "\n",
       "    .dataframe tbody tr th {\n",
       "        vertical-align: top;\n",
       "    }\n",
       "\n",
       "    .dataframe thead th {\n",
       "        text-align: right;\n",
       "    }\n",
       "</style>\n",
       "<table border=\"1\" class=\"dataframe\">\n",
       "  <thead>\n",
       "    <tr style=\"text-align: right;\">\n",
       "      <th></th>\n",
       "      <th>SPDX Type</th>\n",
       "      <th>Node Color</th>\n",
       "    </tr>\n",
       "  </thead>\n",
       "  <tbody>\n",
       "    <tr>\n",
       "      <th>0</th>\n",
       "      <td>File</td>\n",
       "      <td>Yellow</td>\n",
       "    </tr>\n",
       "    <tr>\n",
       "      <th>1</th>\n",
       "      <td>Package</td>\n",
       "      <td>Blue</td>\n",
       "    </tr>\n",
       "    <tr>\n",
       "      <th>2</th>\n",
       "      <td>SPDXDocument</td>\n",
       "      <td>Red</td>\n",
       "    </tr>\n",
       "  </tbody>\n",
       "</table>\n",
       "</div>"
      ],
      "text/plain": [
       "      SPDX Type Node Color\n",
       "0          File     Yellow\n",
       "1       Package       Blue\n",
       "2  SPDXDocument        Red"
      ]
     },
     "metadata": {},
     "output_type": "display_data"
    }
   ],
   "source": [
    "display_relationship_graph_legend()"
   ]
  },
  {
   "cell_type": "markdown",
   "id": "a9e5a932",
   "metadata": {},
   "source": []
  },
  {
   "cell_type": "code",
   "execution_count": 38,
   "id": "8db8c348",
   "metadata": {},
   "outputs": [],
   "source": [
    "#| export\n",
    "\n",
    "from pandas import DataFrame\n",
    "from IPython.core.display import HTML\n",
    "\n",
    "def display_qscores_with_descriptions(\n",
    "    feature_qscores: DataFrame, # DataFrame with the quality scores for each feature in each category for all tools.    \n",
    "    category_list: list = None, # List of categories to be displayed. If None, all categories are displayed.\n",
    "    tool_list: list = None      # List of tools to be displayed. If None, all tools are displayed.\n",
    "    )-> None:\n",
    "    \n",
    "    category_list = feature_qscores['category'].unique() if category_list is None else category_list     \n",
    "    tool_list = feature_qscores['tool'].unique() if tool_list is None else tool_list\n",
    "    tool_score = feature_qscores[feature_qscores['tool'].isin(tool_list)][['tool', 'score']].groupby('tool').mean().reset_index()\n",
    "    for tool_name, tool_avg_score in tool_score.values:\n",
    "        display(HTML(f\"<h2>Tool: {tool_name} (avg score: {tool_avg_score:0,.2f})</h2>\"))\n",
    "        for cat in category_list:        \n",
    "            df = feature_qscores.loc[(feature_qscores['category']==cat) & (feature_qscores['tool']==tool_name)]\n",
    "            cat_avg_score = df[\"score\"].mean()        \n",
    "            display(HTML(f\"<h3>Category: {cat} (avg score: {cat_avg_score:0,.2f})\"))\n",
    "            display(df[['feature', 'score', 'description', 'tool']])    \n",
    "            display(HTML(f\"<hr>\"))\n"
   ]
  },
  {
   "cell_type": "code",
   "execution_count": 39,
   "id": "d5d733df",
   "metadata": {},
   "outputs": [
    {
     "data": {
      "text/html": [
       "<h2>Tool: FOSSA v0.12.0 (avg score: 7.30)</h2>"
      ],
      "text/plain": [
       "<IPython.core.display.HTML object>"
      ]
     },
     "metadata": {},
     "output_type": "display_data"
    },
    {
     "data": {
      "text/html": [
       "<h3>Category: Structural (avg score: 10.00)"
      ],
      "text/plain": [
       "<IPython.core.display.HTML object>"
      ]
     },
     "metadata": {},
     "output_type": "display_data"
    },
    {
     "data": {
      "text/html": [
       "<div>\n",
       "<style scoped>\n",
       "    .dataframe tbody tr th:only-of-type {\n",
       "        vertical-align: middle;\n",
       "    }\n",
       "\n",
       "    .dataframe tbody tr th {\n",
       "        vertical-align: top;\n",
       "    }\n",
       "\n",
       "    .dataframe thead th {\n",
       "        text-align: right;\n",
       "    }\n",
       "</style>\n",
       "<table border=\"1\" class=\"dataframe\">\n",
       "  <thead>\n",
       "    <tr style=\"text-align: right;\">\n",
       "      <th></th>\n",
       "      <th>feature</th>\n",
       "      <th>score</th>\n",
       "      <th>description</th>\n",
       "      <th>tool</th>\n",
       "    </tr>\n",
       "  </thead>\n",
       "  <tbody>\n",
       "    <tr>\n",
       "      <th>0</th>\n",
       "      <td>sbom_spec</td>\n",
       "      <td>10.0</td>\n",
       "      <td>provided sbom is in a supported sbom format of...</td>\n",
       "      <td>FOSSA v0.12.0</td>\n",
       "    </tr>\n",
       "    <tr>\n",
       "      <th>1</th>\n",
       "      <td>sbom_spec_version</td>\n",
       "      <td>10.0</td>\n",
       "      <td>provided sbom should be in supported spec vers...</td>\n",
       "      <td>FOSSA v0.12.0</td>\n",
       "    </tr>\n",
       "    <tr>\n",
       "      <th>2</th>\n",
       "      <td>sbom_spec_file_format</td>\n",
       "      <td>10.0</td>\n",
       "      <td>provided sbom should be in supported file form...</td>\n",
       "      <td>FOSSA v0.12.0</td>\n",
       "    </tr>\n",
       "    <tr>\n",
       "      <th>3</th>\n",
       "      <td>sbom_parsable</td>\n",
       "      <td>10.0</td>\n",
       "      <td>provided sbom is parsable</td>\n",
       "      <td>FOSSA v0.12.0</td>\n",
       "    </tr>\n",
       "  </tbody>\n",
       "</table>\n",
       "</div>"
      ],
      "text/plain": [
       "                 feature  score  \\\n",
       "0              sbom_spec   10.0   \n",
       "1      sbom_spec_version   10.0   \n",
       "2  sbom_spec_file_format   10.0   \n",
       "3          sbom_parsable   10.0   \n",
       "\n",
       "                                         description           tool  \n",
       "0  provided sbom is in a supported sbom format of...  FOSSA v0.12.0  \n",
       "1  provided sbom should be in supported spec vers...  FOSSA v0.12.0  \n",
       "2  provided sbom should be in supported file form...  FOSSA v0.12.0  \n",
       "3                          provided sbom is parsable  FOSSA v0.12.0  "
      ]
     },
     "metadata": {},
     "output_type": "display_data"
    },
    {
     "data": {
      "text/html": [
       "<hr>"
      ],
      "text/plain": [
       "<IPython.core.display.HTML object>"
      ]
     },
     "metadata": {},
     "output_type": "display_data"
    },
    {
     "data": {
      "text/html": [
       "<h3>Category: NTIA-minimum-elements (avg score: 9.18)"
      ],
      "text/plain": [
       "<IPython.core.display.HTML object>"
      ]
     },
     "metadata": {},
     "output_type": "display_data"
    },
    {
     "data": {
      "text/html": [
       "<div>\n",
       "<style scoped>\n",
       "    .dataframe tbody tr th:only-of-type {\n",
       "        vertical-align: middle;\n",
       "    }\n",
       "\n",
       "    .dataframe tbody tr th {\n",
       "        vertical-align: top;\n",
       "    }\n",
       "\n",
       "    .dataframe thead th {\n",
       "        text-align: right;\n",
       "    }\n",
       "</style>\n",
       "<table border=\"1\" class=\"dataframe\">\n",
       "  <thead>\n",
       "    <tr style=\"text-align: right;\">\n",
       "      <th></th>\n",
       "      <th>feature</th>\n",
       "      <th>score</th>\n",
       "      <th>description</th>\n",
       "      <th>tool</th>\n",
       "    </tr>\n",
       "  </thead>\n",
       "  <tbody>\n",
       "    <tr>\n",
       "      <th>4</th>\n",
       "      <td>comp_with_supplier</td>\n",
       "      <td>10.000000</td>\n",
       "      <td>212/212 have supplier names</td>\n",
       "      <td>FOSSA v0.12.0</td>\n",
       "    </tr>\n",
       "    <tr>\n",
       "      <th>5</th>\n",
       "      <td>comp_with_name</td>\n",
       "      <td>10.000000</td>\n",
       "      <td>212/212 have names</td>\n",
       "      <td>FOSSA v0.12.0</td>\n",
       "    </tr>\n",
       "    <tr>\n",
       "      <th>6</th>\n",
       "      <td>comp_with_version</td>\n",
       "      <td>9.292453</td>\n",
       "      <td>197/212 have versions</td>\n",
       "      <td>FOSSA v0.12.0</td>\n",
       "    </tr>\n",
       "    <tr>\n",
       "      <th>7</th>\n",
       "      <td>comp_with_uniq_ids</td>\n",
       "      <td>5.000000</td>\n",
       "      <td>106/212 have unique ID's</td>\n",
       "      <td>FOSSA v0.12.0</td>\n",
       "    </tr>\n",
       "    <tr>\n",
       "      <th>8</th>\n",
       "      <td>sbom_dependencies</td>\n",
       "      <td>10.000000</td>\n",
       "      <td>doc has 211 relationships</td>\n",
       "      <td>FOSSA v0.12.0</td>\n",
       "    </tr>\n",
       "    <tr>\n",
       "      <th>9</th>\n",
       "      <td>sbom_authors</td>\n",
       "      <td>10.000000</td>\n",
       "      <td>doc has 2 authors</td>\n",
       "      <td>FOSSA v0.12.0</td>\n",
       "    </tr>\n",
       "    <tr>\n",
       "      <th>10</th>\n",
       "      <td>sbom_creation_timestamp</td>\n",
       "      <td>10.000000</td>\n",
       "      <td>doc has creation timestamp</td>\n",
       "      <td>FOSSA v0.12.0</td>\n",
       "    </tr>\n",
       "  </tbody>\n",
       "</table>\n",
       "</div>"
      ],
      "text/plain": [
       "                    feature      score                  description  \\\n",
       "4        comp_with_supplier  10.000000  212/212 have supplier names   \n",
       "5            comp_with_name  10.000000           212/212 have names   \n",
       "6         comp_with_version   9.292453        197/212 have versions   \n",
       "7        comp_with_uniq_ids   5.000000     106/212 have unique ID's   \n",
       "8         sbom_dependencies  10.000000   doc has 211 relationships    \n",
       "9              sbom_authors  10.000000            doc has 2 authors   \n",
       "10  sbom_creation_timestamp  10.000000   doc has creation timestamp   \n",
       "\n",
       "             tool  \n",
       "4   FOSSA v0.12.0  \n",
       "5   FOSSA v0.12.0  \n",
       "6   FOSSA v0.12.0  \n",
       "7   FOSSA v0.12.0  \n",
       "8   FOSSA v0.12.0  \n",
       "9   FOSSA v0.12.0  \n",
       "10  FOSSA v0.12.0  "
      ]
     },
     "metadata": {},
     "output_type": "display_data"
    },
    {
     "data": {
      "text/html": [
       "<hr>"
      ],
      "text/plain": [
       "<IPython.core.display.HTML object>"
      ]
     },
     "metadata": {},
     "output_type": "display_data"
    },
    {
     "data": {
      "text/html": [
       "<h3>Category: Semantic (avg score: 5.71)"
      ],
      "text/plain": [
       "<IPython.core.display.HTML object>"
      ]
     },
     "metadata": {},
     "output_type": "display_data"
    },
    {
     "data": {
      "text/html": [
       "<div>\n",
       "<style scoped>\n",
       "    .dataframe tbody tr th:only-of-type {\n",
       "        vertical-align: middle;\n",
       "    }\n",
       "\n",
       "    .dataframe tbody tr th {\n",
       "        vertical-align: top;\n",
       "    }\n",
       "\n",
       "    .dataframe thead th {\n",
       "        text-align: right;\n",
       "    }\n",
       "</style>\n",
       "<table border=\"1\" class=\"dataframe\">\n",
       "  <thead>\n",
       "    <tr style=\"text-align: right;\">\n",
       "      <th></th>\n",
       "      <th>feature</th>\n",
       "      <th>score</th>\n",
       "      <th>description</th>\n",
       "      <th>tool</th>\n",
       "    </tr>\n",
       "  </thead>\n",
       "  <tbody>\n",
       "    <tr>\n",
       "      <th>11</th>\n",
       "      <td>sbom_required_fields</td>\n",
       "      <td>7.500000</td>\n",
       "      <td>Doc Fields:true Pkg Fields:false</td>\n",
       "      <td>FOSSA v0.12.0</td>\n",
       "    </tr>\n",
       "    <tr>\n",
       "      <th>12</th>\n",
       "      <td>comp_with_licenses</td>\n",
       "      <td>4.622642</td>\n",
       "      <td>98/212 have licenses</td>\n",
       "      <td>FOSSA v0.12.0</td>\n",
       "    </tr>\n",
       "    <tr>\n",
       "      <th>13</th>\n",
       "      <td>comp_with_checksums</td>\n",
       "      <td>5.000000</td>\n",
       "      <td>106/212 have checksums</td>\n",
       "      <td>FOSSA v0.12.0</td>\n",
       "    </tr>\n",
       "  </tbody>\n",
       "</table>\n",
       "</div>"
      ],
      "text/plain": [
       "                 feature     score                       description  \\\n",
       "11  sbom_required_fields  7.500000  Doc Fields:true Pkg Fields:false   \n",
       "12    comp_with_licenses  4.622642              98/212 have licenses   \n",
       "13   comp_with_checksums  5.000000            106/212 have checksums   \n",
       "\n",
       "             tool  \n",
       "11  FOSSA v0.12.0  \n",
       "12  FOSSA v0.12.0  \n",
       "13  FOSSA v0.12.0  "
      ]
     },
     "metadata": {},
     "output_type": "display_data"
    },
    {
     "data": {
      "text/html": [
       "<hr>"
      ],
      "text/plain": [
       "<IPython.core.display.HTML object>"
      ]
     },
     "metadata": {},
     "output_type": "display_data"
    },
    {
     "data": {
      "text/html": [
       "<h3>Category: Quality (avg score: 4.17)"
      ],
      "text/plain": [
       "<IPython.core.display.HTML object>"
      ]
     },
     "metadata": {},
     "output_type": "display_data"
    },
    {
     "data": {
      "text/html": [
       "<div>\n",
       "<style scoped>\n",
       "    .dataframe tbody tr th:only-of-type {\n",
       "        vertical-align: middle;\n",
       "    }\n",
       "\n",
       "    .dataframe tbody tr th {\n",
       "        vertical-align: top;\n",
       "    }\n",
       "\n",
       "    .dataframe thead th {\n",
       "        text-align: right;\n",
       "    }\n",
       "</style>\n",
       "<table border=\"1\" class=\"dataframe\">\n",
       "  <thead>\n",
       "    <tr style=\"text-align: right;\">\n",
       "      <th></th>\n",
       "      <th>feature</th>\n",
       "      <th>score</th>\n",
       "      <th>description</th>\n",
       "      <th>tool</th>\n",
       "    </tr>\n",
       "  </thead>\n",
       "  <tbody>\n",
       "    <tr>\n",
       "      <th>14</th>\n",
       "      <td>comp_valid_licenses</td>\n",
       "      <td>4.540094</td>\n",
       "      <td>97/212 components with valid license</td>\n",
       "      <td>FOSSA v0.12.0</td>\n",
       "    </tr>\n",
       "    <tr>\n",
       "      <th>15</th>\n",
       "      <td>comp_with_primary_purpose</td>\n",
       "      <td>0.000000</td>\n",
       "      <td>0/212 components have primary purpose specified</td>\n",
       "      <td>FOSSA v0.12.0</td>\n",
       "    </tr>\n",
       "    <tr>\n",
       "      <th>16</th>\n",
       "      <td>comp_with_deprecated_licenses</td>\n",
       "      <td>10.000000</td>\n",
       "      <td>0/212 components have deprecated licenses</td>\n",
       "      <td>FOSSA v0.12.0</td>\n",
       "    </tr>\n",
       "    <tr>\n",
       "      <th>17</th>\n",
       "      <td>comp_with_restrictive_licenses</td>\n",
       "      <td>9.858491</td>\n",
       "      <td>3/212 components have restricted licenses</td>\n",
       "      <td>FOSSA v0.12.0</td>\n",
       "    </tr>\n",
       "    <tr>\n",
       "      <th>18</th>\n",
       "      <td>comp_with_any_vuln_lookup_id</td>\n",
       "      <td>4.811321</td>\n",
       "      <td>102/212 components have any lookup id</td>\n",
       "      <td>FOSSA v0.12.0</td>\n",
       "    </tr>\n",
       "    <tr>\n",
       "      <th>19</th>\n",
       "      <td>comp_with_multi_vuln_lookup_id</td>\n",
       "      <td>0.000000</td>\n",
       "      <td>0/212 components have multiple lookup id</td>\n",
       "      <td>FOSSA v0.12.0</td>\n",
       "    </tr>\n",
       "    <tr>\n",
       "      <th>20</th>\n",
       "      <td>sbom_with_creator_and_version</td>\n",
       "      <td>0.000000</td>\n",
       "      <td>0/1 tools have creator and version</td>\n",
       "      <td>FOSSA v0.12.0</td>\n",
       "    </tr>\n",
       "  </tbody>\n",
       "</table>\n",
       "</div>"
      ],
      "text/plain": [
       "                           feature      score  \\\n",
       "14             comp_valid_licenses   4.540094   \n",
       "15       comp_with_primary_purpose   0.000000   \n",
       "16   comp_with_deprecated_licenses  10.000000   \n",
       "17  comp_with_restrictive_licenses   9.858491   \n",
       "18    comp_with_any_vuln_lookup_id   4.811321   \n",
       "19  comp_with_multi_vuln_lookup_id   0.000000   \n",
       "20   sbom_with_creator_and_version   0.000000   \n",
       "\n",
       "                                        description           tool  \n",
       "14            97/212 components with valid license   FOSSA v0.12.0  \n",
       "15  0/212 components have primary purpose specified  FOSSA v0.12.0  \n",
       "16        0/212 components have deprecated licenses  FOSSA v0.12.0  \n",
       "17        3/212 components have restricted licenses  FOSSA v0.12.0  \n",
       "18            102/212 components have any lookup id  FOSSA v0.12.0  \n",
       "19         0/212 components have multiple lookup id  FOSSA v0.12.0  \n",
       "20               0/1 tools have creator and version  FOSSA v0.12.0  "
      ]
     },
     "metadata": {},
     "output_type": "display_data"
    },
    {
     "data": {
      "text/html": [
       "<hr>"
      ],
      "text/plain": [
       "<IPython.core.display.HTML object>"
      ]
     },
     "metadata": {},
     "output_type": "display_data"
    },
    {
     "data": {
      "text/html": [
       "<h3>Category: Sharing (avg score: 10.00)"
      ],
      "text/plain": [
       "<IPython.core.display.HTML object>"
      ]
     },
     "metadata": {},
     "output_type": "display_data"
    },
    {
     "data": {
      "text/html": [
       "<div>\n",
       "<style scoped>\n",
       "    .dataframe tbody tr th:only-of-type {\n",
       "        vertical-align: middle;\n",
       "    }\n",
       "\n",
       "    .dataframe tbody tr th {\n",
       "        vertical-align: top;\n",
       "    }\n",
       "\n",
       "    .dataframe thead th {\n",
       "        text-align: right;\n",
       "    }\n",
       "</style>\n",
       "<table border=\"1\" class=\"dataframe\">\n",
       "  <thead>\n",
       "    <tr style=\"text-align: right;\">\n",
       "      <th></th>\n",
       "      <th>feature</th>\n",
       "      <th>score</th>\n",
       "      <th>description</th>\n",
       "      <th>tool</th>\n",
       "    </tr>\n",
       "  </thead>\n",
       "  <tbody>\n",
       "    <tr>\n",
       "      <th>21</th>\n",
       "      <td>sbom_sharable</td>\n",
       "      <td>10.0</td>\n",
       "      <td>doc has a sharable license free 1 :: of 1</td>\n",
       "      <td>FOSSA v0.12.0</td>\n",
       "    </tr>\n",
       "  </tbody>\n",
       "</table>\n",
       "</div>"
      ],
      "text/plain": [
       "          feature  score                                description  \\\n",
       "21  sbom_sharable   10.0  doc has a sharable license free 1 :: of 1   \n",
       "\n",
       "             tool  \n",
       "21  FOSSA v0.12.0  "
      ]
     },
     "metadata": {},
     "output_type": "display_data"
    },
    {
     "data": {
      "text/html": [
       "<hr>"
      ],
      "text/plain": [
       "<IPython.core.display.HTML object>"
      ]
     },
     "metadata": {},
     "output_type": "display_data"
    },
    {
     "data": {
      "text/html": [
       "<h2>Tool: GitHub.com-Dependency-Graph (avg score: 6.83)</h2>"
      ],
      "text/plain": [
       "<IPython.core.display.HTML object>"
      ]
     },
     "metadata": {},
     "output_type": "display_data"
    },
    {
     "data": {
      "text/html": [
       "<h3>Category: Structural (avg score: 10.00)"
      ],
      "text/plain": [
       "<IPython.core.display.HTML object>"
      ]
     },
     "metadata": {},
     "output_type": "display_data"
    },
    {
     "data": {
      "text/html": [
       "<div>\n",
       "<style scoped>\n",
       "    .dataframe tbody tr th:only-of-type {\n",
       "        vertical-align: middle;\n",
       "    }\n",
       "\n",
       "    .dataframe tbody tr th {\n",
       "        vertical-align: top;\n",
       "    }\n",
       "\n",
       "    .dataframe thead th {\n",
       "        text-align: right;\n",
       "    }\n",
       "</style>\n",
       "<table border=\"1\" class=\"dataframe\">\n",
       "  <thead>\n",
       "    <tr style=\"text-align: right;\">\n",
       "      <th></th>\n",
       "      <th>feature</th>\n",
       "      <th>score</th>\n",
       "      <th>description</th>\n",
       "      <th>tool</th>\n",
       "    </tr>\n",
       "  </thead>\n",
       "  <tbody>\n",
       "    <tr>\n",
       "      <th>0</th>\n",
       "      <td>sbom_spec</td>\n",
       "      <td>10.0</td>\n",
       "      <td>provided sbom is in a supported sbom format of...</td>\n",
       "      <td>GitHub.com-Dependency-Graph</td>\n",
       "    </tr>\n",
       "    <tr>\n",
       "      <th>1</th>\n",
       "      <td>sbom_spec_version</td>\n",
       "      <td>10.0</td>\n",
       "      <td>provided sbom should be in supported spec vers...</td>\n",
       "      <td>GitHub.com-Dependency-Graph</td>\n",
       "    </tr>\n",
       "    <tr>\n",
       "      <th>2</th>\n",
       "      <td>sbom_spec_file_format</td>\n",
       "      <td>10.0</td>\n",
       "      <td>provided sbom should be in supported file form...</td>\n",
       "      <td>GitHub.com-Dependency-Graph</td>\n",
       "    </tr>\n",
       "    <tr>\n",
       "      <th>3</th>\n",
       "      <td>sbom_parsable</td>\n",
       "      <td>10.0</td>\n",
       "      <td>provided sbom is parsable</td>\n",
       "      <td>GitHub.com-Dependency-Graph</td>\n",
       "    </tr>\n",
       "  </tbody>\n",
       "</table>\n",
       "</div>"
      ],
      "text/plain": [
       "                 feature  score  \\\n",
       "0              sbom_spec   10.0   \n",
       "1      sbom_spec_version   10.0   \n",
       "2  sbom_spec_file_format   10.0   \n",
       "3          sbom_parsable   10.0   \n",
       "\n",
       "                                         description  \\\n",
       "0  provided sbom is in a supported sbom format of...   \n",
       "1  provided sbom should be in supported spec vers...   \n",
       "2  provided sbom should be in supported file form...   \n",
       "3                          provided sbom is parsable   \n",
       "\n",
       "                          tool  \n",
       "0  GitHub.com-Dependency-Graph  \n",
       "1  GitHub.com-Dependency-Graph  \n",
       "2  GitHub.com-Dependency-Graph  \n",
       "3  GitHub.com-Dependency-Graph  "
      ]
     },
     "metadata": {},
     "output_type": "display_data"
    },
    {
     "data": {
      "text/html": [
       "<hr>"
      ],
      "text/plain": [
       "<IPython.core.display.HTML object>"
      ]
     },
     "metadata": {},
     "output_type": "display_data"
    },
    {
     "data": {
      "text/html": [
       "<h3>Category: NTIA-minimum-elements (avg score: 6.99)"
      ],
      "text/plain": [
       "<IPython.core.display.HTML object>"
      ]
     },
     "metadata": {},
     "output_type": "display_data"
    },
    {
     "data": {
      "text/html": [
       "<div>\n",
       "<style scoped>\n",
       "    .dataframe tbody tr th:only-of-type {\n",
       "        vertical-align: middle;\n",
       "    }\n",
       "\n",
       "    .dataframe tbody tr th {\n",
       "        vertical-align: top;\n",
       "    }\n",
       "\n",
       "    .dataframe thead th {\n",
       "        text-align: right;\n",
       "    }\n",
       "</style>\n",
       "<table border=\"1\" class=\"dataframe\">\n",
       "  <thead>\n",
       "    <tr style=\"text-align: right;\">\n",
       "      <th></th>\n",
       "      <th>feature</th>\n",
       "      <th>score</th>\n",
       "      <th>description</th>\n",
       "      <th>tool</th>\n",
       "    </tr>\n",
       "  </thead>\n",
       "  <tbody>\n",
       "    <tr>\n",
       "      <th>4</th>\n",
       "      <td>comp_with_supplier</td>\n",
       "      <td>0.000000</td>\n",
       "      <td>0/231 have supplier names</td>\n",
       "      <td>GitHub.com-Dependency-Graph</td>\n",
       "    </tr>\n",
       "    <tr>\n",
       "      <th>5</th>\n",
       "      <td>comp_with_name</td>\n",
       "      <td>10.000000</td>\n",
       "      <td>231/231 have names</td>\n",
       "      <td>GitHub.com-Dependency-Graph</td>\n",
       "    </tr>\n",
       "    <tr>\n",
       "      <th>6</th>\n",
       "      <td>comp_with_version</td>\n",
       "      <td>8.917749</td>\n",
       "      <td>206/231 have versions</td>\n",
       "      <td>GitHub.com-Dependency-Graph</td>\n",
       "    </tr>\n",
       "    <tr>\n",
       "      <th>7</th>\n",
       "      <td>comp_with_uniq_ids</td>\n",
       "      <td>10.000000</td>\n",
       "      <td>231/231 have unique ID's</td>\n",
       "      <td>GitHub.com-Dependency-Graph</td>\n",
       "    </tr>\n",
       "    <tr>\n",
       "      <th>8</th>\n",
       "      <td>sbom_dependencies</td>\n",
       "      <td>0.000000</td>\n",
       "      <td>doc has 0 relationships</td>\n",
       "      <td>GitHub.com-Dependency-Graph</td>\n",
       "    </tr>\n",
       "    <tr>\n",
       "      <th>9</th>\n",
       "      <td>sbom_authors</td>\n",
       "      <td>10.000000</td>\n",
       "      <td>doc has 1 authors</td>\n",
       "      <td>GitHub.com-Dependency-Graph</td>\n",
       "    </tr>\n",
       "    <tr>\n",
       "      <th>10</th>\n",
       "      <td>sbom_creation_timestamp</td>\n",
       "      <td>10.000000</td>\n",
       "      <td>doc has creation timestamp</td>\n",
       "      <td>GitHub.com-Dependency-Graph</td>\n",
       "    </tr>\n",
       "  </tbody>\n",
       "</table>\n",
       "</div>"
      ],
      "text/plain": [
       "                    feature      score                 description  \\\n",
       "4        comp_with_supplier   0.000000   0/231 have supplier names   \n",
       "5            comp_with_name  10.000000          231/231 have names   \n",
       "6         comp_with_version   8.917749       206/231 have versions   \n",
       "7        comp_with_uniq_ids  10.000000    231/231 have unique ID's   \n",
       "8         sbom_dependencies   0.000000    doc has 0 relationships    \n",
       "9              sbom_authors  10.000000           doc has 1 authors   \n",
       "10  sbom_creation_timestamp  10.000000  doc has creation timestamp   \n",
       "\n",
       "                           tool  \n",
       "4   GitHub.com-Dependency-Graph  \n",
       "5   GitHub.com-Dependency-Graph  \n",
       "6   GitHub.com-Dependency-Graph  \n",
       "7   GitHub.com-Dependency-Graph  \n",
       "8   GitHub.com-Dependency-Graph  \n",
       "9   GitHub.com-Dependency-Graph  \n",
       "10  GitHub.com-Dependency-Graph  "
      ]
     },
     "metadata": {},
     "output_type": "display_data"
    },
    {
     "data": {
      "text/html": [
       "<hr>"
      ],
      "text/plain": [
       "<IPython.core.display.HTML object>"
      ]
     },
     "metadata": {},
     "output_type": "display_data"
    },
    {
     "data": {
      "text/html": [
       "<h3>Category: Semantic (avg score: 5.44)"
      ],
      "text/plain": [
       "<IPython.core.display.HTML object>"
      ]
     },
     "metadata": {},
     "output_type": "display_data"
    },
    {
     "data": {
      "text/html": [
       "<div>\n",
       "<style scoped>\n",
       "    .dataframe tbody tr th:only-of-type {\n",
       "        vertical-align: middle;\n",
       "    }\n",
       "\n",
       "    .dataframe tbody tr th {\n",
       "        vertical-align: top;\n",
       "    }\n",
       "\n",
       "    .dataframe thead th {\n",
       "        text-align: right;\n",
       "    }\n",
       "</style>\n",
       "<table border=\"1\" class=\"dataframe\">\n",
       "  <thead>\n",
       "    <tr style=\"text-align: right;\">\n",
       "      <th></th>\n",
       "      <th>feature</th>\n",
       "      <th>score</th>\n",
       "      <th>description</th>\n",
       "      <th>tool</th>\n",
       "    </tr>\n",
       "  </thead>\n",
       "  <tbody>\n",
       "    <tr>\n",
       "      <th>11</th>\n",
       "      <td>sbom_required_fields</td>\n",
       "      <td>10.000000</td>\n",
       "      <td>Doc Fields:true Pkg Fields:true</td>\n",
       "      <td>GitHub.com-Dependency-Graph</td>\n",
       "    </tr>\n",
       "    <tr>\n",
       "      <th>12</th>\n",
       "      <td>comp_with_licenses</td>\n",
       "      <td>6.320346</td>\n",
       "      <td>146/231 have licenses</td>\n",
       "      <td>GitHub.com-Dependency-Graph</td>\n",
       "    </tr>\n",
       "    <tr>\n",
       "      <th>13</th>\n",
       "      <td>comp_with_checksums</td>\n",
       "      <td>0.000000</td>\n",
       "      <td>0/231 have checksums</td>\n",
       "      <td>GitHub.com-Dependency-Graph</td>\n",
       "    </tr>\n",
       "  </tbody>\n",
       "</table>\n",
       "</div>"
      ],
      "text/plain": [
       "                 feature      score                      description  \\\n",
       "11  sbom_required_fields  10.000000  Doc Fields:true Pkg Fields:true   \n",
       "12    comp_with_licenses   6.320346            146/231 have licenses   \n",
       "13   comp_with_checksums   0.000000             0/231 have checksums   \n",
       "\n",
       "                           tool  \n",
       "11  GitHub.com-Dependency-Graph  \n",
       "12  GitHub.com-Dependency-Graph  \n",
       "13  GitHub.com-Dependency-Graph  "
      ]
     },
     "metadata": {},
     "output_type": "display_data"
    },
    {
     "data": {
      "text/html": [
       "<hr>"
      ],
      "text/plain": [
       "<IPython.core.display.HTML object>"
      ]
     },
     "metadata": {},
     "output_type": "display_data"
    },
    {
     "data": {
      "text/html": [
       "<h3>Category: Quality (avg score: 5.00)"
      ],
      "text/plain": [
       "<IPython.core.display.HTML object>"
      ]
     },
     "metadata": {},
     "output_type": "display_data"
    },
    {
     "data": {
      "text/html": [
       "<div>\n",
       "<style scoped>\n",
       "    .dataframe tbody tr th:only-of-type {\n",
       "        vertical-align: middle;\n",
       "    }\n",
       "\n",
       "    .dataframe tbody tr th {\n",
       "        vertical-align: top;\n",
       "    }\n",
       "\n",
       "    .dataframe thead th {\n",
       "        text-align: right;\n",
       "    }\n",
       "</style>\n",
       "<table border=\"1\" class=\"dataframe\">\n",
       "  <thead>\n",
       "    <tr style=\"text-align: right;\">\n",
       "      <th></th>\n",
       "      <th>feature</th>\n",
       "      <th>score</th>\n",
       "      <th>description</th>\n",
       "      <th>tool</th>\n",
       "    </tr>\n",
       "  </thead>\n",
       "  <tbody>\n",
       "    <tr>\n",
       "      <th>14</th>\n",
       "      <td>comp_valid_licenses</td>\n",
       "      <td>6.320346</td>\n",
       "      <td>146/231 components with valid license</td>\n",
       "      <td>GitHub.com-Dependency-Graph</td>\n",
       "    </tr>\n",
       "    <tr>\n",
       "      <th>15</th>\n",
       "      <td>comp_with_primary_purpose</td>\n",
       "      <td>0.000000</td>\n",
       "      <td>0/231 components have primary purpose specified</td>\n",
       "      <td>GitHub.com-Dependency-Graph</td>\n",
       "    </tr>\n",
       "    <tr>\n",
       "      <th>16</th>\n",
       "      <td>comp_with_deprecated_licenses</td>\n",
       "      <td>10.000000</td>\n",
       "      <td>0/231 components have deprecated licenses</td>\n",
       "      <td>GitHub.com-Dependency-Graph</td>\n",
       "    </tr>\n",
       "    <tr>\n",
       "      <th>17</th>\n",
       "      <td>comp_with_restrictive_licenses</td>\n",
       "      <td>10.000000</td>\n",
       "      <td>0/231 components have restricted licenses</td>\n",
       "      <td>GitHub.com-Dependency-Graph</td>\n",
       "    </tr>\n",
       "    <tr>\n",
       "      <th>18</th>\n",
       "      <td>comp_with_any_vuln_lookup_id</td>\n",
       "      <td>8.701299</td>\n",
       "      <td>201/231 components have any lookup id</td>\n",
       "      <td>GitHub.com-Dependency-Graph</td>\n",
       "    </tr>\n",
       "    <tr>\n",
       "      <th>19</th>\n",
       "      <td>comp_with_multi_vuln_lookup_id</td>\n",
       "      <td>0.000000</td>\n",
       "      <td>0/231 components have multiple lookup id</td>\n",
       "      <td>GitHub.com-Dependency-Graph</td>\n",
       "    </tr>\n",
       "    <tr>\n",
       "      <th>20</th>\n",
       "      <td>sbom_with_creator_and_version</td>\n",
       "      <td>0.000000</td>\n",
       "      <td>0/1 tools have creator and version</td>\n",
       "      <td>GitHub.com-Dependency-Graph</td>\n",
       "    </tr>\n",
       "  </tbody>\n",
       "</table>\n",
       "</div>"
      ],
      "text/plain": [
       "                           feature      score  \\\n",
       "14             comp_valid_licenses   6.320346   \n",
       "15       comp_with_primary_purpose   0.000000   \n",
       "16   comp_with_deprecated_licenses  10.000000   \n",
       "17  comp_with_restrictive_licenses  10.000000   \n",
       "18    comp_with_any_vuln_lookup_id   8.701299   \n",
       "19  comp_with_multi_vuln_lookup_id   0.000000   \n",
       "20   sbom_with_creator_and_version   0.000000   \n",
       "\n",
       "                                        description  \\\n",
       "14           146/231 components with valid license    \n",
       "15  0/231 components have primary purpose specified   \n",
       "16        0/231 components have deprecated licenses   \n",
       "17        0/231 components have restricted licenses   \n",
       "18            201/231 components have any lookup id   \n",
       "19         0/231 components have multiple lookup id   \n",
       "20               0/1 tools have creator and version   \n",
       "\n",
       "                           tool  \n",
       "14  GitHub.com-Dependency-Graph  \n",
       "15  GitHub.com-Dependency-Graph  \n",
       "16  GitHub.com-Dependency-Graph  \n",
       "17  GitHub.com-Dependency-Graph  \n",
       "18  GitHub.com-Dependency-Graph  \n",
       "19  GitHub.com-Dependency-Graph  \n",
       "20  GitHub.com-Dependency-Graph  "
      ]
     },
     "metadata": {},
     "output_type": "display_data"
    },
    {
     "data": {
      "text/html": [
       "<hr>"
      ],
      "text/plain": [
       "<IPython.core.display.HTML object>"
      ]
     },
     "metadata": {},
     "output_type": "display_data"
    },
    {
     "data": {
      "text/html": [
       "<h3>Category: Sharing (avg score: 10.00)"
      ],
      "text/plain": [
       "<IPython.core.display.HTML object>"
      ]
     },
     "metadata": {},
     "output_type": "display_data"
    },
    {
     "data": {
      "text/html": [
       "<div>\n",
       "<style scoped>\n",
       "    .dataframe tbody tr th:only-of-type {\n",
       "        vertical-align: middle;\n",
       "    }\n",
       "\n",
       "    .dataframe tbody tr th {\n",
       "        vertical-align: top;\n",
       "    }\n",
       "\n",
       "    .dataframe thead th {\n",
       "        text-align: right;\n",
       "    }\n",
       "</style>\n",
       "<table border=\"1\" class=\"dataframe\">\n",
       "  <thead>\n",
       "    <tr style=\"text-align: right;\">\n",
       "      <th></th>\n",
       "      <th>feature</th>\n",
       "      <th>score</th>\n",
       "      <th>description</th>\n",
       "      <th>tool</th>\n",
       "    </tr>\n",
       "  </thead>\n",
       "  <tbody>\n",
       "    <tr>\n",
       "      <th>21</th>\n",
       "      <td>sbom_sharable</td>\n",
       "      <td>10.0</td>\n",
       "      <td>doc has a sharable license free 1 :: of 1</td>\n",
       "      <td>GitHub.com-Dependency-Graph</td>\n",
       "    </tr>\n",
       "  </tbody>\n",
       "</table>\n",
       "</div>"
      ],
      "text/plain": [
       "          feature  score                                description  \\\n",
       "21  sbom_sharable   10.0  doc has a sharable license free 1 :: of 1   \n",
       "\n",
       "                           tool  \n",
       "21  GitHub.com-Dependency-Graph  "
      ]
     },
     "metadata": {},
     "output_type": "display_data"
    },
    {
     "data": {
      "text/html": [
       "<hr>"
      ],
      "text/plain": [
       "<IPython.core.display.HTML object>"
      ]
     },
     "metadata": {},
     "output_type": "display_data"
    },
    {
     "data": {
      "text/html": [
       "<h2>Tool: Microsoft.SBOMTool (avg score: 6.36)</h2>"
      ],
      "text/plain": [
       "<IPython.core.display.HTML object>"
      ]
     },
     "metadata": {},
     "output_type": "display_data"
    },
    {
     "data": {
      "text/html": [
       "<h3>Category: Structural (avg score: 10.00)"
      ],
      "text/plain": [
       "<IPython.core.display.HTML object>"
      ]
     },
     "metadata": {},
     "output_type": "display_data"
    },
    {
     "data": {
      "text/html": [
       "<div>\n",
       "<style scoped>\n",
       "    .dataframe tbody tr th:only-of-type {\n",
       "        vertical-align: middle;\n",
       "    }\n",
       "\n",
       "    .dataframe tbody tr th {\n",
       "        vertical-align: top;\n",
       "    }\n",
       "\n",
       "    .dataframe thead th {\n",
       "        text-align: right;\n",
       "    }\n",
       "</style>\n",
       "<table border=\"1\" class=\"dataframe\">\n",
       "  <thead>\n",
       "    <tr style=\"text-align: right;\">\n",
       "      <th></th>\n",
       "      <th>feature</th>\n",
       "      <th>score</th>\n",
       "      <th>description</th>\n",
       "      <th>tool</th>\n",
       "    </tr>\n",
       "  </thead>\n",
       "  <tbody>\n",
       "    <tr>\n",
       "      <th>0</th>\n",
       "      <td>sbom_spec</td>\n",
       "      <td>10.0</td>\n",
       "      <td>provided sbom is in a supported sbom format of...</td>\n",
       "      <td>Microsoft.SBOMTool</td>\n",
       "    </tr>\n",
       "    <tr>\n",
       "      <th>1</th>\n",
       "      <td>sbom_spec_version</td>\n",
       "      <td>10.0</td>\n",
       "      <td>provided sbom should be in supported spec vers...</td>\n",
       "      <td>Microsoft.SBOMTool</td>\n",
       "    </tr>\n",
       "    <tr>\n",
       "      <th>2</th>\n",
       "      <td>sbom_spec_file_format</td>\n",
       "      <td>10.0</td>\n",
       "      <td>provided sbom should be in supported file form...</td>\n",
       "      <td>Microsoft.SBOMTool</td>\n",
       "    </tr>\n",
       "    <tr>\n",
       "      <th>3</th>\n",
       "      <td>sbom_parsable</td>\n",
       "      <td>10.0</td>\n",
       "      <td>provided sbom is parsable</td>\n",
       "      <td>Microsoft.SBOMTool</td>\n",
       "    </tr>\n",
       "  </tbody>\n",
       "</table>\n",
       "</div>"
      ],
      "text/plain": [
       "                 feature  score  \\\n",
       "0              sbom_spec   10.0   \n",
       "1      sbom_spec_version   10.0   \n",
       "2  sbom_spec_file_format   10.0   \n",
       "3          sbom_parsable   10.0   \n",
       "\n",
       "                                         description                tool  \n",
       "0  provided sbom is in a supported sbom format of...  Microsoft.SBOMTool  \n",
       "1  provided sbom should be in supported spec vers...  Microsoft.SBOMTool  \n",
       "2  provided sbom should be in supported file form...  Microsoft.SBOMTool  \n",
       "3                          provided sbom is parsable  Microsoft.SBOMTool  "
      ]
     },
     "metadata": {},
     "output_type": "display_data"
    },
    {
     "data": {
      "text/html": [
       "<hr>"
      ],
      "text/plain": [
       "<IPython.core.display.HTML object>"
      ]
     },
     "metadata": {},
     "output_type": "display_data"
    },
    {
     "data": {
      "text/html": [
       "<h3>Category: NTIA-minimum-elements (avg score: 8.58)"
      ],
      "text/plain": [
       "<IPython.core.display.HTML object>"
      ]
     },
     "metadata": {},
     "output_type": "display_data"
    },
    {
     "data": {
      "text/html": [
       "<div>\n",
       "<style scoped>\n",
       "    .dataframe tbody tr th:only-of-type {\n",
       "        vertical-align: middle;\n",
       "    }\n",
       "\n",
       "    .dataframe tbody tr th {\n",
       "        vertical-align: top;\n",
       "    }\n",
       "\n",
       "    .dataframe thead th {\n",
       "        text-align: right;\n",
       "    }\n",
       "</style>\n",
       "<table border=\"1\" class=\"dataframe\">\n",
       "  <thead>\n",
       "    <tr style=\"text-align: right;\">\n",
       "      <th></th>\n",
       "      <th>feature</th>\n",
       "      <th>score</th>\n",
       "      <th>description</th>\n",
       "      <th>tool</th>\n",
       "    </tr>\n",
       "  </thead>\n",
       "  <tbody>\n",
       "    <tr>\n",
       "      <th>4</th>\n",
       "      <td>comp_with_supplier</td>\n",
       "      <td>0.032468</td>\n",
       "      <td>1/308 have supplier names</td>\n",
       "      <td>Microsoft.SBOMTool</td>\n",
       "    </tr>\n",
       "    <tr>\n",
       "      <th>5</th>\n",
       "      <td>comp_with_name</td>\n",
       "      <td>10.000000</td>\n",
       "      <td>308/308 have names</td>\n",
       "      <td>Microsoft.SBOMTool</td>\n",
       "    </tr>\n",
       "    <tr>\n",
       "      <th>6</th>\n",
       "      <td>comp_with_version</td>\n",
       "      <td>10.000000</td>\n",
       "      <td>308/308 have versions</td>\n",
       "      <td>Microsoft.SBOMTool</td>\n",
       "    </tr>\n",
       "    <tr>\n",
       "      <th>7</th>\n",
       "      <td>comp_with_uniq_ids</td>\n",
       "      <td>10.000000</td>\n",
       "      <td>308/308 have unique ID's</td>\n",
       "      <td>Microsoft.SBOMTool</td>\n",
       "    </tr>\n",
       "    <tr>\n",
       "      <th>8</th>\n",
       "      <td>sbom_dependencies</td>\n",
       "      <td>10.000000</td>\n",
       "      <td>doc has 308 relationships</td>\n",
       "      <td>Microsoft.SBOMTool</td>\n",
       "    </tr>\n",
       "    <tr>\n",
       "      <th>9</th>\n",
       "      <td>sbom_authors</td>\n",
       "      <td>10.000000</td>\n",
       "      <td>doc has 2 authors</td>\n",
       "      <td>Microsoft.SBOMTool</td>\n",
       "    </tr>\n",
       "    <tr>\n",
       "      <th>10</th>\n",
       "      <td>sbom_creation_timestamp</td>\n",
       "      <td>10.000000</td>\n",
       "      <td>doc has creation timestamp</td>\n",
       "      <td>Microsoft.SBOMTool</td>\n",
       "    </tr>\n",
       "  </tbody>\n",
       "</table>\n",
       "</div>"
      ],
      "text/plain": [
       "                    feature      score                 description  \\\n",
       "4        comp_with_supplier   0.032468   1/308 have supplier names   \n",
       "5            comp_with_name  10.000000          308/308 have names   \n",
       "6         comp_with_version  10.000000       308/308 have versions   \n",
       "7        comp_with_uniq_ids  10.000000    308/308 have unique ID's   \n",
       "8         sbom_dependencies  10.000000  doc has 308 relationships    \n",
       "9              sbom_authors  10.000000           doc has 2 authors   \n",
       "10  sbom_creation_timestamp  10.000000  doc has creation timestamp   \n",
       "\n",
       "                  tool  \n",
       "4   Microsoft.SBOMTool  \n",
       "5   Microsoft.SBOMTool  \n",
       "6   Microsoft.SBOMTool  \n",
       "7   Microsoft.SBOMTool  \n",
       "8   Microsoft.SBOMTool  \n",
       "9   Microsoft.SBOMTool  \n",
       "10  Microsoft.SBOMTool  "
      ]
     },
     "metadata": {},
     "output_type": "display_data"
    },
    {
     "data": {
      "text/html": [
       "<hr>"
      ],
      "text/plain": [
       "<IPython.core.display.HTML object>"
      ]
     },
     "metadata": {},
     "output_type": "display_data"
    },
    {
     "data": {
      "text/html": [
       "<h3>Category: Semantic (avg score: 3.33)"
      ],
      "text/plain": [
       "<IPython.core.display.HTML object>"
      ]
     },
     "metadata": {},
     "output_type": "display_data"
    },
    {
     "data": {
      "text/html": [
       "<div>\n",
       "<style scoped>\n",
       "    .dataframe tbody tr th:only-of-type {\n",
       "        vertical-align: middle;\n",
       "    }\n",
       "\n",
       "    .dataframe tbody tr th {\n",
       "        vertical-align: top;\n",
       "    }\n",
       "\n",
       "    .dataframe thead th {\n",
       "        text-align: right;\n",
       "    }\n",
       "</style>\n",
       "<table border=\"1\" class=\"dataframe\">\n",
       "  <thead>\n",
       "    <tr style=\"text-align: right;\">\n",
       "      <th></th>\n",
       "      <th>feature</th>\n",
       "      <th>score</th>\n",
       "      <th>description</th>\n",
       "      <th>tool</th>\n",
       "    </tr>\n",
       "  </thead>\n",
       "  <tbody>\n",
       "    <tr>\n",
       "      <th>11</th>\n",
       "      <td>sbom_required_fields</td>\n",
       "      <td>10.0</td>\n",
       "      <td>Doc Fields:true Pkg Fields:true</td>\n",
       "      <td>Microsoft.SBOMTool</td>\n",
       "    </tr>\n",
       "    <tr>\n",
       "      <th>12</th>\n",
       "      <td>comp_with_licenses</td>\n",
       "      <td>0.0</td>\n",
       "      <td>0/308 have licenses</td>\n",
       "      <td>Microsoft.SBOMTool</td>\n",
       "    </tr>\n",
       "    <tr>\n",
       "      <th>13</th>\n",
       "      <td>comp_with_checksums</td>\n",
       "      <td>0.0</td>\n",
       "      <td>0/308 have checksums</td>\n",
       "      <td>Microsoft.SBOMTool</td>\n",
       "    </tr>\n",
       "  </tbody>\n",
       "</table>\n",
       "</div>"
      ],
      "text/plain": [
       "                 feature  score                      description  \\\n",
       "11  sbom_required_fields   10.0  Doc Fields:true Pkg Fields:true   \n",
       "12    comp_with_licenses    0.0              0/308 have licenses   \n",
       "13   comp_with_checksums    0.0             0/308 have checksums   \n",
       "\n",
       "                  tool  \n",
       "11  Microsoft.SBOMTool  \n",
       "12  Microsoft.SBOMTool  \n",
       "13  Microsoft.SBOMTool  "
      ]
     },
     "metadata": {},
     "output_type": "display_data"
    },
    {
     "data": {
      "text/html": [
       "<hr>"
      ],
      "text/plain": [
       "<IPython.core.display.HTML object>"
      ]
     },
     "metadata": {},
     "output_type": "display_data"
    },
    {
     "data": {
      "text/html": [
       "<h3>Category: Quality (avg score: 2.85)"
      ],
      "text/plain": [
       "<IPython.core.display.HTML object>"
      ]
     },
     "metadata": {},
     "output_type": "display_data"
    },
    {
     "data": {
      "text/html": [
       "<div>\n",
       "<style scoped>\n",
       "    .dataframe tbody tr th:only-of-type {\n",
       "        vertical-align: middle;\n",
       "    }\n",
       "\n",
       "    .dataframe tbody tr th {\n",
       "        vertical-align: top;\n",
       "    }\n",
       "\n",
       "    .dataframe thead th {\n",
       "        text-align: right;\n",
       "    }\n",
       "</style>\n",
       "<table border=\"1\" class=\"dataframe\">\n",
       "  <thead>\n",
       "    <tr style=\"text-align: right;\">\n",
       "      <th></th>\n",
       "      <th>feature</th>\n",
       "      <th>score</th>\n",
       "      <th>description</th>\n",
       "      <th>tool</th>\n",
       "    </tr>\n",
       "  </thead>\n",
       "  <tbody>\n",
       "    <tr>\n",
       "      <th>14</th>\n",
       "      <td>comp_valid_licenses</td>\n",
       "      <td>0.000000</td>\n",
       "      <td>0/308 components with valid license</td>\n",
       "      <td>Microsoft.SBOMTool</td>\n",
       "    </tr>\n",
       "    <tr>\n",
       "      <th>15</th>\n",
       "      <td>comp_with_primary_purpose</td>\n",
       "      <td>0.000000</td>\n",
       "      <td>0/308 components have primary purpose specified</td>\n",
       "      <td>Microsoft.SBOMTool</td>\n",
       "    </tr>\n",
       "    <tr>\n",
       "      <th>16</th>\n",
       "      <td>comp_with_deprecated_licenses</td>\n",
       "      <td>0.000000</td>\n",
       "      <td>no licenses found</td>\n",
       "      <td>Microsoft.SBOMTool</td>\n",
       "    </tr>\n",
       "    <tr>\n",
       "      <th>17</th>\n",
       "      <td>comp_with_restrictive_licenses</td>\n",
       "      <td>0.000000</td>\n",
       "      <td>no licenses found</td>\n",
       "      <td>Microsoft.SBOMTool</td>\n",
       "    </tr>\n",
       "    <tr>\n",
       "      <th>18</th>\n",
       "      <td>comp_with_any_vuln_lookup_id</td>\n",
       "      <td>9.967532</td>\n",
       "      <td>307/308 components have any lookup id</td>\n",
       "      <td>Microsoft.SBOMTool</td>\n",
       "    </tr>\n",
       "    <tr>\n",
       "      <th>19</th>\n",
       "      <td>comp_with_multi_vuln_lookup_id</td>\n",
       "      <td>0.000000</td>\n",
       "      <td>0/308 components have multiple lookup id</td>\n",
       "      <td>Microsoft.SBOMTool</td>\n",
       "    </tr>\n",
       "    <tr>\n",
       "      <th>20</th>\n",
       "      <td>sbom_with_creator_and_version</td>\n",
       "      <td>10.000000</td>\n",
       "      <td>1/1 tools have creator and version</td>\n",
       "      <td>Microsoft.SBOMTool</td>\n",
       "    </tr>\n",
       "  </tbody>\n",
       "</table>\n",
       "</div>"
      ],
      "text/plain": [
       "                           feature      score  \\\n",
       "14             comp_valid_licenses   0.000000   \n",
       "15       comp_with_primary_purpose   0.000000   \n",
       "16   comp_with_deprecated_licenses   0.000000   \n",
       "17  comp_with_restrictive_licenses   0.000000   \n",
       "18    comp_with_any_vuln_lookup_id   9.967532   \n",
       "19  comp_with_multi_vuln_lookup_id   0.000000   \n",
       "20   sbom_with_creator_and_version  10.000000   \n",
       "\n",
       "                                        description                tool  \n",
       "14             0/308 components with valid license   Microsoft.SBOMTool  \n",
       "15  0/308 components have primary purpose specified  Microsoft.SBOMTool  \n",
       "16                                no licenses found  Microsoft.SBOMTool  \n",
       "17                                no licenses found  Microsoft.SBOMTool  \n",
       "18            307/308 components have any lookup id  Microsoft.SBOMTool  \n",
       "19         0/308 components have multiple lookup id  Microsoft.SBOMTool  \n",
       "20               1/1 tools have creator and version  Microsoft.SBOMTool  "
      ]
     },
     "metadata": {},
     "output_type": "display_data"
    },
    {
     "data": {
      "text/html": [
       "<hr>"
      ],
      "text/plain": [
       "<IPython.core.display.HTML object>"
      ]
     },
     "metadata": {},
     "output_type": "display_data"
    },
    {
     "data": {
      "text/html": [
       "<h3>Category: Sharing (avg score: 10.00)"
      ],
      "text/plain": [
       "<IPython.core.display.HTML object>"
      ]
     },
     "metadata": {},
     "output_type": "display_data"
    },
    {
     "data": {
      "text/html": [
       "<div>\n",
       "<style scoped>\n",
       "    .dataframe tbody tr th:only-of-type {\n",
       "        vertical-align: middle;\n",
       "    }\n",
       "\n",
       "    .dataframe tbody tr th {\n",
       "        vertical-align: top;\n",
       "    }\n",
       "\n",
       "    .dataframe thead th {\n",
       "        text-align: right;\n",
       "    }\n",
       "</style>\n",
       "<table border=\"1\" class=\"dataframe\">\n",
       "  <thead>\n",
       "    <tr style=\"text-align: right;\">\n",
       "      <th></th>\n",
       "      <th>feature</th>\n",
       "      <th>score</th>\n",
       "      <th>description</th>\n",
       "      <th>tool</th>\n",
       "    </tr>\n",
       "  </thead>\n",
       "  <tbody>\n",
       "    <tr>\n",
       "      <th>21</th>\n",
       "      <td>sbom_sharable</td>\n",
       "      <td>10.0</td>\n",
       "      <td>doc has a sharable license free 1 :: of 1</td>\n",
       "      <td>Microsoft.SBOMTool</td>\n",
       "    </tr>\n",
       "  </tbody>\n",
       "</table>\n",
       "</div>"
      ],
      "text/plain": [
       "          feature  score                                description  \\\n",
       "21  sbom_sharable   10.0  doc has a sharable license free 1 :: of 1   \n",
       "\n",
       "                  tool  \n",
       "21  Microsoft.SBOMTool  "
      ]
     },
     "metadata": {},
     "output_type": "display_data"
    },
    {
     "data": {
      "text/html": [
       "<hr>"
      ],
      "text/plain": [
       "<IPython.core.display.HTML object>"
      ]
     },
     "metadata": {},
     "output_type": "display_data"
    },
    {
     "data": {
      "text/html": [
       "<h2>Tool: bom (avg score: 7.27)</h2>"
      ],
      "text/plain": [
       "<IPython.core.display.HTML object>"
      ]
     },
     "metadata": {},
     "output_type": "display_data"
    },
    {
     "data": {
      "text/html": [
       "<h3>Category: Structural (avg score: 10.00)"
      ],
      "text/plain": [
       "<IPython.core.display.HTML object>"
      ]
     },
     "metadata": {},
     "output_type": "display_data"
    },
    {
     "data": {
      "text/html": [
       "<div>\n",
       "<style scoped>\n",
       "    .dataframe tbody tr th:only-of-type {\n",
       "        vertical-align: middle;\n",
       "    }\n",
       "\n",
       "    .dataframe tbody tr th {\n",
       "        vertical-align: top;\n",
       "    }\n",
       "\n",
       "    .dataframe thead th {\n",
       "        text-align: right;\n",
       "    }\n",
       "</style>\n",
       "<table border=\"1\" class=\"dataframe\">\n",
       "  <thead>\n",
       "    <tr style=\"text-align: right;\">\n",
       "      <th></th>\n",
       "      <th>feature</th>\n",
       "      <th>score</th>\n",
       "      <th>description</th>\n",
       "      <th>tool</th>\n",
       "    </tr>\n",
       "  </thead>\n",
       "  <tbody>\n",
       "    <tr>\n",
       "      <th>0</th>\n",
       "      <td>sbom_spec</td>\n",
       "      <td>10.0</td>\n",
       "      <td>provided sbom is in a supported sbom format of...</td>\n",
       "      <td>bom</td>\n",
       "    </tr>\n",
       "    <tr>\n",
       "      <th>1</th>\n",
       "      <td>sbom_spec_version</td>\n",
       "      <td>10.0</td>\n",
       "      <td>provided sbom should be in supported spec vers...</td>\n",
       "      <td>bom</td>\n",
       "    </tr>\n",
       "    <tr>\n",
       "      <th>2</th>\n",
       "      <td>sbom_spec_file_format</td>\n",
       "      <td>10.0</td>\n",
       "      <td>provided sbom should be in supported file form...</td>\n",
       "      <td>bom</td>\n",
       "    </tr>\n",
       "    <tr>\n",
       "      <th>3</th>\n",
       "      <td>sbom_parsable</td>\n",
       "      <td>10.0</td>\n",
       "      <td>provided sbom is parsable</td>\n",
       "      <td>bom</td>\n",
       "    </tr>\n",
       "  </tbody>\n",
       "</table>\n",
       "</div>"
      ],
      "text/plain": [
       "                 feature  score  \\\n",
       "0              sbom_spec   10.0   \n",
       "1      sbom_spec_version   10.0   \n",
       "2  sbom_spec_file_format   10.0   \n",
       "3          sbom_parsable   10.0   \n",
       "\n",
       "                                         description tool  \n",
       "0  provided sbom is in a supported sbom format of...  bom  \n",
       "1  provided sbom should be in supported spec vers...  bom  \n",
       "2  provided sbom should be in supported file form...  bom  \n",
       "3                          provided sbom is parsable  bom  "
      ]
     },
     "metadata": {},
     "output_type": "display_data"
    },
    {
     "data": {
      "text/html": [
       "<hr>"
      ],
      "text/plain": [
       "<IPython.core.display.HTML object>"
      ]
     },
     "metadata": {},
     "output_type": "display_data"
    },
    {
     "data": {
      "text/html": [
       "<h3>Category: NTIA-minimum-elements (avg score: 7.14)"
      ],
      "text/plain": [
       "<IPython.core.display.HTML object>"
      ]
     },
     "metadata": {},
     "output_type": "display_data"
    },
    {
     "data": {
      "text/html": [
       "<div>\n",
       "<style scoped>\n",
       "    .dataframe tbody tr th:only-of-type {\n",
       "        vertical-align: middle;\n",
       "    }\n",
       "\n",
       "    .dataframe tbody tr th {\n",
       "        vertical-align: top;\n",
       "    }\n",
       "\n",
       "    .dataframe thead th {\n",
       "        text-align: right;\n",
       "    }\n",
       "</style>\n",
       "<table border=\"1\" class=\"dataframe\">\n",
       "  <thead>\n",
       "    <tr style=\"text-align: right;\">\n",
       "      <th></th>\n",
       "      <th>feature</th>\n",
       "      <th>score</th>\n",
       "      <th>description</th>\n",
       "      <th>tool</th>\n",
       "    </tr>\n",
       "  </thead>\n",
       "  <tbody>\n",
       "    <tr>\n",
       "      <th>4</th>\n",
       "      <td>comp_with_supplier</td>\n",
       "      <td>0.0</td>\n",
       "      <td>0/1 have supplier names</td>\n",
       "      <td>bom</td>\n",
       "    </tr>\n",
       "    <tr>\n",
       "      <th>5</th>\n",
       "      <td>comp_with_name</td>\n",
       "      <td>10.0</td>\n",
       "      <td>1/1 have names</td>\n",
       "      <td>bom</td>\n",
       "    </tr>\n",
       "    <tr>\n",
       "      <th>6</th>\n",
       "      <td>comp_with_version</td>\n",
       "      <td>0.0</td>\n",
       "      <td>0/1 have versions</td>\n",
       "      <td>bom</td>\n",
       "    </tr>\n",
       "    <tr>\n",
       "      <th>7</th>\n",
       "      <td>comp_with_uniq_ids</td>\n",
       "      <td>10.0</td>\n",
       "      <td>1/1 have unique ID's</td>\n",
       "      <td>bom</td>\n",
       "    </tr>\n",
       "    <tr>\n",
       "      <th>8</th>\n",
       "      <td>sbom_dependencies</td>\n",
       "      <td>10.0</td>\n",
       "      <td>doc has 12068 relationships</td>\n",
       "      <td>bom</td>\n",
       "    </tr>\n",
       "    <tr>\n",
       "      <th>9</th>\n",
       "      <td>sbom_authors</td>\n",
       "      <td>10.0</td>\n",
       "      <td>doc has 1 authors</td>\n",
       "      <td>bom</td>\n",
       "    </tr>\n",
       "    <tr>\n",
       "      <th>10</th>\n",
       "      <td>sbom_creation_timestamp</td>\n",
       "      <td>10.0</td>\n",
       "      <td>doc has creation timestamp</td>\n",
       "      <td>bom</td>\n",
       "    </tr>\n",
       "  </tbody>\n",
       "</table>\n",
       "</div>"
      ],
      "text/plain": [
       "                    feature  score                   description tool\n",
       "4        comp_with_supplier    0.0       0/1 have supplier names  bom\n",
       "5            comp_with_name   10.0                1/1 have names  bom\n",
       "6         comp_with_version    0.0             0/1 have versions  bom\n",
       "7        comp_with_uniq_ids   10.0          1/1 have unique ID's  bom\n",
       "8         sbom_dependencies   10.0  doc has 12068 relationships   bom\n",
       "9              sbom_authors   10.0             doc has 1 authors  bom\n",
       "10  sbom_creation_timestamp   10.0    doc has creation timestamp  bom"
      ]
     },
     "metadata": {},
     "output_type": "display_data"
    },
    {
     "data": {
      "text/html": [
       "<hr>"
      ],
      "text/plain": [
       "<IPython.core.display.HTML object>"
      ]
     },
     "metadata": {},
     "output_type": "display_data"
    },
    {
     "data": {
      "text/html": [
       "<h3>Category: Semantic (avg score: 6.67)"
      ],
      "text/plain": [
       "<IPython.core.display.HTML object>"
      ]
     },
     "metadata": {},
     "output_type": "display_data"
    },
    {
     "data": {
      "text/html": [
       "<div>\n",
       "<style scoped>\n",
       "    .dataframe tbody tr th:only-of-type {\n",
       "        vertical-align: middle;\n",
       "    }\n",
       "\n",
       "    .dataframe tbody tr th {\n",
       "        vertical-align: top;\n",
       "    }\n",
       "\n",
       "    .dataframe thead th {\n",
       "        text-align: right;\n",
       "    }\n",
       "</style>\n",
       "<table border=\"1\" class=\"dataframe\">\n",
       "  <thead>\n",
       "    <tr style=\"text-align: right;\">\n",
       "      <th></th>\n",
       "      <th>feature</th>\n",
       "      <th>score</th>\n",
       "      <th>description</th>\n",
       "      <th>tool</th>\n",
       "    </tr>\n",
       "  </thead>\n",
       "  <tbody>\n",
       "    <tr>\n",
       "      <th>11</th>\n",
       "      <td>sbom_required_fields</td>\n",
       "      <td>10.0</td>\n",
       "      <td>Doc Fields:true Pkg Fields:true</td>\n",
       "      <td>bom</td>\n",
       "    </tr>\n",
       "    <tr>\n",
       "      <th>12</th>\n",
       "      <td>comp_with_licenses</td>\n",
       "      <td>10.0</td>\n",
       "      <td>1/1 have licenses</td>\n",
       "      <td>bom</td>\n",
       "    </tr>\n",
       "    <tr>\n",
       "      <th>13</th>\n",
       "      <td>comp_with_checksums</td>\n",
       "      <td>0.0</td>\n",
       "      <td>0/1 have checksums</td>\n",
       "      <td>bom</td>\n",
       "    </tr>\n",
       "  </tbody>\n",
       "</table>\n",
       "</div>"
      ],
      "text/plain": [
       "                 feature  score                      description tool\n",
       "11  sbom_required_fields   10.0  Doc Fields:true Pkg Fields:true  bom\n",
       "12    comp_with_licenses   10.0                1/1 have licenses  bom\n",
       "13   comp_with_checksums    0.0               0/1 have checksums  bom"
      ]
     },
     "metadata": {},
     "output_type": "display_data"
    },
    {
     "data": {
      "text/html": [
       "<hr>"
      ],
      "text/plain": [
       "<IPython.core.display.HTML object>"
      ]
     },
     "metadata": {},
     "output_type": "display_data"
    },
    {
     "data": {
      "text/html": [
       "<h3>Category: Quality (avg score: 5.71)"
      ],
      "text/plain": [
       "<IPython.core.display.HTML object>"
      ]
     },
     "metadata": {},
     "output_type": "display_data"
    },
    {
     "data": {
      "text/html": [
       "<div>\n",
       "<style scoped>\n",
       "    .dataframe tbody tr th:only-of-type {\n",
       "        vertical-align: middle;\n",
       "    }\n",
       "\n",
       "    .dataframe tbody tr th {\n",
       "        vertical-align: top;\n",
       "    }\n",
       "\n",
       "    .dataframe thead th {\n",
       "        text-align: right;\n",
       "    }\n",
       "</style>\n",
       "<table border=\"1\" class=\"dataframe\">\n",
       "  <thead>\n",
       "    <tr style=\"text-align: right;\">\n",
       "      <th></th>\n",
       "      <th>feature</th>\n",
       "      <th>score</th>\n",
       "      <th>description</th>\n",
       "      <th>tool</th>\n",
       "    </tr>\n",
       "  </thead>\n",
       "  <tbody>\n",
       "    <tr>\n",
       "      <th>14</th>\n",
       "      <td>comp_valid_licenses</td>\n",
       "      <td>10.0</td>\n",
       "      <td>1/1 components with valid license</td>\n",
       "      <td>bom</td>\n",
       "    </tr>\n",
       "    <tr>\n",
       "      <th>15</th>\n",
       "      <td>comp_with_primary_purpose</td>\n",
       "      <td>0.0</td>\n",
       "      <td>0/1 components have primary purpose specified</td>\n",
       "      <td>bom</td>\n",
       "    </tr>\n",
       "    <tr>\n",
       "      <th>16</th>\n",
       "      <td>comp_with_deprecated_licenses</td>\n",
       "      <td>10.0</td>\n",
       "      <td>0/1 components have deprecated licenses</td>\n",
       "      <td>bom</td>\n",
       "    </tr>\n",
       "    <tr>\n",
       "      <th>17</th>\n",
       "      <td>comp_with_restrictive_licenses</td>\n",
       "      <td>10.0</td>\n",
       "      <td>0/1 components have restricted licenses</td>\n",
       "      <td>bom</td>\n",
       "    </tr>\n",
       "    <tr>\n",
       "      <th>18</th>\n",
       "      <td>comp_with_any_vuln_lookup_id</td>\n",
       "      <td>0.0</td>\n",
       "      <td>0/1 components have any lookup id</td>\n",
       "      <td>bom</td>\n",
       "    </tr>\n",
       "    <tr>\n",
       "      <th>19</th>\n",
       "      <td>comp_with_multi_vuln_lookup_id</td>\n",
       "      <td>0.0</td>\n",
       "      <td>0/1 components have multiple lookup id</td>\n",
       "      <td>bom</td>\n",
       "    </tr>\n",
       "    <tr>\n",
       "      <th>20</th>\n",
       "      <td>sbom_with_creator_and_version</td>\n",
       "      <td>10.0</td>\n",
       "      <td>1/1 tools have creator and version</td>\n",
       "      <td>bom</td>\n",
       "    </tr>\n",
       "  </tbody>\n",
       "</table>\n",
       "</div>"
      ],
      "text/plain": [
       "                           feature  score  \\\n",
       "14             comp_valid_licenses   10.0   \n",
       "15       comp_with_primary_purpose    0.0   \n",
       "16   comp_with_deprecated_licenses   10.0   \n",
       "17  comp_with_restrictive_licenses   10.0   \n",
       "18    comp_with_any_vuln_lookup_id    0.0   \n",
       "19  comp_with_multi_vuln_lookup_id    0.0   \n",
       "20   sbom_with_creator_and_version   10.0   \n",
       "\n",
       "                                      description tool  \n",
       "14             1/1 components with valid license   bom  \n",
       "15  0/1 components have primary purpose specified  bom  \n",
       "16        0/1 components have deprecated licenses  bom  \n",
       "17        0/1 components have restricted licenses  bom  \n",
       "18              0/1 components have any lookup id  bom  \n",
       "19         0/1 components have multiple lookup id  bom  \n",
       "20             1/1 tools have creator and version  bom  "
      ]
     },
     "metadata": {},
     "output_type": "display_data"
    },
    {
     "data": {
      "text/html": [
       "<hr>"
      ],
      "text/plain": [
       "<IPython.core.display.HTML object>"
      ]
     },
     "metadata": {},
     "output_type": "display_data"
    },
    {
     "data": {
      "text/html": [
       "<h3>Category: Sharing (avg score: 10.00)"
      ],
      "text/plain": [
       "<IPython.core.display.HTML object>"
      ]
     },
     "metadata": {},
     "output_type": "display_data"
    },
    {
     "data": {
      "text/html": [
       "<div>\n",
       "<style scoped>\n",
       "    .dataframe tbody tr th:only-of-type {\n",
       "        vertical-align: middle;\n",
       "    }\n",
       "\n",
       "    .dataframe tbody tr th {\n",
       "        vertical-align: top;\n",
       "    }\n",
       "\n",
       "    .dataframe thead th {\n",
       "        text-align: right;\n",
       "    }\n",
       "</style>\n",
       "<table border=\"1\" class=\"dataframe\">\n",
       "  <thead>\n",
       "    <tr style=\"text-align: right;\">\n",
       "      <th></th>\n",
       "      <th>feature</th>\n",
       "      <th>score</th>\n",
       "      <th>description</th>\n",
       "      <th>tool</th>\n",
       "    </tr>\n",
       "  </thead>\n",
       "  <tbody>\n",
       "    <tr>\n",
       "      <th>21</th>\n",
       "      <td>sbom_sharable</td>\n",
       "      <td>10.0</td>\n",
       "      <td>doc has a sharable license free 1 :: of 1</td>\n",
       "      <td>bom</td>\n",
       "    </tr>\n",
       "  </tbody>\n",
       "</table>\n",
       "</div>"
      ],
      "text/plain": [
       "          feature  score                                description tool\n",
       "21  sbom_sharable   10.0  doc has a sharable license free 1 :: of 1  bom"
      ]
     },
     "metadata": {},
     "output_type": "display_data"
    },
    {
     "data": {
      "text/html": [
       "<hr>"
      ],
      "text/plain": [
       "<IPython.core.display.HTML object>"
      ]
     },
     "metadata": {},
     "output_type": "display_data"
    },
    {
     "data": {
      "text/html": [
       "<h2>Tool: cdxgen (avg score: 7.42)</h2>"
      ],
      "text/plain": [
       "<IPython.core.display.HTML object>"
      ]
     },
     "metadata": {},
     "output_type": "display_data"
    },
    {
     "data": {
      "text/html": [
       "<h3>Category: Structural (avg score: 10.00)"
      ],
      "text/plain": [
       "<IPython.core.display.HTML object>"
      ]
     },
     "metadata": {},
     "output_type": "display_data"
    },
    {
     "data": {
      "text/html": [
       "<div>\n",
       "<style scoped>\n",
       "    .dataframe tbody tr th:only-of-type {\n",
       "        vertical-align: middle;\n",
       "    }\n",
       "\n",
       "    .dataframe tbody tr th {\n",
       "        vertical-align: top;\n",
       "    }\n",
       "\n",
       "    .dataframe thead th {\n",
       "        text-align: right;\n",
       "    }\n",
       "</style>\n",
       "<table border=\"1\" class=\"dataframe\">\n",
       "  <thead>\n",
       "    <tr style=\"text-align: right;\">\n",
       "      <th></th>\n",
       "      <th>feature</th>\n",
       "      <th>score</th>\n",
       "      <th>description</th>\n",
       "      <th>tool</th>\n",
       "    </tr>\n",
       "  </thead>\n",
       "  <tbody>\n",
       "    <tr>\n",
       "      <th>0</th>\n",
       "      <td>sbom_spec</td>\n",
       "      <td>10.0</td>\n",
       "      <td>provided sbom is in a supported sbom format of...</td>\n",
       "      <td>cdxgen</td>\n",
       "    </tr>\n",
       "    <tr>\n",
       "      <th>1</th>\n",
       "      <td>sbom_spec_version</td>\n",
       "      <td>10.0</td>\n",
       "      <td>provided sbom should be in supported spec vers...</td>\n",
       "      <td>cdxgen</td>\n",
       "    </tr>\n",
       "    <tr>\n",
       "      <th>2</th>\n",
       "      <td>sbom_spec_file_format</td>\n",
       "      <td>10.0</td>\n",
       "      <td>provided sbom should be in supported file form...</td>\n",
       "      <td>cdxgen</td>\n",
       "    </tr>\n",
       "    <tr>\n",
       "      <th>3</th>\n",
       "      <td>sbom_parsable</td>\n",
       "      <td>10.0</td>\n",
       "      <td>provided sbom is parsable</td>\n",
       "      <td>cdxgen</td>\n",
       "    </tr>\n",
       "  </tbody>\n",
       "</table>\n",
       "</div>"
      ],
      "text/plain": [
       "                 feature  score  \\\n",
       "0              sbom_spec   10.0   \n",
       "1      sbom_spec_version   10.0   \n",
       "2  sbom_spec_file_format   10.0   \n",
       "3          sbom_parsable   10.0   \n",
       "\n",
       "                                         description    tool  \n",
       "0  provided sbom is in a supported sbom format of...  cdxgen  \n",
       "1  provided sbom should be in supported spec vers...  cdxgen  \n",
       "2  provided sbom should be in supported file form...  cdxgen  \n",
       "3                          provided sbom is parsable  cdxgen  "
      ]
     },
     "metadata": {},
     "output_type": "display_data"
    },
    {
     "data": {
      "text/html": [
       "<hr>"
      ],
      "text/plain": [
       "<IPython.core.display.HTML object>"
      ]
     },
     "metadata": {},
     "output_type": "display_data"
    },
    {
     "data": {
      "text/html": [
       "<h3>Category: NTIA-minimum-elements (avg score: 7.14)"
      ],
      "text/plain": [
       "<IPython.core.display.HTML object>"
      ]
     },
     "metadata": {},
     "output_type": "display_data"
    },
    {
     "data": {
      "text/html": [
       "<div>\n",
       "<style scoped>\n",
       "    .dataframe tbody tr th:only-of-type {\n",
       "        vertical-align: middle;\n",
       "    }\n",
       "\n",
       "    .dataframe tbody tr th {\n",
       "        vertical-align: top;\n",
       "    }\n",
       "\n",
       "    .dataframe thead th {\n",
       "        text-align: right;\n",
       "    }\n",
       "</style>\n",
       "<table border=\"1\" class=\"dataframe\">\n",
       "  <thead>\n",
       "    <tr style=\"text-align: right;\">\n",
       "      <th></th>\n",
       "      <th>feature</th>\n",
       "      <th>score</th>\n",
       "      <th>description</th>\n",
       "      <th>tool</th>\n",
       "    </tr>\n",
       "  </thead>\n",
       "  <tbody>\n",
       "    <tr>\n",
       "      <th>4</th>\n",
       "      <td>comp_with_supplier</td>\n",
       "      <td>0.0</td>\n",
       "      <td>0/24 have supplier names</td>\n",
       "      <td>cdxgen</td>\n",
       "    </tr>\n",
       "    <tr>\n",
       "      <th>5</th>\n",
       "      <td>comp_with_name</td>\n",
       "      <td>10.0</td>\n",
       "      <td>24/24 have names</td>\n",
       "      <td>cdxgen</td>\n",
       "    </tr>\n",
       "    <tr>\n",
       "      <th>6</th>\n",
       "      <td>comp_with_version</td>\n",
       "      <td>10.0</td>\n",
       "      <td>24/24 have versions</td>\n",
       "      <td>cdxgen</td>\n",
       "    </tr>\n",
       "    <tr>\n",
       "      <th>7</th>\n",
       "      <td>comp_with_uniq_ids</td>\n",
       "      <td>10.0</td>\n",
       "      <td>24/24 have unique ID's</td>\n",
       "      <td>cdxgen</td>\n",
       "    </tr>\n",
       "    <tr>\n",
       "      <th>8</th>\n",
       "      <td>sbom_dependencies</td>\n",
       "      <td>0.0</td>\n",
       "      <td>doc has 0 relationships</td>\n",
       "      <td>cdxgen</td>\n",
       "    </tr>\n",
       "    <tr>\n",
       "      <th>9</th>\n",
       "      <td>sbom_authors</td>\n",
       "      <td>10.0</td>\n",
       "      <td>doc has 2 authors</td>\n",
       "      <td>cdxgen</td>\n",
       "    </tr>\n",
       "    <tr>\n",
       "      <th>10</th>\n",
       "      <td>sbom_creation_timestamp</td>\n",
       "      <td>10.0</td>\n",
       "      <td>doc has creation timestamp</td>\n",
       "      <td>cdxgen</td>\n",
       "    </tr>\n",
       "  </tbody>\n",
       "</table>\n",
       "</div>"
      ],
      "text/plain": [
       "                    feature  score                 description    tool\n",
       "4        comp_with_supplier    0.0    0/24 have supplier names  cdxgen\n",
       "5            comp_with_name   10.0            24/24 have names  cdxgen\n",
       "6         comp_with_version   10.0         24/24 have versions  cdxgen\n",
       "7        comp_with_uniq_ids   10.0      24/24 have unique ID's  cdxgen\n",
       "8         sbom_dependencies    0.0    doc has 0 relationships   cdxgen\n",
       "9              sbom_authors   10.0           doc has 2 authors  cdxgen\n",
       "10  sbom_creation_timestamp   10.0  doc has creation timestamp  cdxgen"
      ]
     },
     "metadata": {},
     "output_type": "display_data"
    },
    {
     "data": {
      "text/html": [
       "<hr>"
      ],
      "text/plain": [
       "<IPython.core.display.HTML object>"
      ]
     },
     "metadata": {},
     "output_type": "display_data"
    },
    {
     "data": {
      "text/html": [
       "<h3>Category: Semantic (avg score: 8.89)"
      ],
      "text/plain": [
       "<IPython.core.display.HTML object>"
      ]
     },
     "metadata": {},
     "output_type": "display_data"
    },
    {
     "data": {
      "text/html": [
       "<div>\n",
       "<style scoped>\n",
       "    .dataframe tbody tr th:only-of-type {\n",
       "        vertical-align: middle;\n",
       "    }\n",
       "\n",
       "    .dataframe tbody tr th {\n",
       "        vertical-align: top;\n",
       "    }\n",
       "\n",
       "    .dataframe thead th {\n",
       "        text-align: right;\n",
       "    }\n",
       "</style>\n",
       "<table border=\"1\" class=\"dataframe\">\n",
       "  <thead>\n",
       "    <tr style=\"text-align: right;\">\n",
       "      <th></th>\n",
       "      <th>feature</th>\n",
       "      <th>score</th>\n",
       "      <th>description</th>\n",
       "      <th>tool</th>\n",
       "    </tr>\n",
       "  </thead>\n",
       "  <tbody>\n",
       "    <tr>\n",
       "      <th>11</th>\n",
       "      <td>sbom_required_fields</td>\n",
       "      <td>10.000000</td>\n",
       "      <td>Doc Fields:true Pkg Fields:true</td>\n",
       "      <td>cdxgen</td>\n",
       "    </tr>\n",
       "    <tr>\n",
       "      <th>12</th>\n",
       "      <td>comp_with_licenses</td>\n",
       "      <td>6.666667</td>\n",
       "      <td>16/24 have licenses</td>\n",
       "      <td>cdxgen</td>\n",
       "    </tr>\n",
       "    <tr>\n",
       "      <th>13</th>\n",
       "      <td>comp_with_checksums</td>\n",
       "      <td>10.000000</td>\n",
       "      <td>24/24 have checksums</td>\n",
       "      <td>cdxgen</td>\n",
       "    </tr>\n",
       "  </tbody>\n",
       "</table>\n",
       "</div>"
      ],
      "text/plain": [
       "                 feature      score                      description    tool\n",
       "11  sbom_required_fields  10.000000  Doc Fields:true Pkg Fields:true  cdxgen\n",
       "12    comp_with_licenses   6.666667              16/24 have licenses  cdxgen\n",
       "13   comp_with_checksums  10.000000             24/24 have checksums  cdxgen"
      ]
     },
     "metadata": {},
     "output_type": "display_data"
    },
    {
     "data": {
      "text/html": [
       "<hr>"
      ],
      "text/plain": [
       "<IPython.core.display.HTML object>"
      ]
     },
     "metadata": {},
     "output_type": "display_data"
    },
    {
     "data": {
      "text/html": [
       "<h3>Category: Quality (avg score: 5.24)"
      ],
      "text/plain": [
       "<IPython.core.display.HTML object>"
      ]
     },
     "metadata": {},
     "output_type": "display_data"
    },
    {
     "data": {
      "text/html": [
       "<div>\n",
       "<style scoped>\n",
       "    .dataframe tbody tr th:only-of-type {\n",
       "        vertical-align: middle;\n",
       "    }\n",
       "\n",
       "    .dataframe tbody tr th {\n",
       "        vertical-align: top;\n",
       "    }\n",
       "\n",
       "    .dataframe thead th {\n",
       "        text-align: right;\n",
       "    }\n",
       "</style>\n",
       "<table border=\"1\" class=\"dataframe\">\n",
       "  <thead>\n",
       "    <tr style=\"text-align: right;\">\n",
       "      <th></th>\n",
       "      <th>feature</th>\n",
       "      <th>score</th>\n",
       "      <th>description</th>\n",
       "      <th>tool</th>\n",
       "    </tr>\n",
       "  </thead>\n",
       "  <tbody>\n",
       "    <tr>\n",
       "      <th>14</th>\n",
       "      <td>comp_valid_licenses</td>\n",
       "      <td>6.666667</td>\n",
       "      <td>16/24 components with valid license</td>\n",
       "      <td>cdxgen</td>\n",
       "    </tr>\n",
       "    <tr>\n",
       "      <th>15</th>\n",
       "      <td>comp_with_primary_purpose</td>\n",
       "      <td>0.000000</td>\n",
       "      <td>0/24 components have primary purpose specified</td>\n",
       "      <td>cdxgen</td>\n",
       "    </tr>\n",
       "    <tr>\n",
       "      <th>16</th>\n",
       "      <td>comp_with_deprecated_licenses</td>\n",
       "      <td>10.000000</td>\n",
       "      <td>0/24 components have deprecated licenses</td>\n",
       "      <td>cdxgen</td>\n",
       "    </tr>\n",
       "    <tr>\n",
       "      <th>17</th>\n",
       "      <td>comp_with_restrictive_licenses</td>\n",
       "      <td>10.000000</td>\n",
       "      <td>0/24 components have restricted licenses</td>\n",
       "      <td>cdxgen</td>\n",
       "    </tr>\n",
       "    <tr>\n",
       "      <th>18</th>\n",
       "      <td>comp_with_any_vuln_lookup_id</td>\n",
       "      <td>0.000000</td>\n",
       "      <td>0/24 components have any lookup id</td>\n",
       "      <td>cdxgen</td>\n",
       "    </tr>\n",
       "    <tr>\n",
       "      <th>19</th>\n",
       "      <td>comp_with_multi_vuln_lookup_id</td>\n",
       "      <td>0.000000</td>\n",
       "      <td>0/24 components have multiple lookup id</td>\n",
       "      <td>cdxgen</td>\n",
       "    </tr>\n",
       "    <tr>\n",
       "      <th>20</th>\n",
       "      <td>sbom_with_creator_and_version</td>\n",
       "      <td>10.000000</td>\n",
       "      <td>1/1 tools have creator and version</td>\n",
       "      <td>cdxgen</td>\n",
       "    </tr>\n",
       "  </tbody>\n",
       "</table>\n",
       "</div>"
      ],
      "text/plain": [
       "                           feature      score  \\\n",
       "14             comp_valid_licenses   6.666667   \n",
       "15       comp_with_primary_purpose   0.000000   \n",
       "16   comp_with_deprecated_licenses  10.000000   \n",
       "17  comp_with_restrictive_licenses  10.000000   \n",
       "18    comp_with_any_vuln_lookup_id   0.000000   \n",
       "19  comp_with_multi_vuln_lookup_id   0.000000   \n",
       "20   sbom_with_creator_and_version  10.000000   \n",
       "\n",
       "                                       description    tool  \n",
       "14            16/24 components with valid license   cdxgen  \n",
       "15  0/24 components have primary purpose specified  cdxgen  \n",
       "16        0/24 components have deprecated licenses  cdxgen  \n",
       "17        0/24 components have restricted licenses  cdxgen  \n",
       "18              0/24 components have any lookup id  cdxgen  \n",
       "19         0/24 components have multiple lookup id  cdxgen  \n",
       "20              1/1 tools have creator and version  cdxgen  "
      ]
     },
     "metadata": {},
     "output_type": "display_data"
    },
    {
     "data": {
      "text/html": [
       "<hr>"
      ],
      "text/plain": [
       "<IPython.core.display.HTML object>"
      ]
     },
     "metadata": {},
     "output_type": "display_data"
    },
    {
     "data": {
      "text/html": [
       "<h3>Category: Sharing (avg score: 10.00)"
      ],
      "text/plain": [
       "<IPython.core.display.HTML object>"
      ]
     },
     "metadata": {},
     "output_type": "display_data"
    },
    {
     "data": {
      "text/html": [
       "<div>\n",
       "<style scoped>\n",
       "    .dataframe tbody tr th:only-of-type {\n",
       "        vertical-align: middle;\n",
       "    }\n",
       "\n",
       "    .dataframe tbody tr th {\n",
       "        vertical-align: top;\n",
       "    }\n",
       "\n",
       "    .dataframe thead th {\n",
       "        text-align: right;\n",
       "    }\n",
       "</style>\n",
       "<table border=\"1\" class=\"dataframe\">\n",
       "  <thead>\n",
       "    <tr style=\"text-align: right;\">\n",
       "      <th></th>\n",
       "      <th>feature</th>\n",
       "      <th>score</th>\n",
       "      <th>description</th>\n",
       "      <th>tool</th>\n",
       "    </tr>\n",
       "  </thead>\n",
       "  <tbody>\n",
       "    <tr>\n",
       "      <th>21</th>\n",
       "      <td>sbom_sharable</td>\n",
       "      <td>10.0</td>\n",
       "      <td>doc has a sharable license free 1 :: of 1</td>\n",
       "      <td>cdxgen</td>\n",
       "    </tr>\n",
       "  </tbody>\n",
       "</table>\n",
       "</div>"
      ],
      "text/plain": [
       "          feature  score                                description    tool\n",
       "21  sbom_sharable   10.0  doc has a sharable license free 1 :: of 1  cdxgen"
      ]
     },
     "metadata": {},
     "output_type": "display_data"
    },
    {
     "data": {
      "text/html": [
       "<hr>"
      ],
      "text/plain": [
       "<IPython.core.display.HTML object>"
      ]
     },
     "metadata": {},
     "output_type": "display_data"
    },
    {
     "data": {
      "text/html": [
       "<h2>Tool: sbom4python (avg score: 3.86)</h2>"
      ],
      "text/plain": [
       "<IPython.core.display.HTML object>"
      ]
     },
     "metadata": {},
     "output_type": "display_data"
    },
    {
     "data": {
      "text/html": [
       "<h3>Category: Structural (avg score: 10.00)"
      ],
      "text/plain": [
       "<IPython.core.display.HTML object>"
      ]
     },
     "metadata": {},
     "output_type": "display_data"
    },
    {
     "data": {
      "text/html": [
       "<div>\n",
       "<style scoped>\n",
       "    .dataframe tbody tr th:only-of-type {\n",
       "        vertical-align: middle;\n",
       "    }\n",
       "\n",
       "    .dataframe tbody tr th {\n",
       "        vertical-align: top;\n",
       "    }\n",
       "\n",
       "    .dataframe thead th {\n",
       "        text-align: right;\n",
       "    }\n",
       "</style>\n",
       "<table border=\"1\" class=\"dataframe\">\n",
       "  <thead>\n",
       "    <tr style=\"text-align: right;\">\n",
       "      <th></th>\n",
       "      <th>feature</th>\n",
       "      <th>score</th>\n",
       "      <th>description</th>\n",
       "      <th>tool</th>\n",
       "    </tr>\n",
       "  </thead>\n",
       "  <tbody>\n",
       "    <tr>\n",
       "      <th>0</th>\n",
       "      <td>sbom_spec</td>\n",
       "      <td>10.0</td>\n",
       "      <td>provided sbom is in a supported sbom format of...</td>\n",
       "      <td>sbom4python</td>\n",
       "    </tr>\n",
       "    <tr>\n",
       "      <th>1</th>\n",
       "      <td>sbom_spec_version</td>\n",
       "      <td>10.0</td>\n",
       "      <td>provided sbom should be in supported spec vers...</td>\n",
       "      <td>sbom4python</td>\n",
       "    </tr>\n",
       "    <tr>\n",
       "      <th>2</th>\n",
       "      <td>sbom_spec_file_format</td>\n",
       "      <td>10.0</td>\n",
       "      <td>provided sbom should be in supported file form...</td>\n",
       "      <td>sbom4python</td>\n",
       "    </tr>\n",
       "    <tr>\n",
       "      <th>3</th>\n",
       "      <td>sbom_parsable</td>\n",
       "      <td>10.0</td>\n",
       "      <td>provided sbom is parsable</td>\n",
       "      <td>sbom4python</td>\n",
       "    </tr>\n",
       "  </tbody>\n",
       "</table>\n",
       "</div>"
      ],
      "text/plain": [
       "                 feature  score  \\\n",
       "0              sbom_spec   10.0   \n",
       "1      sbom_spec_version   10.0   \n",
       "2  sbom_spec_file_format   10.0   \n",
       "3          sbom_parsable   10.0   \n",
       "\n",
       "                                         description         tool  \n",
       "0  provided sbom is in a supported sbom format of...  sbom4python  \n",
       "1  provided sbom should be in supported spec vers...  sbom4python  \n",
       "2  provided sbom should be in supported file form...  sbom4python  \n",
       "3                          provided sbom is parsable  sbom4python  "
      ]
     },
     "metadata": {},
     "output_type": "display_data"
    },
    {
     "data": {
      "text/html": [
       "<hr>"
      ],
      "text/plain": [
       "<IPython.core.display.HTML object>"
      ]
     },
     "metadata": {},
     "output_type": "display_data"
    },
    {
     "data": {
      "text/html": [
       "<h3>Category: NTIA-minimum-elements (avg score: 2.86)"
      ],
      "text/plain": [
       "<IPython.core.display.HTML object>"
      ]
     },
     "metadata": {},
     "output_type": "display_data"
    },
    {
     "data": {
      "text/html": [
       "<div>\n",
       "<style scoped>\n",
       "    .dataframe tbody tr th:only-of-type {\n",
       "        vertical-align: middle;\n",
       "    }\n",
       "\n",
       "    .dataframe tbody tr th {\n",
       "        vertical-align: top;\n",
       "    }\n",
       "\n",
       "    .dataframe thead th {\n",
       "        text-align: right;\n",
       "    }\n",
       "</style>\n",
       "<table border=\"1\" class=\"dataframe\">\n",
       "  <thead>\n",
       "    <tr style=\"text-align: right;\">\n",
       "      <th></th>\n",
       "      <th>feature</th>\n",
       "      <th>score</th>\n",
       "      <th>description</th>\n",
       "      <th>tool</th>\n",
       "    </tr>\n",
       "  </thead>\n",
       "  <tbody>\n",
       "    <tr>\n",
       "      <th>4</th>\n",
       "      <td>comp_with_supplier</td>\n",
       "      <td>0.0</td>\n",
       "      <td>N/A (no components)</td>\n",
       "      <td>sbom4python</td>\n",
       "    </tr>\n",
       "    <tr>\n",
       "      <th>5</th>\n",
       "      <td>comp_with_name</td>\n",
       "      <td>0.0</td>\n",
       "      <td>N/A (no components)</td>\n",
       "      <td>sbom4python</td>\n",
       "    </tr>\n",
       "    <tr>\n",
       "      <th>6</th>\n",
       "      <td>comp_with_version</td>\n",
       "      <td>0.0</td>\n",
       "      <td>N/A (no components)</td>\n",
       "      <td>sbom4python</td>\n",
       "    </tr>\n",
       "    <tr>\n",
       "      <th>7</th>\n",
       "      <td>comp_with_uniq_ids</td>\n",
       "      <td>0.0</td>\n",
       "      <td>N/A (no components)</td>\n",
       "      <td>sbom4python</td>\n",
       "    </tr>\n",
       "    <tr>\n",
       "      <th>8</th>\n",
       "      <td>sbom_dependencies</td>\n",
       "      <td>0.0</td>\n",
       "      <td>doc has 0 relationships</td>\n",
       "      <td>sbom4python</td>\n",
       "    </tr>\n",
       "    <tr>\n",
       "      <th>9</th>\n",
       "      <td>sbom_authors</td>\n",
       "      <td>10.0</td>\n",
       "      <td>doc has 1 authors</td>\n",
       "      <td>sbom4python</td>\n",
       "    </tr>\n",
       "    <tr>\n",
       "      <th>10</th>\n",
       "      <td>sbom_creation_timestamp</td>\n",
       "      <td>10.0</td>\n",
       "      <td>doc has creation timestamp</td>\n",
       "      <td>sbom4python</td>\n",
       "    </tr>\n",
       "  </tbody>\n",
       "</table>\n",
       "</div>"
      ],
      "text/plain": [
       "                    feature  score                 description         tool\n",
       "4        comp_with_supplier    0.0         N/A (no components)  sbom4python\n",
       "5            comp_with_name    0.0         N/A (no components)  sbom4python\n",
       "6         comp_with_version    0.0         N/A (no components)  sbom4python\n",
       "7        comp_with_uniq_ids    0.0         N/A (no components)  sbom4python\n",
       "8         sbom_dependencies    0.0    doc has 0 relationships   sbom4python\n",
       "9              sbom_authors   10.0           doc has 1 authors  sbom4python\n",
       "10  sbom_creation_timestamp   10.0  doc has creation timestamp  sbom4python"
      ]
     },
     "metadata": {},
     "output_type": "display_data"
    },
    {
     "data": {
      "text/html": [
       "<hr>"
      ],
      "text/plain": [
       "<IPython.core.display.HTML object>"
      ]
     },
     "metadata": {},
     "output_type": "display_data"
    },
    {
     "data": {
      "text/html": [
       "<h3>Category: Semantic (avg score: 1.67)"
      ],
      "text/plain": [
       "<IPython.core.display.HTML object>"
      ]
     },
     "metadata": {},
     "output_type": "display_data"
    },
    {
     "data": {
      "text/html": [
       "<div>\n",
       "<style scoped>\n",
       "    .dataframe tbody tr th:only-of-type {\n",
       "        vertical-align: middle;\n",
       "    }\n",
       "\n",
       "    .dataframe tbody tr th {\n",
       "        vertical-align: top;\n",
       "    }\n",
       "\n",
       "    .dataframe thead th {\n",
       "        text-align: right;\n",
       "    }\n",
       "</style>\n",
       "<table border=\"1\" class=\"dataframe\">\n",
       "  <thead>\n",
       "    <tr style=\"text-align: right;\">\n",
       "      <th></th>\n",
       "      <th>feature</th>\n",
       "      <th>score</th>\n",
       "      <th>description</th>\n",
       "      <th>tool</th>\n",
       "    </tr>\n",
       "  </thead>\n",
       "  <tbody>\n",
       "    <tr>\n",
       "      <th>11</th>\n",
       "      <td>sbom_required_fields</td>\n",
       "      <td>5.0</td>\n",
       "      <td>Doc Fields:true Pkg Fields:false</td>\n",
       "      <td>sbom4python</td>\n",
       "    </tr>\n",
       "    <tr>\n",
       "      <th>12</th>\n",
       "      <td>comp_with_licenses</td>\n",
       "      <td>0.0</td>\n",
       "      <td>N/A (no components)</td>\n",
       "      <td>sbom4python</td>\n",
       "    </tr>\n",
       "    <tr>\n",
       "      <th>13</th>\n",
       "      <td>comp_with_checksums</td>\n",
       "      <td>0.0</td>\n",
       "      <td>N/A (no components)</td>\n",
       "      <td>sbom4python</td>\n",
       "    </tr>\n",
       "  </tbody>\n",
       "</table>\n",
       "</div>"
      ],
      "text/plain": [
       "                 feature  score                       description         tool\n",
       "11  sbom_required_fields    5.0  Doc Fields:true Pkg Fields:false  sbom4python\n",
       "12    comp_with_licenses    0.0               N/A (no components)  sbom4python\n",
       "13   comp_with_checksums    0.0               N/A (no components)  sbom4python"
      ]
     },
     "metadata": {},
     "output_type": "display_data"
    },
    {
     "data": {
      "text/html": [
       "<hr>"
      ],
      "text/plain": [
       "<IPython.core.display.HTML object>"
      ]
     },
     "metadata": {},
     "output_type": "display_data"
    },
    {
     "data": {
      "text/html": [
       "<h3>Category: Quality (avg score: 1.43)"
      ],
      "text/plain": [
       "<IPython.core.display.HTML object>"
      ]
     },
     "metadata": {},
     "output_type": "display_data"
    },
    {
     "data": {
      "text/html": [
       "<div>\n",
       "<style scoped>\n",
       "    .dataframe tbody tr th:only-of-type {\n",
       "        vertical-align: middle;\n",
       "    }\n",
       "\n",
       "    .dataframe tbody tr th {\n",
       "        vertical-align: top;\n",
       "    }\n",
       "\n",
       "    .dataframe thead th {\n",
       "        text-align: right;\n",
       "    }\n",
       "</style>\n",
       "<table border=\"1\" class=\"dataframe\">\n",
       "  <thead>\n",
       "    <tr style=\"text-align: right;\">\n",
       "      <th></th>\n",
       "      <th>feature</th>\n",
       "      <th>score</th>\n",
       "      <th>description</th>\n",
       "      <th>tool</th>\n",
       "    </tr>\n",
       "  </thead>\n",
       "  <tbody>\n",
       "    <tr>\n",
       "      <th>14</th>\n",
       "      <td>comp_valid_licenses</td>\n",
       "      <td>0.0</td>\n",
       "      <td>N/A (no components)</td>\n",
       "      <td>sbom4python</td>\n",
       "    </tr>\n",
       "    <tr>\n",
       "      <th>15</th>\n",
       "      <td>comp_with_primary_purpose</td>\n",
       "      <td>0.0</td>\n",
       "      <td>N/A (no components)</td>\n",
       "      <td>sbom4python</td>\n",
       "    </tr>\n",
       "    <tr>\n",
       "      <th>16</th>\n",
       "      <td>comp_with_deprecated_licenses</td>\n",
       "      <td>0.0</td>\n",
       "      <td>N/A (no components)</td>\n",
       "      <td>sbom4python</td>\n",
       "    </tr>\n",
       "    <tr>\n",
       "      <th>17</th>\n",
       "      <td>comp_with_restrictive_licenses</td>\n",
       "      <td>0.0</td>\n",
       "      <td>N/A (no components)</td>\n",
       "      <td>sbom4python</td>\n",
       "    </tr>\n",
       "    <tr>\n",
       "      <th>18</th>\n",
       "      <td>comp_with_any_vuln_lookup_id</td>\n",
       "      <td>0.0</td>\n",
       "      <td>N/A (no components)</td>\n",
       "      <td>sbom4python</td>\n",
       "    </tr>\n",
       "    <tr>\n",
       "      <th>19</th>\n",
       "      <td>comp_with_multi_vuln_lookup_id</td>\n",
       "      <td>0.0</td>\n",
       "      <td>N/A (no components)</td>\n",
       "      <td>sbom4python</td>\n",
       "    </tr>\n",
       "    <tr>\n",
       "      <th>20</th>\n",
       "      <td>sbom_with_creator_and_version</td>\n",
       "      <td>10.0</td>\n",
       "      <td>1/1 tools have creator and version</td>\n",
       "      <td>sbom4python</td>\n",
       "    </tr>\n",
       "  </tbody>\n",
       "</table>\n",
       "</div>"
      ],
      "text/plain": [
       "                           feature  score                         description  \\\n",
       "14             comp_valid_licenses    0.0                 N/A (no components)   \n",
       "15       comp_with_primary_purpose    0.0                 N/A (no components)   \n",
       "16   comp_with_deprecated_licenses    0.0                 N/A (no components)   \n",
       "17  comp_with_restrictive_licenses    0.0                 N/A (no components)   \n",
       "18    comp_with_any_vuln_lookup_id    0.0                 N/A (no components)   \n",
       "19  comp_with_multi_vuln_lookup_id    0.0                 N/A (no components)   \n",
       "20   sbom_with_creator_and_version   10.0  1/1 tools have creator and version   \n",
       "\n",
       "           tool  \n",
       "14  sbom4python  \n",
       "15  sbom4python  \n",
       "16  sbom4python  \n",
       "17  sbom4python  \n",
       "18  sbom4python  \n",
       "19  sbom4python  \n",
       "20  sbom4python  "
      ]
     },
     "metadata": {},
     "output_type": "display_data"
    },
    {
     "data": {
      "text/html": [
       "<hr>"
      ],
      "text/plain": [
       "<IPython.core.display.HTML object>"
      ]
     },
     "metadata": {},
     "output_type": "display_data"
    },
    {
     "data": {
      "text/html": [
       "<h3>Category: Sharing (avg score: 10.00)"
      ],
      "text/plain": [
       "<IPython.core.display.HTML object>"
      ]
     },
     "metadata": {},
     "output_type": "display_data"
    },
    {
     "data": {
      "text/html": [
       "<div>\n",
       "<style scoped>\n",
       "    .dataframe tbody tr th:only-of-type {\n",
       "        vertical-align: middle;\n",
       "    }\n",
       "\n",
       "    .dataframe tbody tr th {\n",
       "        vertical-align: top;\n",
       "    }\n",
       "\n",
       "    .dataframe thead th {\n",
       "        text-align: right;\n",
       "    }\n",
       "</style>\n",
       "<table border=\"1\" class=\"dataframe\">\n",
       "  <thead>\n",
       "    <tr style=\"text-align: right;\">\n",
       "      <th></th>\n",
       "      <th>feature</th>\n",
       "      <th>score</th>\n",
       "      <th>description</th>\n",
       "      <th>tool</th>\n",
       "    </tr>\n",
       "  </thead>\n",
       "  <tbody>\n",
       "    <tr>\n",
       "      <th>21</th>\n",
       "      <td>sbom_sharable</td>\n",
       "      <td>10.0</td>\n",
       "      <td>doc has a sharable license free 1 :: of 1</td>\n",
       "      <td>sbom4python</td>\n",
       "    </tr>\n",
       "  </tbody>\n",
       "</table>\n",
       "</div>"
      ],
      "text/plain": [
       "          feature  score                                description  \\\n",
       "21  sbom_sharable   10.0  doc has a sharable license free 1 :: of 1   \n",
       "\n",
       "           tool  \n",
       "21  sbom4python  "
      ]
     },
     "metadata": {},
     "output_type": "display_data"
    },
    {
     "data": {
      "text/html": [
       "<hr>"
      ],
      "text/plain": [
       "<IPython.core.display.HTML object>"
      ]
     },
     "metadata": {},
     "output_type": "display_data"
    },
    {
     "data": {
      "text/html": [
       "<h2>Tool: syft (avg score: 6.82)</h2>"
      ],
      "text/plain": [
       "<IPython.core.display.HTML object>"
      ]
     },
     "metadata": {},
     "output_type": "display_data"
    },
    {
     "data": {
      "text/html": [
       "<h3>Category: Structural (avg score: 10.00)"
      ],
      "text/plain": [
       "<IPython.core.display.HTML object>"
      ]
     },
     "metadata": {},
     "output_type": "display_data"
    },
    {
     "data": {
      "text/html": [
       "<div>\n",
       "<style scoped>\n",
       "    .dataframe tbody tr th:only-of-type {\n",
       "        vertical-align: middle;\n",
       "    }\n",
       "\n",
       "    .dataframe tbody tr th {\n",
       "        vertical-align: top;\n",
       "    }\n",
       "\n",
       "    .dataframe thead th {\n",
       "        text-align: right;\n",
       "    }\n",
       "</style>\n",
       "<table border=\"1\" class=\"dataframe\">\n",
       "  <thead>\n",
       "    <tr style=\"text-align: right;\">\n",
       "      <th></th>\n",
       "      <th>feature</th>\n",
       "      <th>score</th>\n",
       "      <th>description</th>\n",
       "      <th>tool</th>\n",
       "    </tr>\n",
       "  </thead>\n",
       "  <tbody>\n",
       "    <tr>\n",
       "      <th>0</th>\n",
       "      <td>sbom_spec</td>\n",
       "      <td>10.0</td>\n",
       "      <td>provided sbom is in a supported sbom format of...</td>\n",
       "      <td>syft</td>\n",
       "    </tr>\n",
       "    <tr>\n",
       "      <th>1</th>\n",
       "      <td>sbom_spec_version</td>\n",
       "      <td>10.0</td>\n",
       "      <td>provided sbom should be in supported spec vers...</td>\n",
       "      <td>syft</td>\n",
       "    </tr>\n",
       "    <tr>\n",
       "      <th>2</th>\n",
       "      <td>sbom_spec_file_format</td>\n",
       "      <td>10.0</td>\n",
       "      <td>provided sbom should be in supported file form...</td>\n",
       "      <td>syft</td>\n",
       "    </tr>\n",
       "    <tr>\n",
       "      <th>3</th>\n",
       "      <td>sbom_parsable</td>\n",
       "      <td>10.0</td>\n",
       "      <td>provided sbom is parsable</td>\n",
       "      <td>syft</td>\n",
       "    </tr>\n",
       "  </tbody>\n",
       "</table>\n",
       "</div>"
      ],
      "text/plain": [
       "                 feature  score  \\\n",
       "0              sbom_spec   10.0   \n",
       "1      sbom_spec_version   10.0   \n",
       "2  sbom_spec_file_format   10.0   \n",
       "3          sbom_parsable   10.0   \n",
       "\n",
       "                                         description  tool  \n",
       "0  provided sbom is in a supported sbom format of...  syft  \n",
       "1  provided sbom should be in supported spec vers...  syft  \n",
       "2  provided sbom should be in supported file form...  syft  \n",
       "3                          provided sbom is parsable  syft  "
      ]
     },
     "metadata": {},
     "output_type": "display_data"
    },
    {
     "data": {
      "text/html": [
       "<hr>"
      ],
      "text/plain": [
       "<IPython.core.display.HTML object>"
      ]
     },
     "metadata": {},
     "output_type": "display_data"
    },
    {
     "data": {
      "text/html": [
       "<h3>Category: NTIA-minimum-elements (avg score: 8.57)"
      ],
      "text/plain": [
       "<IPython.core.display.HTML object>"
      ]
     },
     "metadata": {},
     "output_type": "display_data"
    },
    {
     "data": {
      "text/html": [
       "<div>\n",
       "<style scoped>\n",
       "    .dataframe tbody tr th:only-of-type {\n",
       "        vertical-align: middle;\n",
       "    }\n",
       "\n",
       "    .dataframe tbody tr th {\n",
       "        vertical-align: top;\n",
       "    }\n",
       "\n",
       "    .dataframe thead th {\n",
       "        text-align: right;\n",
       "    }\n",
       "</style>\n",
       "<table border=\"1\" class=\"dataframe\">\n",
       "  <thead>\n",
       "    <tr style=\"text-align: right;\">\n",
       "      <th></th>\n",
       "      <th>feature</th>\n",
       "      <th>score</th>\n",
       "      <th>description</th>\n",
       "      <th>tool</th>\n",
       "    </tr>\n",
       "  </thead>\n",
       "  <tbody>\n",
       "    <tr>\n",
       "      <th>4</th>\n",
       "      <td>comp_with_supplier</td>\n",
       "      <td>0.0</td>\n",
       "      <td>0/201 have supplier names</td>\n",
       "      <td>syft</td>\n",
       "    </tr>\n",
       "    <tr>\n",
       "      <th>5</th>\n",
       "      <td>comp_with_name</td>\n",
       "      <td>10.0</td>\n",
       "      <td>201/201 have names</td>\n",
       "      <td>syft</td>\n",
       "    </tr>\n",
       "    <tr>\n",
       "      <th>6</th>\n",
       "      <td>comp_with_version</td>\n",
       "      <td>10.0</td>\n",
       "      <td>201/201 have versions</td>\n",
       "      <td>syft</td>\n",
       "    </tr>\n",
       "    <tr>\n",
       "      <th>7</th>\n",
       "      <td>comp_with_uniq_ids</td>\n",
       "      <td>10.0</td>\n",
       "      <td>201/201 have unique ID's</td>\n",
       "      <td>syft</td>\n",
       "    </tr>\n",
       "    <tr>\n",
       "      <th>8</th>\n",
       "      <td>sbom_dependencies</td>\n",
       "      <td>10.0</td>\n",
       "      <td>doc has 1 relationships</td>\n",
       "      <td>syft</td>\n",
       "    </tr>\n",
       "    <tr>\n",
       "      <th>9</th>\n",
       "      <td>sbom_authors</td>\n",
       "      <td>10.0</td>\n",
       "      <td>doc has 2 authors</td>\n",
       "      <td>syft</td>\n",
       "    </tr>\n",
       "    <tr>\n",
       "      <th>10</th>\n",
       "      <td>sbom_creation_timestamp</td>\n",
       "      <td>10.0</td>\n",
       "      <td>doc has creation timestamp</td>\n",
       "      <td>syft</td>\n",
       "    </tr>\n",
       "  </tbody>\n",
       "</table>\n",
       "</div>"
      ],
      "text/plain": [
       "                    feature  score                 description  tool\n",
       "4        comp_with_supplier    0.0   0/201 have supplier names  syft\n",
       "5            comp_with_name   10.0          201/201 have names  syft\n",
       "6         comp_with_version   10.0       201/201 have versions  syft\n",
       "7        comp_with_uniq_ids   10.0    201/201 have unique ID's  syft\n",
       "8         sbom_dependencies   10.0    doc has 1 relationships   syft\n",
       "9              sbom_authors   10.0           doc has 2 authors  syft\n",
       "10  sbom_creation_timestamp   10.0  doc has creation timestamp  syft"
      ]
     },
     "metadata": {},
     "output_type": "display_data"
    },
    {
     "data": {
      "text/html": [
       "<hr>"
      ],
      "text/plain": [
       "<IPython.core.display.HTML object>"
      ]
     },
     "metadata": {},
     "output_type": "display_data"
    },
    {
     "data": {
      "text/html": [
       "<h3>Category: Semantic (avg score: 3.35)"
      ],
      "text/plain": [
       "<IPython.core.display.HTML object>"
      ]
     },
     "metadata": {},
     "output_type": "display_data"
    },
    {
     "data": {
      "text/html": [
       "<div>\n",
       "<style scoped>\n",
       "    .dataframe tbody tr th:only-of-type {\n",
       "        vertical-align: middle;\n",
       "    }\n",
       "\n",
       "    .dataframe tbody tr th {\n",
       "        vertical-align: top;\n",
       "    }\n",
       "\n",
       "    .dataframe thead th {\n",
       "        text-align: right;\n",
       "    }\n",
       "</style>\n",
       "<table border=\"1\" class=\"dataframe\">\n",
       "  <thead>\n",
       "    <tr style=\"text-align: right;\">\n",
       "      <th></th>\n",
       "      <th>feature</th>\n",
       "      <th>score</th>\n",
       "      <th>description</th>\n",
       "      <th>tool</th>\n",
       "    </tr>\n",
       "  </thead>\n",
       "  <tbody>\n",
       "    <tr>\n",
       "      <th>11</th>\n",
       "      <td>sbom_required_fields</td>\n",
       "      <td>10.000000</td>\n",
       "      <td>Doc Fields:true Pkg Fields:true</td>\n",
       "      <td>syft</td>\n",
       "    </tr>\n",
       "    <tr>\n",
       "      <th>12</th>\n",
       "      <td>comp_with_licenses</td>\n",
       "      <td>0.000000</td>\n",
       "      <td>0/201 have licenses</td>\n",
       "      <td>syft</td>\n",
       "    </tr>\n",
       "    <tr>\n",
       "      <th>13</th>\n",
       "      <td>comp_with_checksums</td>\n",
       "      <td>0.049751</td>\n",
       "      <td>1/201 have checksums</td>\n",
       "      <td>syft</td>\n",
       "    </tr>\n",
       "  </tbody>\n",
       "</table>\n",
       "</div>"
      ],
      "text/plain": [
       "                 feature      score                      description  tool\n",
       "11  sbom_required_fields  10.000000  Doc Fields:true Pkg Fields:true  syft\n",
       "12    comp_with_licenses   0.000000              0/201 have licenses  syft\n",
       "13   comp_with_checksums   0.049751             1/201 have checksums  syft"
      ]
     },
     "metadata": {},
     "output_type": "display_data"
    },
    {
     "data": {
      "text/html": [
       "<hr>"
      ],
      "text/plain": [
       "<IPython.core.display.HTML object>"
      ]
     },
     "metadata": {},
     "output_type": "display_data"
    },
    {
     "data": {
      "text/html": [
       "<h3>Category: Quality (avg score: 4.29)"
      ],
      "text/plain": [
       "<IPython.core.display.HTML object>"
      ]
     },
     "metadata": {},
     "output_type": "display_data"
    },
    {
     "data": {
      "text/html": [
       "<div>\n",
       "<style scoped>\n",
       "    .dataframe tbody tr th:only-of-type {\n",
       "        vertical-align: middle;\n",
       "    }\n",
       "\n",
       "    .dataframe tbody tr th {\n",
       "        vertical-align: top;\n",
       "    }\n",
       "\n",
       "    .dataframe thead th {\n",
       "        text-align: right;\n",
       "    }\n",
       "</style>\n",
       "<table border=\"1\" class=\"dataframe\">\n",
       "  <thead>\n",
       "    <tr style=\"text-align: right;\">\n",
       "      <th></th>\n",
       "      <th>feature</th>\n",
       "      <th>score</th>\n",
       "      <th>description</th>\n",
       "      <th>tool</th>\n",
       "    </tr>\n",
       "  </thead>\n",
       "  <tbody>\n",
       "    <tr>\n",
       "      <th>14</th>\n",
       "      <td>comp_valid_licenses</td>\n",
       "      <td>0.0</td>\n",
       "      <td>0/201 components with valid license</td>\n",
       "      <td>syft</td>\n",
       "    </tr>\n",
       "    <tr>\n",
       "      <th>15</th>\n",
       "      <td>comp_with_primary_purpose</td>\n",
       "      <td>0.0</td>\n",
       "      <td>0/201 components have primary purpose specified</td>\n",
       "      <td>syft</td>\n",
       "    </tr>\n",
       "    <tr>\n",
       "      <th>16</th>\n",
       "      <td>comp_with_deprecated_licenses</td>\n",
       "      <td>0.0</td>\n",
       "      <td>no licenses found</td>\n",
       "      <td>syft</td>\n",
       "    </tr>\n",
       "    <tr>\n",
       "      <th>17</th>\n",
       "      <td>comp_with_restrictive_licenses</td>\n",
       "      <td>0.0</td>\n",
       "      <td>no licenses found</td>\n",
       "      <td>syft</td>\n",
       "    </tr>\n",
       "    <tr>\n",
       "      <th>18</th>\n",
       "      <td>comp_with_any_vuln_lookup_id</td>\n",
       "      <td>10.0</td>\n",
       "      <td>201/201 components have any lookup id</td>\n",
       "      <td>syft</td>\n",
       "    </tr>\n",
       "    <tr>\n",
       "      <th>19</th>\n",
       "      <td>comp_with_multi_vuln_lookup_id</td>\n",
       "      <td>10.0</td>\n",
       "      <td>201/201 components have multiple lookup id</td>\n",
       "      <td>syft</td>\n",
       "    </tr>\n",
       "    <tr>\n",
       "      <th>20</th>\n",
       "      <td>sbom_with_creator_and_version</td>\n",
       "      <td>10.0</td>\n",
       "      <td>1/1 tools have creator and version</td>\n",
       "      <td>syft</td>\n",
       "    </tr>\n",
       "  </tbody>\n",
       "</table>\n",
       "</div>"
      ],
      "text/plain": [
       "                           feature  score  \\\n",
       "14             comp_valid_licenses    0.0   \n",
       "15       comp_with_primary_purpose    0.0   \n",
       "16   comp_with_deprecated_licenses    0.0   \n",
       "17  comp_with_restrictive_licenses    0.0   \n",
       "18    comp_with_any_vuln_lookup_id   10.0   \n",
       "19  comp_with_multi_vuln_lookup_id   10.0   \n",
       "20   sbom_with_creator_and_version   10.0   \n",
       "\n",
       "                                        description  tool  \n",
       "14             0/201 components with valid license   syft  \n",
       "15  0/201 components have primary purpose specified  syft  \n",
       "16                                no licenses found  syft  \n",
       "17                                no licenses found  syft  \n",
       "18            201/201 components have any lookup id  syft  \n",
       "19       201/201 components have multiple lookup id  syft  \n",
       "20               1/1 tools have creator and version  syft  "
      ]
     },
     "metadata": {},
     "output_type": "display_data"
    },
    {
     "data": {
      "text/html": [
       "<hr>"
      ],
      "text/plain": [
       "<IPython.core.display.HTML object>"
      ]
     },
     "metadata": {},
     "output_type": "display_data"
    },
    {
     "data": {
      "text/html": [
       "<h3>Category: Sharing (avg score: 10.00)"
      ],
      "text/plain": [
       "<IPython.core.display.HTML object>"
      ]
     },
     "metadata": {},
     "output_type": "display_data"
    },
    {
     "data": {
      "text/html": [
       "<div>\n",
       "<style scoped>\n",
       "    .dataframe tbody tr th:only-of-type {\n",
       "        vertical-align: middle;\n",
       "    }\n",
       "\n",
       "    .dataframe tbody tr th {\n",
       "        vertical-align: top;\n",
       "    }\n",
       "\n",
       "    .dataframe thead th {\n",
       "        text-align: right;\n",
       "    }\n",
       "</style>\n",
       "<table border=\"1\" class=\"dataframe\">\n",
       "  <thead>\n",
       "    <tr style=\"text-align: right;\">\n",
       "      <th></th>\n",
       "      <th>feature</th>\n",
       "      <th>score</th>\n",
       "      <th>description</th>\n",
       "      <th>tool</th>\n",
       "    </tr>\n",
       "  </thead>\n",
       "  <tbody>\n",
       "    <tr>\n",
       "      <th>21</th>\n",
       "      <td>sbom_sharable</td>\n",
       "      <td>10.0</td>\n",
       "      <td>doc has a sharable license free 1 :: of 1</td>\n",
       "      <td>syft</td>\n",
       "    </tr>\n",
       "  </tbody>\n",
       "</table>\n",
       "</div>"
      ],
      "text/plain": [
       "          feature  score                                description  tool\n",
       "21  sbom_sharable   10.0  doc has a sharable license free 1 :: of 1  syft"
      ]
     },
     "metadata": {},
     "output_type": "display_data"
    },
    {
     "data": {
      "text/html": [
       "<hr>"
      ],
      "text/plain": [
       "<IPython.core.display.HTML object>"
      ]
     },
     "metadata": {},
     "output_type": "display_data"
    },
    {
     "data": {
      "text/html": [
       "<h2>Tool: tern (avg score: 7.38)</h2>"
      ],
      "text/plain": [
       "<IPython.core.display.HTML object>"
      ]
     },
     "metadata": {},
     "output_type": "display_data"
    },
    {
     "data": {
      "text/html": [
       "<h3>Category: Structural (avg score: 10.00)"
      ],
      "text/plain": [
       "<IPython.core.display.HTML object>"
      ]
     },
     "metadata": {},
     "output_type": "display_data"
    },
    {
     "data": {
      "text/html": [
       "<div>\n",
       "<style scoped>\n",
       "    .dataframe tbody tr th:only-of-type {\n",
       "        vertical-align: middle;\n",
       "    }\n",
       "\n",
       "    .dataframe tbody tr th {\n",
       "        vertical-align: top;\n",
       "    }\n",
       "\n",
       "    .dataframe thead th {\n",
       "        text-align: right;\n",
       "    }\n",
       "</style>\n",
       "<table border=\"1\" class=\"dataframe\">\n",
       "  <thead>\n",
       "    <tr style=\"text-align: right;\">\n",
       "      <th></th>\n",
       "      <th>feature</th>\n",
       "      <th>score</th>\n",
       "      <th>description</th>\n",
       "      <th>tool</th>\n",
       "    </tr>\n",
       "  </thead>\n",
       "  <tbody>\n",
       "    <tr>\n",
       "      <th>0</th>\n",
       "      <td>sbom_spec</td>\n",
       "      <td>10.0</td>\n",
       "      <td>provided sbom is in a supported sbom format of...</td>\n",
       "      <td>tern</td>\n",
       "    </tr>\n",
       "    <tr>\n",
       "      <th>1</th>\n",
       "      <td>sbom_spec_version</td>\n",
       "      <td>10.0</td>\n",
       "      <td>provided sbom should be in supported spec vers...</td>\n",
       "      <td>tern</td>\n",
       "    </tr>\n",
       "    <tr>\n",
       "      <th>2</th>\n",
       "      <td>sbom_spec_file_format</td>\n",
       "      <td>10.0</td>\n",
       "      <td>provided sbom should be in supported file form...</td>\n",
       "      <td>tern</td>\n",
       "    </tr>\n",
       "    <tr>\n",
       "      <th>3</th>\n",
       "      <td>sbom_parsable</td>\n",
       "      <td>10.0</td>\n",
       "      <td>provided sbom is parsable</td>\n",
       "      <td>tern</td>\n",
       "    </tr>\n",
       "  </tbody>\n",
       "</table>\n",
       "</div>"
      ],
      "text/plain": [
       "                 feature  score  \\\n",
       "0              sbom_spec   10.0   \n",
       "1      sbom_spec_version   10.0   \n",
       "2  sbom_spec_file_format   10.0   \n",
       "3          sbom_parsable   10.0   \n",
       "\n",
       "                                         description  tool  \n",
       "0  provided sbom is in a supported sbom format of...  tern  \n",
       "1  provided sbom should be in supported spec vers...  tern  \n",
       "2  provided sbom should be in supported file form...  tern  \n",
       "3                          provided sbom is parsable  tern  "
      ]
     },
     "metadata": {},
     "output_type": "display_data"
    },
    {
     "data": {
      "text/html": [
       "<hr>"
      ],
      "text/plain": [
       "<IPython.core.display.HTML object>"
      ]
     },
     "metadata": {},
     "output_type": "display_data"
    },
    {
     "data": {
      "text/html": [
       "<h3>Category: NTIA-minimum-elements (avg score: 9.42)"
      ],
      "text/plain": [
       "<IPython.core.display.HTML object>"
      ]
     },
     "metadata": {},
     "output_type": "display_data"
    },
    {
     "data": {
      "text/html": [
       "<div>\n",
       "<style scoped>\n",
       "    .dataframe tbody tr th:only-of-type {\n",
       "        vertical-align: middle;\n",
       "    }\n",
       "\n",
       "    .dataframe tbody tr th {\n",
       "        vertical-align: top;\n",
       "    }\n",
       "\n",
       "    .dataframe thead th {\n",
       "        text-align: right;\n",
       "    }\n",
       "</style>\n",
       "<table border=\"1\" class=\"dataframe\">\n",
       "  <thead>\n",
       "    <tr style=\"text-align: right;\">\n",
       "      <th></th>\n",
       "      <th>feature</th>\n",
       "      <th>score</th>\n",
       "      <th>description</th>\n",
       "      <th>tool</th>\n",
       "    </tr>\n",
       "  </thead>\n",
       "  <tbody>\n",
       "    <tr>\n",
       "      <th>4</th>\n",
       "      <td>comp_with_supplier</td>\n",
       "      <td>5.911602</td>\n",
       "      <td>107/181 have supplier names</td>\n",
       "      <td>tern</td>\n",
       "    </tr>\n",
       "    <tr>\n",
       "      <th>5</th>\n",
       "      <td>comp_with_name</td>\n",
       "      <td>10.000000</td>\n",
       "      <td>181/181 have names</td>\n",
       "      <td>tern</td>\n",
       "    </tr>\n",
       "    <tr>\n",
       "      <th>6</th>\n",
       "      <td>comp_with_version</td>\n",
       "      <td>10.000000</td>\n",
       "      <td>181/181 have versions</td>\n",
       "      <td>tern</td>\n",
       "    </tr>\n",
       "    <tr>\n",
       "      <th>7</th>\n",
       "      <td>comp_with_uniq_ids</td>\n",
       "      <td>10.000000</td>\n",
       "      <td>181/181 have unique ID's</td>\n",
       "      <td>tern</td>\n",
       "    </tr>\n",
       "    <tr>\n",
       "      <th>8</th>\n",
       "      <td>sbom_dependencies</td>\n",
       "      <td>10.000000</td>\n",
       "      <td>doc has 117 relationships</td>\n",
       "      <td>tern</td>\n",
       "    </tr>\n",
       "    <tr>\n",
       "      <th>9</th>\n",
       "      <td>sbom_authors</td>\n",
       "      <td>10.000000</td>\n",
       "      <td>doc has 1 authors</td>\n",
       "      <td>tern</td>\n",
       "    </tr>\n",
       "    <tr>\n",
       "      <th>10</th>\n",
       "      <td>sbom_creation_timestamp</td>\n",
       "      <td>10.000000</td>\n",
       "      <td>doc has creation timestamp</td>\n",
       "      <td>tern</td>\n",
       "    </tr>\n",
       "  </tbody>\n",
       "</table>\n",
       "</div>"
      ],
      "text/plain": [
       "                    feature      score                  description  tool\n",
       "4        comp_with_supplier   5.911602  107/181 have supplier names  tern\n",
       "5            comp_with_name  10.000000           181/181 have names  tern\n",
       "6         comp_with_version  10.000000        181/181 have versions  tern\n",
       "7        comp_with_uniq_ids  10.000000     181/181 have unique ID's  tern\n",
       "8         sbom_dependencies  10.000000   doc has 117 relationships   tern\n",
       "9              sbom_authors  10.000000            doc has 1 authors  tern\n",
       "10  sbom_creation_timestamp  10.000000   doc has creation timestamp  tern"
      ]
     },
     "metadata": {},
     "output_type": "display_data"
    },
    {
     "data": {
      "text/html": [
       "<hr>"
      ],
      "text/plain": [
       "<IPython.core.display.HTML object>"
      ]
     },
     "metadata": {},
     "output_type": "display_data"
    },
    {
     "data": {
      "text/html": [
       "<h3>Category: Semantic (avg score: 4.99)"
      ],
      "text/plain": [
       "<IPython.core.display.HTML object>"
      ]
     },
     "metadata": {},
     "output_type": "display_data"
    },
    {
     "data": {
      "text/html": [
       "<div>\n",
       "<style scoped>\n",
       "    .dataframe tbody tr th:only-of-type {\n",
       "        vertical-align: middle;\n",
       "    }\n",
       "\n",
       "    .dataframe tbody tr th {\n",
       "        vertical-align: top;\n",
       "    }\n",
       "\n",
       "    .dataframe thead th {\n",
       "        text-align: right;\n",
       "    }\n",
       "</style>\n",
       "<table border=\"1\" class=\"dataframe\">\n",
       "  <thead>\n",
       "    <tr style=\"text-align: right;\">\n",
       "      <th></th>\n",
       "      <th>feature</th>\n",
       "      <th>score</th>\n",
       "      <th>description</th>\n",
       "      <th>tool</th>\n",
       "    </tr>\n",
       "  </thead>\n",
       "  <tbody>\n",
       "    <tr>\n",
       "      <th>11</th>\n",
       "      <td>sbom_required_fields</td>\n",
       "      <td>10.000000</td>\n",
       "      <td>Doc Fields:true Pkg Fields:true</td>\n",
       "      <td>tern</td>\n",
       "    </tr>\n",
       "    <tr>\n",
       "      <th>12</th>\n",
       "      <td>comp_with_licenses</td>\n",
       "      <td>4.696133</td>\n",
       "      <td>85/181 have licenses</td>\n",
       "      <td>tern</td>\n",
       "    </tr>\n",
       "    <tr>\n",
       "      <th>13</th>\n",
       "      <td>comp_with_checksums</td>\n",
       "      <td>0.276243</td>\n",
       "      <td>5/181 have checksums</td>\n",
       "      <td>tern</td>\n",
       "    </tr>\n",
       "  </tbody>\n",
       "</table>\n",
       "</div>"
      ],
      "text/plain": [
       "                 feature      score                      description  tool\n",
       "11  sbom_required_fields  10.000000  Doc Fields:true Pkg Fields:true  tern\n",
       "12    comp_with_licenses   4.696133             85/181 have licenses  tern\n",
       "13   comp_with_checksums   0.276243             5/181 have checksums  tern"
      ]
     },
     "metadata": {},
     "output_type": "display_data"
    },
    {
     "data": {
      "text/html": [
       "<hr>"
      ],
      "text/plain": [
       "<IPython.core.display.HTML object>"
      ]
     },
     "metadata": {},
     "output_type": "display_data"
    },
    {
     "data": {
      "text/html": [
       "<h3>Category: Quality (avg score: 4.50)"
      ],
      "text/plain": [
       "<IPython.core.display.HTML object>"
      ]
     },
     "metadata": {},
     "output_type": "display_data"
    },
    {
     "data": {
      "text/html": [
       "<div>\n",
       "<style scoped>\n",
       "    .dataframe tbody tr th:only-of-type {\n",
       "        vertical-align: middle;\n",
       "    }\n",
       "\n",
       "    .dataframe tbody tr th {\n",
       "        vertical-align: top;\n",
       "    }\n",
       "\n",
       "    .dataframe thead th {\n",
       "        text-align: right;\n",
       "    }\n",
       "</style>\n",
       "<table border=\"1\" class=\"dataframe\">\n",
       "  <thead>\n",
       "    <tr style=\"text-align: right;\">\n",
       "      <th></th>\n",
       "      <th>feature</th>\n",
       "      <th>score</th>\n",
       "      <th>description</th>\n",
       "      <th>tool</th>\n",
       "    </tr>\n",
       "  </thead>\n",
       "  <tbody>\n",
       "    <tr>\n",
       "      <th>14</th>\n",
       "      <td>comp_valid_licenses</td>\n",
       "      <td>1.775306</td>\n",
       "      <td>65/181 components with valid license</td>\n",
       "      <td>tern</td>\n",
       "    </tr>\n",
       "    <tr>\n",
       "      <th>15</th>\n",
       "      <td>comp_with_primary_purpose</td>\n",
       "      <td>0.000000</td>\n",
       "      <td>0/181 components have primary purpose specified</td>\n",
       "      <td>tern</td>\n",
       "    </tr>\n",
       "    <tr>\n",
       "      <th>16</th>\n",
       "      <td>comp_with_deprecated_licenses</td>\n",
       "      <td>7.734807</td>\n",
       "      <td>41/181 components have deprecated licenses</td>\n",
       "      <td>tern</td>\n",
       "    </tr>\n",
       "    <tr>\n",
       "      <th>17</th>\n",
       "      <td>comp_with_restrictive_licenses</td>\n",
       "      <td>6.077348</td>\n",
       "      <td>71/181 components have restricted licenses</td>\n",
       "      <td>tern</td>\n",
       "    </tr>\n",
       "    <tr>\n",
       "      <th>18</th>\n",
       "      <td>comp_with_any_vuln_lookup_id</td>\n",
       "      <td>5.911602</td>\n",
       "      <td>107/181 components have any lookup id</td>\n",
       "      <td>tern</td>\n",
       "    </tr>\n",
       "    <tr>\n",
       "      <th>19</th>\n",
       "      <td>comp_with_multi_vuln_lookup_id</td>\n",
       "      <td>0.000000</td>\n",
       "      <td>0/181 components have multiple lookup id</td>\n",
       "      <td>tern</td>\n",
       "    </tr>\n",
       "    <tr>\n",
       "      <th>20</th>\n",
       "      <td>sbom_with_creator_and_version</td>\n",
       "      <td>10.000000</td>\n",
       "      <td>1/1 tools have creator and version</td>\n",
       "      <td>tern</td>\n",
       "    </tr>\n",
       "  </tbody>\n",
       "</table>\n",
       "</div>"
      ],
      "text/plain": [
       "                           feature      score  \\\n",
       "14             comp_valid_licenses   1.775306   \n",
       "15       comp_with_primary_purpose   0.000000   \n",
       "16   comp_with_deprecated_licenses   7.734807   \n",
       "17  comp_with_restrictive_licenses   6.077348   \n",
       "18    comp_with_any_vuln_lookup_id   5.911602   \n",
       "19  comp_with_multi_vuln_lookup_id   0.000000   \n",
       "20   sbom_with_creator_and_version  10.000000   \n",
       "\n",
       "                                        description  tool  \n",
       "14            65/181 components with valid license   tern  \n",
       "15  0/181 components have primary purpose specified  tern  \n",
       "16       41/181 components have deprecated licenses  tern  \n",
       "17       71/181 components have restricted licenses  tern  \n",
       "18            107/181 components have any lookup id  tern  \n",
       "19         0/181 components have multiple lookup id  tern  \n",
       "20               1/1 tools have creator and version  tern  "
      ]
     },
     "metadata": {},
     "output_type": "display_data"
    },
    {
     "data": {
      "text/html": [
       "<hr>"
      ],
      "text/plain": [
       "<IPython.core.display.HTML object>"
      ]
     },
     "metadata": {},
     "output_type": "display_data"
    },
    {
     "data": {
      "text/html": [
       "<h3>Category: Sharing (avg score: 10.00)"
      ],
      "text/plain": [
       "<IPython.core.display.HTML object>"
      ]
     },
     "metadata": {},
     "output_type": "display_data"
    },
    {
     "data": {
      "text/html": [
       "<div>\n",
       "<style scoped>\n",
       "    .dataframe tbody tr th:only-of-type {\n",
       "        vertical-align: middle;\n",
       "    }\n",
       "\n",
       "    .dataframe tbody tr th {\n",
       "        vertical-align: top;\n",
       "    }\n",
       "\n",
       "    .dataframe thead th {\n",
       "        text-align: right;\n",
       "    }\n",
       "</style>\n",
       "<table border=\"1\" class=\"dataframe\">\n",
       "  <thead>\n",
       "    <tr style=\"text-align: right;\">\n",
       "      <th></th>\n",
       "      <th>feature</th>\n",
       "      <th>score</th>\n",
       "      <th>description</th>\n",
       "      <th>tool</th>\n",
       "    </tr>\n",
       "  </thead>\n",
       "  <tbody>\n",
       "    <tr>\n",
       "      <th>21</th>\n",
       "      <td>sbom_sharable</td>\n",
       "      <td>10.0</td>\n",
       "      <td>doc has a sharable license free 1 :: of 1</td>\n",
       "      <td>tern</td>\n",
       "    </tr>\n",
       "  </tbody>\n",
       "</table>\n",
       "</div>"
      ],
      "text/plain": [
       "          feature  score                                description  tool\n",
       "21  sbom_sharable   10.0  doc has a sharable license free 1 :: of 1  tern"
      ]
     },
     "metadata": {},
     "output_type": "display_data"
    },
    {
     "data": {
      "text/html": [
       "<hr>"
      ],
      "text/plain": [
       "<IPython.core.display.HTML object>"
      ]
     },
     "metadata": {},
     "output_type": "display_data"
    },
    {
     "data": {
      "text/html": [
       "<h2>Tool: trivy (avg score: 6.77)</h2>"
      ],
      "text/plain": [
       "<IPython.core.display.HTML object>"
      ]
     },
     "metadata": {},
     "output_type": "display_data"
    },
    {
     "data": {
      "text/html": [
       "<h3>Category: Structural (avg score: 10.00)"
      ],
      "text/plain": [
       "<IPython.core.display.HTML object>"
      ]
     },
     "metadata": {},
     "output_type": "display_data"
    },
    {
     "data": {
      "text/html": [
       "<div>\n",
       "<style scoped>\n",
       "    .dataframe tbody tr th:only-of-type {\n",
       "        vertical-align: middle;\n",
       "    }\n",
       "\n",
       "    .dataframe tbody tr th {\n",
       "        vertical-align: top;\n",
       "    }\n",
       "\n",
       "    .dataframe thead th {\n",
       "        text-align: right;\n",
       "    }\n",
       "</style>\n",
       "<table border=\"1\" class=\"dataframe\">\n",
       "  <thead>\n",
       "    <tr style=\"text-align: right;\">\n",
       "      <th></th>\n",
       "      <th>feature</th>\n",
       "      <th>score</th>\n",
       "      <th>description</th>\n",
       "      <th>tool</th>\n",
       "    </tr>\n",
       "  </thead>\n",
       "  <tbody>\n",
       "    <tr>\n",
       "      <th>0</th>\n",
       "      <td>sbom_spec</td>\n",
       "      <td>10.0</td>\n",
       "      <td>provided sbom is in a supported sbom format of...</td>\n",
       "      <td>trivy</td>\n",
       "    </tr>\n",
       "    <tr>\n",
       "      <th>1</th>\n",
       "      <td>sbom_spec_version</td>\n",
       "      <td>10.0</td>\n",
       "      <td>provided sbom should be in supported spec vers...</td>\n",
       "      <td>trivy</td>\n",
       "    </tr>\n",
       "    <tr>\n",
       "      <th>2</th>\n",
       "      <td>sbom_spec_file_format</td>\n",
       "      <td>10.0</td>\n",
       "      <td>provided sbom should be in supported file form...</td>\n",
       "      <td>trivy</td>\n",
       "    </tr>\n",
       "    <tr>\n",
       "      <th>3</th>\n",
       "      <td>sbom_parsable</td>\n",
       "      <td>10.0</td>\n",
       "      <td>provided sbom is parsable</td>\n",
       "      <td>trivy</td>\n",
       "    </tr>\n",
       "  </tbody>\n",
       "</table>\n",
       "</div>"
      ],
      "text/plain": [
       "                 feature  score  \\\n",
       "0              sbom_spec   10.0   \n",
       "1      sbom_spec_version   10.0   \n",
       "2  sbom_spec_file_format   10.0   \n",
       "3          sbom_parsable   10.0   \n",
       "\n",
       "                                         description   tool  \n",
       "0  provided sbom is in a supported sbom format of...  trivy  \n",
       "1  provided sbom should be in supported spec vers...  trivy  \n",
       "2  provided sbom should be in supported file form...  trivy  \n",
       "3                          provided sbom is parsable  trivy  "
      ]
     },
     "metadata": {},
     "output_type": "display_data"
    },
    {
     "data": {
      "text/html": [
       "<hr>"
      ],
      "text/plain": [
       "<IPython.core.display.HTML object>"
      ]
     },
     "metadata": {},
     "output_type": "display_data"
    },
    {
     "data": {
      "text/html": [
       "<h3>Category: NTIA-minimum-elements (avg score: 8.50)"
      ],
      "text/plain": [
       "<IPython.core.display.HTML object>"
      ]
     },
     "metadata": {},
     "output_type": "display_data"
    },
    {
     "data": {
      "text/html": [
       "<div>\n",
       "<style scoped>\n",
       "    .dataframe tbody tr th:only-of-type {\n",
       "        vertical-align: middle;\n",
       "    }\n",
       "\n",
       "    .dataframe tbody tr th {\n",
       "        vertical-align: top;\n",
       "    }\n",
       "\n",
       "    .dataframe thead th {\n",
       "        text-align: right;\n",
       "    }\n",
       "</style>\n",
       "<table border=\"1\" class=\"dataframe\">\n",
       "  <thead>\n",
       "    <tr style=\"text-align: right;\">\n",
       "      <th></th>\n",
       "      <th>feature</th>\n",
       "      <th>score</th>\n",
       "      <th>description</th>\n",
       "      <th>tool</th>\n",
       "    </tr>\n",
       "  </thead>\n",
       "  <tbody>\n",
       "    <tr>\n",
       "      <th>4</th>\n",
       "      <td>comp_with_supplier</td>\n",
       "      <td>0.000000</td>\n",
       "      <td>0/124 have supplier names</td>\n",
       "      <td>trivy</td>\n",
       "    </tr>\n",
       "    <tr>\n",
       "      <th>5</th>\n",
       "      <td>comp_with_name</td>\n",
       "      <td>10.000000</td>\n",
       "      <td>124/124 have names</td>\n",
       "      <td>trivy</td>\n",
       "    </tr>\n",
       "    <tr>\n",
       "      <th>6</th>\n",
       "      <td>comp_with_version</td>\n",
       "      <td>9.516129</td>\n",
       "      <td>118/124 have versions</td>\n",
       "      <td>trivy</td>\n",
       "    </tr>\n",
       "    <tr>\n",
       "      <th>7</th>\n",
       "      <td>comp_with_uniq_ids</td>\n",
       "      <td>10.000000</td>\n",
       "      <td>124/124 have unique ID's</td>\n",
       "      <td>trivy</td>\n",
       "    </tr>\n",
       "    <tr>\n",
       "      <th>8</th>\n",
       "      <td>sbom_dependencies</td>\n",
       "      <td>10.000000</td>\n",
       "      <td>doc has 126 relationships</td>\n",
       "      <td>trivy</td>\n",
       "    </tr>\n",
       "    <tr>\n",
       "      <th>9</th>\n",
       "      <td>sbom_authors</td>\n",
       "      <td>10.000000</td>\n",
       "      <td>doc has 2 authors</td>\n",
       "      <td>trivy</td>\n",
       "    </tr>\n",
       "    <tr>\n",
       "      <th>10</th>\n",
       "      <td>sbom_creation_timestamp</td>\n",
       "      <td>10.000000</td>\n",
       "      <td>doc has creation timestamp</td>\n",
       "      <td>trivy</td>\n",
       "    </tr>\n",
       "  </tbody>\n",
       "</table>\n",
       "</div>"
      ],
      "text/plain": [
       "                    feature      score                 description   tool\n",
       "4        comp_with_supplier   0.000000   0/124 have supplier names  trivy\n",
       "5            comp_with_name  10.000000          124/124 have names  trivy\n",
       "6         comp_with_version   9.516129       118/124 have versions  trivy\n",
       "7        comp_with_uniq_ids  10.000000    124/124 have unique ID's  trivy\n",
       "8         sbom_dependencies  10.000000  doc has 126 relationships   trivy\n",
       "9              sbom_authors  10.000000           doc has 2 authors  trivy\n",
       "10  sbom_creation_timestamp  10.000000  doc has creation timestamp  trivy"
      ]
     },
     "metadata": {},
     "output_type": "display_data"
    },
    {
     "data": {
      "text/html": [
       "<hr>"
      ],
      "text/plain": [
       "<IPython.core.display.HTML object>"
      ]
     },
     "metadata": {},
     "output_type": "display_data"
    },
    {
     "data": {
      "text/html": [
       "<h3>Category: Semantic (avg score: 3.33)"
      ],
      "text/plain": [
       "<IPython.core.display.HTML object>"
      ]
     },
     "metadata": {},
     "output_type": "display_data"
    },
    {
     "data": {
      "text/html": [
       "<div>\n",
       "<style scoped>\n",
       "    .dataframe tbody tr th:only-of-type {\n",
       "        vertical-align: middle;\n",
       "    }\n",
       "\n",
       "    .dataframe tbody tr th {\n",
       "        vertical-align: top;\n",
       "    }\n",
       "\n",
       "    .dataframe thead th {\n",
       "        text-align: right;\n",
       "    }\n",
       "</style>\n",
       "<table border=\"1\" class=\"dataframe\">\n",
       "  <thead>\n",
       "    <tr style=\"text-align: right;\">\n",
       "      <th></th>\n",
       "      <th>feature</th>\n",
       "      <th>score</th>\n",
       "      <th>description</th>\n",
       "      <th>tool</th>\n",
       "    </tr>\n",
       "  </thead>\n",
       "  <tbody>\n",
       "    <tr>\n",
       "      <th>11</th>\n",
       "      <td>sbom_required_fields</td>\n",
       "      <td>10.0</td>\n",
       "      <td>Doc Fields:true Pkg Fields:true</td>\n",
       "      <td>trivy</td>\n",
       "    </tr>\n",
       "    <tr>\n",
       "      <th>12</th>\n",
       "      <td>comp_with_licenses</td>\n",
       "      <td>0.0</td>\n",
       "      <td>0/124 have licenses</td>\n",
       "      <td>trivy</td>\n",
       "    </tr>\n",
       "    <tr>\n",
       "      <th>13</th>\n",
       "      <td>comp_with_checksums</td>\n",
       "      <td>0.0</td>\n",
       "      <td>0/124 have checksums</td>\n",
       "      <td>trivy</td>\n",
       "    </tr>\n",
       "  </tbody>\n",
       "</table>\n",
       "</div>"
      ],
      "text/plain": [
       "                 feature  score                      description   tool\n",
       "11  sbom_required_fields   10.0  Doc Fields:true Pkg Fields:true  trivy\n",
       "12    comp_with_licenses    0.0              0/124 have licenses  trivy\n",
       "13   comp_with_checksums    0.0             0/124 have checksums  trivy"
      ]
     },
     "metadata": {},
     "output_type": "display_data"
    },
    {
     "data": {
      "text/html": [
       "<hr>"
      ],
      "text/plain": [
       "<IPython.core.display.HTML object>"
      ]
     },
     "metadata": {},
     "output_type": "display_data"
    },
    {
     "data": {
      "text/html": [
       "<h3>Category: Quality (avg score: 4.22)"
      ],
      "text/plain": [
       "<IPython.core.display.HTML object>"
      ]
     },
     "metadata": {},
     "output_type": "display_data"
    },
    {
     "data": {
      "text/html": [
       "<div>\n",
       "<style scoped>\n",
       "    .dataframe tbody tr th:only-of-type {\n",
       "        vertical-align: middle;\n",
       "    }\n",
       "\n",
       "    .dataframe tbody tr th {\n",
       "        vertical-align: top;\n",
       "    }\n",
       "\n",
       "    .dataframe thead th {\n",
       "        text-align: right;\n",
       "    }\n",
       "</style>\n",
       "<table border=\"1\" class=\"dataframe\">\n",
       "  <thead>\n",
       "    <tr style=\"text-align: right;\">\n",
       "      <th></th>\n",
       "      <th>feature</th>\n",
       "      <th>score</th>\n",
       "      <th>description</th>\n",
       "      <th>tool</th>\n",
       "    </tr>\n",
       "  </thead>\n",
       "  <tbody>\n",
       "    <tr>\n",
       "      <th>14</th>\n",
       "      <td>comp_valid_licenses</td>\n",
       "      <td>0.000000</td>\n",
       "      <td>0/124 components with valid license</td>\n",
       "      <td>trivy</td>\n",
       "    </tr>\n",
       "    <tr>\n",
       "      <th>15</th>\n",
       "      <td>comp_with_primary_purpose</td>\n",
       "      <td>10.000000</td>\n",
       "      <td>124/124 components have primary purpose specified</td>\n",
       "      <td>trivy</td>\n",
       "    </tr>\n",
       "    <tr>\n",
       "      <th>16</th>\n",
       "      <td>comp_with_deprecated_licenses</td>\n",
       "      <td>0.000000</td>\n",
       "      <td>no licenses found</td>\n",
       "      <td>trivy</td>\n",
       "    </tr>\n",
       "    <tr>\n",
       "      <th>17</th>\n",
       "      <td>comp_with_restrictive_licenses</td>\n",
       "      <td>0.000000</td>\n",
       "      <td>no licenses found</td>\n",
       "      <td>trivy</td>\n",
       "    </tr>\n",
       "    <tr>\n",
       "      <th>18</th>\n",
       "      <td>comp_with_any_vuln_lookup_id</td>\n",
       "      <td>9.516129</td>\n",
       "      <td>118/124 components have any lookup id</td>\n",
       "      <td>trivy</td>\n",
       "    </tr>\n",
       "    <tr>\n",
       "      <th>19</th>\n",
       "      <td>comp_with_multi_vuln_lookup_id</td>\n",
       "      <td>0.000000</td>\n",
       "      <td>0/124 components have multiple lookup id</td>\n",
       "      <td>trivy</td>\n",
       "    </tr>\n",
       "    <tr>\n",
       "      <th>20</th>\n",
       "      <td>sbom_with_creator_and_version</td>\n",
       "      <td>10.000000</td>\n",
       "      <td>1/1 tools have creator and version</td>\n",
       "      <td>trivy</td>\n",
       "    </tr>\n",
       "  </tbody>\n",
       "</table>\n",
       "</div>"
      ],
      "text/plain": [
       "                           feature      score  \\\n",
       "14             comp_valid_licenses   0.000000   \n",
       "15       comp_with_primary_purpose  10.000000   \n",
       "16   comp_with_deprecated_licenses   0.000000   \n",
       "17  comp_with_restrictive_licenses   0.000000   \n",
       "18    comp_with_any_vuln_lookup_id   9.516129   \n",
       "19  comp_with_multi_vuln_lookup_id   0.000000   \n",
       "20   sbom_with_creator_and_version  10.000000   \n",
       "\n",
       "                                          description   tool  \n",
       "14               0/124 components with valid license   trivy  \n",
       "15  124/124 components have primary purpose specified  trivy  \n",
       "16                                  no licenses found  trivy  \n",
       "17                                  no licenses found  trivy  \n",
       "18              118/124 components have any lookup id  trivy  \n",
       "19           0/124 components have multiple lookup id  trivy  \n",
       "20                 1/1 tools have creator and version  trivy  "
      ]
     },
     "metadata": {},
     "output_type": "display_data"
    },
    {
     "data": {
      "text/html": [
       "<hr>"
      ],
      "text/plain": [
       "<IPython.core.display.HTML object>"
      ]
     },
     "metadata": {},
     "output_type": "display_data"
    },
    {
     "data": {
      "text/html": [
       "<h3>Category: Sharing (avg score: 10.00)"
      ],
      "text/plain": [
       "<IPython.core.display.HTML object>"
      ]
     },
     "metadata": {},
     "output_type": "display_data"
    },
    {
     "data": {
      "text/html": [
       "<div>\n",
       "<style scoped>\n",
       "    .dataframe tbody tr th:only-of-type {\n",
       "        vertical-align: middle;\n",
       "    }\n",
       "\n",
       "    .dataframe tbody tr th {\n",
       "        vertical-align: top;\n",
       "    }\n",
       "\n",
       "    .dataframe thead th {\n",
       "        text-align: right;\n",
       "    }\n",
       "</style>\n",
       "<table border=\"1\" class=\"dataframe\">\n",
       "  <thead>\n",
       "    <tr style=\"text-align: right;\">\n",
       "      <th></th>\n",
       "      <th>feature</th>\n",
       "      <th>score</th>\n",
       "      <th>description</th>\n",
       "      <th>tool</th>\n",
       "    </tr>\n",
       "  </thead>\n",
       "  <tbody>\n",
       "    <tr>\n",
       "      <th>21</th>\n",
       "      <td>sbom_sharable</td>\n",
       "      <td>10.0</td>\n",
       "      <td>doc has a sharable license free 1 :: of 1</td>\n",
       "      <td>trivy</td>\n",
       "    </tr>\n",
       "  </tbody>\n",
       "</table>\n",
       "</div>"
      ],
      "text/plain": [
       "          feature  score                                description   tool\n",
       "21  sbom_sharable   10.0  doc has a sharable license free 1 :: of 1  trivy"
      ]
     },
     "metadata": {},
     "output_type": "display_data"
    },
    {
     "data": {
      "text/html": [
       "<hr>"
      ],
      "text/plain": [
       "<IPython.core.display.HTML object>"
      ]
     },
     "metadata": {},
     "output_type": "display_data"
    }
   ],
   "source": [
    "#| hide\n",
    "display_qscores_with_descriptions(feature_qscores)"
   ]
  },
  {
   "cell_type": "markdown",
   "id": "9e079405",
   "metadata": {},
   "source": []
  },
  {
   "cell_type": "code",
   "execution_count": 40,
   "id": "c46d5878",
   "metadata": {},
   "outputs": [],
   "source": [
    "#| export\n",
    "\n",
    "import matplotlib.pyplot as plt\n",
    "from IPython.core.display import HTML\n",
    "import seaborn as sns\n",
    "\n",
    "def display_category_qscores_heatmap(\n",
    "    feature_qscores: DataFrame, # DataFrame with the quality scores for each feature in each category for all tools.    \n",
    "    category_list: list = None  # List of categories to be displayed. If None, all categories are displayed.\n",
    "    )-> None:\n",
    "    \n",
    "    \"\"\"\n",
    "    This function displays a heatmap for each SBOM quality category showing scores by tools for each category feature.    \n",
    "    \"\"\"\n",
    "    \n",
    "    category_list = feature_qscores['category'].unique() if category_list is None else category_list\n",
    "    \n",
    "    for cat in category_list:    \n",
    "        title = f\"Scores by Tools for each Feature in the {cat} Category\"        \n",
    "        score_in_details_cat = feature_qscores[feature_qscores['category']==cat]             \n",
    "        sns.heatmap(score_in_details_cat.pivot(index=\"tool\", columns=\"feature\", values=\"score\"), \n",
    "            linecolor='white',linewidths=0.5, annot=True, cmap=\"crest\")\n",
    "        display(HTML(f\"<h1 style=\\\"background-color:powderblue;\\\">Category: {cat}</h1>\"))\n",
    "        \n",
    "        plt.title(title, y=1.05, fontsize = 16)\n",
    "        plt.show()\n"
   ]
  },
  {
   "cell_type": "code",
   "execution_count": 41,
   "id": "afaad163",
   "metadata": {},
   "outputs": [
    {
     "data": {
      "text/html": [
       "<h1 style=\"background-color:powderblue;\">Category: NTIA-minimum-elements</h1>"
      ],
      "text/plain": [
       "<IPython.core.display.HTML object>"
      ]
     },
     "metadata": {},
     "output_type": "display_data"
    },
    {
     "data": {
      "image/png": "[encoded data removed]",
      "text/plain": [
       "<Figure size 640x480 with 2 Axes>"
      ]
     },
     "metadata": {},
     "output_type": "display_data"
    }
   ],
   "source": [
    "#| hide\n",
    "display_category_qscores_heatmap(feature_qscores, ['NTIA-minimum-elements'])"
   ]
  },
  {
   "cell_type": "code",
   "execution_count": 42,
   "id": "13edb224",
   "metadata": {},
   "outputs": [],
   "source": [
    "#| export\n",
    "\n",
    "import matplotlib.pyplot as plt\n",
    "from IPython.core.display import HTML\n",
    "import seaborn as sns\n",
    "\n",
    "def display_qscores_heatmap(\n",
    "    feature_qscores,  # DataFrame with the quality scores for each feature in each category for all tools.\n",
    "    ) -> None:\n",
    "    \"\"\"\n",
    "    This function display a heatmap showing scores by tools for each SBOM quality category.    \n",
    "    \"\"\"\n",
    "    \n",
    "    chart_data = sbomqs_score_by_cat(feature_qscores).melt(id_vars=[\"category\"])\n",
    "    chart_data.columns = ['Category', 'Tool', 'Score']\n",
    "    \n",
    "    title = \"Scores by Tools for each SBOM Quality Category\"\n",
    "    #display(HTML(f\"<h1 style=\\\"background-color:powderblue;\\\">{title}</h1>\"))\n",
    "    sns.heatmap(chart_data.pivot(index=\"Tool\", columns=\"Category\", values=\"Score\"), \n",
    "                linecolor='white',linewidths=0.5, annot=True, cmap=\"crest\").set(title=title)\n",
    "    plt.show()"
   ]
  },
  {
   "cell_type": "code",
   "execution_count": 43,
   "id": "ec8cdbbc",
   "metadata": {},
   "outputs": [
    {
     "data": {
      "image/png": "[encoded data removed]",
      "text/plain": [
       "<Figure size 640x480 with 2 Axes>"
      ]
     },
     "metadata": {},
     "output_type": "display_data"
    }
   ],
   "source": [
    "#| hide\n",
    "display_qscores_heatmap(feature_qscores)"
   ]
  },
  {
   "cell_type": "code",
   "execution_count": 51,
   "id": "5a86f093",
   "metadata": {},
   "outputs": [],
   "source": [
    "#| export\n",
    "\n",
    "import seaborn as sns\n",
    "import plotly.express as px\n",
    "from plotly.graph_objects import Figure\n",
    "import plotly.io as pio\n",
    "\n",
    "\n",
    "def sbomqs_radar_chart(\n",
    "    feature_qscores  # DataFrame with the quality scores for each feature in each category for all tools.                       \n",
    "    ) -> None:\n",
    "    \"\"\"\n",
    "    Construct a radar chart for the quality scores of the SBOMs categories for each tool.\n",
    "    \n",
    "    \"\"\"\n",
    "\n",
    "    pio.renderers.default = 'vscode'\n",
    "    \n",
    "    num_tools = feature_qscores['tool'].nunique()\n",
    "    color_discrete_sequence = sns.color_palette(\"hls\", num_tools)\n",
    "\n",
    "    chart_data = sbomqs_score_by_cat(feature_qscores).melt(id_vars=[\"category\"])\n",
    "    chart_data.columns = ['Category', 'Tool', 'Score']\n",
    "\n",
    "    fig = px.line_polar(chart_data, r=\"Score\",\n",
    "                        theta=\"Category\",\n",
    "                        color=\"Tool\",\n",
    "                        line_close=True,\n",
    "                        color_discrete_sequence=color_discrete_sequence.as_hex(),\n",
    "                        template=\"plotly_dark\")\n",
    "\n",
    "    fig.update_polars(angularaxis_showgrid=True,\n",
    "                    radialaxis_gridwidth=1,\n",
    "                    gridshape='linear',\n",
    "                    bgcolor=\"#494b5a\",\n",
    "                    radialaxis_showticklabels=False,               \n",
    "                    )\n",
    "\n",
    "    fig.update_layout(paper_bgcolor=\"#2c2f36\",\n",
    "                    autosize=False,\n",
    "                    width=1000,\n",
    "                    height=700,)\n",
    "\n",
    "    fig.show()\n",
    "    #fig.write_image('../figs/sbomqs_radar_chart.png')\n",
    "\n"
   ]
  },
  {
   "cell_type": "code",
   "execution_count": 52,
   "id": "93599a26",
   "metadata": {},
   "outputs": [
    {
     "data": {
      "application/vnd.plotly.v1+json": {
       "config": {
        "plotlyServerURL": "https://plot.ly"
       },
       "data": [
        {
         "hovertemplate": "Tool=tern<br>Score=%{r}<br>Category=%{theta}<extra></extra>",
         "legendgroup": "tern",
         "line": {
          "color": "#db5f57",
          "dash": "solid"
         },
         "marker": {
          "symbol": "circle"
         },
         "mode": "lines",
         "name": "tern",
         "r": [
          9.41594317284925,
          4.499866155943504,
          4.990791896869244,
          10,
          10,
          9.41594317284925
         ],
         "showlegend": true,
         "subplot": "polar",
         "theta": [
          "NTIA-minimum-elements",
          "Quality",
          "Semantic",
          "Sharing",
          "Structural",
          "NTIA-minimum-elements"
         ],
         "type": "scatterpolar"
        },
        {
         "hovertemplate": "Tool=FOSSA v0.12.0<br>Score=%{r}<br>Category=%{theta}<extra></extra>",
         "legendgroup": "FOSSA v0.12.0",
         "line": {
          "color": "#dbb757",
          "dash": "solid"
         },
         "marker": {
          "symbol": "circle"
         },
         "mode": "lines",
         "name": "FOSSA v0.12.0",
         "r": [
          9.184636118598382,
          4.172843665768194,
          5.7075471698113205,
          10,
          10,
          9.184636118598382
         ],
         "showlegend": true,
         "subplot": "polar",
         "theta": [
          "NTIA-minimum-elements",
          "Quality",
          "Semantic",
          "Sharing",
          "Structural",
          "NTIA-minimum-elements"
         ],
         "type": "scatterpolar"
        },
        {
         "hovertemplate": "Tool=Microsoft.SBOMTool<br>Score=%{r}<br>Category=%{theta}<extra></extra>",
         "legendgroup": "Microsoft.SBOMTool",
         "line": {
          "color": "#a7db57",
          "dash": "solid"
         },
         "marker": {
          "symbol": "circle"
         },
         "mode": "lines",
         "name": "Microsoft.SBOMTool",
         "r": [
          8.576066790352504,
          2.852504638218924,
          3.3333333333333335,
          10,
          10,
          8.576066790352504
         ],
         "showlegend": true,
         "subplot": "polar",
         "theta": [
          "NTIA-minimum-elements",
          "Quality",
          "Semantic",
          "Sharing",
          "Structural",
          "NTIA-minimum-elements"
         ],
         "type": "scatterpolar"
        },
        {
         "hovertemplate": "Tool=syft<br>Score=%{r}<br>Category=%{theta}<extra></extra>",
         "legendgroup": "syft",
         "line": {
          "color": "#57db5f",
          "dash": "solid"
         },
         "marker": {
          "symbol": "circle"
         },
         "mode": "lines",
         "name": "syft",
         "r": [
          8.571428571428571,
          4.285714285714286,
          3.349917081260365,
          10,
          10,
          8.571428571428571
         ],
         "showlegend": true,
         "subplot": "polar",
         "theta": [
          "NTIA-minimum-elements",
          "Quality",
          "Semantic",
          "Sharing",
          "Structural",
          "NTIA-minimum-elements"
         ],
         "type": "scatterpolar"
        },
        {
         "hovertemplate": "Tool=trivy<br>Score=%{r}<br>Category=%{theta}<extra></extra>",
         "legendgroup": "trivy",
         "line": {
          "color": "#57dbb7",
          "dash": "solid"
         },
         "marker": {
          "symbol": "circle"
         },
         "mode": "lines",
         "name": "trivy",
         "r": [
          8.502304147465438,
          4.216589861751152,
          3.3333333333333335,
          10,
          10,
          8.502304147465438
         ],
         "showlegend": true,
         "subplot": "polar",
         "theta": [
          "NTIA-minimum-elements",
          "Quality",
          "Semantic",
          "Sharing",
          "Structural",
          "NTIA-minimum-elements"
         ],
         "type": "scatterpolar"
        },
        {
         "hovertemplate": "Tool=cdxgen<br>Score=%{r}<br>Category=%{theta}<extra></extra>",
         "legendgroup": "cdxgen",
         "line": {
          "color": "#57a7db",
          "dash": "solid"
         },
         "marker": {
          "symbol": "circle"
         },
         "mode": "lines",
         "name": "cdxgen",
         "r": [
          7.142857142857143,
          5.238095238095239,
          8.888888888888888,
          10,
          10,
          7.142857142857143
         ],
         "showlegend": true,
         "subplot": "polar",
         "theta": [
          "NTIA-minimum-elements",
          "Quality",
          "Semantic",
          "Sharing",
          "Structural",
          "NTIA-minimum-elements"
         ],
         "type": "scatterpolar"
        },
        {
         "hovertemplate": "Tool=bom<br>Score=%{r}<br>Category=%{theta}<extra></extra>",
         "legendgroup": "bom",
         "line": {
          "color": "#5f57db",
          "dash": "solid"
         },
         "marker": {
          "symbol": "circle"
         },
         "mode": "lines",
         "name": "bom",
         "r": [
          7.142857142857143,
          5.714285714285714,
          6.666666666666667,
          10,
          10,
          7.142857142857143
         ],
         "showlegend": true,
         "subplot": "polar",
         "theta": [
          "NTIA-minimum-elements",
          "Quality",
          "Semantic",
          "Sharing",
          "Structural",
          "NTIA-minimum-elements"
         ],
         "type": "scatterpolar"
        },
        {
         "hovertemplate": "Tool=GitHub.com-Dependency-Graph<br>Score=%{r}<br>Category=%{theta}<extra></extra>",
         "legendgroup": "GitHub.com-Dependency-Graph",
         "line": {
          "color": "#b757db",
          "dash": "solid"
         },
         "marker": {
          "symbol": "circle"
         },
         "mode": "lines",
         "name": "GitHub.com-Dependency-Graph",
         "r": [
          6.988249845392702,
          5.003092145949289,
          5.440115440115441,
          10,
          10,
          6.988249845392702
         ],
         "showlegend": true,
         "subplot": "polar",
         "theta": [
          "NTIA-minimum-elements",
          "Quality",
          "Semantic",
          "Sharing",
          "Structural",
          "NTIA-minimum-elements"
         ],
         "type": "scatterpolar"
        },
        {
         "hovertemplate": "Tool=sbom4python<br>Score=%{r}<br>Category=%{theta}<extra></extra>",
         "legendgroup": "sbom4python",
         "line": {
          "color": "#db57a7",
          "dash": "solid"
         },
         "marker": {
          "symbol": "circle"
         },
         "mode": "lines",
         "name": "sbom4python",
         "r": [
          2.857142857142857,
          1.4285714285714286,
          1.6666666666666667,
          10,
          10,
          2.857142857142857
         ],
         "showlegend": true,
         "subplot": "polar",
         "theta": [
          "NTIA-minimum-elements",
          "Quality",
          "Semantic",
          "Sharing",
          "Structural",
          "NTIA-minimum-elements"
         ],
         "type": "scatterpolar"
        }
       ],
       "layout": {
        "autosize": false,
        "height": 700,
        "legend": {
         "title": {
          "text": "Tool"
         },
         "tracegroupgap": 0
        },
        "margin": {
         "t": 60
        },
        "paper_bgcolor": "#2c2f36",
        "polar": {
         "angularaxis": {
          "direction": "clockwise",
          "rotation": 90,
          "showgrid": true
         },
         "bgcolor": "#494b5a",
         "domain": {
          "x": [
           0,
           1
          ],
          "y": [
           0,
           1
          ]
         },
         "gridshape": "linear",
         "radialaxis": {
          "gridwidth": 1,
          "showticklabels": false
         }
        },
        "template": {
         "data": {
          "bar": [
           {
            "error_x": {
             "color": "#f2f5fa"
            },
            "error_y": {
             "color": "#f2f5fa"
            },
            "marker": {
             "line": {
              "color": "rgb(17,17,17)",
              "width": 0.5
             },
             "pattern": {
              "fillmode": "overlay",
              "size": 10,
              "solidity": 0.2
             }
            },
            "type": "bar"
           }
          ],
          "barpolar": [
           {
            "marker": {
             "line": {
              "color": "rgb(17,17,17)",
              "width": 0.5
             },
             "pattern": {
              "fillmode": "overlay",
              "size": 10,
              "solidity": 0.2
             }
            },
            "type": "barpolar"
           }
          ],
          "carpet": [
           {
            "aaxis": {
             "endlinecolor": "#A2B1C6",
             "gridcolor": "#506784",
             "linecolor": "#506784",
             "minorgridcolor": "#506784",
             "startlinecolor": "#A2B1C6"
            },
            "baxis": {
             "endlinecolor": "#A2B1C6",
             "gridcolor": "#506784",
             "linecolor": "#506784",
             "minorgridcolor": "#506784",
             "startlinecolor": "#A2B1C6"
            },
            "type": "carpet"
           }
          ],
          "choropleth": [
           {
            "colorbar": {
             "outlinewidth": 0,
             "ticks": ""
            },
            "type": "choropleth"
           }
          ],
          "contour": [
           {
            "colorbar": {
             "outlinewidth": 0,
             "ticks": ""
            },
            "colorscale": [
             [
              0,
              "#0d0887"
             ],
             [
              0.1111111111111111,
              "#46039f"
             ],
             [
              0.2222222222222222,
              "#7201a8"
             ],
             [
              0.3333333333333333,
              "#9c179e"
             ],
             [
              0.4444444444444444,
              "#bd3786"
             ],
             [
              0.5555555555555556,
              "#d8576b"
             ],
             [
              0.6666666666666666,
              "#ed7953"
             ],
             [
              0.7777777777777778,
              "#fb9f3a"
             ],
             [
              0.8888888888888888,
              "#fdca26"
             ],
             [
              1,
              "#f0f921"
             ]
            ],
            "type": "contour"
           }
          ],
          "contourcarpet": [
           {
            "colorbar": {
             "outlinewidth": 0,
             "ticks": ""
            },
            "type": "contourcarpet"
           }
          ],
          "heatmap": [
           {
            "colorbar": {
             "outlinewidth": 0,
             "ticks": ""
            },
            "colorscale": [
             [
              0,
              "#0d0887"
             ],
             [
              0.1111111111111111,
              "#46039f"
             ],
             [
              0.2222222222222222,
              "#7201a8"
             ],
             [
              0.3333333333333333,
              "#9c179e"
             ],
             [
              0.4444444444444444,
              "#bd3786"
             ],
             [
              0.5555555555555556,
              "#d8576b"
             ],
             [
              0.6666666666666666,
              "#ed7953"
             ],
             [
              0.7777777777777778,
              "#fb9f3a"
             ],
             [
              0.8888888888888888,
              "#fdca26"
             ],
             [
              1,
              "#f0f921"
             ]
            ],
            "type": "heatmap"
           }
          ],
          "heatmapgl": [
           {
            "colorbar": {
             "outlinewidth": 0,
             "ticks": ""
            },
            "colorscale": [
             [
              0,
              "#0d0887"
             ],
             [
              0.1111111111111111,
              "#46039f"
             ],
             [
              0.2222222222222222,
              "#7201a8"
             ],
             [
              0.3333333333333333,
              "#9c179e"
             ],
             [
              0.4444444444444444,
              "#bd3786"
             ],
             [
              0.5555555555555556,
              "#d8576b"
             ],
             [
              0.6666666666666666,
              "#ed7953"
             ],
             [
              0.7777777777777778,
              "#fb9f3a"
             ],
             [
              0.8888888888888888,
              "#fdca26"
             ],
             [
              1,
              "#f0f921"
             ]
            ],
            "type": "heatmapgl"
           }
          ],
          "histogram": [
           {
            "marker": {
             "pattern": {
              "fillmode": "overlay",
              "size": 10,
              "solidity": 0.2
             }
            },
            "type": "histogram"
           }
          ],
          "histogram2d": [
           {
            "colorbar": {
             "outlinewidth": 0,
             "ticks": ""
            },
            "colorscale": [
             [
              0,
              "#0d0887"
             ],
             [
              0.1111111111111111,
              "#46039f"
             ],
             [
              0.2222222222222222,
              "#7201a8"
             ],
             [
              0.3333333333333333,
              "#9c179e"
             ],
             [
              0.4444444444444444,
              "#bd3786"
             ],
             [
              0.5555555555555556,
              "#d8576b"
             ],
             [
              0.6666666666666666,
              "#ed7953"
             ],
             [
              0.7777777777777778,
              "#fb9f3a"
             ],
             [
              0.8888888888888888,
              "#fdca26"
             ],
             [
              1,
              "#f0f921"
             ]
            ],
            "type": "histogram2d"
           }
          ],
          "histogram2dcontour": [
           {
            "colorbar": {
             "outlinewidth": 0,
             "ticks": ""
            },
            "colorscale": [
             [
              0,
              "#0d0887"
             ],
             [
              0.1111111111111111,
              "#46039f"
             ],
             [
              0.2222222222222222,
              "#7201a8"
             ],
             [
              0.3333333333333333,
              "#9c179e"
             ],
             [
              0.4444444444444444,
              "#bd3786"
             ],
             [
              0.5555555555555556,
              "#d8576b"
             ],
             [
              0.6666666666666666,
              "#ed7953"
             ],
             [
              0.7777777777777778,
              "#fb9f3a"
             ],
             [
              0.8888888888888888,
              "#fdca26"
             ],
             [
              1,
              "#f0f921"
             ]
            ],
            "type": "histogram2dcontour"
           }
          ],
          "mesh3d": [
           {
            "colorbar": {
             "outlinewidth": 0,
             "ticks": ""
            },
            "type": "mesh3d"
           }
          ],
          "parcoords": [
           {
            "line": {
             "colorbar": {
              "outlinewidth": 0,
              "ticks": ""
             }
            },
            "type": "parcoords"
           }
          ],
          "pie": [
           {
            "automargin": true,
            "type": "pie"
           }
          ],
          "scatter": [
           {
            "marker": {
             "line": {
              "color": "#283442"
             }
            },
            "type": "scatter"
           }
          ],
          "scatter3d": [
           {
            "line": {
             "colorbar": {
              "outlinewidth": 0,
              "ticks": ""
             }
            },
            "marker": {
             "colorbar": {
              "outlinewidth": 0,
              "ticks": ""
             }
            },
            "type": "scatter3d"
           }
          ],
          "scattercarpet": [
           {
            "marker": {
             "colorbar": {
              "outlinewidth": 0,
              "ticks": ""
             }
            },
            "type": "scattercarpet"
           }
          ],
          "scattergeo": [
           {
            "marker": {
             "colorbar": {
              "outlinewidth": 0,
              "ticks": ""
             }
            },
            "type": "scattergeo"
           }
          ],
          "scattergl": [
           {
            "marker": {
             "line": {
              "color": "#283442"
             }
            },
            "type": "scattergl"
           }
          ],
          "scattermapbox": [
           {
            "marker": {
             "colorbar": {
              "outlinewidth": 0,
              "ticks": ""
             }
            },
            "type": "scattermapbox"
           }
          ],
          "scatterpolar": [
           {
            "marker": {
             "colorbar": {
              "outlinewidth": 0,
              "ticks": ""
             }
            },
            "type": "scatterpolar"
           }
          ],
          "scatterpolargl": [
           {
            "marker": {
             "colorbar": {
              "outlinewidth": 0,
              "ticks": ""
             }
            },
            "type": "scatterpolargl"
           }
          ],
          "scatterternary": [
           {
            "marker": {
             "colorbar": {
              "outlinewidth": 0,
              "ticks": ""
             }
            },
            "type": "scatterternary"
           }
          ],
          "surface": [
           {
            "colorbar": {
             "outlinewidth": 0,
             "ticks": ""
            },
            "colorscale": [
             [
              0,
              "#0d0887"
             ],
             [
              0.1111111111111111,
              "#46039f"
             ],
             [
              0.2222222222222222,
              "#7201a8"
             ],
             [
              0.3333333333333333,
              "#9c179e"
             ],
             [
              0.4444444444444444,
              "#bd3786"
             ],
             [
              0.5555555555555556,
              "#d8576b"
             ],
             [
              0.6666666666666666,
              "#ed7953"
             ],
             [
              0.7777777777777778,
              "#fb9f3a"
             ],
             [
              0.8888888888888888,
              "#fdca26"
             ],
             [
              1,
              "#f0f921"
             ]
            ],
            "type": "surface"
           }
          ],
          "table": [
           {
            "cells": {
             "fill": {
              "color": "#506784"
             },
             "line": {
              "color": "rgb(17,17,17)"
             }
            },
            "header": {
             "fill": {
              "color": "#2a3f5f"
             },
             "line": {
              "color": "rgb(17,17,17)"
             }
            },
            "type": "table"
           }
          ]
         },
         "layout": {
          "annotationdefaults": {
           "arrowcolor": "#f2f5fa",
           "arrowhead": 0,
           "arrowwidth": 1
          },
          "autotypenumbers": "strict",
          "coloraxis": {
           "colorbar": {
            "outlinewidth": 0,
            "ticks": ""
           }
          },
          "colorscale": {
           "diverging": [
            [
             0,
             "#8e0152"
            ],
            [
             0.1,
             "#c51b7d"
            ],
            [
             0.2,
             "#de77ae"
            ],
            [
             0.3,
             "#f1b6da"
            ],
            [
             0.4,
             "#fde0ef"
            ],
            [
             0.5,
             "#f7f7f7"
            ],
            [
             0.6,
             "#e6f5d0"
            ],
            [
             0.7,
             "#b8e186"
            ],
            [
             0.8,
             "#7fbc41"
            ],
            [
             0.9,
             "#4d9221"
            ],
            [
             1,
             "#276419"
            ]
           ],
           "sequential": [
            [
             0,
             "#0d0887"
            ],
            [
             0.1111111111111111,
             "#46039f"
            ],
            [
             0.2222222222222222,
             "#7201a8"
            ],
            [
             0.3333333333333333,
             "#9c179e"
            ],
            [
             0.4444444444444444,
             "#bd3786"
            ],
            [
             0.5555555555555556,
             "#d8576b"
            ],
            [
             0.6666666666666666,
             "#ed7953"
            ],
            [
             0.7777777777777778,
             "#fb9f3a"
            ],
            [
             0.8888888888888888,
             "#fdca26"
            ],
            [
             1,
             "#f0f921"
            ]
           ],
           "sequentialminus": [
            [
             0,
             "#0d0887"
            ],
            [
             0.1111111111111111,
             "#46039f"
            ],
            [
             0.2222222222222222,
             "#7201a8"
            ],
            [
             0.3333333333333333,
             "#9c179e"
            ],
            [
             0.4444444444444444,
             "#bd3786"
            ],
            [
             0.5555555555555556,
             "#d8576b"
            ],
            [
             0.6666666666666666,
             "#ed7953"
            ],
            [
             0.7777777777777778,
             "#fb9f3a"
            ],
            [
             0.8888888888888888,
             "#fdca26"
            ],
            [
             1,
             "#f0f921"
            ]
           ]
          },
          "colorway": [
           "#636efa",
           "#EF553B",
           "#00cc96",
           "#ab63fa",
           "#FFA15A",
           "#19d3f3",
           "#FF6692",
           "#B6E880",
           "#FF97FF",
           "#FECB52"
          ],
          "font": {
           "color": "#f2f5fa"
          },
          "geo": {
           "bgcolor": "rgb(17,17,17)",
           "lakecolor": "rgb(17,17,17)",
           "landcolor": "rgb(17,17,17)",
           "showlakes": true,
           "showland": true,
           "subunitcolor": "#506784"
          },
          "hoverlabel": {
           "align": "left"
          },
          "hovermode": "closest",
          "mapbox": {
           "style": "dark"
          },
          "paper_bgcolor": "rgb(17,17,17)",
          "plot_bgcolor": "rgb(17,17,17)",
          "polar": {
           "angularaxis": {
            "gridcolor": "#506784",
            "linecolor": "#506784",
            "ticks": ""
           },
           "bgcolor": "rgb(17,17,17)",
           "radialaxis": {
            "gridcolor": "#506784",
            "linecolor": "#506784",
            "ticks": ""
           }
          },
          "scene": {
           "xaxis": {
            "backgroundcolor": "rgb(17,17,17)",
            "gridcolor": "#506784",
            "gridwidth": 2,
            "linecolor": "#506784",
            "showbackground": true,
            "ticks": "",
            "zerolinecolor": "#C8D4E3"
           },
           "yaxis": {
            "backgroundcolor": "rgb(17,17,17)",
            "gridcolor": "#506784",
            "gridwidth": 2,
            "linecolor": "#506784",
            "showbackground": true,
            "ticks": "",
            "zerolinecolor": "#C8D4E3"
           },
           "zaxis": {
            "backgroundcolor": "rgb(17,17,17)",
            "gridcolor": "#506784",
            "gridwidth": 2,
            "linecolor": "#506784",
            "showbackground": true,
            "ticks": "",
            "zerolinecolor": "#C8D4E3"
           }
          },
          "shapedefaults": {
           "line": {
            "color": "#f2f5fa"
           }
          },
          "sliderdefaults": {
           "bgcolor": "#C8D4E3",
           "bordercolor": "rgb(17,17,17)",
           "borderwidth": 1,
           "tickwidth": 0
          },
          "ternary": {
           "aaxis": {
            "gridcolor": "#506784",
            "linecolor": "#506784",
            "ticks": ""
           },
           "baxis": {
            "gridcolor": "#506784",
            "linecolor": "#506784",
            "ticks": ""
           },
           "bgcolor": "rgb(17,17,17)",
           "caxis": {
            "gridcolor": "#506784",
            "linecolor": "#506784",
            "ticks": ""
           }
          },
          "title": {
           "x": 0.05
          },
          "updatemenudefaults": {
           "bgcolor": "#506784",
           "borderwidth": 0
          },
          "xaxis": {
           "automargin": true,
           "gridcolor": "#283442",
           "linecolor": "#506784",
           "ticks": "",
           "title": {
            "standoff": 15
           },
           "zerolinecolor": "#283442",
           "zerolinewidth": 2
          },
          "yaxis": {
           "automargin": true,
           "gridcolor": "#283442",
           "linecolor": "#506784",
           "ticks": "",
           "title": {
            "standoff": 15
           },
           "zerolinecolor": "#283442",
           "zerolinewidth": 2
          }
         }
        },
        "width": 1000
       }
      }
     },
     "metadata": {},
     "output_type": "display_data"
    }
   ],
   "source": [
    "sbomqs_radar_chart(feature_qscores) \n"
   ]
  },
  {
   "cell_type": "code",
   "execution_count": 46,
   "id": "84f4bbd6-ce4a-4243-bdd2-fab680b74688",
   "metadata": {},
   "outputs": [],
   "source": [
    "#| default_exp core"
   ]
  }
 ],
 "metadata": {
  "kernelspec": {
   "display_name": "Python 3 (ipykernel)",
   "language": "python",
   "name": "python3"
  },
  "language_info": {
   "codemirror_mode": {
    "name": "ipython",
    "version": 3
   },
   "file_extension": ".py",
   "mimetype": "text/x-python",
   "name": "python",
   "nbconvert_exporter": "python",
   "pygments_lexer": "ipython3",
   "version": "3.9.6"
  }
 },
 "nbformat": 4,
 "nbformat_minor": 5
}

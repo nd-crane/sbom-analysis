{
 "cells": [
  {
   "cell_type": "code",
   "execution_count": null,
   "id": "6d946c38-e55c-40e2-a679-f061a365e25a",
   "metadata": {},
   "outputs": [],
   "source": [
    "#| hide\n",
    "import kglab\n",
    "import pandas as pd\n",
    "from sbom_analysis.core import *"
   ]
  },
  {
   "cell_type": "markdown",
   "id": "5a27fdd0-2848-433e-88ec-88e1d0824f36",
   "metadata": {},
   "source": [
    "# Analyzing SPDX Example SBOM"
   ]
  },
  {
   "cell_type": "markdown",
   "id": "1f76a2fc-fa1f-4027-9c3d-2a65e62fa9ad",
   "metadata": {},
   "source": [
    "SBOM Source: [spdx/spdx-spec/examples](https://github.com/spdx/spdx-spec/tree/development/v2.2.2/examples)\n",
    "\n",
    "RDF Source: Generated using [pyspdxtools](https://github.com/spdx/tools-python)\n",
    "\n",
    "**NOTICE:** For ease of viewing some cell inputs are hidden.  Please view inputs [here](https://github.com/nd-crane/sbom-analysis/blob/main/nbs/spdx_example.ipynb) for further explinations."
   ]
  },
  {
   "cell_type": "markdown",
   "id": "a11edeed",
   "metadata": {},
   "source": [
    "#### Importing Graph\n",
    "\n",
    "Here we import the graph to be analyzed as an XML with kglab to the variable `kg`.  This will be our main graph throughout the entirety of this notebook and will always be referred to as `kg`.  From it we will query data and create subgraphs for analysis."
   ]
  },
  {
   "cell_type": "code",
   "execution_count": null,
   "id": "623ab3f8-2b80-416f-8049-fd56cbd1ace4",
   "metadata": {},
   "outputs": [
    {
     "data": {
      "text/plain": [
       "<kglab.kglab.KnowledgeGraph>"
      ]
     },
     "execution_count": null,
     "metadata": {},
     "output_type": "execute_result"
    }
   ],
   "source": [
    "import kglab\n",
    "kg = kglab.KnowledgeGraph()\n",
    "kg.load_rdf(\"../../sboms/rdf/model.rdf.xml\", format=\"xml\")"
   ]
  },
  {
   "cell_type": "markdown",
   "id": "2078febb",
   "metadata": {},
   "source": [
    "## Graph Overview"
   ]
  },
  {
   "cell_type": "markdown",
   "id": "e6ec84e2",
   "metadata": {},
   "source": [
    "First let's get a general overview of the graph we are working with.   Let's visualize it as a whole and look at some metadata."
   ]
  },
  {
   "cell_type": "markdown",
   "id": "3705beaa-9aad-470d-a237-e3174525524e",
   "metadata": {},
   "source": [
    "The filename below specifies the path which the graph is saved to.  This can also be viewed in GitHub."
   ]
  },
  {
   "cell_type": "markdown",
   "id": "b9841bdd-103b-4006-bf40-15136240dc58",
   "metadata": {},
   "source": [
    "Under default settings, orange represnets spdx: elements, red represents ptr: elements and blue represents all others.  These can be changed as wished.\n",
    "\n",
    "Let's also take a look at basic graph metadata:"
   ]
  },
  {
   "cell_type": "code",
   "execution_count": null,
   "id": "12f13dce-a8d2-4499-8c8a-19d55a791727",
   "metadata": {},
   "outputs": [
    {
     "name": "stdout",
     "output_type": "stream",
     "text": [
      "Total Triples: 306\n",
      "Distinct Entities: 56\n",
      "Distinct Properties: 62\n"
     ]
    }
   ],
   "source": [
    "show_metadata(kg)"
   ]
  },
  {
   "cell_type": "code",
   "execution_count": null,
   "id": "22288eeb-a229-43dd-ae35-b88035fb3a5e",
   "metadata": {},
   "outputs": [
    {
     "name": "stdout",
     "output_type": "stream",
     "text": [
      "edges 306\n",
      "nodes 99\n"
     ]
    }
   ],
   "source": [
    "show_measures(kg)"
   ]
  },
  {
   "cell_type": "markdown",
   "id": "ca1d109b-9181-43d8-9405-eb9ead8cb221",
   "metadata": {},
   "source": [
    "Here's some more advanced metadata:\n",
    "\n",
    "First let's look at a count of each entity type to get a general idea of what our graph represents"
   ]
  },
  {
   "cell_type": "code",
   "execution_count": null,
   "id": "1e120b6c-b1d2-42da-9fa6-49c951b77ff7",
   "metadata": {},
   "outputs": [
    {
     "name": "stdout",
     "output_type": "stream",
     "text": [
      "http://spdx.org/rdf/terms#Relationship : 11\n",
      "http://spdx.org/rdf/terms#Checksum : 10\n",
      "http://spdx.org/rdf/terms#ExtractedLicensingInfo : 5\n",
      "http://spdx.org/rdf/terms#Annotation : 5\n",
      "http://spdx.org/rdf/terms#Package : 4\n",
      "http://spdx.org/rdf/terms#File : 4\n",
      "http://spdx.org/rdf/terms#ExternalRef : 3\n",
      "http://spdx.org/rdf/terms#DisjunctiveLicenseSet : 2\n",
      "http://www.w3.org/2009/pointers#StartEndPointer : 2\n",
      "http://www.w3.org/2009/pointers#ByteOffsetPointer : 2\n",
      "http://www.w3.org/2009/pointers#LineCharPointer : 2\n",
      "http://spdx.org/rdf/terms#SpdxDocument : 1\n",
      "http://spdx.org/rdf/terms#PackageVerificationCode : 1\n",
      "http://spdx.org/rdf/terms#ConjunctiveLicenseSet : 1\n",
      "http://spdx.org/rdf/terms#CreationInfo : 1\n",
      "http://spdx.org/rdf/terms#ExternalDocumentRef : 1\n",
      "http://spdx.org/rdf/terms#Snippet : 1\n"
     ]
    }
   ],
   "source": [
    "show_entity_types(kg)"
   ]
  },
  {
   "cell_type": "markdown",
   "id": "60d1cde1-29c3-4d9f-bf92-2d6569acf6c5",
   "metadata": {},
   "source": [
    "We can also view the top 10 properties of all elements:"
   ]
  },
  {
   "cell_type": "code",
   "execution_count": null,
   "id": "738e1a31-c17c-4bc8-bb82-7a5da77690ac",
   "metadata": {},
   "outputs": [
    {
     "name": "stdout",
     "output_type": "stream",
     "text": [
      "http://www.w3.org/1999/02/22-rdf-syntax-ns#type : 56\n",
      "http://www.w3.org/2000/01/rdf-schema#comment : 14\n",
      "http://spdx.org/rdf/terms#fileContributor : 11\n",
      "http://spdx.org/rdf/terms#relatedSpdxElement : 11\n",
      "http://spdx.org/rdf/terms#relationship : 11\n",
      "http://spdx.org/rdf/terms#relationshipType : 11\n",
      "http://spdx.org/rdf/terms#algorithm : 10\n",
      "http://spdx.org/rdf/terms#checksumValue : 10\n",
      "http://spdx.org/rdf/terms#checksum : 10\n",
      "http://spdx.org/rdf/terms#copyrightText : 9\n"
     ]
    }
   ],
   "source": [
    "show_top_n_props(kg)"
   ]
  },
  {
   "cell_type": "markdown",
   "id": "7a301153-cc90-4d23-9406-38c6febcc0e9",
   "metadata": {},
   "source": [
    "SPDX schemas generally represent three main items (in addition to project metadata)\n",
    "\n",
    "1. Files in the project\n",
    "2. Dependencies (or packages) used in the project\n",
    "3. Relationships between everything\n",
    "\n",
    "Let's start by examining how files are represented in this KG"
   ]
  },
  {
   "cell_type": "markdown",
   "id": "34de485b-7c2c-4499-97fa-6f13a5329a7c",
   "metadata": {},
   "source": [
    "## Files"
   ]
  },
  {
   "cell_type": "markdown",
   "id": "4dfe73d8-b1fb-49cb-bbf3-325a7cab5af6",
   "metadata": {},
   "source": [
    "From the graph let's look at all properties that are present for files"
   ]
  },
  {
   "cell_type": "code",
   "execution_count": null,
   "id": "ea331840-3db7-42d4-9243-179271096a3f",
   "metadata": {},
   "outputs": [
    {
     "data": {
      "text/html": [
       "<div>\n",
       "<style scoped>\n",
       "    .dataframe tbody tr th:only-of-type {\n",
       "        vertical-align: middle;\n",
       "    }\n",
       "\n",
       "    .dataframe tbody tr th {\n",
       "        vertical-align: top;\n",
       "    }\n",
       "\n",
       "    .dataframe thead th {\n",
       "        text-align: right;\n",
       "    }\n",
       "</style>\n",
       "<table border=\"1\" class=\"dataframe\">\n",
       "  <thead>\n",
       "    <tr style=\"text-align: right;\">\n",
       "      <th></th>\n",
       "      <th>property</th>\n",
       "    </tr>\n",
       "  </thead>\n",
       "  <tbody>\n",
       "    <tr>\n",
       "      <th>0</th>\n",
       "      <td>spdx:annotation</td>\n",
       "    </tr>\n",
       "    <tr>\n",
       "      <th>1</th>\n",
       "      <td>spdx:checksum</td>\n",
       "    </tr>\n",
       "    <tr>\n",
       "      <th>2</th>\n",
       "      <td>spdx:copyrightText</td>\n",
       "    </tr>\n",
       "    <tr>\n",
       "      <th>3</th>\n",
       "      <td>spdx:fileContributor</td>\n",
       "    </tr>\n",
       "    <tr>\n",
       "      <th>4</th>\n",
       "      <td>spdx:fileName</td>\n",
       "    </tr>\n",
       "    <tr>\n",
       "      <th>5</th>\n",
       "      <td>spdx:fileType</td>\n",
       "    </tr>\n",
       "    <tr>\n",
       "      <th>6</th>\n",
       "      <td>spdx:licenseComments</td>\n",
       "    </tr>\n",
       "    <tr>\n",
       "      <th>7</th>\n",
       "      <td>spdx:licenseConcluded</td>\n",
       "    </tr>\n",
       "    <tr>\n",
       "      <th>8</th>\n",
       "      <td>spdx:licenseInfoInFile</td>\n",
       "    </tr>\n",
       "    <tr>\n",
       "      <th>9</th>\n",
       "      <td>spdx:noticeText</td>\n",
       "    </tr>\n",
       "    <tr>\n",
       "      <th>10</th>\n",
       "      <td>spdx:relationship</td>\n",
       "    </tr>\n",
       "    <tr>\n",
       "      <th>11</th>\n",
       "      <td>rdf:type</td>\n",
       "    </tr>\n",
       "    <tr>\n",
       "      <th>12</th>\n",
       "      <td>rdfs:comment</td>\n",
       "    </tr>\n",
       "  </tbody>\n",
       "</table>\n",
       "</div>"
      ],
      "text/plain": [
       "                  property\n",
       "0          spdx:annotation\n",
       "1            spdx:checksum\n",
       "2       spdx:copyrightText\n",
       "3     spdx:fileContributor\n",
       "4            spdx:fileName\n",
       "5            spdx:fileType\n",
       "6     spdx:licenseComments\n",
       "7    spdx:licenseConcluded\n",
       "8   spdx:licenseInfoInFile\n",
       "9          spdx:noticeText\n",
       "10       spdx:relationship\n",
       "11                rdf:type\n",
       "12            rdfs:comment"
      ]
     },
     "execution_count": null,
     "metadata": {},
     "output_type": "execute_result"
    }
   ],
   "source": [
    "file_schema(kg)"
   ]
  },
  {
   "cell_type": "markdown",
   "id": "23a1aec3-d1b2-4848-9c27-6210a7eaf443",
   "metadata": {},
   "source": [
    "And also a dataframe of what is present for files"
   ]
  },
  {
   "cell_type": "code",
   "execution_count": null,
   "id": "288c9f44-6f65-4fad-9cbe-252e2a64cbc6",
   "metadata": {},
   "outputs": [
    {
     "data": {
      "text/html": [
       "<div>\n",
       "<style scoped>\n",
       "    .dataframe tbody tr th:only-of-type {\n",
       "        vertical-align: middle;\n",
       "    }\n",
       "\n",
       "    .dataframe tbody tr th {\n",
       "        vertical-align: top;\n",
       "    }\n",
       "\n",
       "    .dataframe thead th {\n",
       "        text-align: right;\n",
       "    }\n",
       "</style>\n",
       "<table border=\"1\" class=\"dataframe\">\n",
       "  <thead>\n",
       "    <tr style=\"text-align: right;\">\n",
       "      <th></th>\n",
       "      <th>fileID</th>\n",
       "      <th>fileName</th>\n",
       "      <th>fileType</th>\n",
       "      <th>licenseInFile</th>\n",
       "      <th>contributors</th>\n",
       "      <th>licenseConcluded</th>\n",
       "      <th>checksum</th>\n",
       "      <th>relationship</th>\n",
       "      <th>comment</th>\n",
       "      <th>licenseComments</th>\n",
       "      <th>noticeText</th>\n",
       "      <th>annotation</th>\n",
       "    </tr>\n",
       "  </thead>\n",
       "  <tbody>\n",
       "    <tr>\n",
       "      <th>0</th>\n",
       "      <td>&lt;http://spdx.org/spdxdocs/spdx-example-444504E...</td>\n",
       "      <td>./lib-source/jena-2.6.3-sources.jar</td>\n",
       "      <td>spdx:fileType_archive</td>\n",
       "      <td>&lt;http://spdx.org/spdxdocs/spdx-example-444504E...</td>\n",
       "      <td>Apache Software Foundation, Hewlett Packard Inc.</td>\n",
       "      <td>http://spdx.org/spdxdocs/spdx-example-444504E0...</td>\n",
       "      <td>_:N7d6e508df7f240f7b8e0f250d70d75ae</td>\n",
       "      <td>_:N94b74a1297954445943a04e2fd998218</td>\n",
       "      <td>This file belongs to Jena</td>\n",
       "      <td>This license is used by Jena</td>\n",
       "      <td>NaN</td>\n",
       "      <td>NaN</td>\n",
       "    </tr>\n",
       "    <tr>\n",
       "      <th>1</th>\n",
       "      <td>&lt;http://spdx.org/spdxdocs/spdx-example-444504E...</td>\n",
       "      <td>./lib-source/commons-lang3-3.1-sources.jar</td>\n",
       "      <td>spdx:fileType_archive</td>\n",
       "      <td>&lt;http://spdx.org/licenses/Apache-2.0&gt;</td>\n",
       "      <td>Apache Software Foundation</td>\n",
       "      <td>http://spdx.org/licenses/Apache-2.0</td>\n",
       "      <td>_:N103471638ff84c5d9d1c78f27855f653</td>\n",
       "      <td>_:N0c54e685f8e344dea045daf638265480</td>\n",
       "      <td>This file is used by Jena</td>\n",
       "      <td>NaN</td>\n",
       "      <td>Apache Commons Lang\\nCopyright 2001-2011 The A...</td>\n",
       "      <td>NaN</td>\n",
       "    </tr>\n",
       "    <tr>\n",
       "      <th>2</th>\n",
       "      <td>&lt;http://spdx.org/spdxdocs/spdx-example-444504E...</td>\n",
       "      <td>./src/org/spdx/parser/DOAPProject.java</td>\n",
       "      <td>spdx:fileType_source</td>\n",
       "      <td>&lt;http://spdx.org/licenses/Apache-2.0&gt;</td>\n",
       "      <td>Source Auditor Inc., Black Duck Software In.c,...</td>\n",
       "      <td>http://spdx.org/licenses/Apache-2.0, http://sp...</td>\n",
       "      <td>_:Nc8a3be78c9bc4cafbbf9269b928d4582</td>\n",
       "      <td>NaN</td>\n",
       "      <td>NaN</td>\n",
       "      <td>NaN</td>\n",
       "      <td>NaN</td>\n",
       "      <td>NaN</td>\n",
       "    </tr>\n",
       "    <tr>\n",
       "      <th>3</th>\n",
       "      <td>&lt;http://spdx.org/spdxdocs/spdx-example-444504E...</td>\n",
       "      <td>./package/foo.c</td>\n",
       "      <td>spdx:fileType_source</td>\n",
       "      <td>&lt;http://spdx.org/spdxdocs/spdx-example-444504E...</td>\n",
       "      <td>IBM Corporation, IBM Corporation, IBM Corporat...</td>\n",
       "      <td>N7b52bfe85cd34337af6baf9e87250d07, N7b52bfe85c...</td>\n",
       "      <td>_:Na72d642b09804fc995174f1c25167e8c</td>\n",
       "      <td>_:N42d1b1ab56344cda89a26dbb4f593871</td>\n",
       "      <td>The concluded license was taken from the packa...</td>\n",
       "      <td>The concluded license was taken from the packa...</td>\n",
       "      <td>Copyright (c) 2001 Aaron Lehmann aaroni@vitelu...</td>\n",
       "      <td>_:Nd3e4b45de96b4f3fbaaf8db45a164a2d</td>\n",
       "    </tr>\n",
       "  </tbody>\n",
       "</table>\n",
       "</div>"
      ],
      "text/plain": [
       "                                              fileID  \\\n",
       "0  <http://spdx.org/spdxdocs/spdx-example-444504E...   \n",
       "1  <http://spdx.org/spdxdocs/spdx-example-444504E...   \n",
       "2  <http://spdx.org/spdxdocs/spdx-example-444504E...   \n",
       "3  <http://spdx.org/spdxdocs/spdx-example-444504E...   \n",
       "\n",
       "                                     fileName               fileType  \\\n",
       "0         ./lib-source/jena-2.6.3-sources.jar  spdx:fileType_archive   \n",
       "1  ./lib-source/commons-lang3-3.1-sources.jar  spdx:fileType_archive   \n",
       "2      ./src/org/spdx/parser/DOAPProject.java   spdx:fileType_source   \n",
       "3                             ./package/foo.c   spdx:fileType_source   \n",
       "\n",
       "                                       licenseInFile  \\\n",
       "0  <http://spdx.org/spdxdocs/spdx-example-444504E...   \n",
       "1              <http://spdx.org/licenses/Apache-2.0>   \n",
       "2              <http://spdx.org/licenses/Apache-2.0>   \n",
       "3  <http://spdx.org/spdxdocs/spdx-example-444504E...   \n",
       "\n",
       "                                        contributors  \\\n",
       "0   Apache Software Foundation, Hewlett Packard Inc.   \n",
       "1                         Apache Software Foundation   \n",
       "2  Source Auditor Inc., Black Duck Software In.c,...   \n",
       "3  IBM Corporation, IBM Corporation, IBM Corporat...   \n",
       "\n",
       "                                    licenseConcluded  \\\n",
       "0  http://spdx.org/spdxdocs/spdx-example-444504E0...   \n",
       "1                http://spdx.org/licenses/Apache-2.0   \n",
       "2  http://spdx.org/licenses/Apache-2.0, http://sp...   \n",
       "3  N7b52bfe85cd34337af6baf9e87250d07, N7b52bfe85c...   \n",
       "\n",
       "                              checksum                         relationship  \\\n",
       "0  _:N7d6e508df7f240f7b8e0f250d70d75ae  _:N94b74a1297954445943a04e2fd998218   \n",
       "1  _:N103471638ff84c5d9d1c78f27855f653  _:N0c54e685f8e344dea045daf638265480   \n",
       "2  _:Nc8a3be78c9bc4cafbbf9269b928d4582                                  NaN   \n",
       "3  _:Na72d642b09804fc995174f1c25167e8c  _:N42d1b1ab56344cda89a26dbb4f593871   \n",
       "\n",
       "                                             comment  \\\n",
       "0                          This file belongs to Jena   \n",
       "1                          This file is used by Jena   \n",
       "2                                                NaN   \n",
       "3  The concluded license was taken from the packa...   \n",
       "\n",
       "                                     licenseComments  \\\n",
       "0                       This license is used by Jena   \n",
       "1                                                NaN   \n",
       "2                                                NaN   \n",
       "3  The concluded license was taken from the packa...   \n",
       "\n",
       "                                          noticeText  \\\n",
       "0                                                NaN   \n",
       "1  Apache Commons Lang\\nCopyright 2001-2011 The A...   \n",
       "2                                                NaN   \n",
       "3  Copyright (c) 2001 Aaron Lehmann aaroni@vitelu...   \n",
       "\n",
       "                            annotation  \n",
       "0                                  NaN  \n",
       "1                                  NaN  \n",
       "2                                  NaN  \n",
       "3  _:Nd3e4b45de96b4f3fbaaf8db45a164a2d  "
      ]
     },
     "execution_count": null,
     "metadata": {},
     "output_type": "execute_result"
    }
   ],
   "source": [
    "df = get_files_data(kg)\n",
    "df"
   ]
  },
  {
   "cell_type": "markdown",
   "id": "2d4d9184",
   "metadata": {},
   "source": [
    "## Relationship"
   ]
  },
  {
   "cell_type": "code",
   "execution_count": null,
   "id": "b93df100",
   "metadata": {},
   "outputs": [
    {
     "name": "stdout",
     "output_type": "stream",
     "text": [
      "../figs/fig01.relationship_full.html\n"
     ]
    },
    {
     "data": {
      "text/html": [
       "\n",
       "        <iframe\n",
       "            width=\"100%\"\n",
       "            height=\"600px\"\n",
       "            src=\"../figs/fig01.relationship_full.html\"\n",
       "            frameborder=\"0\"\n",
       "            allowfullscreen\n",
       "            \n",
       "        ></iframe>\n",
       "        "
      ],
      "text/plain": [
       "<IPython.lib.display.IFrame>"
      ]
     },
     "execution_count": null,
     "metadata": {},
     "output_type": "execute_result"
    }
   ],
   "source": [
    "# get the relationship graph to be visualized\n",
    "graph = visualize_relationship_graph(kg)\n",
    "\n",
    "# optional: set the physics layout of the network\n",
    "graph.force_atlas_2based()\n",
    "graph.set_edge_smooth('dynamic')\n",
    "\n",
    "# show graph\n",
    "graph.show(\"../figs/fig01.relationship_full.html\")"
   ]
  },
  {
   "cell_type": "markdown",
   "id": "8f378888",
   "metadata": {},
   "source": [
    "The color of the nodes in the graph refer to the element type in the spdx specification:"
   ]
  },
  {
   "cell_type": "code",
   "execution_count": null,
   "id": "dab1b915",
   "metadata": {},
   "outputs": [
    {
     "data": {
      "text/html": [
       "<div>\n",
       "<style scoped>\n",
       "    .dataframe tbody tr th:only-of-type {\n",
       "        vertical-align: middle;\n",
       "    }\n",
       "\n",
       "    .dataframe tbody tr th {\n",
       "        vertical-align: top;\n",
       "    }\n",
       "\n",
       "    .dataframe thead th {\n",
       "        text-align: right;\n",
       "    }\n",
       "</style>\n",
       "<table border=\"1\" class=\"dataframe\">\n",
       "  <thead>\n",
       "    <tr style=\"text-align: right;\">\n",
       "      <th></th>\n",
       "      <th>SPDX Type</th>\n",
       "      <th>Node Color</th>\n",
       "    </tr>\n",
       "  </thead>\n",
       "  <tbody>\n",
       "    <tr>\n",
       "      <th>0</th>\n",
       "      <td>File</td>\n",
       "      <td>Yellow</td>\n",
       "    </tr>\n",
       "    <tr>\n",
       "      <th>1</th>\n",
       "      <td>Package</td>\n",
       "      <td>Blue</td>\n",
       "    </tr>\n",
       "    <tr>\n",
       "      <th>2</th>\n",
       "      <td>SPDXDocument</td>\n",
       "      <td>Red</td>\n",
       "    </tr>\n",
       "  </tbody>\n",
       "</table>\n",
       "</div>"
      ],
      "text/plain": [
       "      SPDX Type Node Color\n",
       "0          File     Yellow\n",
       "1       Package       Blue\n",
       "2  SPDXDocument        Red"
      ]
     },
     "metadata": {},
     "output_type": "display_data"
    }
   ],
   "source": [
    "display_relationship_graph_legend()"
   ]
  }
 ],
 "metadata": {
  "kernelspec": {
   "display_name": "python3",
   "language": "python",
   "name": "python3"
  }
 },
 "nbformat": 4,
 "nbformat_minor": 5
}

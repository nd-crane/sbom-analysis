{
 "cells": [
  {
   "cell_type": "code",
   "execution_count": 1,
   "id": "7b6f5125-6b85-4c08-bb3b-926edaab7e11",
   "metadata": {},
   "outputs": [],
   "source": [
    "#| hide\n",
    "import kglab\n",
    "import pandas as pd\n",
    "from sbom_analysis.core import *"
   ]
  },
  {
   "cell_type": "markdown",
   "id": "97cdcdfd-ba3d-4a43-9234-819dc4962c99",
   "metadata": {},
   "source": [
    "# llama.cpp"
   ]
  },
  {
   "cell_type": "markdown",
   "id": "097cedd6-9d94-44a8-becf-e67531b90077",
   "metadata": {},
   "source": [
    "SBOM Source: [ggerganov/llama.cpp](https://github.com/ggerganov/llama.cpp) generated using [microsoft/sbom-tool](https://github.com/microsoft/sbom-tool)\n",
    "\n",
    "RDF Source: Generated using [pyspdxtools](https://github.com/spdx/tools-python)"
   ]
  },
  {
   "cell_type": "markdown",
   "id": "0210b727-308f-4928-8e18-e2f43c942299",
   "metadata": {},
   "source": [
    "## llama.cpp Overview"
   ]
  },
  {
   "cell_type": "markdown",
   "id": "d88c7374-eb20-4f86-9ae4-01da38e0e735",
   "metadata": {},
   "source": [
    "The main goal of `llama.cpp` is to run the LLaMA model using 4-bit integer quantization on a MacBook.  Thus it is written in pure C/C++ without dependencies.\n",
    "\n",
    "For local installation it is built using `make`, `CMake`, or `Zig`:"
   ]
  },
  {
   "cell_type": "markdown",
   "id": "fc9e0aa8-e4f9-41cb-9c2b-e9cdab3c63f9",
   "metadata": {},
   "source": [
    "### Dependencies"
   ]
  },
  {
   "cell_type": "markdown",
   "id": "3ac341ad-a31c-4552-901b-2f0339267b3e",
   "metadata": {},
   "source": [
    "All C/C++ called in the `makefile` are defined in the repo.  These include:\n",
    "\n",
    "- ggml.h\n",
    "- ggml-cuda.\n",
    "- llama.h llama-util.h\n",
    "- examples/common.h\n",
    "- build-info.h\n",
    "\n",
    "From these libraries, standard C/C++ libraries are called.\n",
    "\n",
    "In addtion to the C/C++ executables, `llama.cpp` has a python `convert.py` script to convert model formats.  This script relies on a number of python standard-lib packages as well as two packages defined in `requirements.txt`:\n",
    "\n",
    "1. numpy=1.24\n",
    "2. sentencepiece==0.1.98"
   ]
  },
  {
   "cell_type": "markdown",
   "id": "6c5cc8fb-2039-4c72-8d35-e792ae5c59fd",
   "metadata": {},
   "source": [
    "## Generated SBOM"
   ]
  },
  {
   "cell_type": "markdown",
   "id": "39321400-b4b4-4a06-ade8-7ac3e1438325",
   "metadata": {},
   "source": [
    "Let's analyze how accurate and complete the SBOM for this project is.  First import the KG form of the SBOM as specified in the header above."
   ]
  },
  {
   "cell_type": "code",
   "execution_count": 2,
   "id": "8227207e-8ed9-4e57-8211-b3eca0e20ce0",
   "metadata": {},
   "outputs": [
    {
     "data": {
      "text/plain": [
       "<kglab.kglab.KnowledgeGraph at 0x7fa80dd363d0>"
      ]
     },
     "execution_count": 2,
     "metadata": {},
     "output_type": "execute_result"
    }
   ],
   "source": [
    "kg = kglab.KnowledgeGraph()\n",
    "kg.load_rdf(\"sboms/rdf/llama.cpp.spdx.rdf.xml\", format=\"xml\")"
   ]
  },
  {
   "cell_type": "markdown",
   "id": "2eb947c2-4dd2-4846-a758-98b7eabccbee",
   "metadata": {},
   "source": [
    "### Basic Metadata"
   ]
  },
  {
   "cell_type": "markdown",
   "id": "c8def9f7-9d83-4758-b667-40ae78160f78",
   "metadata": {},
   "source": [
    "Let's start by looking at the overall size of the KG"
   ]
  },
  {
   "cell_type": "code",
   "execution_count": 3,
   "id": "ddcef9c9-56d0-4393-bdd0-944e775b13fd",
   "metadata": {},
   "outputs": [
    {
     "name": "stdout",
     "output_type": "stream",
     "text": [
      "Total Triples: 2390\n",
      "Distinct Entities: 560\n",
      "Distinct Properties: 29\n"
     ]
    }
   ],
   "source": [
    "show_metadata(kg)"
   ]
  },
  {
   "cell_type": "code",
   "execution_count": 4,
   "id": "c497cb78-1afe-4e17-b097-640f09246e03",
   "metadata": {},
   "outputs": [
    {
     "name": "stdout",
     "output_type": "stream",
     "text": [
      "edges 2390\n",
      "nodes 577\n"
     ]
    }
   ],
   "source": [
    "show_measures(kg)"
   ]
  },
  {
   "cell_type": "markdown",
   "id": "a724e08b-9ab6-42bb-8d6e-a837b0165006",
   "metadata": {},
   "source": [
    "Already this looks small"
   ]
  },
  {
   "cell_type": "markdown",
   "id": "85c49f31-1287-49fa-b597-3f58e6e476ca",
   "metadata": {},
   "source": [
    "### Packages"
   ]
  },
  {
   "cell_type": "markdown",
   "id": "fcfb5655-7486-45c4-a508-741077da5b48",
   "metadata": {},
   "source": [
    "Since we defined the project dependencies above from manual analysis (just looking through the repo) let's see how the KG reflects this"
   ]
  },
  {
   "cell_type": "code",
   "execution_count": 5,
   "id": "f9a6ef8c-c997-4065-affb-09fafb52167e",
   "metadata": {},
   "outputs": [
    {
     "data": {
      "text/html": [
       "<div>\n",
       "<style scoped>\n",
       "    .dataframe tbody tr th:only-of-type {\n",
       "        vertical-align: middle;\n",
       "    }\n",
       "\n",
       "    .dataframe tbody tr th {\n",
       "        vertical-align: top;\n",
       "    }\n",
       "\n",
       "    .dataframe thead th {\n",
       "        text-align: right;\n",
       "    }\n",
       "</style>\n",
       "<table border=\"1\" class=\"dataframe\">\n",
       "  <thead>\n",
       "    <tr style=\"text-align: right;\">\n",
       "      <th></th>\n",
       "      <th>property</th>\n",
       "    </tr>\n",
       "  </thead>\n",
       "  <tbody>\n",
       "    <tr>\n",
       "      <th>0</th>\n",
       "      <td>spdx:copyrightText</td>\n",
       "    </tr>\n",
       "    <tr>\n",
       "      <th>1</th>\n",
       "      <td>spdx:downloadLocation</td>\n",
       "    </tr>\n",
       "    <tr>\n",
       "      <th>2</th>\n",
       "      <td>spdx:externalRef</td>\n",
       "    </tr>\n",
       "    <tr>\n",
       "      <th>3</th>\n",
       "      <td>spdx:filesAnalyzed</td>\n",
       "    </tr>\n",
       "    <tr>\n",
       "      <th>4</th>\n",
       "      <td>spdx:licenseConcluded</td>\n",
       "    </tr>\n",
       "    <tr>\n",
       "      <th>5</th>\n",
       "      <td>spdx:licenseDeclared</td>\n",
       "    </tr>\n",
       "    <tr>\n",
       "      <th>6</th>\n",
       "      <td>spdx:licenseInfoFromFiles</td>\n",
       "    </tr>\n",
       "    <tr>\n",
       "      <th>7</th>\n",
       "      <td>spdx:name</td>\n",
       "    </tr>\n",
       "    <tr>\n",
       "      <th>8</th>\n",
       "      <td>spdx:packageVerificationCode</td>\n",
       "    </tr>\n",
       "    <tr>\n",
       "      <th>9</th>\n",
       "      <td>spdx:relationship</td>\n",
       "    </tr>\n",
       "    <tr>\n",
       "      <th>10</th>\n",
       "      <td>spdx:supplier</td>\n",
       "    </tr>\n",
       "    <tr>\n",
       "      <th>11</th>\n",
       "      <td>spdx:versionInfo</td>\n",
       "    </tr>\n",
       "    <tr>\n",
       "      <th>12</th>\n",
       "      <td>rdf:type</td>\n",
       "    </tr>\n",
       "  </tbody>\n",
       "</table>\n",
       "</div>"
      ],
      "text/plain": [
       "                        property\n",
       "0             spdx:copyrightText\n",
       "1          spdx:downloadLocation\n",
       "2               spdx:externalRef\n",
       "3             spdx:filesAnalyzed\n",
       "4          spdx:licenseConcluded\n",
       "5           spdx:licenseDeclared\n",
       "6      spdx:licenseInfoFromFiles\n",
       "7                      spdx:name\n",
       "8   spdx:packageVerificationCode\n",
       "9              spdx:relationship\n",
       "10                 spdx:supplier\n",
       "11              spdx:versionInfo\n",
       "12                      rdf:type"
      ]
     },
     "execution_count": 5,
     "metadata": {},
     "output_type": "execute_result"
    }
   ],
   "source": [
    "package_schema(kg)"
   ]
  },
  {
   "cell_type": "code",
   "execution_count": 6,
   "id": "63b3bd05-937f-4d66-b83a-5193bcdcac3f",
   "metadata": {},
   "outputs": [
    {
     "data": {
      "text/html": [
       "<div>\n",
       "<style scoped>\n",
       "    .dataframe tbody tr th:only-of-type {\n",
       "        vertical-align: middle;\n",
       "    }\n",
       "\n",
       "    .dataframe tbody tr th {\n",
       "        vertical-align: top;\n",
       "    }\n",
       "\n",
       "    .dataframe thead th {\n",
       "        text-align: right;\n",
       "    }\n",
       "</style>\n",
       "<table border=\"1\" class=\"dataframe\">\n",
       "  <thead>\n",
       "    <tr style=\"text-align: right;\">\n",
       "      <th></th>\n",
       "      <th>package</th>\n",
       "      <th>annotations</th>\n",
       "      <th>attributionTexts</th>\n",
       "      <th>checksums</th>\n",
       "      <th>copyrightText</th>\n",
       "      <th>downloadLocation</th>\n",
       "      <th>externalRefs</th>\n",
       "      <th>hasFiles</th>\n",
       "      <th>licenseConcluded</th>\n",
       "      <th>licenseDeclared</th>\n",
       "      <th>licenseInfoFromFiles</th>\n",
       "      <th>name</th>\n",
       "      <th>packageVerificationCode</th>\n",
       "      <th>supplier</th>\n",
       "      <th>versionInfo</th>\n",
       "      <th>relationships</th>\n",
       "    </tr>\n",
       "  </thead>\n",
       "  <tbody>\n",
       "    <tr>\n",
       "      <th>0</th>\n",
       "      <td>&lt;https://spdx.org/spdxdocs/sbom-tool-1.1.1-182...</td>\n",
       "      <td></td>\n",
       "      <td></td>\n",
       "      <td></td>\n",
       "      <td>NOASSERTION</td>\n",
       "      <td>spdx:noassertion</td>\n",
       "      <td></td>\n",
       "      <td></td>\n",
       "      <td>spdx:noassertion</td>\n",
       "      <td>spdx:noassertion</td>\n",
       "      <td></td>\n",
       "      <td>llama.cpp</td>\n",
       "      <td>_:N9f1bdfb638da40a28795470d37b377cd</td>\n",
       "      <td>Organization: microsoft</td>\n",
       "      <td>master-66874d4</td>\n",
       "      <td>Nd60920eeee5e4a66b3a722a55061ea5c, Na3f7dd688d...</td>\n",
       "    </tr>\n",
       "    <tr>\n",
       "      <th>1</th>\n",
       "      <td>&lt;https://spdx.org/spdxdocs/sbom-tool-1.1.1-182...</td>\n",
       "      <td></td>\n",
       "      <td></td>\n",
       "      <td></td>\n",
       "      <td>NOASSERTION</td>\n",
       "      <td>spdx:noassertion</td>\n",
       "      <td>Ne8e0d557830d4788a841a0a9503e4e04</td>\n",
       "      <td></td>\n",
       "      <td>spdx:noassertion</td>\n",
       "      <td>spdx:noassertion</td>\n",
       "      <td></td>\n",
       "      <td>sentencepiece</td>\n",
       "      <td>NaN</td>\n",
       "      <td>NOASSERTION</td>\n",
       "      <td>0.1.98</td>\n",
       "      <td></td>\n",
       "    </tr>\n",
       "  </tbody>\n",
       "</table>\n",
       "</div>"
      ],
      "text/plain": [
       "                                             package annotations  \\\n",
       "0  <https://spdx.org/spdxdocs/sbom-tool-1.1.1-182...               \n",
       "1  <https://spdx.org/spdxdocs/sbom-tool-1.1.1-182...               \n",
       "\n",
       "  attributionTexts checksums copyrightText  downloadLocation  \\\n",
       "0                              NOASSERTION  spdx:noassertion   \n",
       "1                              NOASSERTION  spdx:noassertion   \n",
       "\n",
       "                        externalRefs hasFiles  licenseConcluded  \\\n",
       "0                                              spdx:noassertion   \n",
       "1  Ne8e0d557830d4788a841a0a9503e4e04           spdx:noassertion   \n",
       "\n",
       "    licenseDeclared licenseInfoFromFiles           name  \\\n",
       "0  spdx:noassertion                           llama.cpp   \n",
       "1  spdx:noassertion                       sentencepiece   \n",
       "\n",
       "               packageVerificationCode                 supplier  \\\n",
       "0  _:N9f1bdfb638da40a28795470d37b377cd  Organization: microsoft   \n",
       "1                                  NaN              NOASSERTION   \n",
       "\n",
       "      versionInfo                                      relationships  \n",
       "0  master-66874d4  Nd60920eeee5e4a66b3a722a55061ea5c, Na3f7dd688d...  \n",
       "1          0.1.98                                                     "
      ]
     },
     "execution_count": 6,
     "metadata": {},
     "output_type": "execute_result"
    }
   ],
   "source": [
    "packages = get_package_data(kg)\n",
    "packages"
   ]
  },
  {
   "cell_type": "markdown",
   "id": "8ef980af-57ab-49c0-bd66-2f6975316b7f",
   "metadata": {},
   "source": [
    "The generated SBOM only defines two packages.\n",
    "\n",
    "1. The overall `llama.cpp` package - this is a given\n",
    "2. A python package `sentencepiece` from `requirements.txt`\n",
    "\n",
    "We are missing many things here:\n",
    "\n",
    "1. `numpy` which is also defined in `requirements.txt`\n",
    "2. All python `stdlib` packages which are used in `convert.py` and other python scripts.\n",
    "\n",
    "*It looks like [microsoft/sbom-tool](https://github.com/microsoft/sbom-tool) does not include `stdlib` packages* "
   ]
  },
  {
   "cell_type": "markdown",
   "id": "f2eb0724-cfea-4921-91a1-1b95171d6acb",
   "metadata": {},
   "source": [
    "Again, like the previous page, we are missing a good amount of package metadata that is readily available on [pypi](pypi.org)."
   ]
  },
  {
   "cell_type": "markdown",
   "id": "b5163804-b9d1-403b-9143-95e8dd76c1b6",
   "metadata": {},
   "source": [
    "Finally there are no C/C++ dependencies listed in the SBOM, this could be because all are written in the repo, or because the `sbom-tool` does not recognize them."
   ]
  },
  {
   "cell_type": "markdown",
   "id": "766cbaaa-bab0-440b-b9a8-86ac7295bb8a",
   "metadata": {},
   "source": [
    "### Files"
   ]
  },
  {
   "cell_type": "markdown",
   "id": "6cc2a91f-1915-4ddf-bea1-ab203c9e6d6d",
   "metadata": {},
   "source": [
    "If all C/C++ are written as part of the `llama.cpp` let's see how to files are represented."
   ]
  },
  {
   "cell_type": "code",
   "execution_count": 12,
   "id": "a599c43c-d9b4-4e2e-8df6-d5b750099654",
   "metadata": {},
   "outputs": [
    {
     "data": {
      "text/html": [
       "<div>\n",
       "<style scoped>\n",
       "    .dataframe tbody tr th:only-of-type {\n",
       "        vertical-align: middle;\n",
       "    }\n",
       "\n",
       "    .dataframe tbody tr th {\n",
       "        vertical-align: top;\n",
       "    }\n",
       "\n",
       "    .dataframe thead th {\n",
       "        text-align: right;\n",
       "    }\n",
       "</style>\n",
       "<table border=\"1\" class=\"dataframe\">\n",
       "  <thead>\n",
       "    <tr style=\"text-align: right;\">\n",
       "      <th></th>\n",
       "      <th>property</th>\n",
       "    </tr>\n",
       "  </thead>\n",
       "  <tbody>\n",
       "    <tr>\n",
       "      <th>0</th>\n",
       "      <td>spdx:checksum</td>\n",
       "    </tr>\n",
       "    <tr>\n",
       "      <th>1</th>\n",
       "      <td>spdx:copyrightText</td>\n",
       "    </tr>\n",
       "    <tr>\n",
       "      <th>2</th>\n",
       "      <td>spdx:fileName</td>\n",
       "    </tr>\n",
       "    <tr>\n",
       "      <th>3</th>\n",
       "      <td>spdx:licenseConcluded</td>\n",
       "    </tr>\n",
       "    <tr>\n",
       "      <th>4</th>\n",
       "      <td>spdx:licenseInfoInFile</td>\n",
       "    </tr>\n",
       "    <tr>\n",
       "      <th>5</th>\n",
       "      <td>rdf:type</td>\n",
       "    </tr>\n",
       "  </tbody>\n",
       "</table>\n",
       "</div>"
      ],
      "text/plain": [
       "                 property\n",
       "0           spdx:checksum\n",
       "1      spdx:copyrightText\n",
       "2           spdx:fileName\n",
       "3   spdx:licenseConcluded\n",
       "4  spdx:licenseInfoInFile\n",
       "5                rdf:type"
      ]
     },
     "execution_count": 12,
     "metadata": {},
     "output_type": "execute_result"
    }
   ],
   "source": [
    "file_schema(kg)"
   ]
  },
  {
   "cell_type": "code",
   "execution_count": 14,
   "id": "22a2833f-59df-475c-b111-4ea36eea9958",
   "metadata": {},
   "outputs": [
    {
     "data": {
      "text/html": [
       "<div>\n",
       "<style scoped>\n",
       "    .dataframe tbody tr th:only-of-type {\n",
       "        vertical-align: middle;\n",
       "    }\n",
       "\n",
       "    .dataframe tbody tr th {\n",
       "        vertical-align: top;\n",
       "    }\n",
       "\n",
       "    .dataframe thead th {\n",
       "        text-align: right;\n",
       "    }\n",
       "</style>\n",
       "<table border=\"1\" class=\"dataframe\">\n",
       "  <thead>\n",
       "    <tr style=\"text-align: right;\">\n",
       "      <th></th>\n",
       "      <th>fileID</th>\n",
       "      <th>fileName</th>\n",
       "      <th>licenseInFile</th>\n",
       "      <th>contributors</th>\n",
       "      <th>licenseConcluded</th>\n",
       "      <th>checksum</th>\n",
       "    </tr>\n",
       "  </thead>\n",
       "  <tbody>\n",
       "    <tr>\n",
       "      <th>0</th>\n",
       "      <td>&lt;https://spdx.org/spdxdocs/sbom-tool-1.1.1-182...</td>\n",
       "      <td>./.devops/tools.sh</td>\n",
       "      <td>spdx:noassertion</td>\n",
       "      <td></td>\n",
       "      <td>http://spdx.org/rdf/terms#noassertion, http://...</td>\n",
       "      <td>_:N221893b06d834b3ea1b4c2ba35f42b24</td>\n",
       "    </tr>\n",
       "    <tr>\n",
       "      <th>1</th>\n",
       "      <td>&lt;https://spdx.org/spdxdocs/sbom-tool-1.1.1-182...</td>\n",
       "      <td>./LICENSE</td>\n",
       "      <td>spdx:noassertion</td>\n",
       "      <td></td>\n",
       "      <td>http://spdx.org/rdf/terms#noassertion, http://...</td>\n",
       "      <td>_:N9fbee60da5c546f89e8e3fad5157b080</td>\n",
       "    </tr>\n",
       "    <tr>\n",
       "      <th>2</th>\n",
       "      <td>&lt;https://spdx.org/spdxdocs/sbom-tool-1.1.1-182...</td>\n",
       "      <td>./.git/logs/HEAD</td>\n",
       "      <td>spdx:noassertion</td>\n",
       "      <td></td>\n",
       "      <td>http://spdx.org/rdf/terms#noassertion, http://...</td>\n",
       "      <td>_:Na73d25fdcc874e04af46cb6f251156a5</td>\n",
       "    </tr>\n",
       "    <tr>\n",
       "      <th>3</th>\n",
       "      <td>&lt;https://spdx.org/spdxdocs/sbom-tool-1.1.1-182...</td>\n",
       "      <td>./examples/server/README.md</td>\n",
       "      <td>spdx:noassertion</td>\n",
       "      <td></td>\n",
       "      <td>http://spdx.org/rdf/terms#noassertion, http://...</td>\n",
       "      <td>_:N32c7d2276c304c9c8e77daadf8b6dfdb</td>\n",
       "    </tr>\n",
       "    <tr>\n",
       "      <th>4</th>\n",
       "      <td>&lt;https://spdx.org/spdxdocs/sbom-tool-1.1.1-182...</td>\n",
       "      <td>./pocs/CMakeLists.txt</td>\n",
       "      <td>spdx:noassertion</td>\n",
       "      <td></td>\n",
       "      <td>http://spdx.org/rdf/terms#noassertion, http://...</td>\n",
       "      <td>_:Nc62253b5a0d74ee1893311d60dcbabe0</td>\n",
       "    </tr>\n",
       "    <tr>\n",
       "      <th>...</th>\n",
       "      <td>...</td>\n",
       "      <td>...</td>\n",
       "      <td>...</td>\n",
       "      <td>...</td>\n",
       "      <td>...</td>\n",
       "      <td>...</td>\n",
       "    </tr>\n",
       "    <tr>\n",
       "      <th>133</th>\n",
       "      <td>&lt;https://spdx.org/spdxdocs/sbom-tool-1.1.1-182...</td>\n",
       "      <td>./requirements.txt</td>\n",
       "      <td>spdx:noassertion</td>\n",
       "      <td></td>\n",
       "      <td>http://spdx.org/rdf/terms#noassertion, http://...</td>\n",
       "      <td>_:N7d4925463c7a47d9bf22464c6971607c</td>\n",
       "    </tr>\n",
       "    <tr>\n",
       "      <th>134</th>\n",
       "      <td>&lt;https://spdx.org/spdxdocs/sbom-tool-1.1.1-182...</td>\n",
       "      <td>./examples/save-load-state/save-load-state.cpp</td>\n",
       "      <td>spdx:noassertion</td>\n",
       "      <td></td>\n",
       "      <td>http://spdx.org/rdf/terms#noassertion, http://...</td>\n",
       "      <td>_:N6a2e36f72324420ab3f375aeaf2c90b5</td>\n",
       "    </tr>\n",
       "    <tr>\n",
       "      <th>135</th>\n",
       "      <td>&lt;https://spdx.org/spdxdocs/sbom-tool-1.1.1-182...</td>\n",
       "      <td>./.git/hooks/push-to-checkout.sample</td>\n",
       "      <td>spdx:noassertion</td>\n",
       "      <td></td>\n",
       "      <td>http://spdx.org/rdf/terms#noassertion, http://...</td>\n",
       "      <td>_:N0c371ff62f2b4158bdb156eafbdb171d</td>\n",
       "    </tr>\n",
       "    <tr>\n",
       "      <th>136</th>\n",
       "      <td>&lt;https://spdx.org/spdxdocs/sbom-tool-1.1.1-182...</td>\n",
       "      <td>./examples/quantize-stats/quantize-stats.cpp</td>\n",
       "      <td>spdx:noassertion</td>\n",
       "      <td></td>\n",
       "      <td>http://spdx.org/rdf/terms#noassertion, http://...</td>\n",
       "      <td>_:N1ba5b53139864cbabc574f68a284089e</td>\n",
       "    </tr>\n",
       "    <tr>\n",
       "      <th>137</th>\n",
       "      <td>&lt;https://spdx.org/spdxdocs/sbom-tool-1.1.1-182...</td>\n",
       "      <td>./ggml-opencl.h</td>\n",
       "      <td>spdx:noassertion</td>\n",
       "      <td></td>\n",
       "      <td>http://spdx.org/rdf/terms#noassertion, http://...</td>\n",
       "      <td>_:Nd9a7667455414d698cb27f1bb6bf0a6a</td>\n",
       "    </tr>\n",
       "  </tbody>\n",
       "</table>\n",
       "<p>138 rows × 6 columns</p>\n",
       "</div>"
      ],
      "text/plain": [
       "                                                fileID  \\\n",
       "0    <https://spdx.org/spdxdocs/sbom-tool-1.1.1-182...   \n",
       "1    <https://spdx.org/spdxdocs/sbom-tool-1.1.1-182...   \n",
       "2    <https://spdx.org/spdxdocs/sbom-tool-1.1.1-182...   \n",
       "3    <https://spdx.org/spdxdocs/sbom-tool-1.1.1-182...   \n",
       "4    <https://spdx.org/spdxdocs/sbom-tool-1.1.1-182...   \n",
       "..                                                 ...   \n",
       "133  <https://spdx.org/spdxdocs/sbom-tool-1.1.1-182...   \n",
       "134  <https://spdx.org/spdxdocs/sbom-tool-1.1.1-182...   \n",
       "135  <https://spdx.org/spdxdocs/sbom-tool-1.1.1-182...   \n",
       "136  <https://spdx.org/spdxdocs/sbom-tool-1.1.1-182...   \n",
       "137  <https://spdx.org/spdxdocs/sbom-tool-1.1.1-182...   \n",
       "\n",
       "                                           fileName     licenseInFile  \\\n",
       "0                                ./.devops/tools.sh  spdx:noassertion   \n",
       "1                                         ./LICENSE  spdx:noassertion   \n",
       "2                                  ./.git/logs/HEAD  spdx:noassertion   \n",
       "3                       ./examples/server/README.md  spdx:noassertion   \n",
       "4                             ./pocs/CMakeLists.txt  spdx:noassertion   \n",
       "..                                              ...               ...   \n",
       "133                              ./requirements.txt  spdx:noassertion   \n",
       "134  ./examples/save-load-state/save-load-state.cpp  spdx:noassertion   \n",
       "135            ./.git/hooks/push-to-checkout.sample  spdx:noassertion   \n",
       "136    ./examples/quantize-stats/quantize-stats.cpp  spdx:noassertion   \n",
       "137                                 ./ggml-opencl.h  spdx:noassertion   \n",
       "\n",
       "    contributors                                   licenseConcluded  \\\n",
       "0                 http://spdx.org/rdf/terms#noassertion, http://...   \n",
       "1                 http://spdx.org/rdf/terms#noassertion, http://...   \n",
       "2                 http://spdx.org/rdf/terms#noassertion, http://...   \n",
       "3                 http://spdx.org/rdf/terms#noassertion, http://...   \n",
       "4                 http://spdx.org/rdf/terms#noassertion, http://...   \n",
       "..           ...                                                ...   \n",
       "133               http://spdx.org/rdf/terms#noassertion, http://...   \n",
       "134               http://spdx.org/rdf/terms#noassertion, http://...   \n",
       "135               http://spdx.org/rdf/terms#noassertion, http://...   \n",
       "136               http://spdx.org/rdf/terms#noassertion, http://...   \n",
       "137               http://spdx.org/rdf/terms#noassertion, http://...   \n",
       "\n",
       "                                checksum  \n",
       "0    _:N221893b06d834b3ea1b4c2ba35f42b24  \n",
       "1    _:N9fbee60da5c546f89e8e3fad5157b080  \n",
       "2    _:Na73d25fdcc874e04af46cb6f251156a5  \n",
       "3    _:N32c7d2276c304c9c8e77daadf8b6dfdb  \n",
       "4    _:Nc62253b5a0d74ee1893311d60dcbabe0  \n",
       "..                                   ...  \n",
       "133  _:N7d4925463c7a47d9bf22464c6971607c  \n",
       "134  _:N6a2e36f72324420ab3f375aeaf2c90b5  \n",
       "135  _:N0c371ff62f2b4158bdb156eafbdb171d  \n",
       "136  _:N1ba5b53139864cbabc574f68a284089e  \n",
       "137  _:Nd9a7667455414d698cb27f1bb6bf0a6a  \n",
       "\n",
       "[138 rows x 6 columns]"
      ]
     },
     "execution_count": 14,
     "metadata": {},
     "output_type": "execute_result"
    }
   ],
   "source": [
    "get_files_data(kg)"
   ]
  },
  {
   "cell_type": "markdown",
   "id": "3a173835-53f8-4052-ad62-651710628981",
   "metadata": {},
   "source": [
    "First thing to point out here, is there are no relationships specified with any of these files. It could be important if these files are being used as libraries within the project to specify that as a relationship."
   ]
  },
  {
   "cell_type": "markdown",
   "id": "343a4654-7b35-4cc0-94a9-80a7c13cdb98",
   "metadata": {},
   "source": [
    "### Relationships"
   ]
  },
  {
   "cell_type": "markdown",
   "id": "f5427889-49c8-481a-8765-046bd009593d",
   "metadata": {},
   "source": [
    "Finally let's look at what relationships are specified in the KG"
   ]
  },
  {
   "cell_type": "code",
   "execution_count": 17,
   "id": "c58948fd-953b-4e45-8564-a69091f886b8",
   "metadata": {},
   "outputs": [
    {
     "data": {
      "text/html": [
       "<div>\n",
       "<style scoped>\n",
       "    .dataframe tbody tr th:only-of-type {\n",
       "        vertical-align: middle;\n",
       "    }\n",
       "\n",
       "    .dataframe tbody tr th {\n",
       "        vertical-align: top;\n",
       "    }\n",
       "\n",
       "    .dataframe thead th {\n",
       "        text-align: right;\n",
       "    }\n",
       "</style>\n",
       "<table border=\"1\" class=\"dataframe\">\n",
       "  <thead>\n",
       "    <tr style=\"text-align: right;\">\n",
       "      <th></th>\n",
       "      <th>element</th>\n",
       "      <th>elementType</th>\n",
       "      <th>relationshipType</th>\n",
       "      <th>relatedElement</th>\n",
       "      <th>relatedElementType</th>\n",
       "    </tr>\n",
       "  </thead>\n",
       "  <tbody>\n",
       "    <tr>\n",
       "      <th>0</th>\n",
       "      <td>&lt;https://spdx.org/spdxdocs/sbom-tool-1.1.1-182...</td>\n",
       "      <td>spdx:Package</td>\n",
       "      <td>spdx:relationshipType_contains</td>\n",
       "      <td>&lt;https://spdx.org/spdxdocs/sbom-tool-1.1.1-182...</td>\n",
       "      <td>spdx:File</td>\n",
       "    </tr>\n",
       "    <tr>\n",
       "      <th>1</th>\n",
       "      <td>&lt;https://spdx.org/spdxdocs/sbom-tool-1.1.1-182...</td>\n",
       "      <td>spdx:Package</td>\n",
       "      <td>spdx:relationshipType_contains</td>\n",
       "      <td>&lt;https://spdx.org/spdxdocs/sbom-tool-1.1.1-182...</td>\n",
       "      <td>spdx:File</td>\n",
       "    </tr>\n",
       "    <tr>\n",
       "      <th>2</th>\n",
       "      <td>&lt;https://spdx.org/spdxdocs/sbom-tool-1.1.1-182...</td>\n",
       "      <td>spdx:Package</td>\n",
       "      <td>spdx:relationshipType_contains</td>\n",
       "      <td>&lt;https://spdx.org/spdxdocs/sbom-tool-1.1.1-182...</td>\n",
       "      <td>spdx:File</td>\n",
       "    </tr>\n",
       "    <tr>\n",
       "      <th>3</th>\n",
       "      <td>&lt;https://spdx.org/spdxdocs/sbom-tool-1.1.1-182...</td>\n",
       "      <td>spdx:Package</td>\n",
       "      <td>spdx:relationshipType_contains</td>\n",
       "      <td>&lt;https://spdx.org/spdxdocs/sbom-tool-1.1.1-182...</td>\n",
       "      <td>spdx:File</td>\n",
       "    </tr>\n",
       "    <tr>\n",
       "      <th>4</th>\n",
       "      <td>&lt;https://spdx.org/spdxdocs/sbom-tool-1.1.1-182...</td>\n",
       "      <td>spdx:Package</td>\n",
       "      <td>spdx:relationshipType_contains</td>\n",
       "      <td>&lt;https://spdx.org/spdxdocs/sbom-tool-1.1.1-182...</td>\n",
       "      <td>spdx:File</td>\n",
       "    </tr>\n",
       "    <tr>\n",
       "      <th>...</th>\n",
       "      <td>...</td>\n",
       "      <td>...</td>\n",
       "      <td>...</td>\n",
       "      <td>...</td>\n",
       "      <td>...</td>\n",
       "    </tr>\n",
       "    <tr>\n",
       "      <th>135</th>\n",
       "      <td>&lt;https://spdx.org/spdxdocs/sbom-tool-1.1.1-182...</td>\n",
       "      <td>spdx:Package</td>\n",
       "      <td>spdx:relationshipType_contains</td>\n",
       "      <td>&lt;https://spdx.org/spdxdocs/sbom-tool-1.1.1-182...</td>\n",
       "      <td>spdx:File</td>\n",
       "    </tr>\n",
       "    <tr>\n",
       "      <th>136</th>\n",
       "      <td>&lt;https://spdx.org/spdxdocs/sbom-tool-1.1.1-182...</td>\n",
       "      <td>spdx:Package</td>\n",
       "      <td>spdx:relationshipType_contains</td>\n",
       "      <td>&lt;https://spdx.org/spdxdocs/sbom-tool-1.1.1-182...</td>\n",
       "      <td>spdx:File</td>\n",
       "    </tr>\n",
       "    <tr>\n",
       "      <th>137</th>\n",
       "      <td>&lt;https://spdx.org/spdxdocs/sbom-tool-1.1.1-182...</td>\n",
       "      <td>spdx:Package</td>\n",
       "      <td>spdx:relationshipType_contains</td>\n",
       "      <td>&lt;https://spdx.org/spdxdocs/sbom-tool-1.1.1-182...</td>\n",
       "      <td>spdx:File</td>\n",
       "    </tr>\n",
       "    <tr>\n",
       "      <th>138</th>\n",
       "      <td>&lt;https://spdx.org/spdxdocs/sbom-tool-1.1.1-182...</td>\n",
       "      <td>spdx:Package</td>\n",
       "      <td>spdx:relationshipType_contains</td>\n",
       "      <td>&lt;https://spdx.org/spdxdocs/sbom-tool-1.1.1-182...</td>\n",
       "      <td>spdx:File</td>\n",
       "    </tr>\n",
       "    <tr>\n",
       "      <th>139</th>\n",
       "      <td>&lt;https://spdx.org/spdxdocs/sbom-tool-1.1.1-182...</td>\n",
       "      <td>spdx:SpdxDocument</td>\n",
       "      <td>spdx:relationshipType_describes</td>\n",
       "      <td>&lt;https://spdx.org/spdxdocs/sbom-tool-1.1.1-182...</td>\n",
       "      <td>spdx:Package</td>\n",
       "    </tr>\n",
       "  </tbody>\n",
       "</table>\n",
       "<p>140 rows × 5 columns</p>\n",
       "</div>"
      ],
      "text/plain": [
       "                                               element        elementType  \\\n",
       "0    <https://spdx.org/spdxdocs/sbom-tool-1.1.1-182...       spdx:Package   \n",
       "1    <https://spdx.org/spdxdocs/sbom-tool-1.1.1-182...       spdx:Package   \n",
       "2    <https://spdx.org/spdxdocs/sbom-tool-1.1.1-182...       spdx:Package   \n",
       "3    <https://spdx.org/spdxdocs/sbom-tool-1.1.1-182...       spdx:Package   \n",
       "4    <https://spdx.org/spdxdocs/sbom-tool-1.1.1-182...       spdx:Package   \n",
       "..                                                 ...                ...   \n",
       "135  <https://spdx.org/spdxdocs/sbom-tool-1.1.1-182...       spdx:Package   \n",
       "136  <https://spdx.org/spdxdocs/sbom-tool-1.1.1-182...       spdx:Package   \n",
       "137  <https://spdx.org/spdxdocs/sbom-tool-1.1.1-182...       spdx:Package   \n",
       "138  <https://spdx.org/spdxdocs/sbom-tool-1.1.1-182...       spdx:Package   \n",
       "139  <https://spdx.org/spdxdocs/sbom-tool-1.1.1-182...  spdx:SpdxDocument   \n",
       "\n",
       "                    relationshipType  \\\n",
       "0     spdx:relationshipType_contains   \n",
       "1     spdx:relationshipType_contains   \n",
       "2     spdx:relationshipType_contains   \n",
       "3     spdx:relationshipType_contains   \n",
       "4     spdx:relationshipType_contains   \n",
       "..                               ...   \n",
       "135   spdx:relationshipType_contains   \n",
       "136   spdx:relationshipType_contains   \n",
       "137   spdx:relationshipType_contains   \n",
       "138   spdx:relationshipType_contains   \n",
       "139  spdx:relationshipType_describes   \n",
       "\n",
       "                                        relatedElement relatedElementType  \n",
       "0    <https://spdx.org/spdxdocs/sbom-tool-1.1.1-182...          spdx:File  \n",
       "1    <https://spdx.org/spdxdocs/sbom-tool-1.1.1-182...          spdx:File  \n",
       "2    <https://spdx.org/spdxdocs/sbom-tool-1.1.1-182...          spdx:File  \n",
       "3    <https://spdx.org/spdxdocs/sbom-tool-1.1.1-182...          spdx:File  \n",
       "4    <https://spdx.org/spdxdocs/sbom-tool-1.1.1-182...          spdx:File  \n",
       "..                                                 ...                ...  \n",
       "135  <https://spdx.org/spdxdocs/sbom-tool-1.1.1-182...          spdx:File  \n",
       "136  <https://spdx.org/spdxdocs/sbom-tool-1.1.1-182...          spdx:File  \n",
       "137  <https://spdx.org/spdxdocs/sbom-tool-1.1.1-182...          spdx:File  \n",
       "138  <https://spdx.org/spdxdocs/sbom-tool-1.1.1-182...          spdx:File  \n",
       "139  <https://spdx.org/spdxdocs/sbom-tool-1.1.1-182...       spdx:Package  \n",
       "\n",
       "[140 rows x 5 columns]"
      ]
     },
     "execution_count": 17,
     "metadata": {},
     "output_type": "execute_result"
    }
   ],
   "source": [
    "rels = get_relationship_data(kg)\n",
    "rels "
   ]
  },
  {
   "cell_type": "code",
   "execution_count": 18,
   "id": "1eb244ab-7f36-445e-8384-b0a34c8c0c1e",
   "metadata": {},
   "outputs": [
    {
     "data": {
      "text/html": [
       "<div>\n",
       "<style scoped>\n",
       "    .dataframe tbody tr th:only-of-type {\n",
       "        vertical-align: middle;\n",
       "    }\n",
       "\n",
       "    .dataframe tbody tr th {\n",
       "        vertical-align: top;\n",
       "    }\n",
       "\n",
       "    .dataframe thead th {\n",
       "        text-align: right;\n",
       "    }\n",
       "</style>\n",
       "<table border=\"1\" class=\"dataframe\">\n",
       "  <thead>\n",
       "    <tr style=\"text-align: right;\">\n",
       "      <th></th>\n",
       "      <th>element</th>\n",
       "      <th>elementType</th>\n",
       "      <th>relationshipType</th>\n",
       "      <th>relatedElement</th>\n",
       "      <th>relatedElementType</th>\n",
       "    </tr>\n",
       "  </thead>\n",
       "  <tbody>\n",
       "    <tr>\n",
       "      <th>count</th>\n",
       "      <td>140</td>\n",
       "      <td>140</td>\n",
       "      <td>140</td>\n",
       "      <td>140</td>\n",
       "      <td>140</td>\n",
       "    </tr>\n",
       "    <tr>\n",
       "      <th>unique</th>\n",
       "      <td>2</td>\n",
       "      <td>2</td>\n",
       "      <td>3</td>\n",
       "      <td>140</td>\n",
       "      <td>2</td>\n",
       "    </tr>\n",
       "    <tr>\n",
       "      <th>top</th>\n",
       "      <td>&lt;https://spdx.org/spdxdocs/sbom-tool-1.1.1-182...</td>\n",
       "      <td>spdx:Package</td>\n",
       "      <td>spdx:relationshipType_contains</td>\n",
       "      <td>&lt;https://spdx.org/spdxdocs/sbom-tool-1.1.1-182...</td>\n",
       "      <td>spdx:File</td>\n",
       "    </tr>\n",
       "    <tr>\n",
       "      <th>freq</th>\n",
       "      <td>139</td>\n",
       "      <td>139</td>\n",
       "      <td>138</td>\n",
       "      <td>1</td>\n",
       "      <td>138</td>\n",
       "    </tr>\n",
       "  </tbody>\n",
       "</table>\n",
       "</div>"
      ],
      "text/plain": [
       "                                                  element   elementType  \\\n",
       "count                                                 140           140   \n",
       "unique                                                  2             2   \n",
       "top     <https://spdx.org/spdxdocs/sbom-tool-1.1.1-182...  spdx:Package   \n",
       "freq                                                  139           139   \n",
       "\n",
       "                      relationshipType  \\\n",
       "count                              140   \n",
       "unique                               3   \n",
       "top     spdx:relationshipType_contains   \n",
       "freq                               138   \n",
       "\n",
       "                                           relatedElement relatedElementType  \n",
       "count                                                 140                140  \n",
       "unique                                                140                  2  \n",
       "top     <https://spdx.org/spdxdocs/sbom-tool-1.1.1-182...          spdx:File  \n",
       "freq                                                    1                138  "
      ]
     },
     "execution_count": 18,
     "metadata": {},
     "output_type": "execute_result"
    }
   ],
   "source": [
    "rels.describe()"
   ]
  },
  {
   "cell_type": "markdown",
   "id": "3ac8b011-6fa5-4331-a9bc-14de8417a777",
   "metadata": {},
   "source": [
    "It looks like most relationshiips are of the `spdx:relationshipType_contains` type.  Let's filter those out to see what remains."
   ]
  },
  {
   "cell_type": "code",
   "execution_count": 20,
   "id": "b29c8a27-8a1d-4fd0-9e91-329e541b7283",
   "metadata": {},
   "outputs": [
    {
     "data": {
      "text/html": [
       "<div>\n",
       "<style scoped>\n",
       "    .dataframe tbody tr th:only-of-type {\n",
       "        vertical-align: middle;\n",
       "    }\n",
       "\n",
       "    .dataframe tbody tr th {\n",
       "        vertical-align: top;\n",
       "    }\n",
       "\n",
       "    .dataframe thead th {\n",
       "        text-align: right;\n",
       "    }\n",
       "</style>\n",
       "<table border=\"1\" class=\"dataframe\">\n",
       "  <thead>\n",
       "    <tr style=\"text-align: right;\">\n",
       "      <th></th>\n",
       "      <th>element</th>\n",
       "      <th>elementType</th>\n",
       "      <th>relationshipType</th>\n",
       "      <th>relatedElement</th>\n",
       "      <th>relatedElementType</th>\n",
       "    </tr>\n",
       "  </thead>\n",
       "  <tbody>\n",
       "    <tr>\n",
       "      <th>53</th>\n",
       "      <td>&lt;https://spdx.org/spdxdocs/sbom-tool-1.1.1-182...</td>\n",
       "      <td>spdx:Package</td>\n",
       "      <td>spdx:relationshipType_dependsOn</td>\n",
       "      <td>&lt;https://spdx.org/spdxdocs/sbom-tool-1.1.1-182...</td>\n",
       "      <td>spdx:Package</td>\n",
       "    </tr>\n",
       "    <tr>\n",
       "      <th>139</th>\n",
       "      <td>&lt;https://spdx.org/spdxdocs/sbom-tool-1.1.1-182...</td>\n",
       "      <td>spdx:SpdxDocument</td>\n",
       "      <td>spdx:relationshipType_describes</td>\n",
       "      <td>&lt;https://spdx.org/spdxdocs/sbom-tool-1.1.1-182...</td>\n",
       "      <td>spdx:Package</td>\n",
       "    </tr>\n",
       "  </tbody>\n",
       "</table>\n",
       "</div>"
      ],
      "text/plain": [
       "                                               element        elementType  \\\n",
       "53   <https://spdx.org/spdxdocs/sbom-tool-1.1.1-182...       spdx:Package   \n",
       "139  <https://spdx.org/spdxdocs/sbom-tool-1.1.1-182...  spdx:SpdxDocument   \n",
       "\n",
       "                    relationshipType  \\\n",
       "53   spdx:relationshipType_dependsOn   \n",
       "139  spdx:relationshipType_describes   \n",
       "\n",
       "                                        relatedElement relatedElementType  \n",
       "53   <https://spdx.org/spdxdocs/sbom-tool-1.1.1-182...       spdx:Package  \n",
       "139  <https://spdx.org/spdxdocs/sbom-tool-1.1.1-182...       spdx:Package  "
      ]
     },
     "execution_count": 20,
     "metadata": {},
     "output_type": "execute_result"
    }
   ],
   "source": [
    "rels[~rels['relationshipType'].str.contains('spdx:relationshipType_contains')]"
   ]
  },
  {
   "cell_type": "code",
   "execution_count": 16,
   "id": "fdad612f-42a4-495d-8448-9c1e8e47709a",
   "metadata": {},
   "outputs": [
    {
     "name": "stdout",
     "output_type": "stream",
     "text": [
      "Warning: When  cdn_resources is 'local' jupyter notebook has issues displaying graphics on chrome/safari. Use cdn_resources='in_line' or cdn_resources='remote' if you have issues viewing graphics in a notebook.\n",
      "figs/fig03.relationship.html\n"
     ]
    },
    {
     "data": {
      "text/html": [
       "\n",
       "        <iframe\n",
       "            width=\"100%\"\n",
       "            height=\"600px\"\n",
       "            src=\"figs/fig03.relationship.html\"\n",
       "            frameborder=\"0\"\n",
       "            allowfullscreen\n",
       "            \n",
       "        ></iframe>\n",
       "        "
      ],
      "text/plain": [
       "<IPython.lib.display.IFrame at 0x7fa80d1f6bb0>"
      ]
     },
     "execution_count": 16,
     "metadata": {},
     "output_type": "execute_result"
    }
   ],
   "source": [
    "subgraph = get_relationship_graph(kg)\n",
    "pyvis_graph = visualize_graph(subgraph)\n",
    "pyvis_graph.force_atlas_2based()\n",
    "pyvis_graph.show(\"figs/fig03.relationship.html\")"
   ]
  },
  {
   "cell_type": "markdown",
   "id": "585df6d7-c49d-47f3-8fb4-ef7bd14c8913",
   "metadata": {},
   "source": [
    "### Other Elements"
   ]
  },
  {
   "cell_type": "markdown",
   "id": "7e67e85a-b3d5-4f32-b92e-9197ef8cfe52",
   "metadata": {},
   "source": [
    "Here's what the KG contains other than Packages, Files, and Relationships"
   ]
  },
  {
   "cell_type": "code",
   "execution_count": 23,
   "id": "36ae4baa-8e1b-40eb-927e-dbe82dbe0bea",
   "metadata": {},
   "outputs": [
    {
     "data": {
      "text/html": [
       "<div>\n",
       "<style scoped>\n",
       "    .dataframe tbody tr th:only-of-type {\n",
       "        vertical-align: middle;\n",
       "    }\n",
       "\n",
       "    .dataframe tbody tr th {\n",
       "        vertical-align: top;\n",
       "    }\n",
       "\n",
       "    .dataframe thead th {\n",
       "        text-align: right;\n",
       "    }\n",
       "</style>\n",
       "<table border=\"1\" class=\"dataframe\">\n",
       "  <thead>\n",
       "    <tr style=\"text-align: right;\">\n",
       "      <th></th>\n",
       "      <th>type</th>\n",
       "    </tr>\n",
       "  </thead>\n",
       "  <tbody>\n",
       "    <tr>\n",
       "      <th>0</th>\n",
       "      <td>spdx:SpdxDocument</td>\n",
       "    </tr>\n",
       "    <tr>\n",
       "      <th>1</th>\n",
       "      <td>spdx:Relationship</td>\n",
       "    </tr>\n",
       "    <tr>\n",
       "      <th>2</th>\n",
       "      <td>spdx:Package</td>\n",
       "    </tr>\n",
       "    <tr>\n",
       "      <th>3</th>\n",
       "      <td>spdx:File</td>\n",
       "    </tr>\n",
       "    <tr>\n",
       "      <th>4</th>\n",
       "      <td>spdx:Checksum</td>\n",
       "    </tr>\n",
       "    <tr>\n",
       "      <th>5</th>\n",
       "      <td>spdx:ExternalRef</td>\n",
       "    </tr>\n",
       "    <tr>\n",
       "      <th>6</th>\n",
       "      <td>spdx:PackageVerificationCode</td>\n",
       "    </tr>\n",
       "    <tr>\n",
       "      <th>7</th>\n",
       "      <td>spdx:CreationInfo</td>\n",
       "    </tr>\n",
       "  </tbody>\n",
       "</table>\n",
       "</div>"
      ],
      "text/plain": [
       "                           type\n",
       "0             spdx:SpdxDocument\n",
       "1             spdx:Relationship\n",
       "2                  spdx:Package\n",
       "3                     spdx:File\n",
       "4                 spdx:Checksum\n",
       "5              spdx:ExternalRef\n",
       "6  spdx:PackageVerificationCode\n",
       "7             spdx:CreationInfo"
      ]
     },
     "execution_count": 23,
     "metadata": {},
     "output_type": "execute_result"
    }
   ],
   "source": [
    "query = \"\"\"\n",
    "SELECT DISTINCT ?type\n",
    "WHERE {\n",
    "    ?element rdf:type ?type\n",
    "}\n",
    "\"\"\"\n",
    "kg.query_as_df(query)"
   ]
  },
  {
   "cell_type": "markdown",
   "id": "bb651351-0fec-4ea9-a4be-309d1b6f563f",
   "metadata": {},
   "source": [
    "This is nothing specific for AI workflows yet"
   ]
  }
 ],
 "metadata": {
  "kernelspec": {
   "display_name": "local-venv",
   "language": "python",
   "name": "local-venv"
  },
  "language_info": {
   "codemirror_mode": {
    "name": "ipython",
    "version": 3
   },
   "file_extension": ".py",
   "mimetype": "text/x-python",
   "name": "python",
   "nbconvert_exporter": "python",
   "pygments_lexer": "ipython3",
   "version": "3.9.15"
  }
 },
 "nbformat": 4,
 "nbformat_minor": 5
}

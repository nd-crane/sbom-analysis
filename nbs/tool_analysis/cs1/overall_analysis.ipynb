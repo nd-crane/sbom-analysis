{
 "cells": [
  {
   "cell_type": "code",
   "execution_count": null,
   "metadata": {},
   "outputs": [],
   "source": [
    "#| hide\n",
    "import kglab\n",
    "import pandas as pd\n",
    "from sbom_analysis.core import *\n",
    "\n",
    "pd.set_option(\"display.precision\", 2)"
   ]
  },
  {
   "cell_type": "markdown",
   "metadata": {},
   "source": [
    "# SBOM Generation Tools Analysis from Pytorch repo"
   ]
  },
  {
   "cell_type": "markdown",
   "metadata": {},
   "source": [
    "This page analyzes the performance of some SBOMs tool generation from the [PyTorch](https://github.com/pytorch/pytorch) GitHub Repository."
   ]
  },
  {
   "cell_type": "code",
   "execution_count": null,
   "metadata": {},
   "outputs": [],
   "source": [
    "dir_qs = \"../../../data/tools_cs1/sbomqs/\"\n",
    "sbomqs_df, feature_qscores = sbomqs_scores(dir_qs)"
   ]
  },
  {
   "cell_type": "code",
   "execution_count": null,
   "metadata": {},
   "outputs": [
    {
     "data": {
      "text/html": [
       "<div>\n",
       "<style scoped>\n",
       "    .dataframe tbody tr th:only-of-type {\n",
       "        vertical-align: middle;\n",
       "    }\n",
       "\n",
       "    .dataframe tbody tr th {\n",
       "        vertical-align: top;\n",
       "    }\n",
       "\n",
       "    .dataframe thead th {\n",
       "        text-align: right;\n",
       "    }\n",
       "</style>\n",
       "<table border=\"1\" class=\"dataframe\">\n",
       "  <thead>\n",
       "    <tr style=\"text-align: right;\">\n",
       "      <th></th>\n",
       "      <th>gen_tool_name</th>\n",
       "      <th>avg_score</th>\n",
       "      <th>num_components</th>\n",
       "      <th>gen_tool_version</th>\n",
       "      <th>spec_version</th>\n",
       "      <th>file_name</th>\n",
       "    </tr>\n",
       "  </thead>\n",
       "  <tbody>\n",
       "    <tr>\n",
       "      <th>1</th>\n",
       "      <td>cdxgen</td>\n",
       "      <td>7.42</td>\n",
       "      <td>24</td>\n",
       "      <td>8.5.3</td>\n",
       "      <td>SPDX-2.2</td>\n",
       "      <td>pytorch-cdxgen-spdx22.json</td>\n",
       "    </tr>\n",
       "    <tr>\n",
       "      <th>3</th>\n",
       "      <td>tern</td>\n",
       "      <td>7.38</td>\n",
       "      <td>181</td>\n",
       "      <td>2.12.0</td>\n",
       "      <td>SPDX-2.2</td>\n",
       "      <td>di-pytorch-tern-spdx22.json</td>\n",
       "    </tr>\n",
       "    <tr>\n",
       "      <th>5</th>\n",
       "      <td>FOSSA v0.12.0</td>\n",
       "      <td>7.30</td>\n",
       "      <td>212</td>\n",
       "      <td></td>\n",
       "      <td>SPDX-2.3</td>\n",
       "      <td>pytorch-fossa-spdx23.json</td>\n",
       "    </tr>\n",
       "    <tr>\n",
       "      <th>8</th>\n",
       "      <td>bom</td>\n",
       "      <td>7.27</td>\n",
       "      <td>1</td>\n",
       "      <td>v0.5.1</td>\n",
       "      <td>SPDX-2.3</td>\n",
       "      <td>pytorch-bom-spdx23.json</td>\n",
       "    </tr>\n",
       "    <tr>\n",
       "      <th>7</th>\n",
       "      <td>GitHub.com-Dependency-Graph</td>\n",
       "      <td>6.83</td>\n",
       "      <td>231</td>\n",
       "      <td></td>\n",
       "      <td>SPDX-2.3</td>\n",
       "      <td>pytorch-gh-sbom-spdx23.json</td>\n",
       "    </tr>\n",
       "    <tr>\n",
       "      <th>0</th>\n",
       "      <td>syft</td>\n",
       "      <td>6.82</td>\n",
       "      <td>201</td>\n",
       "      <td>0.83.1</td>\n",
       "      <td>SPDX-2.3</td>\n",
       "      <td>pytorch-syft-spdx23.json</td>\n",
       "    </tr>\n",
       "    <tr>\n",
       "      <th>6</th>\n",
       "      <td>trivy</td>\n",
       "      <td>6.77</td>\n",
       "      <td>124</td>\n",
       "      <td>0.42.1</td>\n",
       "      <td>SPDX-2.3</td>\n",
       "      <td>pytorch-trivy-spdx23.json</td>\n",
       "    </tr>\n",
       "    <tr>\n",
       "      <th>2</th>\n",
       "      <td>Microsoft.SBOMTool</td>\n",
       "      <td>6.36</td>\n",
       "      <td>229</td>\n",
       "      <td>1.1.6</td>\n",
       "      <td>SPDX-2.2</td>\n",
       "      <td>manifest.spdx.json</td>\n",
       "    </tr>\n",
       "    <tr>\n",
       "      <th>4</th>\n",
       "      <td>sbom4python</td>\n",
       "      <td>3.86</td>\n",
       "      <td>0</td>\n",
       "      <td>0.9.1</td>\n",
       "      <td>SPDX-2.3</td>\n",
       "      <td>pytorch-sbom4python-spdx23.json</td>\n",
       "    </tr>\n",
       "  </tbody>\n",
       "</table>\n",
       "</div>"
      ],
      "text/plain": [
       "                 gen_tool_name  avg_score  num_components gen_tool_version  \\\n",
       "1                       cdxgen       7.42              24            8.5.3   \n",
       "3                         tern       7.38             181           2.12.0   \n",
       "5                FOSSA v0.12.0       7.30             212                    \n",
       "8                          bom       7.27               1           v0.5.1   \n",
       "7  GitHub.com-Dependency-Graph       6.83             231                    \n",
       "0                         syft       6.82             201           0.83.1   \n",
       "6                        trivy       6.77             124           0.42.1   \n",
       "2           Microsoft.SBOMTool       6.36             229            1.1.6   \n",
       "4                  sbom4python       3.86               0            0.9.1   \n",
       "\n",
       "  spec_version                        file_name  \n",
       "1     SPDX-2.2       pytorch-cdxgen-spdx22.json  \n",
       "3     SPDX-2.2      di-pytorch-tern-spdx22.json  \n",
       "5     SPDX-2.3        pytorch-fossa-spdx23.json  \n",
       "8     SPDX-2.3          pytorch-bom-spdx23.json  \n",
       "7     SPDX-2.3      pytorch-gh-sbom-spdx23.json  \n",
       "0     SPDX-2.3         pytorch-syft-spdx23.json  \n",
       "6     SPDX-2.3        pytorch-trivy-spdx23.json  \n",
       "2     SPDX-2.2               manifest.spdx.json  \n",
       "4     SPDX-2.3  pytorch-sbom4python-spdx23.json  "
      ]
     },
     "execution_count": null,
     "metadata": {},
     "output_type": "execute_result"
    }
   ],
   "source": [
    "sbomqs_df"
   ]
  },
  {
   "cell_type": "code",
   "execution_count": null,
   "metadata": {},
   "outputs": [
    {
     "data": {
      "text/html": [
       "<div>\n",
       "<style scoped>\n",
       "    .dataframe tbody tr th:only-of-type {\n",
       "        vertical-align: middle;\n",
       "    }\n",
       "\n",
       "    .dataframe tbody tr th {\n",
       "        vertical-align: top;\n",
       "    }\n",
       "\n",
       "    .dataframe thead th {\n",
       "        text-align: right;\n",
       "    }\n",
       "</style>\n",
       "<table border=\"1\" class=\"dataframe\">\n",
       "  <thead>\n",
       "    <tr style=\"text-align: right;\">\n",
       "      <th></th>\n",
       "      <th>category</th>\n",
       "      <th>feature</th>\n",
       "      <th>score</th>\n",
       "      <th>max_score</th>\n",
       "      <th>description</th>\n",
       "      <th>ignored</th>\n",
       "      <th>tool</th>\n",
       "    </tr>\n",
       "  </thead>\n",
       "  <tbody>\n",
       "    <tr>\n",
       "      <th>0</th>\n",
       "      <td>Structural</td>\n",
       "      <td>sbom_spec</td>\n",
       "      <td>10.0</td>\n",
       "      <td>10</td>\n",
       "      <td>provided sbom is in a supported sbom format of...</td>\n",
       "      <td>False</td>\n",
       "      <td>cdxgen</td>\n",
       "    </tr>\n",
       "    <tr>\n",
       "      <th>1</th>\n",
       "      <td>Structural</td>\n",
       "      <td>sbom_spec_version</td>\n",
       "      <td>10.0</td>\n",
       "      <td>10</td>\n",
       "      <td>provided sbom should be in supported spec vers...</td>\n",
       "      <td>False</td>\n",
       "      <td>cdxgen</td>\n",
       "    </tr>\n",
       "    <tr>\n",
       "      <th>2</th>\n",
       "      <td>Structural</td>\n",
       "      <td>sbom_spec_file_format</td>\n",
       "      <td>10.0</td>\n",
       "      <td>10</td>\n",
       "      <td>provided sbom should be in supported file form...</td>\n",
       "      <td>False</td>\n",
       "      <td>cdxgen</td>\n",
       "    </tr>\n",
       "    <tr>\n",
       "      <th>3</th>\n",
       "      <td>Structural</td>\n",
       "      <td>sbom_parsable</td>\n",
       "      <td>10.0</td>\n",
       "      <td>10</td>\n",
       "      <td>provided sbom is parsable</td>\n",
       "      <td>False</td>\n",
       "      <td>cdxgen</td>\n",
       "    </tr>\n",
       "    <tr>\n",
       "      <th>4</th>\n",
       "      <td>NTIA-minimum-elements</td>\n",
       "      <td>comp_with_supplier</td>\n",
       "      <td>0.0</td>\n",
       "      <td>10</td>\n",
       "      <td>0/24 have supplier names</td>\n",
       "      <td>False</td>\n",
       "      <td>cdxgen</td>\n",
       "    </tr>\n",
       "    <tr>\n",
       "      <th>...</th>\n",
       "      <td>...</td>\n",
       "      <td>...</td>\n",
       "      <td>...</td>\n",
       "      <td>...</td>\n",
       "      <td>...</td>\n",
       "      <td>...</td>\n",
       "      <td>...</td>\n",
       "    </tr>\n",
       "    <tr>\n",
       "      <th>17</th>\n",
       "      <td>Quality</td>\n",
       "      <td>comp_with_restrictive_licenses</td>\n",
       "      <td>0.0</td>\n",
       "      <td>10</td>\n",
       "      <td>N/A (no components)</td>\n",
       "      <td>True</td>\n",
       "      <td>sbom4python</td>\n",
       "    </tr>\n",
       "    <tr>\n",
       "      <th>18</th>\n",
       "      <td>Quality</td>\n",
       "      <td>comp_with_any_vuln_lookup_id</td>\n",
       "      <td>0.0</td>\n",
       "      <td>10</td>\n",
       "      <td>N/A (no components)</td>\n",
       "      <td>True</td>\n",
       "      <td>sbom4python</td>\n",
       "    </tr>\n",
       "    <tr>\n",
       "      <th>19</th>\n",
       "      <td>Quality</td>\n",
       "      <td>comp_with_multi_vuln_lookup_id</td>\n",
       "      <td>0.0</td>\n",
       "      <td>10</td>\n",
       "      <td>N/A (no components)</td>\n",
       "      <td>True</td>\n",
       "      <td>sbom4python</td>\n",
       "    </tr>\n",
       "    <tr>\n",
       "      <th>20</th>\n",
       "      <td>Quality</td>\n",
       "      <td>sbom_with_creator_and_version</td>\n",
       "      <td>10.0</td>\n",
       "      <td>10</td>\n",
       "      <td>1/1 tools have creator and version</td>\n",
       "      <td>False</td>\n",
       "      <td>sbom4python</td>\n",
       "    </tr>\n",
       "    <tr>\n",
       "      <th>21</th>\n",
       "      <td>Sharing</td>\n",
       "      <td>sbom_sharable</td>\n",
       "      <td>10.0</td>\n",
       "      <td>10</td>\n",
       "      <td>doc has a sharable license free 1 :: of 1</td>\n",
       "      <td>False</td>\n",
       "      <td>sbom4python</td>\n",
       "    </tr>\n",
       "  </tbody>\n",
       "</table>\n",
       "<p>198 rows × 7 columns</p>\n",
       "</div>"
      ],
      "text/plain": [
       "                 category                         feature  score  max_score  \\\n",
       "0              Structural                       sbom_spec   10.0         10   \n",
       "1              Structural               sbom_spec_version   10.0         10   \n",
       "2              Structural           sbom_spec_file_format   10.0         10   \n",
       "3              Structural                   sbom_parsable   10.0         10   \n",
       "4   NTIA-minimum-elements              comp_with_supplier    0.0         10   \n",
       "..                    ...                             ...    ...        ...   \n",
       "17                Quality  comp_with_restrictive_licenses    0.0         10   \n",
       "18                Quality    comp_with_any_vuln_lookup_id    0.0         10   \n",
       "19                Quality  comp_with_multi_vuln_lookup_id    0.0         10   \n",
       "20                Quality   sbom_with_creator_and_version   10.0         10   \n",
       "21                Sharing                   sbom_sharable   10.0         10   \n",
       "\n",
       "                                          description  ignored         tool  \n",
       "0   provided sbom is in a supported sbom format of...    False       cdxgen  \n",
       "1   provided sbom should be in supported spec vers...    False       cdxgen  \n",
       "2   provided sbom should be in supported file form...    False       cdxgen  \n",
       "3                           provided sbom is parsable    False       cdxgen  \n",
       "4                            0/24 have supplier names    False       cdxgen  \n",
       "..                                                ...      ...          ...  \n",
       "17                                N/A (no components)     True  sbom4python  \n",
       "18                                N/A (no components)     True  sbom4python  \n",
       "19                                N/A (no components)     True  sbom4python  \n",
       "20                 1/1 tools have creator and version    False  sbom4python  \n",
       "21          doc has a sharable license free 1 :: of 1    False  sbom4python  \n",
       "\n",
       "[198 rows x 7 columns]"
      ]
     },
     "execution_count": null,
     "metadata": {},
     "output_type": "execute_result"
    }
   ],
   "source": [
    "feature_qscores"
   ]
  },
  {
   "cell_type": "code",
   "execution_count": null,
   "metadata": {},
   "outputs": [
    {
     "data": {
      "text/html": [
       "<div>\n",
       "<style scoped>\n",
       "    .dataframe tbody tr th:only-of-type {\n",
       "        vertical-align: middle;\n",
       "    }\n",
       "\n",
       "    .dataframe tbody tr th {\n",
       "        vertical-align: top;\n",
       "    }\n",
       "\n",
       "    .dataframe thead th {\n",
       "        text-align: right;\n",
       "    }\n",
       "</style>\n",
       "<table border=\"1\" class=\"dataframe\">\n",
       "  <thead>\n",
       "    <tr style=\"text-align: right;\">\n",
       "      <th>tool</th>\n",
       "      <th>category</th>\n",
       "      <th>tern</th>\n",
       "      <th>FOSSA v0.12.0</th>\n",
       "      <th>Microsoft.SBOMTool</th>\n",
       "      <th>syft</th>\n",
       "      <th>trivy</th>\n",
       "      <th>cdxgen</th>\n",
       "      <th>bom</th>\n",
       "      <th>GitHub.com-Dependency-Graph</th>\n",
       "      <th>sbom4python</th>\n",
       "    </tr>\n",
       "  </thead>\n",
       "  <tbody>\n",
       "    <tr>\n",
       "      <th>0</th>\n",
       "      <td>NTIA-minimum-elements</td>\n",
       "      <td>9.42</td>\n",
       "      <td>9.18</td>\n",
       "      <td>8.58</td>\n",
       "      <td>8.57</td>\n",
       "      <td>8.50</td>\n",
       "      <td>7.14</td>\n",
       "      <td>7.14</td>\n",
       "      <td>6.99</td>\n",
       "      <td>2.86</td>\n",
       "    </tr>\n",
       "    <tr>\n",
       "      <th>1</th>\n",
       "      <td>Quality</td>\n",
       "      <td>4.50</td>\n",
       "      <td>4.17</td>\n",
       "      <td>2.85</td>\n",
       "      <td>4.29</td>\n",
       "      <td>4.22</td>\n",
       "      <td>5.24</td>\n",
       "      <td>5.71</td>\n",
       "      <td>5.00</td>\n",
       "      <td>1.43</td>\n",
       "    </tr>\n",
       "    <tr>\n",
       "      <th>2</th>\n",
       "      <td>Semantic</td>\n",
       "      <td>4.99</td>\n",
       "      <td>5.71</td>\n",
       "      <td>3.33</td>\n",
       "      <td>3.35</td>\n",
       "      <td>3.33</td>\n",
       "      <td>8.89</td>\n",
       "      <td>6.67</td>\n",
       "      <td>5.44</td>\n",
       "      <td>1.67</td>\n",
       "    </tr>\n",
       "    <tr>\n",
       "      <th>3</th>\n",
       "      <td>Sharing</td>\n",
       "      <td>10.00</td>\n",
       "      <td>10.00</td>\n",
       "      <td>10.00</td>\n",
       "      <td>10.00</td>\n",
       "      <td>10.00</td>\n",
       "      <td>10.00</td>\n",
       "      <td>10.00</td>\n",
       "      <td>10.00</td>\n",
       "      <td>10.00</td>\n",
       "    </tr>\n",
       "    <tr>\n",
       "      <th>4</th>\n",
       "      <td>Structural</td>\n",
       "      <td>10.00</td>\n",
       "      <td>10.00</td>\n",
       "      <td>10.00</td>\n",
       "      <td>10.00</td>\n",
       "      <td>10.00</td>\n",
       "      <td>10.00</td>\n",
       "      <td>10.00</td>\n",
       "      <td>10.00</td>\n",
       "      <td>10.00</td>\n",
       "    </tr>\n",
       "  </tbody>\n",
       "</table>\n",
       "</div>"
      ],
      "text/plain": [
       "tool               category   tern  FOSSA v0.12.0  Microsoft.SBOMTool   syft  \\\n",
       "0     NTIA-minimum-elements   9.42           9.18                8.58   8.57   \n",
       "1                   Quality   4.50           4.17                2.85   4.29   \n",
       "2                  Semantic   4.99           5.71                3.33   3.35   \n",
       "3                   Sharing  10.00          10.00               10.00  10.00   \n",
       "4                Structural  10.00          10.00               10.00  10.00   \n",
       "\n",
       "tool  trivy  cdxgen    bom  GitHub.com-Dependency-Graph  sbom4python  \n",
       "0      8.50    7.14   7.14                         6.99         2.86  \n",
       "1      4.22    5.24   5.71                         5.00         1.43  \n",
       "2      3.33    8.89   6.67                         5.44         1.67  \n",
       "3     10.00   10.00  10.00                        10.00        10.00  \n",
       "4     10.00   10.00  10.00                        10.00        10.00  "
      ]
     },
     "execution_count": null,
     "metadata": {},
     "output_type": "execute_result"
    }
   ],
   "source": [
    "sbomqs_score_by_cat(feature_qscores)"
   ]
  },
  {
   "cell_type": "markdown",
   "metadata": {},
   "source": []
  },
  {
   "cell_type": "code",
   "execution_count": null,
   "metadata": {},
   "outputs": [],
   "source": [
    "#sbomqs_radar_chart(feature_qscores)"
   ]
  },
  {
   "cell_type": "markdown",
   "metadata": {},
   "source": [
    "![Caption](../../figs/sbomqs_radar_chart.png)"
   ]
  },
  {
   "cell_type": "code",
   "execution_count": null,
   "metadata": {},
   "outputs": [
    {
     "data": {
      "image/png": "[encoded data removed]",
      "text/plain": [
       "<Figure size 640x480 with 2 Axes>"
      ]
     },
     "metadata": {},
     "output_type": "display_data"
    }
   ],
   "source": [
    "display_qscores_heatmap(feature_qscores)"
   ]
  },
  {
   "cell_type": "code",
   "execution_count": null,
   "metadata": {},
   "outputs": [
    {
     "data": {
      "text/html": [
       "<h1 style=\"background-color:powderblue;\">Category: Structural</h1>"
      ],
      "text/plain": [
       "<IPython.core.display.HTML object>"
      ]
     },
     "metadata": {},
     "output_type": "display_data"
    },
    {
     "data": {
      "image/png": "[encoded data removed]",
      "text/plain": [
       "<Figure size 640x480 with 2 Axes>"
      ]
     },
     "metadata": {},
     "output_type": "display_data"
    },
    {
     "data": {
      "text/html": [
       "<h1 style=\"background-color:powderblue;\">Category: NTIA-minimum-elements</h1>"
      ],
      "text/plain": [
       "<IPython.core.display.HTML object>"
      ]
     },
     "metadata": {},
     "output_type": "display_data"
    },
    {
     "data": {
      "image/png": "[encoded data removed]",
      "text/plain": [
       "<Figure size 640x480 with 2 Axes>"
      ]
     },
     "metadata": {},
     "output_type": "display_data"
    },
    {
     "data": {
      "text/html": [
       "<h1 style=\"background-color:powderblue;\">Category: Semantic</h1>"
      ],
      "text/plain": [
       "<IPython.core.display.HTML object>"
      ]
     },
     "metadata": {},
     "output_type": "display_data"
    },
    {
     "data": {
      "image/png": "[encoded data removed]",
      "text/plain": [
       "<Figure size 640x480 with 2 Axes>"
      ]
     },
     "metadata": {},
     "output_type": "display_data"
    },
    {
     "data": {
      "text/html": [
       "<h1 style=\"background-color:powderblue;\">Category: Quality</h1>"
      ],
      "text/plain": [
       "<IPython.core.display.HTML object>"
      ]
     },
     "metadata": {},
     "output_type": "display_data"
    },
    {
     "data": {
      "image/png": "[encoded data removed]",
      "text/plain": [
       "<Figure size 640x480 with 2 Axes>"
      ]
     },
     "metadata": {},
     "output_type": "display_data"
    },
    {
     "data": {
      "text/html": [
       "<h1 style=\"background-color:powderblue;\">Category: Sharing</h1>"
      ],
      "text/plain": [
       "<IPython.core.display.HTML object>"
      ]
     },
     "metadata": {},
     "output_type": "display_data"
    },
    {
     "data": {
      "image/png": "[encoded data removed]",
      "text/plain": [
       "<Figure size 640x480 with 2 Axes>"
      ]
     },
     "metadata": {},
     "output_type": "display_data"
    }
   ],
   "source": [
    "display_category_qscores_heatmap(feature_qscores) #, ['NTIA-minimum-elements'])"
   ]
  },
  {
   "cell_type": "code",
   "execution_count": null,
   "metadata": {},
   "outputs": [
    {
     "data": {
      "text/html": [
       "<h2>Tool: FOSSA v0.12.0 (avg score: 7.30)</h2>"
      ],
      "text/plain": [
       "<IPython.core.display.HTML object>"
      ]
     },
     "metadata": {},
     "output_type": "display_data"
    },
    {
     "data": {
      "text/html": [
       "<h3>Category: Structural (avg score: 10.00)"
      ],
      "text/plain": [
       "<IPython.core.display.HTML object>"
      ]
     },
     "metadata": {},
     "output_type": "display_data"
    },
    {
     "data": {
      "text/html": [
       "<div>\n",
       "<style scoped>\n",
       "    .dataframe tbody tr th:only-of-type {\n",
       "        vertical-align: middle;\n",
       "    }\n",
       "\n",
       "    .dataframe tbody tr th {\n",
       "        vertical-align: top;\n",
       "    }\n",
       "\n",
       "    .dataframe thead th {\n",
       "        text-align: right;\n",
       "    }\n",
       "</style>\n",
       "<table border=\"1\" class=\"dataframe\">\n",
       "  <thead>\n",
       "    <tr style=\"text-align: right;\">\n",
       "      <th></th>\n",
       "      <th>feature</th>\n",
       "      <th>score</th>\n",
       "      <th>description</th>\n",
       "      <th>tool</th>\n",
       "    </tr>\n",
       "  </thead>\n",
       "  <tbody>\n",
       "    <tr>\n",
       "      <th>0</th>\n",
       "      <td>sbom_spec</td>\n",
       "      <td>10.0</td>\n",
       "      <td>provided sbom is in a supported sbom format of...</td>\n",
       "      <td>FOSSA v0.12.0</td>\n",
       "    </tr>\n",
       "    <tr>\n",
       "      <th>1</th>\n",
       "      <td>sbom_spec_version</td>\n",
       "      <td>10.0</td>\n",
       "      <td>provided sbom should be in supported spec vers...</td>\n",
       "      <td>FOSSA v0.12.0</td>\n",
       "    </tr>\n",
       "    <tr>\n",
       "      <th>2</th>\n",
       "      <td>sbom_spec_file_format</td>\n",
       "      <td>10.0</td>\n",
       "      <td>provided sbom should be in supported file form...</td>\n",
       "      <td>FOSSA v0.12.0</td>\n",
       "    </tr>\n",
       "    <tr>\n",
       "      <th>3</th>\n",
       "      <td>sbom_parsable</td>\n",
       "      <td>10.0</td>\n",
       "      <td>provided sbom is parsable</td>\n",
       "      <td>FOSSA v0.12.0</td>\n",
       "    </tr>\n",
       "  </tbody>\n",
       "</table>\n",
       "</div>"
      ],
      "text/plain": [
       "                 feature  score  \\\n",
       "0              sbom_spec   10.0   \n",
       "1      sbom_spec_version   10.0   \n",
       "2  sbom_spec_file_format   10.0   \n",
       "3          sbom_parsable   10.0   \n",
       "\n",
       "                                         description           tool  \n",
       "0  provided sbom is in a supported sbom format of...  FOSSA v0.12.0  \n",
       "1  provided sbom should be in supported spec vers...  FOSSA v0.12.0  \n",
       "2  provided sbom should be in supported file form...  FOSSA v0.12.0  \n",
       "3                          provided sbom is parsable  FOSSA v0.12.0  "
      ]
     },
     "metadata": {},
     "output_type": "display_data"
    },
    {
     "data": {
      "text/html": [
       "<hr>"
      ],
      "text/plain": [
       "<IPython.core.display.HTML object>"
      ]
     },
     "metadata": {},
     "output_type": "display_data"
    },
    {
     "data": {
      "text/html": [
       "<h3>Category: NTIA-minimum-elements (avg score: 9.18)"
      ],
      "text/plain": [
       "<IPython.core.display.HTML object>"
      ]
     },
     "metadata": {},
     "output_type": "display_data"
    },
    {
     "data": {
      "text/html": [
       "<div>\n",
       "<style scoped>\n",
       "    .dataframe tbody tr th:only-of-type {\n",
       "        vertical-align: middle;\n",
       "    }\n",
       "\n",
       "    .dataframe tbody tr th {\n",
       "        vertical-align: top;\n",
       "    }\n",
       "\n",
       "    .dataframe thead th {\n",
       "        text-align: right;\n",
       "    }\n",
       "</style>\n",
       "<table border=\"1\" class=\"dataframe\">\n",
       "  <thead>\n",
       "    <tr style=\"text-align: right;\">\n",
       "      <th></th>\n",
       "      <th>feature</th>\n",
       "      <th>score</th>\n",
       "      <th>description</th>\n",
       "      <th>tool</th>\n",
       "    </tr>\n",
       "  </thead>\n",
       "  <tbody>\n",
       "    <tr>\n",
       "      <th>4</th>\n",
       "      <td>comp_with_supplier</td>\n",
       "      <td>10.00</td>\n",
       "      <td>212/212 have supplier names</td>\n",
       "      <td>FOSSA v0.12.0</td>\n",
       "    </tr>\n",
       "    <tr>\n",
       "      <th>5</th>\n",
       "      <td>comp_with_name</td>\n",
       "      <td>10.00</td>\n",
       "      <td>212/212 have names</td>\n",
       "      <td>FOSSA v0.12.0</td>\n",
       "    </tr>\n",
       "    <tr>\n",
       "      <th>6</th>\n",
       "      <td>comp_with_version</td>\n",
       "      <td>9.29</td>\n",
       "      <td>197/212 have versions</td>\n",
       "      <td>FOSSA v0.12.0</td>\n",
       "    </tr>\n",
       "    <tr>\n",
       "      <th>7</th>\n",
       "      <td>comp_with_uniq_ids</td>\n",
       "      <td>5.00</td>\n",
       "      <td>106/212 have unique ID's</td>\n",
       "      <td>FOSSA v0.12.0</td>\n",
       "    </tr>\n",
       "    <tr>\n",
       "      <th>8</th>\n",
       "      <td>sbom_dependencies</td>\n",
       "      <td>10.00</td>\n",
       "      <td>doc has 211 relationships</td>\n",
       "      <td>FOSSA v0.12.0</td>\n",
       "    </tr>\n",
       "    <tr>\n",
       "      <th>9</th>\n",
       "      <td>sbom_authors</td>\n",
       "      <td>10.00</td>\n",
       "      <td>doc has 2 authors</td>\n",
       "      <td>FOSSA v0.12.0</td>\n",
       "    </tr>\n",
       "    <tr>\n",
       "      <th>10</th>\n",
       "      <td>sbom_creation_timestamp</td>\n",
       "      <td>10.00</td>\n",
       "      <td>doc has creation timestamp</td>\n",
       "      <td>FOSSA v0.12.0</td>\n",
       "    </tr>\n",
       "  </tbody>\n",
       "</table>\n",
       "</div>"
      ],
      "text/plain": [
       "                    feature  score                  description           tool\n",
       "4        comp_with_supplier  10.00  212/212 have supplier names  FOSSA v0.12.0\n",
       "5            comp_with_name  10.00           212/212 have names  FOSSA v0.12.0\n",
       "6         comp_with_version   9.29        197/212 have versions  FOSSA v0.12.0\n",
       "7        comp_with_uniq_ids   5.00     106/212 have unique ID's  FOSSA v0.12.0\n",
       "8         sbom_dependencies  10.00   doc has 211 relationships   FOSSA v0.12.0\n",
       "9              sbom_authors  10.00            doc has 2 authors  FOSSA v0.12.0\n",
       "10  sbom_creation_timestamp  10.00   doc has creation timestamp  FOSSA v0.12.0"
      ]
     },
     "metadata": {},
     "output_type": "display_data"
    },
    {
     "data": {
      "text/html": [
       "<hr>"
      ],
      "text/plain": [
       "<IPython.core.display.HTML object>"
      ]
     },
     "metadata": {},
     "output_type": "display_data"
    },
    {
     "data": {
      "text/html": [
       "<h3>Category: Semantic (avg score: 5.71)"
      ],
      "text/plain": [
       "<IPython.core.display.HTML object>"
      ]
     },
     "metadata": {},
     "output_type": "display_data"
    },
    {
     "data": {
      "text/html": [
       "<div>\n",
       "<style scoped>\n",
       "    .dataframe tbody tr th:only-of-type {\n",
       "        vertical-align: middle;\n",
       "    }\n",
       "\n",
       "    .dataframe tbody tr th {\n",
       "        vertical-align: top;\n",
       "    }\n",
       "\n",
       "    .dataframe thead th {\n",
       "        text-align: right;\n",
       "    }\n",
       "</style>\n",
       "<table border=\"1\" class=\"dataframe\">\n",
       "  <thead>\n",
       "    <tr style=\"text-align: right;\">\n",
       "      <th></th>\n",
       "      <th>feature</th>\n",
       "      <th>score</th>\n",
       "      <th>description</th>\n",
       "      <th>tool</th>\n",
       "    </tr>\n",
       "  </thead>\n",
       "  <tbody>\n",
       "    <tr>\n",
       "      <th>11</th>\n",
       "      <td>sbom_required_fields</td>\n",
       "      <td>7.50</td>\n",
       "      <td>Doc Fields:true Pkg Fields:false</td>\n",
       "      <td>FOSSA v0.12.0</td>\n",
       "    </tr>\n",
       "    <tr>\n",
       "      <th>12</th>\n",
       "      <td>comp_with_licenses</td>\n",
       "      <td>4.62</td>\n",
       "      <td>98/212 have licenses</td>\n",
       "      <td>FOSSA v0.12.0</td>\n",
       "    </tr>\n",
       "    <tr>\n",
       "      <th>13</th>\n",
       "      <td>comp_with_checksums</td>\n",
       "      <td>5.00</td>\n",
       "      <td>106/212 have checksums</td>\n",
       "      <td>FOSSA v0.12.0</td>\n",
       "    </tr>\n",
       "  </tbody>\n",
       "</table>\n",
       "</div>"
      ],
      "text/plain": [
       "                 feature  score                       description  \\\n",
       "11  sbom_required_fields   7.50  Doc Fields:true Pkg Fields:false   \n",
       "12    comp_with_licenses   4.62              98/212 have licenses   \n",
       "13   comp_with_checksums   5.00            106/212 have checksums   \n",
       "\n",
       "             tool  \n",
       "11  FOSSA v0.12.0  \n",
       "12  FOSSA v0.12.0  \n",
       "13  FOSSA v0.12.0  "
      ]
     },
     "metadata": {},
     "output_type": "display_data"
    },
    {
     "data": {
      "text/html": [
       "<hr>"
      ],
      "text/plain": [
       "<IPython.core.display.HTML object>"
      ]
     },
     "metadata": {},
     "output_type": "display_data"
    },
    {
     "data": {
      "text/html": [
       "<h3>Category: Quality (avg score: 4.17)"
      ],
      "text/plain": [
       "<IPython.core.display.HTML object>"
      ]
     },
     "metadata": {},
     "output_type": "display_data"
    },
    {
     "data": {
      "text/html": [
       "<div>\n",
       "<style scoped>\n",
       "    .dataframe tbody tr th:only-of-type {\n",
       "        vertical-align: middle;\n",
       "    }\n",
       "\n",
       "    .dataframe tbody tr th {\n",
       "        vertical-align: top;\n",
       "    }\n",
       "\n",
       "    .dataframe thead th {\n",
       "        text-align: right;\n",
       "    }\n",
       "</style>\n",
       "<table border=\"1\" class=\"dataframe\">\n",
       "  <thead>\n",
       "    <tr style=\"text-align: right;\">\n",
       "      <th></th>\n",
       "      <th>feature</th>\n",
       "      <th>score</th>\n",
       "      <th>description</th>\n",
       "      <th>tool</th>\n",
       "    </tr>\n",
       "  </thead>\n",
       "  <tbody>\n",
       "    <tr>\n",
       "      <th>14</th>\n",
       "      <td>comp_valid_licenses</td>\n",
       "      <td>4.54</td>\n",
       "      <td>97/212 components with valid license</td>\n",
       "      <td>FOSSA v0.12.0</td>\n",
       "    </tr>\n",
       "    <tr>\n",
       "      <th>15</th>\n",
       "      <td>comp_with_primary_purpose</td>\n",
       "      <td>0.00</td>\n",
       "      <td>0/212 components have primary purpose specified</td>\n",
       "      <td>FOSSA v0.12.0</td>\n",
       "    </tr>\n",
       "    <tr>\n",
       "      <th>16</th>\n",
       "      <td>comp_with_deprecated_licenses</td>\n",
       "      <td>10.00</td>\n",
       "      <td>0/212 components have deprecated licenses</td>\n",
       "      <td>FOSSA v0.12.0</td>\n",
       "    </tr>\n",
       "    <tr>\n",
       "      <th>17</th>\n",
       "      <td>comp_with_restrictive_licenses</td>\n",
       "      <td>9.86</td>\n",
       "      <td>3/212 components have restricted licenses</td>\n",
       "      <td>FOSSA v0.12.0</td>\n",
       "    </tr>\n",
       "    <tr>\n",
       "      <th>18</th>\n",
       "      <td>comp_with_any_vuln_lookup_id</td>\n",
       "      <td>4.81</td>\n",
       "      <td>102/212 components have any lookup id</td>\n",
       "      <td>FOSSA v0.12.0</td>\n",
       "    </tr>\n",
       "    <tr>\n",
       "      <th>19</th>\n",
       "      <td>comp_with_multi_vuln_lookup_id</td>\n",
       "      <td>0.00</td>\n",
       "      <td>0/212 components have multiple lookup id</td>\n",
       "      <td>FOSSA v0.12.0</td>\n",
       "    </tr>\n",
       "    <tr>\n",
       "      <th>20</th>\n",
       "      <td>sbom_with_creator_and_version</td>\n",
       "      <td>0.00</td>\n",
       "      <td>0/1 tools have creator and version</td>\n",
       "      <td>FOSSA v0.12.0</td>\n",
       "    </tr>\n",
       "  </tbody>\n",
       "</table>\n",
       "</div>"
      ],
      "text/plain": [
       "                           feature  score  \\\n",
       "14             comp_valid_licenses   4.54   \n",
       "15       comp_with_primary_purpose   0.00   \n",
       "16   comp_with_deprecated_licenses  10.00   \n",
       "17  comp_with_restrictive_licenses   9.86   \n",
       "18    comp_with_any_vuln_lookup_id   4.81   \n",
       "19  comp_with_multi_vuln_lookup_id   0.00   \n",
       "20   sbom_with_creator_and_version   0.00   \n",
       "\n",
       "                                        description           tool  \n",
       "14            97/212 components with valid license   FOSSA v0.12.0  \n",
       "15  0/212 components have primary purpose specified  FOSSA v0.12.0  \n",
       "16        0/212 components have deprecated licenses  FOSSA v0.12.0  \n",
       "17        3/212 components have restricted licenses  FOSSA v0.12.0  \n",
       "18            102/212 components have any lookup id  FOSSA v0.12.0  \n",
       "19         0/212 components have multiple lookup id  FOSSA v0.12.0  \n",
       "20               0/1 tools have creator and version  FOSSA v0.12.0  "
      ]
     },
     "metadata": {},
     "output_type": "display_data"
    },
    {
     "data": {
      "text/html": [
       "<hr>"
      ],
      "text/plain": [
       "<IPython.core.display.HTML object>"
      ]
     },
     "metadata": {},
     "output_type": "display_data"
    },
    {
     "data": {
      "text/html": [
       "<h3>Category: Sharing (avg score: 10.00)"
      ],
      "text/plain": [
       "<IPython.core.display.HTML object>"
      ]
     },
     "metadata": {},
     "output_type": "display_data"
    },
    {
     "data": {
      "text/html": [
       "<div>\n",
       "<style scoped>\n",
       "    .dataframe tbody tr th:only-of-type {\n",
       "        vertical-align: middle;\n",
       "    }\n",
       "\n",
       "    .dataframe tbody tr th {\n",
       "        vertical-align: top;\n",
       "    }\n",
       "\n",
       "    .dataframe thead th {\n",
       "        text-align: right;\n",
       "    }\n",
       "</style>\n",
       "<table border=\"1\" class=\"dataframe\">\n",
       "  <thead>\n",
       "    <tr style=\"text-align: right;\">\n",
       "      <th></th>\n",
       "      <th>feature</th>\n",
       "      <th>score</th>\n",
       "      <th>description</th>\n",
       "      <th>tool</th>\n",
       "    </tr>\n",
       "  </thead>\n",
       "  <tbody>\n",
       "    <tr>\n",
       "      <th>21</th>\n",
       "      <td>sbom_sharable</td>\n",
       "      <td>10.0</td>\n",
       "      <td>doc has a sharable license free 1 :: of 1</td>\n",
       "      <td>FOSSA v0.12.0</td>\n",
       "    </tr>\n",
       "  </tbody>\n",
       "</table>\n",
       "</div>"
      ],
      "text/plain": [
       "          feature  score                                description  \\\n",
       "21  sbom_sharable   10.0  doc has a sharable license free 1 :: of 1   \n",
       "\n",
       "             tool  \n",
       "21  FOSSA v0.12.0  "
      ]
     },
     "metadata": {},
     "output_type": "display_data"
    },
    {
     "data": {
      "text/html": [
       "<hr>"
      ],
      "text/plain": [
       "<IPython.core.display.HTML object>"
      ]
     },
     "metadata": {},
     "output_type": "display_data"
    },
    {
     "data": {
      "text/html": [
       "<h2>Tool: GitHub.com-Dependency-Graph (avg score: 6.83)</h2>"
      ],
      "text/plain": [
       "<IPython.core.display.HTML object>"
      ]
     },
     "metadata": {},
     "output_type": "display_data"
    },
    {
     "data": {
      "text/html": [
       "<h3>Category: Structural (avg score: 10.00)"
      ],
      "text/plain": [
       "<IPython.core.display.HTML object>"
      ]
     },
     "metadata": {},
     "output_type": "display_data"
    },
    {
     "data": {
      "text/html": [
       "<div>\n",
       "<style scoped>\n",
       "    .dataframe tbody tr th:only-of-type {\n",
       "        vertical-align: middle;\n",
       "    }\n",
       "\n",
       "    .dataframe tbody tr th {\n",
       "        vertical-align: top;\n",
       "    }\n",
       "\n",
       "    .dataframe thead th {\n",
       "        text-align: right;\n",
       "    }\n",
       "</style>\n",
       "<table border=\"1\" class=\"dataframe\">\n",
       "  <thead>\n",
       "    <tr style=\"text-align: right;\">\n",
       "      <th></th>\n",
       "      <th>feature</th>\n",
       "      <th>score</th>\n",
       "      <th>description</th>\n",
       "      <th>tool</th>\n",
       "    </tr>\n",
       "  </thead>\n",
       "  <tbody>\n",
       "    <tr>\n",
       "      <th>0</th>\n",
       "      <td>sbom_spec</td>\n",
       "      <td>10.0</td>\n",
       "      <td>provided sbom is in a supported sbom format of...</td>\n",
       "      <td>GitHub.com-Dependency-Graph</td>\n",
       "    </tr>\n",
       "    <tr>\n",
       "      <th>1</th>\n",
       "      <td>sbom_spec_version</td>\n",
       "      <td>10.0</td>\n",
       "      <td>provided sbom should be in supported spec vers...</td>\n",
       "      <td>GitHub.com-Dependency-Graph</td>\n",
       "    </tr>\n",
       "    <tr>\n",
       "      <th>2</th>\n",
       "      <td>sbom_spec_file_format</td>\n",
       "      <td>10.0</td>\n",
       "      <td>provided sbom should be in supported file form...</td>\n",
       "      <td>GitHub.com-Dependency-Graph</td>\n",
       "    </tr>\n",
       "    <tr>\n",
       "      <th>3</th>\n",
       "      <td>sbom_parsable</td>\n",
       "      <td>10.0</td>\n",
       "      <td>provided sbom is parsable</td>\n",
       "      <td>GitHub.com-Dependency-Graph</td>\n",
       "    </tr>\n",
       "  </tbody>\n",
       "</table>\n",
       "</div>"
      ],
      "text/plain": [
       "                 feature  score  \\\n",
       "0              sbom_spec   10.0   \n",
       "1      sbom_spec_version   10.0   \n",
       "2  sbom_spec_file_format   10.0   \n",
       "3          sbom_parsable   10.0   \n",
       "\n",
       "                                         description  \\\n",
       "0  provided sbom is in a supported sbom format of...   \n",
       "1  provided sbom should be in supported spec vers...   \n",
       "2  provided sbom should be in supported file form...   \n",
       "3                          provided sbom is parsable   \n",
       "\n",
       "                          tool  \n",
       "0  GitHub.com-Dependency-Graph  \n",
       "1  GitHub.com-Dependency-Graph  \n",
       "2  GitHub.com-Dependency-Graph  \n",
       "3  GitHub.com-Dependency-Graph  "
      ]
     },
     "metadata": {},
     "output_type": "display_data"
    },
    {
     "data": {
      "text/html": [
       "<hr>"
      ],
      "text/plain": [
       "<IPython.core.display.HTML object>"
      ]
     },
     "metadata": {},
     "output_type": "display_data"
    },
    {
     "data": {
      "text/html": [
       "<h3>Category: NTIA-minimum-elements (avg score: 6.99)"
      ],
      "text/plain": [
       "<IPython.core.display.HTML object>"
      ]
     },
     "metadata": {},
     "output_type": "display_data"
    },
    {
     "data": {
      "text/html": [
       "<div>\n",
       "<style scoped>\n",
       "    .dataframe tbody tr th:only-of-type {\n",
       "        vertical-align: middle;\n",
       "    }\n",
       "\n",
       "    .dataframe tbody tr th {\n",
       "        vertical-align: top;\n",
       "    }\n",
       "\n",
       "    .dataframe thead th {\n",
       "        text-align: right;\n",
       "    }\n",
       "</style>\n",
       "<table border=\"1\" class=\"dataframe\">\n",
       "  <thead>\n",
       "    <tr style=\"text-align: right;\">\n",
       "      <th></th>\n",
       "      <th>feature</th>\n",
       "      <th>score</th>\n",
       "      <th>description</th>\n",
       "      <th>tool</th>\n",
       "    </tr>\n",
       "  </thead>\n",
       "  <tbody>\n",
       "    <tr>\n",
       "      <th>4</th>\n",
       "      <td>comp_with_supplier</td>\n",
       "      <td>0.00</td>\n",
       "      <td>0/231 have supplier names</td>\n",
       "      <td>GitHub.com-Dependency-Graph</td>\n",
       "    </tr>\n",
       "    <tr>\n",
       "      <th>5</th>\n",
       "      <td>comp_with_name</td>\n",
       "      <td>10.00</td>\n",
       "      <td>231/231 have names</td>\n",
       "      <td>GitHub.com-Dependency-Graph</td>\n",
       "    </tr>\n",
       "    <tr>\n",
       "      <th>6</th>\n",
       "      <td>comp_with_version</td>\n",
       "      <td>8.92</td>\n",
       "      <td>206/231 have versions</td>\n",
       "      <td>GitHub.com-Dependency-Graph</td>\n",
       "    </tr>\n",
       "    <tr>\n",
       "      <th>7</th>\n",
       "      <td>comp_with_uniq_ids</td>\n",
       "      <td>10.00</td>\n",
       "      <td>231/231 have unique ID's</td>\n",
       "      <td>GitHub.com-Dependency-Graph</td>\n",
       "    </tr>\n",
       "    <tr>\n",
       "      <th>8</th>\n",
       "      <td>sbom_dependencies</td>\n",
       "      <td>0.00</td>\n",
       "      <td>doc has 0 relationships</td>\n",
       "      <td>GitHub.com-Dependency-Graph</td>\n",
       "    </tr>\n",
       "    <tr>\n",
       "      <th>9</th>\n",
       "      <td>sbom_authors</td>\n",
       "      <td>10.00</td>\n",
       "      <td>doc has 1 authors</td>\n",
       "      <td>GitHub.com-Dependency-Graph</td>\n",
       "    </tr>\n",
       "    <tr>\n",
       "      <th>10</th>\n",
       "      <td>sbom_creation_timestamp</td>\n",
       "      <td>10.00</td>\n",
       "      <td>doc has creation timestamp</td>\n",
       "      <td>GitHub.com-Dependency-Graph</td>\n",
       "    </tr>\n",
       "  </tbody>\n",
       "</table>\n",
       "</div>"
      ],
      "text/plain": [
       "                    feature  score                 description  \\\n",
       "4        comp_with_supplier   0.00   0/231 have supplier names   \n",
       "5            comp_with_name  10.00          231/231 have names   \n",
       "6         comp_with_version   8.92       206/231 have versions   \n",
       "7        comp_with_uniq_ids  10.00    231/231 have unique ID's   \n",
       "8         sbom_dependencies   0.00    doc has 0 relationships    \n",
       "9              sbom_authors  10.00           doc has 1 authors   \n",
       "10  sbom_creation_timestamp  10.00  doc has creation timestamp   \n",
       "\n",
       "                           tool  \n",
       "4   GitHub.com-Dependency-Graph  \n",
       "5   GitHub.com-Dependency-Graph  \n",
       "6   GitHub.com-Dependency-Graph  \n",
       "7   GitHub.com-Dependency-Graph  \n",
       "8   GitHub.com-Dependency-Graph  \n",
       "9   GitHub.com-Dependency-Graph  \n",
       "10  GitHub.com-Dependency-Graph  "
      ]
     },
     "metadata": {},
     "output_type": "display_data"
    },
    {
     "data": {
      "text/html": [
       "<hr>"
      ],
      "text/plain": [
       "<IPython.core.display.HTML object>"
      ]
     },
     "metadata": {},
     "output_type": "display_data"
    },
    {
     "data": {
      "text/html": [
       "<h3>Category: Semantic (avg score: 5.44)"
      ],
      "text/plain": [
       "<IPython.core.display.HTML object>"
      ]
     },
     "metadata": {},
     "output_type": "display_data"
    },
    {
     "data": {
      "text/html": [
       "<div>\n",
       "<style scoped>\n",
       "    .dataframe tbody tr th:only-of-type {\n",
       "        vertical-align: middle;\n",
       "    }\n",
       "\n",
       "    .dataframe tbody tr th {\n",
       "        vertical-align: top;\n",
       "    }\n",
       "\n",
       "    .dataframe thead th {\n",
       "        text-align: right;\n",
       "    }\n",
       "</style>\n",
       "<table border=\"1\" class=\"dataframe\">\n",
       "  <thead>\n",
       "    <tr style=\"text-align: right;\">\n",
       "      <th></th>\n",
       "      <th>feature</th>\n",
       "      <th>score</th>\n",
       "      <th>description</th>\n",
       "      <th>tool</th>\n",
       "    </tr>\n",
       "  </thead>\n",
       "  <tbody>\n",
       "    <tr>\n",
       "      <th>11</th>\n",
       "      <td>sbom_required_fields</td>\n",
       "      <td>10.00</td>\n",
       "      <td>Doc Fields:true Pkg Fields:true</td>\n",
       "      <td>GitHub.com-Dependency-Graph</td>\n",
       "    </tr>\n",
       "    <tr>\n",
       "      <th>12</th>\n",
       "      <td>comp_with_licenses</td>\n",
       "      <td>6.32</td>\n",
       "      <td>146/231 have licenses</td>\n",
       "      <td>GitHub.com-Dependency-Graph</td>\n",
       "    </tr>\n",
       "    <tr>\n",
       "      <th>13</th>\n",
       "      <td>comp_with_checksums</td>\n",
       "      <td>0.00</td>\n",
       "      <td>0/231 have checksums</td>\n",
       "      <td>GitHub.com-Dependency-Graph</td>\n",
       "    </tr>\n",
       "  </tbody>\n",
       "</table>\n",
       "</div>"
      ],
      "text/plain": [
       "                 feature  score                      description  \\\n",
       "11  sbom_required_fields  10.00  Doc Fields:true Pkg Fields:true   \n",
       "12    comp_with_licenses   6.32            146/231 have licenses   \n",
       "13   comp_with_checksums   0.00             0/231 have checksums   \n",
       "\n",
       "                           tool  \n",
       "11  GitHub.com-Dependency-Graph  \n",
       "12  GitHub.com-Dependency-Graph  \n",
       "13  GitHub.com-Dependency-Graph  "
      ]
     },
     "metadata": {},
     "output_type": "display_data"
    },
    {
     "data": {
      "text/html": [
       "<hr>"
      ],
      "text/plain": [
       "<IPython.core.display.HTML object>"
      ]
     },
     "metadata": {},
     "output_type": "display_data"
    },
    {
     "data": {
      "text/html": [
       "<h3>Category: Quality (avg score: 5.00)"
      ],
      "text/plain": [
       "<IPython.core.display.HTML object>"
      ]
     },
     "metadata": {},
     "output_type": "display_data"
    },
    {
     "data": {
      "text/html": [
       "<div>\n",
       "<style scoped>\n",
       "    .dataframe tbody tr th:only-of-type {\n",
       "        vertical-align: middle;\n",
       "    }\n",
       "\n",
       "    .dataframe tbody tr th {\n",
       "        vertical-align: top;\n",
       "    }\n",
       "\n",
       "    .dataframe thead th {\n",
       "        text-align: right;\n",
       "    }\n",
       "</style>\n",
       "<table border=\"1\" class=\"dataframe\">\n",
       "  <thead>\n",
       "    <tr style=\"text-align: right;\">\n",
       "      <th></th>\n",
       "      <th>feature</th>\n",
       "      <th>score</th>\n",
       "      <th>description</th>\n",
       "      <th>tool</th>\n",
       "    </tr>\n",
       "  </thead>\n",
       "  <tbody>\n",
       "    <tr>\n",
       "      <th>14</th>\n",
       "      <td>comp_valid_licenses</td>\n",
       "      <td>6.32</td>\n",
       "      <td>146/231 components with valid license</td>\n",
       "      <td>GitHub.com-Dependency-Graph</td>\n",
       "    </tr>\n",
       "    <tr>\n",
       "      <th>15</th>\n",
       "      <td>comp_with_primary_purpose</td>\n",
       "      <td>0.00</td>\n",
       "      <td>0/231 components have primary purpose specified</td>\n",
       "      <td>GitHub.com-Dependency-Graph</td>\n",
       "    </tr>\n",
       "    <tr>\n",
       "      <th>16</th>\n",
       "      <td>comp_with_deprecated_licenses</td>\n",
       "      <td>10.00</td>\n",
       "      <td>0/231 components have deprecated licenses</td>\n",
       "      <td>GitHub.com-Dependency-Graph</td>\n",
       "    </tr>\n",
       "    <tr>\n",
       "      <th>17</th>\n",
       "      <td>comp_with_restrictive_licenses</td>\n",
       "      <td>10.00</td>\n",
       "      <td>0/231 components have restricted licenses</td>\n",
       "      <td>GitHub.com-Dependency-Graph</td>\n",
       "    </tr>\n",
       "    <tr>\n",
       "      <th>18</th>\n",
       "      <td>comp_with_any_vuln_lookup_id</td>\n",
       "      <td>8.70</td>\n",
       "      <td>201/231 components have any lookup id</td>\n",
       "      <td>GitHub.com-Dependency-Graph</td>\n",
       "    </tr>\n",
       "    <tr>\n",
       "      <th>19</th>\n",
       "      <td>comp_with_multi_vuln_lookup_id</td>\n",
       "      <td>0.00</td>\n",
       "      <td>0/231 components have multiple lookup id</td>\n",
       "      <td>GitHub.com-Dependency-Graph</td>\n",
       "    </tr>\n",
       "    <tr>\n",
       "      <th>20</th>\n",
       "      <td>sbom_with_creator_and_version</td>\n",
       "      <td>0.00</td>\n",
       "      <td>0/1 tools have creator and version</td>\n",
       "      <td>GitHub.com-Dependency-Graph</td>\n",
       "    </tr>\n",
       "  </tbody>\n",
       "</table>\n",
       "</div>"
      ],
      "text/plain": [
       "                           feature  score  \\\n",
       "14             comp_valid_licenses   6.32   \n",
       "15       comp_with_primary_purpose   0.00   \n",
       "16   comp_with_deprecated_licenses  10.00   \n",
       "17  comp_with_restrictive_licenses  10.00   \n",
       "18    comp_with_any_vuln_lookup_id   8.70   \n",
       "19  comp_with_multi_vuln_lookup_id   0.00   \n",
       "20   sbom_with_creator_and_version   0.00   \n",
       "\n",
       "                                        description  \\\n",
       "14           146/231 components with valid license    \n",
       "15  0/231 components have primary purpose specified   \n",
       "16        0/231 components have deprecated licenses   \n",
       "17        0/231 components have restricted licenses   \n",
       "18            201/231 components have any lookup id   \n",
       "19         0/231 components have multiple lookup id   \n",
       "20               0/1 tools have creator and version   \n",
       "\n",
       "                           tool  \n",
       "14  GitHub.com-Dependency-Graph  \n",
       "15  GitHub.com-Dependency-Graph  \n",
       "16  GitHub.com-Dependency-Graph  \n",
       "17  GitHub.com-Dependency-Graph  \n",
       "18  GitHub.com-Dependency-Graph  \n",
       "19  GitHub.com-Dependency-Graph  \n",
       "20  GitHub.com-Dependency-Graph  "
      ]
     },
     "metadata": {},
     "output_type": "display_data"
    },
    {
     "data": {
      "text/html": [
       "<hr>"
      ],
      "text/plain": [
       "<IPython.core.display.HTML object>"
      ]
     },
     "metadata": {},
     "output_type": "display_data"
    },
    {
     "data": {
      "text/html": [
       "<h3>Category: Sharing (avg score: 10.00)"
      ],
      "text/plain": [
       "<IPython.core.display.HTML object>"
      ]
     },
     "metadata": {},
     "output_type": "display_data"
    },
    {
     "data": {
      "text/html": [
       "<div>\n",
       "<style scoped>\n",
       "    .dataframe tbody tr th:only-of-type {\n",
       "        vertical-align: middle;\n",
       "    }\n",
       "\n",
       "    .dataframe tbody tr th {\n",
       "        vertical-align: top;\n",
       "    }\n",
       "\n",
       "    .dataframe thead th {\n",
       "        text-align: right;\n",
       "    }\n",
       "</style>\n",
       "<table border=\"1\" class=\"dataframe\">\n",
       "  <thead>\n",
       "    <tr style=\"text-align: right;\">\n",
       "      <th></th>\n",
       "      <th>feature</th>\n",
       "      <th>score</th>\n",
       "      <th>description</th>\n",
       "      <th>tool</th>\n",
       "    </tr>\n",
       "  </thead>\n",
       "  <tbody>\n",
       "    <tr>\n",
       "      <th>21</th>\n",
       "      <td>sbom_sharable</td>\n",
       "      <td>10.0</td>\n",
       "      <td>doc has a sharable license free 1 :: of 1</td>\n",
       "      <td>GitHub.com-Dependency-Graph</td>\n",
       "    </tr>\n",
       "  </tbody>\n",
       "</table>\n",
       "</div>"
      ],
      "text/plain": [
       "          feature  score                                description  \\\n",
       "21  sbom_sharable   10.0  doc has a sharable license free 1 :: of 1   \n",
       "\n",
       "                           tool  \n",
       "21  GitHub.com-Dependency-Graph  "
      ]
     },
     "metadata": {},
     "output_type": "display_data"
    },
    {
     "data": {
      "text/html": [
       "<hr>"
      ],
      "text/plain": [
       "<IPython.core.display.HTML object>"
      ]
     },
     "metadata": {},
     "output_type": "display_data"
    },
    {
     "data": {
      "text/html": [
       "<h2>Tool: Microsoft.SBOMTool (avg score: 6.36)</h2>"
      ],
      "text/plain": [
       "<IPython.core.display.HTML object>"
      ]
     },
     "metadata": {},
     "output_type": "display_data"
    },
    {
     "data": {
      "text/html": [
       "<h3>Category: Structural (avg score: 10.00)"
      ],
      "text/plain": [
       "<IPython.core.display.HTML object>"
      ]
     },
     "metadata": {},
     "output_type": "display_data"
    },
    {
     "data": {
      "text/html": [
       "<div>\n",
       "<style scoped>\n",
       "    .dataframe tbody tr th:only-of-type {\n",
       "        vertical-align: middle;\n",
       "    }\n",
       "\n",
       "    .dataframe tbody tr th {\n",
       "        vertical-align: top;\n",
       "    }\n",
       "\n",
       "    .dataframe thead th {\n",
       "        text-align: right;\n",
       "    }\n",
       "</style>\n",
       "<table border=\"1\" class=\"dataframe\">\n",
       "  <thead>\n",
       "    <tr style=\"text-align: right;\">\n",
       "      <th></th>\n",
       "      <th>feature</th>\n",
       "      <th>score</th>\n",
       "      <th>description</th>\n",
       "      <th>tool</th>\n",
       "    </tr>\n",
       "  </thead>\n",
       "  <tbody>\n",
       "    <tr>\n",
       "      <th>0</th>\n",
       "      <td>sbom_spec</td>\n",
       "      <td>10.0</td>\n",
       "      <td>provided sbom is in a supported sbom format of...</td>\n",
       "      <td>Microsoft.SBOMTool</td>\n",
       "    </tr>\n",
       "    <tr>\n",
       "      <th>1</th>\n",
       "      <td>sbom_spec_version</td>\n",
       "      <td>10.0</td>\n",
       "      <td>provided sbom should be in supported spec vers...</td>\n",
       "      <td>Microsoft.SBOMTool</td>\n",
       "    </tr>\n",
       "    <tr>\n",
       "      <th>2</th>\n",
       "      <td>sbom_spec_file_format</td>\n",
       "      <td>10.0</td>\n",
       "      <td>provided sbom should be in supported file form...</td>\n",
       "      <td>Microsoft.SBOMTool</td>\n",
       "    </tr>\n",
       "    <tr>\n",
       "      <th>3</th>\n",
       "      <td>sbom_parsable</td>\n",
       "      <td>10.0</td>\n",
       "      <td>provided sbom is parsable</td>\n",
       "      <td>Microsoft.SBOMTool</td>\n",
       "    </tr>\n",
       "  </tbody>\n",
       "</table>\n",
       "</div>"
      ],
      "text/plain": [
       "                 feature  score  \\\n",
       "0              sbom_spec   10.0   \n",
       "1      sbom_spec_version   10.0   \n",
       "2  sbom_spec_file_format   10.0   \n",
       "3          sbom_parsable   10.0   \n",
       "\n",
       "                                         description                tool  \n",
       "0  provided sbom is in a supported sbom format of...  Microsoft.SBOMTool  \n",
       "1  provided sbom should be in supported spec vers...  Microsoft.SBOMTool  \n",
       "2  provided sbom should be in supported file form...  Microsoft.SBOMTool  \n",
       "3                          provided sbom is parsable  Microsoft.SBOMTool  "
      ]
     },
     "metadata": {},
     "output_type": "display_data"
    },
    {
     "data": {
      "text/html": [
       "<hr>"
      ],
      "text/plain": [
       "<IPython.core.display.HTML object>"
      ]
     },
     "metadata": {},
     "output_type": "display_data"
    },
    {
     "data": {
      "text/html": [
       "<h3>Category: NTIA-minimum-elements (avg score: 8.58)"
      ],
      "text/plain": [
       "<IPython.core.display.HTML object>"
      ]
     },
     "metadata": {},
     "output_type": "display_data"
    },
    {
     "data": {
      "text/html": [
       "<div>\n",
       "<style scoped>\n",
       "    .dataframe tbody tr th:only-of-type {\n",
       "        vertical-align: middle;\n",
       "    }\n",
       "\n",
       "    .dataframe tbody tr th {\n",
       "        vertical-align: top;\n",
       "    }\n",
       "\n",
       "    .dataframe thead th {\n",
       "        text-align: right;\n",
       "    }\n",
       "</style>\n",
       "<table border=\"1\" class=\"dataframe\">\n",
       "  <thead>\n",
       "    <tr style=\"text-align: right;\">\n",
       "      <th></th>\n",
       "      <th>feature</th>\n",
       "      <th>score</th>\n",
       "      <th>description</th>\n",
       "      <th>tool</th>\n",
       "    </tr>\n",
       "  </thead>\n",
       "  <tbody>\n",
       "    <tr>\n",
       "      <th>4</th>\n",
       "      <td>comp_with_supplier</td>\n",
       "      <td>0.04</td>\n",
       "      <td>1/229 have supplier names</td>\n",
       "      <td>Microsoft.SBOMTool</td>\n",
       "    </tr>\n",
       "    <tr>\n",
       "      <th>5</th>\n",
       "      <td>comp_with_name</td>\n",
       "      <td>10.00</td>\n",
       "      <td>229/229 have names</td>\n",
       "      <td>Microsoft.SBOMTool</td>\n",
       "    </tr>\n",
       "    <tr>\n",
       "      <th>6</th>\n",
       "      <td>comp_with_version</td>\n",
       "      <td>10.00</td>\n",
       "      <td>229/229 have versions</td>\n",
       "      <td>Microsoft.SBOMTool</td>\n",
       "    </tr>\n",
       "    <tr>\n",
       "      <th>7</th>\n",
       "      <td>comp_with_uniq_ids</td>\n",
       "      <td>10.00</td>\n",
       "      <td>229/229 have unique ID's</td>\n",
       "      <td>Microsoft.SBOMTool</td>\n",
       "    </tr>\n",
       "    <tr>\n",
       "      <th>8</th>\n",
       "      <td>sbom_dependencies</td>\n",
       "      <td>10.00</td>\n",
       "      <td>doc has 229 relationships</td>\n",
       "      <td>Microsoft.SBOMTool</td>\n",
       "    </tr>\n",
       "    <tr>\n",
       "      <th>9</th>\n",
       "      <td>sbom_authors</td>\n",
       "      <td>10.00</td>\n",
       "      <td>doc has 2 authors</td>\n",
       "      <td>Microsoft.SBOMTool</td>\n",
       "    </tr>\n",
       "    <tr>\n",
       "      <th>10</th>\n",
       "      <td>sbom_creation_timestamp</td>\n",
       "      <td>10.00</td>\n",
       "      <td>doc has creation timestamp</td>\n",
       "      <td>Microsoft.SBOMTool</td>\n",
       "    </tr>\n",
       "  </tbody>\n",
       "</table>\n",
       "</div>"
      ],
      "text/plain": [
       "                    feature  score                 description  \\\n",
       "4        comp_with_supplier   0.04   1/229 have supplier names   \n",
       "5            comp_with_name  10.00          229/229 have names   \n",
       "6         comp_with_version  10.00       229/229 have versions   \n",
       "7        comp_with_uniq_ids  10.00    229/229 have unique ID's   \n",
       "8         sbom_dependencies  10.00  doc has 229 relationships    \n",
       "9              sbom_authors  10.00           doc has 2 authors   \n",
       "10  sbom_creation_timestamp  10.00  doc has creation timestamp   \n",
       "\n",
       "                  tool  \n",
       "4   Microsoft.SBOMTool  \n",
       "5   Microsoft.SBOMTool  \n",
       "6   Microsoft.SBOMTool  \n",
       "7   Microsoft.SBOMTool  \n",
       "8   Microsoft.SBOMTool  \n",
       "9   Microsoft.SBOMTool  \n",
       "10  Microsoft.SBOMTool  "
      ]
     },
     "metadata": {},
     "output_type": "display_data"
    },
    {
     "data": {
      "text/html": [
       "<hr>"
      ],
      "text/plain": [
       "<IPython.core.display.HTML object>"
      ]
     },
     "metadata": {},
     "output_type": "display_data"
    },
    {
     "data": {
      "text/html": [
       "<h3>Category: Semantic (avg score: 3.33)"
      ],
      "text/plain": [
       "<IPython.core.display.HTML object>"
      ]
     },
     "metadata": {},
     "output_type": "display_data"
    },
    {
     "data": {
      "text/html": [
       "<div>\n",
       "<style scoped>\n",
       "    .dataframe tbody tr th:only-of-type {\n",
       "        vertical-align: middle;\n",
       "    }\n",
       "\n",
       "    .dataframe tbody tr th {\n",
       "        vertical-align: top;\n",
       "    }\n",
       "\n",
       "    .dataframe thead th {\n",
       "        text-align: right;\n",
       "    }\n",
       "</style>\n",
       "<table border=\"1\" class=\"dataframe\">\n",
       "  <thead>\n",
       "    <tr style=\"text-align: right;\">\n",
       "      <th></th>\n",
       "      <th>feature</th>\n",
       "      <th>score</th>\n",
       "      <th>description</th>\n",
       "      <th>tool</th>\n",
       "    </tr>\n",
       "  </thead>\n",
       "  <tbody>\n",
       "    <tr>\n",
       "      <th>11</th>\n",
       "      <td>sbom_required_fields</td>\n",
       "      <td>10.0</td>\n",
       "      <td>Doc Fields:true Pkg Fields:true</td>\n",
       "      <td>Microsoft.SBOMTool</td>\n",
       "    </tr>\n",
       "    <tr>\n",
       "      <th>12</th>\n",
       "      <td>comp_with_licenses</td>\n",
       "      <td>0.0</td>\n",
       "      <td>0/229 have licenses</td>\n",
       "      <td>Microsoft.SBOMTool</td>\n",
       "    </tr>\n",
       "    <tr>\n",
       "      <th>13</th>\n",
       "      <td>comp_with_checksums</td>\n",
       "      <td>0.0</td>\n",
       "      <td>0/229 have checksums</td>\n",
       "      <td>Microsoft.SBOMTool</td>\n",
       "    </tr>\n",
       "  </tbody>\n",
       "</table>\n",
       "</div>"
      ],
      "text/plain": [
       "                 feature  score                      description  \\\n",
       "11  sbom_required_fields   10.0  Doc Fields:true Pkg Fields:true   \n",
       "12    comp_with_licenses    0.0              0/229 have licenses   \n",
       "13   comp_with_checksums    0.0             0/229 have checksums   \n",
       "\n",
       "                  tool  \n",
       "11  Microsoft.SBOMTool  \n",
       "12  Microsoft.SBOMTool  \n",
       "13  Microsoft.SBOMTool  "
      ]
     },
     "metadata": {},
     "output_type": "display_data"
    },
    {
     "data": {
      "text/html": [
       "<hr>"
      ],
      "text/plain": [
       "<IPython.core.display.HTML object>"
      ]
     },
     "metadata": {},
     "output_type": "display_data"
    },
    {
     "data": {
      "text/html": [
       "<h3>Category: Quality (avg score: 2.85)"
      ],
      "text/plain": [
       "<IPython.core.display.HTML object>"
      ]
     },
     "metadata": {},
     "output_type": "display_data"
    },
    {
     "data": {
      "text/html": [
       "<div>\n",
       "<style scoped>\n",
       "    .dataframe tbody tr th:only-of-type {\n",
       "        vertical-align: middle;\n",
       "    }\n",
       "\n",
       "    .dataframe tbody tr th {\n",
       "        vertical-align: top;\n",
       "    }\n",
       "\n",
       "    .dataframe thead th {\n",
       "        text-align: right;\n",
       "    }\n",
       "</style>\n",
       "<table border=\"1\" class=\"dataframe\">\n",
       "  <thead>\n",
       "    <tr style=\"text-align: right;\">\n",
       "      <th></th>\n",
       "      <th>feature</th>\n",
       "      <th>score</th>\n",
       "      <th>description</th>\n",
       "      <th>tool</th>\n",
       "    </tr>\n",
       "  </thead>\n",
       "  <tbody>\n",
       "    <tr>\n",
       "      <th>14</th>\n",
       "      <td>comp_valid_licenses</td>\n",
       "      <td>0.00</td>\n",
       "      <td>0/229 components with valid license</td>\n",
       "      <td>Microsoft.SBOMTool</td>\n",
       "    </tr>\n",
       "    <tr>\n",
       "      <th>15</th>\n",
       "      <td>comp_with_primary_purpose</td>\n",
       "      <td>0.00</td>\n",
       "      <td>0/229 components have primary purpose specified</td>\n",
       "      <td>Microsoft.SBOMTool</td>\n",
       "    </tr>\n",
       "    <tr>\n",
       "      <th>16</th>\n",
       "      <td>comp_with_deprecated_licenses</td>\n",
       "      <td>0.00</td>\n",
       "      <td>no licenses found</td>\n",
       "      <td>Microsoft.SBOMTool</td>\n",
       "    </tr>\n",
       "    <tr>\n",
       "      <th>17</th>\n",
       "      <td>comp_with_restrictive_licenses</td>\n",
       "      <td>0.00</td>\n",
       "      <td>no licenses found</td>\n",
       "      <td>Microsoft.SBOMTool</td>\n",
       "    </tr>\n",
       "    <tr>\n",
       "      <th>18</th>\n",
       "      <td>comp_with_any_vuln_lookup_id</td>\n",
       "      <td>9.96</td>\n",
       "      <td>228/229 components have any lookup id</td>\n",
       "      <td>Microsoft.SBOMTool</td>\n",
       "    </tr>\n",
       "    <tr>\n",
       "      <th>19</th>\n",
       "      <td>comp_with_multi_vuln_lookup_id</td>\n",
       "      <td>0.00</td>\n",
       "      <td>0/229 components have multiple lookup id</td>\n",
       "      <td>Microsoft.SBOMTool</td>\n",
       "    </tr>\n",
       "    <tr>\n",
       "      <th>20</th>\n",
       "      <td>sbom_with_creator_and_version</td>\n",
       "      <td>10.00</td>\n",
       "      <td>1/1 tools have creator and version</td>\n",
       "      <td>Microsoft.SBOMTool</td>\n",
       "    </tr>\n",
       "  </tbody>\n",
       "</table>\n",
       "</div>"
      ],
      "text/plain": [
       "                           feature  score  \\\n",
       "14             comp_valid_licenses   0.00   \n",
       "15       comp_with_primary_purpose   0.00   \n",
       "16   comp_with_deprecated_licenses   0.00   \n",
       "17  comp_with_restrictive_licenses   0.00   \n",
       "18    comp_with_any_vuln_lookup_id   9.96   \n",
       "19  comp_with_multi_vuln_lookup_id   0.00   \n",
       "20   sbom_with_creator_and_version  10.00   \n",
       "\n",
       "                                        description                tool  \n",
       "14             0/229 components with valid license   Microsoft.SBOMTool  \n",
       "15  0/229 components have primary purpose specified  Microsoft.SBOMTool  \n",
       "16                                no licenses found  Microsoft.SBOMTool  \n",
       "17                                no licenses found  Microsoft.SBOMTool  \n",
       "18            228/229 components have any lookup id  Microsoft.SBOMTool  \n",
       "19         0/229 components have multiple lookup id  Microsoft.SBOMTool  \n",
       "20               1/1 tools have creator and version  Microsoft.SBOMTool  "
      ]
     },
     "metadata": {},
     "output_type": "display_data"
    },
    {
     "data": {
      "text/html": [
       "<hr>"
      ],
      "text/plain": [
       "<IPython.core.display.HTML object>"
      ]
     },
     "metadata": {},
     "output_type": "display_data"
    },
    {
     "data": {
      "text/html": [
       "<h3>Category: Sharing (avg score: 10.00)"
      ],
      "text/plain": [
       "<IPython.core.display.HTML object>"
      ]
     },
     "metadata": {},
     "output_type": "display_data"
    },
    {
     "data": {
      "text/html": [
       "<div>\n",
       "<style scoped>\n",
       "    .dataframe tbody tr th:only-of-type {\n",
       "        vertical-align: middle;\n",
       "    }\n",
       "\n",
       "    .dataframe tbody tr th {\n",
       "        vertical-align: top;\n",
       "    }\n",
       "\n",
       "    .dataframe thead th {\n",
       "        text-align: right;\n",
       "    }\n",
       "</style>\n",
       "<table border=\"1\" class=\"dataframe\">\n",
       "  <thead>\n",
       "    <tr style=\"text-align: right;\">\n",
       "      <th></th>\n",
       "      <th>feature</th>\n",
       "      <th>score</th>\n",
       "      <th>description</th>\n",
       "      <th>tool</th>\n",
       "    </tr>\n",
       "  </thead>\n",
       "  <tbody>\n",
       "    <tr>\n",
       "      <th>21</th>\n",
       "      <td>sbom_sharable</td>\n",
       "      <td>10.0</td>\n",
       "      <td>doc has a sharable license free 1 :: of 1</td>\n",
       "      <td>Microsoft.SBOMTool</td>\n",
       "    </tr>\n",
       "  </tbody>\n",
       "</table>\n",
       "</div>"
      ],
      "text/plain": [
       "          feature  score                                description  \\\n",
       "21  sbom_sharable   10.0  doc has a sharable license free 1 :: of 1   \n",
       "\n",
       "                  tool  \n",
       "21  Microsoft.SBOMTool  "
      ]
     },
     "metadata": {},
     "output_type": "display_data"
    },
    {
     "data": {
      "text/html": [
       "<hr>"
      ],
      "text/plain": [
       "<IPython.core.display.HTML object>"
      ]
     },
     "metadata": {},
     "output_type": "display_data"
    },
    {
     "data": {
      "text/html": [
       "<h2>Tool: bom (avg score: 7.27)</h2>"
      ],
      "text/plain": [
       "<IPython.core.display.HTML object>"
      ]
     },
     "metadata": {},
     "output_type": "display_data"
    },
    {
     "data": {
      "text/html": [
       "<h3>Category: Structural (avg score: 10.00)"
      ],
      "text/plain": [
       "<IPython.core.display.HTML object>"
      ]
     },
     "metadata": {},
     "output_type": "display_data"
    },
    {
     "data": {
      "text/html": [
       "<div>\n",
       "<style scoped>\n",
       "    .dataframe tbody tr th:only-of-type {\n",
       "        vertical-align: middle;\n",
       "    }\n",
       "\n",
       "    .dataframe tbody tr th {\n",
       "        vertical-align: top;\n",
       "    }\n",
       "\n",
       "    .dataframe thead th {\n",
       "        text-align: right;\n",
       "    }\n",
       "</style>\n",
       "<table border=\"1\" class=\"dataframe\">\n",
       "  <thead>\n",
       "    <tr style=\"text-align: right;\">\n",
       "      <th></th>\n",
       "      <th>feature</th>\n",
       "      <th>score</th>\n",
       "      <th>description</th>\n",
       "      <th>tool</th>\n",
       "    </tr>\n",
       "  </thead>\n",
       "  <tbody>\n",
       "    <tr>\n",
       "      <th>0</th>\n",
       "      <td>sbom_spec</td>\n",
       "      <td>10.0</td>\n",
       "      <td>provided sbom is in a supported sbom format of...</td>\n",
       "      <td>bom</td>\n",
       "    </tr>\n",
       "    <tr>\n",
       "      <th>1</th>\n",
       "      <td>sbom_spec_version</td>\n",
       "      <td>10.0</td>\n",
       "      <td>provided sbom should be in supported spec vers...</td>\n",
       "      <td>bom</td>\n",
       "    </tr>\n",
       "    <tr>\n",
       "      <th>2</th>\n",
       "      <td>sbom_spec_file_format</td>\n",
       "      <td>10.0</td>\n",
       "      <td>provided sbom should be in supported file form...</td>\n",
       "      <td>bom</td>\n",
       "    </tr>\n",
       "    <tr>\n",
       "      <th>3</th>\n",
       "      <td>sbom_parsable</td>\n",
       "      <td>10.0</td>\n",
       "      <td>provided sbom is parsable</td>\n",
       "      <td>bom</td>\n",
       "    </tr>\n",
       "  </tbody>\n",
       "</table>\n",
       "</div>"
      ],
      "text/plain": [
       "                 feature  score  \\\n",
       "0              sbom_spec   10.0   \n",
       "1      sbom_spec_version   10.0   \n",
       "2  sbom_spec_file_format   10.0   \n",
       "3          sbom_parsable   10.0   \n",
       "\n",
       "                                         description tool  \n",
       "0  provided sbom is in a supported sbom format of...  bom  \n",
       "1  provided sbom should be in supported spec vers...  bom  \n",
       "2  provided sbom should be in supported file form...  bom  \n",
       "3                          provided sbom is parsable  bom  "
      ]
     },
     "metadata": {},
     "output_type": "display_data"
    },
    {
     "data": {
      "text/html": [
       "<hr>"
      ],
      "text/plain": [
       "<IPython.core.display.HTML object>"
      ]
     },
     "metadata": {},
     "output_type": "display_data"
    },
    {
     "data": {
      "text/html": [
       "<h3>Category: NTIA-minimum-elements (avg score: 7.14)"
      ],
      "text/plain": [
       "<IPython.core.display.HTML object>"
      ]
     },
     "metadata": {},
     "output_type": "display_data"
    },
    {
     "data": {
      "text/html": [
       "<div>\n",
       "<style scoped>\n",
       "    .dataframe tbody tr th:only-of-type {\n",
       "        vertical-align: middle;\n",
       "    }\n",
       "\n",
       "    .dataframe tbody tr th {\n",
       "        vertical-align: top;\n",
       "    }\n",
       "\n",
       "    .dataframe thead th {\n",
       "        text-align: right;\n",
       "    }\n",
       "</style>\n",
       "<table border=\"1\" class=\"dataframe\">\n",
       "  <thead>\n",
       "    <tr style=\"text-align: right;\">\n",
       "      <th></th>\n",
       "      <th>feature</th>\n",
       "      <th>score</th>\n",
       "      <th>description</th>\n",
       "      <th>tool</th>\n",
       "    </tr>\n",
       "  </thead>\n",
       "  <tbody>\n",
       "    <tr>\n",
       "      <th>4</th>\n",
       "      <td>comp_with_supplier</td>\n",
       "      <td>0.0</td>\n",
       "      <td>0/1 have supplier names</td>\n",
       "      <td>bom</td>\n",
       "    </tr>\n",
       "    <tr>\n",
       "      <th>5</th>\n",
       "      <td>comp_with_name</td>\n",
       "      <td>10.0</td>\n",
       "      <td>1/1 have names</td>\n",
       "      <td>bom</td>\n",
       "    </tr>\n",
       "    <tr>\n",
       "      <th>6</th>\n",
       "      <td>comp_with_version</td>\n",
       "      <td>0.0</td>\n",
       "      <td>0/1 have versions</td>\n",
       "      <td>bom</td>\n",
       "    </tr>\n",
       "    <tr>\n",
       "      <th>7</th>\n",
       "      <td>comp_with_uniq_ids</td>\n",
       "      <td>10.0</td>\n",
       "      <td>1/1 have unique ID's</td>\n",
       "      <td>bom</td>\n",
       "    </tr>\n",
       "    <tr>\n",
       "      <th>8</th>\n",
       "      <td>sbom_dependencies</td>\n",
       "      <td>10.0</td>\n",
       "      <td>doc has 12068 relationships</td>\n",
       "      <td>bom</td>\n",
       "    </tr>\n",
       "    <tr>\n",
       "      <th>9</th>\n",
       "      <td>sbom_authors</td>\n",
       "      <td>10.0</td>\n",
       "      <td>doc has 1 authors</td>\n",
       "      <td>bom</td>\n",
       "    </tr>\n",
       "    <tr>\n",
       "      <th>10</th>\n",
       "      <td>sbom_creation_timestamp</td>\n",
       "      <td>10.0</td>\n",
       "      <td>doc has creation timestamp</td>\n",
       "      <td>bom</td>\n",
       "    </tr>\n",
       "  </tbody>\n",
       "</table>\n",
       "</div>"
      ],
      "text/plain": [
       "                    feature  score                   description tool\n",
       "4        comp_with_supplier    0.0       0/1 have supplier names  bom\n",
       "5            comp_with_name   10.0                1/1 have names  bom\n",
       "6         comp_with_version    0.0             0/1 have versions  bom\n",
       "7        comp_with_uniq_ids   10.0          1/1 have unique ID's  bom\n",
       "8         sbom_dependencies   10.0  doc has 12068 relationships   bom\n",
       "9              sbom_authors   10.0             doc has 1 authors  bom\n",
       "10  sbom_creation_timestamp   10.0    doc has creation timestamp  bom"
      ]
     },
     "metadata": {},
     "output_type": "display_data"
    },
    {
     "data": {
      "text/html": [
       "<hr>"
      ],
      "text/plain": [
       "<IPython.core.display.HTML object>"
      ]
     },
     "metadata": {},
     "output_type": "display_data"
    },
    {
     "data": {
      "text/html": [
       "<h3>Category: Semantic (avg score: 6.67)"
      ],
      "text/plain": [
       "<IPython.core.display.HTML object>"
      ]
     },
     "metadata": {},
     "output_type": "display_data"
    },
    {
     "data": {
      "text/html": [
       "<div>\n",
       "<style scoped>\n",
       "    .dataframe tbody tr th:only-of-type {\n",
       "        vertical-align: middle;\n",
       "    }\n",
       "\n",
       "    .dataframe tbody tr th {\n",
       "        vertical-align: top;\n",
       "    }\n",
       "\n",
       "    .dataframe thead th {\n",
       "        text-align: right;\n",
       "    }\n",
       "</style>\n",
       "<table border=\"1\" class=\"dataframe\">\n",
       "  <thead>\n",
       "    <tr style=\"text-align: right;\">\n",
       "      <th></th>\n",
       "      <th>feature</th>\n",
       "      <th>score</th>\n",
       "      <th>description</th>\n",
       "      <th>tool</th>\n",
       "    </tr>\n",
       "  </thead>\n",
       "  <tbody>\n",
       "    <tr>\n",
       "      <th>11</th>\n",
       "      <td>sbom_required_fields</td>\n",
       "      <td>10.0</td>\n",
       "      <td>Doc Fields:true Pkg Fields:true</td>\n",
       "      <td>bom</td>\n",
       "    </tr>\n",
       "    <tr>\n",
       "      <th>12</th>\n",
       "      <td>comp_with_licenses</td>\n",
       "      <td>10.0</td>\n",
       "      <td>1/1 have licenses</td>\n",
       "      <td>bom</td>\n",
       "    </tr>\n",
       "    <tr>\n",
       "      <th>13</th>\n",
       "      <td>comp_with_checksums</td>\n",
       "      <td>0.0</td>\n",
       "      <td>0/1 have checksums</td>\n",
       "      <td>bom</td>\n",
       "    </tr>\n",
       "  </tbody>\n",
       "</table>\n",
       "</div>"
      ],
      "text/plain": [
       "                 feature  score                      description tool\n",
       "11  sbom_required_fields   10.0  Doc Fields:true Pkg Fields:true  bom\n",
       "12    comp_with_licenses   10.0                1/1 have licenses  bom\n",
       "13   comp_with_checksums    0.0               0/1 have checksums  bom"
      ]
     },
     "metadata": {},
     "output_type": "display_data"
    },
    {
     "data": {
      "text/html": [
       "<hr>"
      ],
      "text/plain": [
       "<IPython.core.display.HTML object>"
      ]
     },
     "metadata": {},
     "output_type": "display_data"
    },
    {
     "data": {
      "text/html": [
       "<h3>Category: Quality (avg score: 5.71)"
      ],
      "text/plain": [
       "<IPython.core.display.HTML object>"
      ]
     },
     "metadata": {},
     "output_type": "display_data"
    },
    {
     "data": {
      "text/html": [
       "<div>\n",
       "<style scoped>\n",
       "    .dataframe tbody tr th:only-of-type {\n",
       "        vertical-align: middle;\n",
       "    }\n",
       "\n",
       "    .dataframe tbody tr th {\n",
       "        vertical-align: top;\n",
       "    }\n",
       "\n",
       "    .dataframe thead th {\n",
       "        text-align: right;\n",
       "    }\n",
       "</style>\n",
       "<table border=\"1\" class=\"dataframe\">\n",
       "  <thead>\n",
       "    <tr style=\"text-align: right;\">\n",
       "      <th></th>\n",
       "      <th>feature</th>\n",
       "      <th>score</th>\n",
       "      <th>description</th>\n",
       "      <th>tool</th>\n",
       "    </tr>\n",
       "  </thead>\n",
       "  <tbody>\n",
       "    <tr>\n",
       "      <th>14</th>\n",
       "      <td>comp_valid_licenses</td>\n",
       "      <td>10.0</td>\n",
       "      <td>1/1 components with valid license</td>\n",
       "      <td>bom</td>\n",
       "    </tr>\n",
       "    <tr>\n",
       "      <th>15</th>\n",
       "      <td>comp_with_primary_purpose</td>\n",
       "      <td>0.0</td>\n",
       "      <td>0/1 components have primary purpose specified</td>\n",
       "      <td>bom</td>\n",
       "    </tr>\n",
       "    <tr>\n",
       "      <th>16</th>\n",
       "      <td>comp_with_deprecated_licenses</td>\n",
       "      <td>10.0</td>\n",
       "      <td>0/1 components have deprecated licenses</td>\n",
       "      <td>bom</td>\n",
       "    </tr>\n",
       "    <tr>\n",
       "      <th>17</th>\n",
       "      <td>comp_with_restrictive_licenses</td>\n",
       "      <td>10.0</td>\n",
       "      <td>0/1 components have restricted licenses</td>\n",
       "      <td>bom</td>\n",
       "    </tr>\n",
       "    <tr>\n",
       "      <th>18</th>\n",
       "      <td>comp_with_any_vuln_lookup_id</td>\n",
       "      <td>0.0</td>\n",
       "      <td>0/1 components have any lookup id</td>\n",
       "      <td>bom</td>\n",
       "    </tr>\n",
       "    <tr>\n",
       "      <th>19</th>\n",
       "      <td>comp_with_multi_vuln_lookup_id</td>\n",
       "      <td>0.0</td>\n",
       "      <td>0/1 components have multiple lookup id</td>\n",
       "      <td>bom</td>\n",
       "    </tr>\n",
       "    <tr>\n",
       "      <th>20</th>\n",
       "      <td>sbom_with_creator_and_version</td>\n",
       "      <td>10.0</td>\n",
       "      <td>1/1 tools have creator and version</td>\n",
       "      <td>bom</td>\n",
       "    </tr>\n",
       "  </tbody>\n",
       "</table>\n",
       "</div>"
      ],
      "text/plain": [
       "                           feature  score  \\\n",
       "14             comp_valid_licenses   10.0   \n",
       "15       comp_with_primary_purpose    0.0   \n",
       "16   comp_with_deprecated_licenses   10.0   \n",
       "17  comp_with_restrictive_licenses   10.0   \n",
       "18    comp_with_any_vuln_lookup_id    0.0   \n",
       "19  comp_with_multi_vuln_lookup_id    0.0   \n",
       "20   sbom_with_creator_and_version   10.0   \n",
       "\n",
       "                                      description tool  \n",
       "14             1/1 components with valid license   bom  \n",
       "15  0/1 components have primary purpose specified  bom  \n",
       "16        0/1 components have deprecated licenses  bom  \n",
       "17        0/1 components have restricted licenses  bom  \n",
       "18              0/1 components have any lookup id  bom  \n",
       "19         0/1 components have multiple lookup id  bom  \n",
       "20             1/1 tools have creator and version  bom  "
      ]
     },
     "metadata": {},
     "output_type": "display_data"
    },
    {
     "data": {
      "text/html": [
       "<hr>"
      ],
      "text/plain": [
       "<IPython.core.display.HTML object>"
      ]
     },
     "metadata": {},
     "output_type": "display_data"
    },
    {
     "data": {
      "text/html": [
       "<h3>Category: Sharing (avg score: 10.00)"
      ],
      "text/plain": [
       "<IPython.core.display.HTML object>"
      ]
     },
     "metadata": {},
     "output_type": "display_data"
    },
    {
     "data": {
      "text/html": [
       "<div>\n",
       "<style scoped>\n",
       "    .dataframe tbody tr th:only-of-type {\n",
       "        vertical-align: middle;\n",
       "    }\n",
       "\n",
       "    .dataframe tbody tr th {\n",
       "        vertical-align: top;\n",
       "    }\n",
       "\n",
       "    .dataframe thead th {\n",
       "        text-align: right;\n",
       "    }\n",
       "</style>\n",
       "<table border=\"1\" class=\"dataframe\">\n",
       "  <thead>\n",
       "    <tr style=\"text-align: right;\">\n",
       "      <th></th>\n",
       "      <th>feature</th>\n",
       "      <th>score</th>\n",
       "      <th>description</th>\n",
       "      <th>tool</th>\n",
       "    </tr>\n",
       "  </thead>\n",
       "  <tbody>\n",
       "    <tr>\n",
       "      <th>21</th>\n",
       "      <td>sbom_sharable</td>\n",
       "      <td>10.0</td>\n",
       "      <td>doc has a sharable license free 1 :: of 1</td>\n",
       "      <td>bom</td>\n",
       "    </tr>\n",
       "  </tbody>\n",
       "</table>\n",
       "</div>"
      ],
      "text/plain": [
       "          feature  score                                description tool\n",
       "21  sbom_sharable   10.0  doc has a sharable license free 1 :: of 1  bom"
      ]
     },
     "metadata": {},
     "output_type": "display_data"
    },
    {
     "data": {
      "text/html": [
       "<hr>"
      ],
      "text/plain": [
       "<IPython.core.display.HTML object>"
      ]
     },
     "metadata": {},
     "output_type": "display_data"
    },
    {
     "data": {
      "text/html": [
       "<h2>Tool: cdxgen (avg score: 7.42)</h2>"
      ],
      "text/plain": [
       "<IPython.core.display.HTML object>"
      ]
     },
     "metadata": {},
     "output_type": "display_data"
    },
    {
     "data": {
      "text/html": [
       "<h3>Category: Structural (avg score: 10.00)"
      ],
      "text/plain": [
       "<IPython.core.display.HTML object>"
      ]
     },
     "metadata": {},
     "output_type": "display_data"
    },
    {
     "data": {
      "text/html": [
       "<div>\n",
       "<style scoped>\n",
       "    .dataframe tbody tr th:only-of-type {\n",
       "        vertical-align: middle;\n",
       "    }\n",
       "\n",
       "    .dataframe tbody tr th {\n",
       "        vertical-align: top;\n",
       "    }\n",
       "\n",
       "    .dataframe thead th {\n",
       "        text-align: right;\n",
       "    }\n",
       "</style>\n",
       "<table border=\"1\" class=\"dataframe\">\n",
       "  <thead>\n",
       "    <tr style=\"text-align: right;\">\n",
       "      <th></th>\n",
       "      <th>feature</th>\n",
       "      <th>score</th>\n",
       "      <th>description</th>\n",
       "      <th>tool</th>\n",
       "    </tr>\n",
       "  </thead>\n",
       "  <tbody>\n",
       "    <tr>\n",
       "      <th>0</th>\n",
       "      <td>sbom_spec</td>\n",
       "      <td>10.0</td>\n",
       "      <td>provided sbom is in a supported sbom format of...</td>\n",
       "      <td>cdxgen</td>\n",
       "    </tr>\n",
       "    <tr>\n",
       "      <th>1</th>\n",
       "      <td>sbom_spec_version</td>\n",
       "      <td>10.0</td>\n",
       "      <td>provided sbom should be in supported spec vers...</td>\n",
       "      <td>cdxgen</td>\n",
       "    </tr>\n",
       "    <tr>\n",
       "      <th>2</th>\n",
       "      <td>sbom_spec_file_format</td>\n",
       "      <td>10.0</td>\n",
       "      <td>provided sbom should be in supported file form...</td>\n",
       "      <td>cdxgen</td>\n",
       "    </tr>\n",
       "    <tr>\n",
       "      <th>3</th>\n",
       "      <td>sbom_parsable</td>\n",
       "      <td>10.0</td>\n",
       "      <td>provided sbom is parsable</td>\n",
       "      <td>cdxgen</td>\n",
       "    </tr>\n",
       "  </tbody>\n",
       "</table>\n",
       "</div>"
      ],
      "text/plain": [
       "                 feature  score  \\\n",
       "0              sbom_spec   10.0   \n",
       "1      sbom_spec_version   10.0   \n",
       "2  sbom_spec_file_format   10.0   \n",
       "3          sbom_parsable   10.0   \n",
       "\n",
       "                                         description    tool  \n",
       "0  provided sbom is in a supported sbom format of...  cdxgen  \n",
       "1  provided sbom should be in supported spec vers...  cdxgen  \n",
       "2  provided sbom should be in supported file form...  cdxgen  \n",
       "3                          provided sbom is parsable  cdxgen  "
      ]
     },
     "metadata": {},
     "output_type": "display_data"
    },
    {
     "data": {
      "text/html": [
       "<hr>"
      ],
      "text/plain": [
       "<IPython.core.display.HTML object>"
      ]
     },
     "metadata": {},
     "output_type": "display_data"
    },
    {
     "data": {
      "text/html": [
       "<h3>Category: NTIA-minimum-elements (avg score: 7.14)"
      ],
      "text/plain": [
       "<IPython.core.display.HTML object>"
      ]
     },
     "metadata": {},
     "output_type": "display_data"
    },
    {
     "data": {
      "text/html": [
       "<div>\n",
       "<style scoped>\n",
       "    .dataframe tbody tr th:only-of-type {\n",
       "        vertical-align: middle;\n",
       "    }\n",
       "\n",
       "    .dataframe tbody tr th {\n",
       "        vertical-align: top;\n",
       "    }\n",
       "\n",
       "    .dataframe thead th {\n",
       "        text-align: right;\n",
       "    }\n",
       "</style>\n",
       "<table border=\"1\" class=\"dataframe\">\n",
       "  <thead>\n",
       "    <tr style=\"text-align: right;\">\n",
       "      <th></th>\n",
       "      <th>feature</th>\n",
       "      <th>score</th>\n",
       "      <th>description</th>\n",
       "      <th>tool</th>\n",
       "    </tr>\n",
       "  </thead>\n",
       "  <tbody>\n",
       "    <tr>\n",
       "      <th>4</th>\n",
       "      <td>comp_with_supplier</td>\n",
       "      <td>0.0</td>\n",
       "      <td>0/24 have supplier names</td>\n",
       "      <td>cdxgen</td>\n",
       "    </tr>\n",
       "    <tr>\n",
       "      <th>5</th>\n",
       "      <td>comp_with_name</td>\n",
       "      <td>10.0</td>\n",
       "      <td>24/24 have names</td>\n",
       "      <td>cdxgen</td>\n",
       "    </tr>\n",
       "    <tr>\n",
       "      <th>6</th>\n",
       "      <td>comp_with_version</td>\n",
       "      <td>10.0</td>\n",
       "      <td>24/24 have versions</td>\n",
       "      <td>cdxgen</td>\n",
       "    </tr>\n",
       "    <tr>\n",
       "      <th>7</th>\n",
       "      <td>comp_with_uniq_ids</td>\n",
       "      <td>10.0</td>\n",
       "      <td>24/24 have unique ID's</td>\n",
       "      <td>cdxgen</td>\n",
       "    </tr>\n",
       "    <tr>\n",
       "      <th>8</th>\n",
       "      <td>sbom_dependencies</td>\n",
       "      <td>0.0</td>\n",
       "      <td>doc has 0 relationships</td>\n",
       "      <td>cdxgen</td>\n",
       "    </tr>\n",
       "    <tr>\n",
       "      <th>9</th>\n",
       "      <td>sbom_authors</td>\n",
       "      <td>10.0</td>\n",
       "      <td>doc has 2 authors</td>\n",
       "      <td>cdxgen</td>\n",
       "    </tr>\n",
       "    <tr>\n",
       "      <th>10</th>\n",
       "      <td>sbom_creation_timestamp</td>\n",
       "      <td>10.0</td>\n",
       "      <td>doc has creation timestamp</td>\n",
       "      <td>cdxgen</td>\n",
       "    </tr>\n",
       "  </tbody>\n",
       "</table>\n",
       "</div>"
      ],
      "text/plain": [
       "                    feature  score                 description    tool\n",
       "4        comp_with_supplier    0.0    0/24 have supplier names  cdxgen\n",
       "5            comp_with_name   10.0            24/24 have names  cdxgen\n",
       "6         comp_with_version   10.0         24/24 have versions  cdxgen\n",
       "7        comp_with_uniq_ids   10.0      24/24 have unique ID's  cdxgen\n",
       "8         sbom_dependencies    0.0    doc has 0 relationships   cdxgen\n",
       "9              sbom_authors   10.0           doc has 2 authors  cdxgen\n",
       "10  sbom_creation_timestamp   10.0  doc has creation timestamp  cdxgen"
      ]
     },
     "metadata": {},
     "output_type": "display_data"
    },
    {
     "data": {
      "text/html": [
       "<hr>"
      ],
      "text/plain": [
       "<IPython.core.display.HTML object>"
      ]
     },
     "metadata": {},
     "output_type": "display_data"
    },
    {
     "data": {
      "text/html": [
       "<h3>Category: Semantic (avg score: 8.89)"
      ],
      "text/plain": [
       "<IPython.core.display.HTML object>"
      ]
     },
     "metadata": {},
     "output_type": "display_data"
    },
    {
     "data": {
      "text/html": [
       "<div>\n",
       "<style scoped>\n",
       "    .dataframe tbody tr th:only-of-type {\n",
       "        vertical-align: middle;\n",
       "    }\n",
       "\n",
       "    .dataframe tbody tr th {\n",
       "        vertical-align: top;\n",
       "    }\n",
       "\n",
       "    .dataframe thead th {\n",
       "        text-align: right;\n",
       "    }\n",
       "</style>\n",
       "<table border=\"1\" class=\"dataframe\">\n",
       "  <thead>\n",
       "    <tr style=\"text-align: right;\">\n",
       "      <th></th>\n",
       "      <th>feature</th>\n",
       "      <th>score</th>\n",
       "      <th>description</th>\n",
       "      <th>tool</th>\n",
       "    </tr>\n",
       "  </thead>\n",
       "  <tbody>\n",
       "    <tr>\n",
       "      <th>11</th>\n",
       "      <td>sbom_required_fields</td>\n",
       "      <td>10.00</td>\n",
       "      <td>Doc Fields:true Pkg Fields:true</td>\n",
       "      <td>cdxgen</td>\n",
       "    </tr>\n",
       "    <tr>\n",
       "      <th>12</th>\n",
       "      <td>comp_with_licenses</td>\n",
       "      <td>6.67</td>\n",
       "      <td>16/24 have licenses</td>\n",
       "      <td>cdxgen</td>\n",
       "    </tr>\n",
       "    <tr>\n",
       "      <th>13</th>\n",
       "      <td>comp_with_checksums</td>\n",
       "      <td>10.00</td>\n",
       "      <td>24/24 have checksums</td>\n",
       "      <td>cdxgen</td>\n",
       "    </tr>\n",
       "  </tbody>\n",
       "</table>\n",
       "</div>"
      ],
      "text/plain": [
       "                 feature  score                      description    tool\n",
       "11  sbom_required_fields  10.00  Doc Fields:true Pkg Fields:true  cdxgen\n",
       "12    comp_with_licenses   6.67              16/24 have licenses  cdxgen\n",
       "13   comp_with_checksums  10.00             24/24 have checksums  cdxgen"
      ]
     },
     "metadata": {},
     "output_type": "display_data"
    },
    {
     "data": {
      "text/html": [
       "<hr>"
      ],
      "text/plain": [
       "<IPython.core.display.HTML object>"
      ]
     },
     "metadata": {},
     "output_type": "display_data"
    },
    {
     "data": {
      "text/html": [
       "<h3>Category: Quality (avg score: 5.24)"
      ],
      "text/plain": [
       "<IPython.core.display.HTML object>"
      ]
     },
     "metadata": {},
     "output_type": "display_data"
    },
    {
     "data": {
      "text/html": [
       "<div>\n",
       "<style scoped>\n",
       "    .dataframe tbody tr th:only-of-type {\n",
       "        vertical-align: middle;\n",
       "    }\n",
       "\n",
       "    .dataframe tbody tr th {\n",
       "        vertical-align: top;\n",
       "    }\n",
       "\n",
       "    .dataframe thead th {\n",
       "        text-align: right;\n",
       "    }\n",
       "</style>\n",
       "<table border=\"1\" class=\"dataframe\">\n",
       "  <thead>\n",
       "    <tr style=\"text-align: right;\">\n",
       "      <th></th>\n",
       "      <th>feature</th>\n",
       "      <th>score</th>\n",
       "      <th>description</th>\n",
       "      <th>tool</th>\n",
       "    </tr>\n",
       "  </thead>\n",
       "  <tbody>\n",
       "    <tr>\n",
       "      <th>14</th>\n",
       "      <td>comp_valid_licenses</td>\n",
       "      <td>6.67</td>\n",
       "      <td>16/24 components with valid license</td>\n",
       "      <td>cdxgen</td>\n",
       "    </tr>\n",
       "    <tr>\n",
       "      <th>15</th>\n",
       "      <td>comp_with_primary_purpose</td>\n",
       "      <td>0.00</td>\n",
       "      <td>0/24 components have primary purpose specified</td>\n",
       "      <td>cdxgen</td>\n",
       "    </tr>\n",
       "    <tr>\n",
       "      <th>16</th>\n",
       "      <td>comp_with_deprecated_licenses</td>\n",
       "      <td>10.00</td>\n",
       "      <td>0/24 components have deprecated licenses</td>\n",
       "      <td>cdxgen</td>\n",
       "    </tr>\n",
       "    <tr>\n",
       "      <th>17</th>\n",
       "      <td>comp_with_restrictive_licenses</td>\n",
       "      <td>10.00</td>\n",
       "      <td>0/24 components have restricted licenses</td>\n",
       "      <td>cdxgen</td>\n",
       "    </tr>\n",
       "    <tr>\n",
       "      <th>18</th>\n",
       "      <td>comp_with_any_vuln_lookup_id</td>\n",
       "      <td>0.00</td>\n",
       "      <td>0/24 components have any lookup id</td>\n",
       "      <td>cdxgen</td>\n",
       "    </tr>\n",
       "    <tr>\n",
       "      <th>19</th>\n",
       "      <td>comp_with_multi_vuln_lookup_id</td>\n",
       "      <td>0.00</td>\n",
       "      <td>0/24 components have multiple lookup id</td>\n",
       "      <td>cdxgen</td>\n",
       "    </tr>\n",
       "    <tr>\n",
       "      <th>20</th>\n",
       "      <td>sbom_with_creator_and_version</td>\n",
       "      <td>10.00</td>\n",
       "      <td>1/1 tools have creator and version</td>\n",
       "      <td>cdxgen</td>\n",
       "    </tr>\n",
       "  </tbody>\n",
       "</table>\n",
       "</div>"
      ],
      "text/plain": [
       "                           feature  score  \\\n",
       "14             comp_valid_licenses   6.67   \n",
       "15       comp_with_primary_purpose   0.00   \n",
       "16   comp_with_deprecated_licenses  10.00   \n",
       "17  comp_with_restrictive_licenses  10.00   \n",
       "18    comp_with_any_vuln_lookup_id   0.00   \n",
       "19  comp_with_multi_vuln_lookup_id   0.00   \n",
       "20   sbom_with_creator_and_version  10.00   \n",
       "\n",
       "                                       description    tool  \n",
       "14            16/24 components with valid license   cdxgen  \n",
       "15  0/24 components have primary purpose specified  cdxgen  \n",
       "16        0/24 components have deprecated licenses  cdxgen  \n",
       "17        0/24 components have restricted licenses  cdxgen  \n",
       "18              0/24 components have any lookup id  cdxgen  \n",
       "19         0/24 components have multiple lookup id  cdxgen  \n",
       "20              1/1 tools have creator and version  cdxgen  "
      ]
     },
     "metadata": {},
     "output_type": "display_data"
    },
    {
     "data": {
      "text/html": [
       "<hr>"
      ],
      "text/plain": [
       "<IPython.core.display.HTML object>"
      ]
     },
     "metadata": {},
     "output_type": "display_data"
    },
    {
     "data": {
      "text/html": [
       "<h3>Category: Sharing (avg score: 10.00)"
      ],
      "text/plain": [
       "<IPython.core.display.HTML object>"
      ]
     },
     "metadata": {},
     "output_type": "display_data"
    },
    {
     "data": {
      "text/html": [
       "<div>\n",
       "<style scoped>\n",
       "    .dataframe tbody tr th:only-of-type {\n",
       "        vertical-align: middle;\n",
       "    }\n",
       "\n",
       "    .dataframe tbody tr th {\n",
       "        vertical-align: top;\n",
       "    }\n",
       "\n",
       "    .dataframe thead th {\n",
       "        text-align: right;\n",
       "    }\n",
       "</style>\n",
       "<table border=\"1\" class=\"dataframe\">\n",
       "  <thead>\n",
       "    <tr style=\"text-align: right;\">\n",
       "      <th></th>\n",
       "      <th>feature</th>\n",
       "      <th>score</th>\n",
       "      <th>description</th>\n",
       "      <th>tool</th>\n",
       "    </tr>\n",
       "  </thead>\n",
       "  <tbody>\n",
       "    <tr>\n",
       "      <th>21</th>\n",
       "      <td>sbom_sharable</td>\n",
       "      <td>10.0</td>\n",
       "      <td>doc has a sharable license free 1 :: of 1</td>\n",
       "      <td>cdxgen</td>\n",
       "    </tr>\n",
       "  </tbody>\n",
       "</table>\n",
       "</div>"
      ],
      "text/plain": [
       "          feature  score                                description    tool\n",
       "21  sbom_sharable   10.0  doc has a sharable license free 1 :: of 1  cdxgen"
      ]
     },
     "metadata": {},
     "output_type": "display_data"
    },
    {
     "data": {
      "text/html": [
       "<hr>"
      ],
      "text/plain": [
       "<IPython.core.display.HTML object>"
      ]
     },
     "metadata": {},
     "output_type": "display_data"
    },
    {
     "data": {
      "text/html": [
       "<h2>Tool: sbom4python (avg score: 3.86)</h2>"
      ],
      "text/plain": [
       "<IPython.core.display.HTML object>"
      ]
     },
     "metadata": {},
     "output_type": "display_data"
    },
    {
     "data": {
      "text/html": [
       "<h3>Category: Structural (avg score: 10.00)"
      ],
      "text/plain": [
       "<IPython.core.display.HTML object>"
      ]
     },
     "metadata": {},
     "output_type": "display_data"
    },
    {
     "data": {
      "text/html": [
       "<div>\n",
       "<style scoped>\n",
       "    .dataframe tbody tr th:only-of-type {\n",
       "        vertical-align: middle;\n",
       "    }\n",
       "\n",
       "    .dataframe tbody tr th {\n",
       "        vertical-align: top;\n",
       "    }\n",
       "\n",
       "    .dataframe thead th {\n",
       "        text-align: right;\n",
       "    }\n",
       "</style>\n",
       "<table border=\"1\" class=\"dataframe\">\n",
       "  <thead>\n",
       "    <tr style=\"text-align: right;\">\n",
       "      <th></th>\n",
       "      <th>feature</th>\n",
       "      <th>score</th>\n",
       "      <th>description</th>\n",
       "      <th>tool</th>\n",
       "    </tr>\n",
       "  </thead>\n",
       "  <tbody>\n",
       "    <tr>\n",
       "      <th>0</th>\n",
       "      <td>sbom_spec</td>\n",
       "      <td>10.0</td>\n",
       "      <td>provided sbom is in a supported sbom format of...</td>\n",
       "      <td>sbom4python</td>\n",
       "    </tr>\n",
       "    <tr>\n",
       "      <th>1</th>\n",
       "      <td>sbom_spec_version</td>\n",
       "      <td>10.0</td>\n",
       "      <td>provided sbom should be in supported spec vers...</td>\n",
       "      <td>sbom4python</td>\n",
       "    </tr>\n",
       "    <tr>\n",
       "      <th>2</th>\n",
       "      <td>sbom_spec_file_format</td>\n",
       "      <td>10.0</td>\n",
       "      <td>provided sbom should be in supported file form...</td>\n",
       "      <td>sbom4python</td>\n",
       "    </tr>\n",
       "    <tr>\n",
       "      <th>3</th>\n",
       "      <td>sbom_parsable</td>\n",
       "      <td>10.0</td>\n",
       "      <td>provided sbom is parsable</td>\n",
       "      <td>sbom4python</td>\n",
       "    </tr>\n",
       "  </tbody>\n",
       "</table>\n",
       "</div>"
      ],
      "text/plain": [
       "                 feature  score  \\\n",
       "0              sbom_spec   10.0   \n",
       "1      sbom_spec_version   10.0   \n",
       "2  sbom_spec_file_format   10.0   \n",
       "3          sbom_parsable   10.0   \n",
       "\n",
       "                                         description         tool  \n",
       "0  provided sbom is in a supported sbom format of...  sbom4python  \n",
       "1  provided sbom should be in supported spec vers...  sbom4python  \n",
       "2  provided sbom should be in supported file form...  sbom4python  \n",
       "3                          provided sbom is parsable  sbom4python  "
      ]
     },
     "metadata": {},
     "output_type": "display_data"
    },
    {
     "data": {
      "text/html": [
       "<hr>"
      ],
      "text/plain": [
       "<IPython.core.display.HTML object>"
      ]
     },
     "metadata": {},
     "output_type": "display_data"
    },
    {
     "data": {
      "text/html": [
       "<h3>Category: NTIA-minimum-elements (avg score: 2.86)"
      ],
      "text/plain": [
       "<IPython.core.display.HTML object>"
      ]
     },
     "metadata": {},
     "output_type": "display_data"
    },
    {
     "data": {
      "text/html": [
       "<div>\n",
       "<style scoped>\n",
       "    .dataframe tbody tr th:only-of-type {\n",
       "        vertical-align: middle;\n",
       "    }\n",
       "\n",
       "    .dataframe tbody tr th {\n",
       "        vertical-align: top;\n",
       "    }\n",
       "\n",
       "    .dataframe thead th {\n",
       "        text-align: right;\n",
       "    }\n",
       "</style>\n",
       "<table border=\"1\" class=\"dataframe\">\n",
       "  <thead>\n",
       "    <tr style=\"text-align: right;\">\n",
       "      <th></th>\n",
       "      <th>feature</th>\n",
       "      <th>score</th>\n",
       "      <th>description</th>\n",
       "      <th>tool</th>\n",
       "    </tr>\n",
       "  </thead>\n",
       "  <tbody>\n",
       "    <tr>\n",
       "      <th>4</th>\n",
       "      <td>comp_with_supplier</td>\n",
       "      <td>0.0</td>\n",
       "      <td>N/A (no components)</td>\n",
       "      <td>sbom4python</td>\n",
       "    </tr>\n",
       "    <tr>\n",
       "      <th>5</th>\n",
       "      <td>comp_with_name</td>\n",
       "      <td>0.0</td>\n",
       "      <td>N/A (no components)</td>\n",
       "      <td>sbom4python</td>\n",
       "    </tr>\n",
       "    <tr>\n",
       "      <th>6</th>\n",
       "      <td>comp_with_version</td>\n",
       "      <td>0.0</td>\n",
       "      <td>N/A (no components)</td>\n",
       "      <td>sbom4python</td>\n",
       "    </tr>\n",
       "    <tr>\n",
       "      <th>7</th>\n",
       "      <td>comp_with_uniq_ids</td>\n",
       "      <td>0.0</td>\n",
       "      <td>N/A (no components)</td>\n",
       "      <td>sbom4python</td>\n",
       "    </tr>\n",
       "    <tr>\n",
       "      <th>8</th>\n",
       "      <td>sbom_dependencies</td>\n",
       "      <td>0.0</td>\n",
       "      <td>doc has 0 relationships</td>\n",
       "      <td>sbom4python</td>\n",
       "    </tr>\n",
       "    <tr>\n",
       "      <th>9</th>\n",
       "      <td>sbom_authors</td>\n",
       "      <td>10.0</td>\n",
       "      <td>doc has 1 authors</td>\n",
       "      <td>sbom4python</td>\n",
       "    </tr>\n",
       "    <tr>\n",
       "      <th>10</th>\n",
       "      <td>sbom_creation_timestamp</td>\n",
       "      <td>10.0</td>\n",
       "      <td>doc has creation timestamp</td>\n",
       "      <td>sbom4python</td>\n",
       "    </tr>\n",
       "  </tbody>\n",
       "</table>\n",
       "</div>"
      ],
      "text/plain": [
       "                    feature  score                 description         tool\n",
       "4        comp_with_supplier    0.0         N/A (no components)  sbom4python\n",
       "5            comp_with_name    0.0         N/A (no components)  sbom4python\n",
       "6         comp_with_version    0.0         N/A (no components)  sbom4python\n",
       "7        comp_with_uniq_ids    0.0         N/A (no components)  sbom4python\n",
       "8         sbom_dependencies    0.0    doc has 0 relationships   sbom4python\n",
       "9              sbom_authors   10.0           doc has 1 authors  sbom4python\n",
       "10  sbom_creation_timestamp   10.0  doc has creation timestamp  sbom4python"
      ]
     },
     "metadata": {},
     "output_type": "display_data"
    },
    {
     "data": {
      "text/html": [
       "<hr>"
      ],
      "text/plain": [
       "<IPython.core.display.HTML object>"
      ]
     },
     "metadata": {},
     "output_type": "display_data"
    },
    {
     "data": {
      "text/html": [
       "<h3>Category: Semantic (avg score: 1.67)"
      ],
      "text/plain": [
       "<IPython.core.display.HTML object>"
      ]
     },
     "metadata": {},
     "output_type": "display_data"
    },
    {
     "data": {
      "text/html": [
       "<div>\n",
       "<style scoped>\n",
       "    .dataframe tbody tr th:only-of-type {\n",
       "        vertical-align: middle;\n",
       "    }\n",
       "\n",
       "    .dataframe tbody tr th {\n",
       "        vertical-align: top;\n",
       "    }\n",
       "\n",
       "    .dataframe thead th {\n",
       "        text-align: right;\n",
       "    }\n",
       "</style>\n",
       "<table border=\"1\" class=\"dataframe\">\n",
       "  <thead>\n",
       "    <tr style=\"text-align: right;\">\n",
       "      <th></th>\n",
       "      <th>feature</th>\n",
       "      <th>score</th>\n",
       "      <th>description</th>\n",
       "      <th>tool</th>\n",
       "    </tr>\n",
       "  </thead>\n",
       "  <tbody>\n",
       "    <tr>\n",
       "      <th>11</th>\n",
       "      <td>sbom_required_fields</td>\n",
       "      <td>5.0</td>\n",
       "      <td>Doc Fields:true Pkg Fields:false</td>\n",
       "      <td>sbom4python</td>\n",
       "    </tr>\n",
       "    <tr>\n",
       "      <th>12</th>\n",
       "      <td>comp_with_licenses</td>\n",
       "      <td>0.0</td>\n",
       "      <td>N/A (no components)</td>\n",
       "      <td>sbom4python</td>\n",
       "    </tr>\n",
       "    <tr>\n",
       "      <th>13</th>\n",
       "      <td>comp_with_checksums</td>\n",
       "      <td>0.0</td>\n",
       "      <td>N/A (no components)</td>\n",
       "      <td>sbom4python</td>\n",
       "    </tr>\n",
       "  </tbody>\n",
       "</table>\n",
       "</div>"
      ],
      "text/plain": [
       "                 feature  score                       description         tool\n",
       "11  sbom_required_fields    5.0  Doc Fields:true Pkg Fields:false  sbom4python\n",
       "12    comp_with_licenses    0.0               N/A (no components)  sbom4python\n",
       "13   comp_with_checksums    0.0               N/A (no components)  sbom4python"
      ]
     },
     "metadata": {},
     "output_type": "display_data"
    },
    {
     "data": {
      "text/html": [
       "<hr>"
      ],
      "text/plain": [
       "<IPython.core.display.HTML object>"
      ]
     },
     "metadata": {},
     "output_type": "display_data"
    },
    {
     "data": {
      "text/html": [
       "<h3>Category: Quality (avg score: 1.43)"
      ],
      "text/plain": [
       "<IPython.core.display.HTML object>"
      ]
     },
     "metadata": {},
     "output_type": "display_data"
    },
    {
     "data": {
      "text/html": [
       "<div>\n",
       "<style scoped>\n",
       "    .dataframe tbody tr th:only-of-type {\n",
       "        vertical-align: middle;\n",
       "    }\n",
       "\n",
       "    .dataframe tbody tr th {\n",
       "        vertical-align: top;\n",
       "    }\n",
       "\n",
       "    .dataframe thead th {\n",
       "        text-align: right;\n",
       "    }\n",
       "</style>\n",
       "<table border=\"1\" class=\"dataframe\">\n",
       "  <thead>\n",
       "    <tr style=\"text-align: right;\">\n",
       "      <th></th>\n",
       "      <th>feature</th>\n",
       "      <th>score</th>\n",
       "      <th>description</th>\n",
       "      <th>tool</th>\n",
       "    </tr>\n",
       "  </thead>\n",
       "  <tbody>\n",
       "    <tr>\n",
       "      <th>14</th>\n",
       "      <td>comp_valid_licenses</td>\n",
       "      <td>0.0</td>\n",
       "      <td>N/A (no components)</td>\n",
       "      <td>sbom4python</td>\n",
       "    </tr>\n",
       "    <tr>\n",
       "      <th>15</th>\n",
       "      <td>comp_with_primary_purpose</td>\n",
       "      <td>0.0</td>\n",
       "      <td>N/A (no components)</td>\n",
       "      <td>sbom4python</td>\n",
       "    </tr>\n",
       "    <tr>\n",
       "      <th>16</th>\n",
       "      <td>comp_with_deprecated_licenses</td>\n",
       "      <td>0.0</td>\n",
       "      <td>N/A (no components)</td>\n",
       "      <td>sbom4python</td>\n",
       "    </tr>\n",
       "    <tr>\n",
       "      <th>17</th>\n",
       "      <td>comp_with_restrictive_licenses</td>\n",
       "      <td>0.0</td>\n",
       "      <td>N/A (no components)</td>\n",
       "      <td>sbom4python</td>\n",
       "    </tr>\n",
       "    <tr>\n",
       "      <th>18</th>\n",
       "      <td>comp_with_any_vuln_lookup_id</td>\n",
       "      <td>0.0</td>\n",
       "      <td>N/A (no components)</td>\n",
       "      <td>sbom4python</td>\n",
       "    </tr>\n",
       "    <tr>\n",
       "      <th>19</th>\n",
       "      <td>comp_with_multi_vuln_lookup_id</td>\n",
       "      <td>0.0</td>\n",
       "      <td>N/A (no components)</td>\n",
       "      <td>sbom4python</td>\n",
       "    </tr>\n",
       "    <tr>\n",
       "      <th>20</th>\n",
       "      <td>sbom_with_creator_and_version</td>\n",
       "      <td>10.0</td>\n",
       "      <td>1/1 tools have creator and version</td>\n",
       "      <td>sbom4python</td>\n",
       "    </tr>\n",
       "  </tbody>\n",
       "</table>\n",
       "</div>"
      ],
      "text/plain": [
       "                           feature  score                         description  \\\n",
       "14             comp_valid_licenses    0.0                 N/A (no components)   \n",
       "15       comp_with_primary_purpose    0.0                 N/A (no components)   \n",
       "16   comp_with_deprecated_licenses    0.0                 N/A (no components)   \n",
       "17  comp_with_restrictive_licenses    0.0                 N/A (no components)   \n",
       "18    comp_with_any_vuln_lookup_id    0.0                 N/A (no components)   \n",
       "19  comp_with_multi_vuln_lookup_id    0.0                 N/A (no components)   \n",
       "20   sbom_with_creator_and_version   10.0  1/1 tools have creator and version   \n",
       "\n",
       "           tool  \n",
       "14  sbom4python  \n",
       "15  sbom4python  \n",
       "16  sbom4python  \n",
       "17  sbom4python  \n",
       "18  sbom4python  \n",
       "19  sbom4python  \n",
       "20  sbom4python  "
      ]
     },
     "metadata": {},
     "output_type": "display_data"
    },
    {
     "data": {
      "text/html": [
       "<hr>"
      ],
      "text/plain": [
       "<IPython.core.display.HTML object>"
      ]
     },
     "metadata": {},
     "output_type": "display_data"
    },
    {
     "data": {
      "text/html": [
       "<h3>Category: Sharing (avg score: 10.00)"
      ],
      "text/plain": [
       "<IPython.core.display.HTML object>"
      ]
     },
     "metadata": {},
     "output_type": "display_data"
    },
    {
     "data": {
      "text/html": [
       "<div>\n",
       "<style scoped>\n",
       "    .dataframe tbody tr th:only-of-type {\n",
       "        vertical-align: middle;\n",
       "    }\n",
       "\n",
       "    .dataframe tbody tr th {\n",
       "        vertical-align: top;\n",
       "    }\n",
       "\n",
       "    .dataframe thead th {\n",
       "        text-align: right;\n",
       "    }\n",
       "</style>\n",
       "<table border=\"1\" class=\"dataframe\">\n",
       "  <thead>\n",
       "    <tr style=\"text-align: right;\">\n",
       "      <th></th>\n",
       "      <th>feature</th>\n",
       "      <th>score</th>\n",
       "      <th>description</th>\n",
       "      <th>tool</th>\n",
       "    </tr>\n",
       "  </thead>\n",
       "  <tbody>\n",
       "    <tr>\n",
       "      <th>21</th>\n",
       "      <td>sbom_sharable</td>\n",
       "      <td>10.0</td>\n",
       "      <td>doc has a sharable license free 1 :: of 1</td>\n",
       "      <td>sbom4python</td>\n",
       "    </tr>\n",
       "  </tbody>\n",
       "</table>\n",
       "</div>"
      ],
      "text/plain": [
       "          feature  score                                description  \\\n",
       "21  sbom_sharable   10.0  doc has a sharable license free 1 :: of 1   \n",
       "\n",
       "           tool  \n",
       "21  sbom4python  "
      ]
     },
     "metadata": {},
     "output_type": "display_data"
    },
    {
     "data": {
      "text/html": [
       "<hr>"
      ],
      "text/plain": [
       "<IPython.core.display.HTML object>"
      ]
     },
     "metadata": {},
     "output_type": "display_data"
    },
    {
     "data": {
      "text/html": [
       "<h2>Tool: syft (avg score: 6.82)</h2>"
      ],
      "text/plain": [
       "<IPython.core.display.HTML object>"
      ]
     },
     "metadata": {},
     "output_type": "display_data"
    },
    {
     "data": {
      "text/html": [
       "<h3>Category: Structural (avg score: 10.00)"
      ],
      "text/plain": [
       "<IPython.core.display.HTML object>"
      ]
     },
     "metadata": {},
     "output_type": "display_data"
    },
    {
     "data": {
      "text/html": [
       "<div>\n",
       "<style scoped>\n",
       "    .dataframe tbody tr th:only-of-type {\n",
       "        vertical-align: middle;\n",
       "    }\n",
       "\n",
       "    .dataframe tbody tr th {\n",
       "        vertical-align: top;\n",
       "    }\n",
       "\n",
       "    .dataframe thead th {\n",
       "        text-align: right;\n",
       "    }\n",
       "</style>\n",
       "<table border=\"1\" class=\"dataframe\">\n",
       "  <thead>\n",
       "    <tr style=\"text-align: right;\">\n",
       "      <th></th>\n",
       "      <th>feature</th>\n",
       "      <th>score</th>\n",
       "      <th>description</th>\n",
       "      <th>tool</th>\n",
       "    </tr>\n",
       "  </thead>\n",
       "  <tbody>\n",
       "    <tr>\n",
       "      <th>0</th>\n",
       "      <td>sbom_spec</td>\n",
       "      <td>10.0</td>\n",
       "      <td>provided sbom is in a supported sbom format of...</td>\n",
       "      <td>syft</td>\n",
       "    </tr>\n",
       "    <tr>\n",
       "      <th>1</th>\n",
       "      <td>sbom_spec_version</td>\n",
       "      <td>10.0</td>\n",
       "      <td>provided sbom should be in supported spec vers...</td>\n",
       "      <td>syft</td>\n",
       "    </tr>\n",
       "    <tr>\n",
       "      <th>2</th>\n",
       "      <td>sbom_spec_file_format</td>\n",
       "      <td>10.0</td>\n",
       "      <td>provided sbom should be in supported file form...</td>\n",
       "      <td>syft</td>\n",
       "    </tr>\n",
       "    <tr>\n",
       "      <th>3</th>\n",
       "      <td>sbom_parsable</td>\n",
       "      <td>10.0</td>\n",
       "      <td>provided sbom is parsable</td>\n",
       "      <td>syft</td>\n",
       "    </tr>\n",
       "  </tbody>\n",
       "</table>\n",
       "</div>"
      ],
      "text/plain": [
       "                 feature  score  \\\n",
       "0              sbom_spec   10.0   \n",
       "1      sbom_spec_version   10.0   \n",
       "2  sbom_spec_file_format   10.0   \n",
       "3          sbom_parsable   10.0   \n",
       "\n",
       "                                         description  tool  \n",
       "0  provided sbom is in a supported sbom format of...  syft  \n",
       "1  provided sbom should be in supported spec vers...  syft  \n",
       "2  provided sbom should be in supported file form...  syft  \n",
       "3                          provided sbom is parsable  syft  "
      ]
     },
     "metadata": {},
     "output_type": "display_data"
    },
    {
     "data": {
      "text/html": [
       "<hr>"
      ],
      "text/plain": [
       "<IPython.core.display.HTML object>"
      ]
     },
     "metadata": {},
     "output_type": "display_data"
    },
    {
     "data": {
      "text/html": [
       "<h3>Category: NTIA-minimum-elements (avg score: 8.57)"
      ],
      "text/plain": [
       "<IPython.core.display.HTML object>"
      ]
     },
     "metadata": {},
     "output_type": "display_data"
    },
    {
     "data": {
      "text/html": [
       "<div>\n",
       "<style scoped>\n",
       "    .dataframe tbody tr th:only-of-type {\n",
       "        vertical-align: middle;\n",
       "    }\n",
       "\n",
       "    .dataframe tbody tr th {\n",
       "        vertical-align: top;\n",
       "    }\n",
       "\n",
       "    .dataframe thead th {\n",
       "        text-align: right;\n",
       "    }\n",
       "</style>\n",
       "<table border=\"1\" class=\"dataframe\">\n",
       "  <thead>\n",
       "    <tr style=\"text-align: right;\">\n",
       "      <th></th>\n",
       "      <th>feature</th>\n",
       "      <th>score</th>\n",
       "      <th>description</th>\n",
       "      <th>tool</th>\n",
       "    </tr>\n",
       "  </thead>\n",
       "  <tbody>\n",
       "    <tr>\n",
       "      <th>4</th>\n",
       "      <td>comp_with_supplier</td>\n",
       "      <td>0.0</td>\n",
       "      <td>0/201 have supplier names</td>\n",
       "      <td>syft</td>\n",
       "    </tr>\n",
       "    <tr>\n",
       "      <th>5</th>\n",
       "      <td>comp_with_name</td>\n",
       "      <td>10.0</td>\n",
       "      <td>201/201 have names</td>\n",
       "      <td>syft</td>\n",
       "    </tr>\n",
       "    <tr>\n",
       "      <th>6</th>\n",
       "      <td>comp_with_version</td>\n",
       "      <td>10.0</td>\n",
       "      <td>201/201 have versions</td>\n",
       "      <td>syft</td>\n",
       "    </tr>\n",
       "    <tr>\n",
       "      <th>7</th>\n",
       "      <td>comp_with_uniq_ids</td>\n",
       "      <td>10.0</td>\n",
       "      <td>201/201 have unique ID's</td>\n",
       "      <td>syft</td>\n",
       "    </tr>\n",
       "    <tr>\n",
       "      <th>8</th>\n",
       "      <td>sbom_dependencies</td>\n",
       "      <td>10.0</td>\n",
       "      <td>doc has 1 relationships</td>\n",
       "      <td>syft</td>\n",
       "    </tr>\n",
       "    <tr>\n",
       "      <th>9</th>\n",
       "      <td>sbom_authors</td>\n",
       "      <td>10.0</td>\n",
       "      <td>doc has 2 authors</td>\n",
       "      <td>syft</td>\n",
       "    </tr>\n",
       "    <tr>\n",
       "      <th>10</th>\n",
       "      <td>sbom_creation_timestamp</td>\n",
       "      <td>10.0</td>\n",
       "      <td>doc has creation timestamp</td>\n",
       "      <td>syft</td>\n",
       "    </tr>\n",
       "  </tbody>\n",
       "</table>\n",
       "</div>"
      ],
      "text/plain": [
       "                    feature  score                 description  tool\n",
       "4        comp_with_supplier    0.0   0/201 have supplier names  syft\n",
       "5            comp_with_name   10.0          201/201 have names  syft\n",
       "6         comp_with_version   10.0       201/201 have versions  syft\n",
       "7        comp_with_uniq_ids   10.0    201/201 have unique ID's  syft\n",
       "8         sbom_dependencies   10.0    doc has 1 relationships   syft\n",
       "9              sbom_authors   10.0           doc has 2 authors  syft\n",
       "10  sbom_creation_timestamp   10.0  doc has creation timestamp  syft"
      ]
     },
     "metadata": {},
     "output_type": "display_data"
    },
    {
     "data": {
      "text/html": [
       "<hr>"
      ],
      "text/plain": [
       "<IPython.core.display.HTML object>"
      ]
     },
     "metadata": {},
     "output_type": "display_data"
    },
    {
     "data": {
      "text/html": [
       "<h3>Category: Semantic (avg score: 3.35)"
      ],
      "text/plain": [
       "<IPython.core.display.HTML object>"
      ]
     },
     "metadata": {},
     "output_type": "display_data"
    },
    {
     "data": {
      "text/html": [
       "<div>\n",
       "<style scoped>\n",
       "    .dataframe tbody tr th:only-of-type {\n",
       "        vertical-align: middle;\n",
       "    }\n",
       "\n",
       "    .dataframe tbody tr th {\n",
       "        vertical-align: top;\n",
       "    }\n",
       "\n",
       "    .dataframe thead th {\n",
       "        text-align: right;\n",
       "    }\n",
       "</style>\n",
       "<table border=\"1\" class=\"dataframe\">\n",
       "  <thead>\n",
       "    <tr style=\"text-align: right;\">\n",
       "      <th></th>\n",
       "      <th>feature</th>\n",
       "      <th>score</th>\n",
       "      <th>description</th>\n",
       "      <th>tool</th>\n",
       "    </tr>\n",
       "  </thead>\n",
       "  <tbody>\n",
       "    <tr>\n",
       "      <th>11</th>\n",
       "      <td>sbom_required_fields</td>\n",
       "      <td>10.00</td>\n",
       "      <td>Doc Fields:true Pkg Fields:true</td>\n",
       "      <td>syft</td>\n",
       "    </tr>\n",
       "    <tr>\n",
       "      <th>12</th>\n",
       "      <td>comp_with_licenses</td>\n",
       "      <td>0.00</td>\n",
       "      <td>0/201 have licenses</td>\n",
       "      <td>syft</td>\n",
       "    </tr>\n",
       "    <tr>\n",
       "      <th>13</th>\n",
       "      <td>comp_with_checksums</td>\n",
       "      <td>0.05</td>\n",
       "      <td>1/201 have checksums</td>\n",
       "      <td>syft</td>\n",
       "    </tr>\n",
       "  </tbody>\n",
       "</table>\n",
       "</div>"
      ],
      "text/plain": [
       "                 feature  score                      description  tool\n",
       "11  sbom_required_fields  10.00  Doc Fields:true Pkg Fields:true  syft\n",
       "12    comp_with_licenses   0.00              0/201 have licenses  syft\n",
       "13   comp_with_checksums   0.05             1/201 have checksums  syft"
      ]
     },
     "metadata": {},
     "output_type": "display_data"
    },
    {
     "data": {
      "text/html": [
       "<hr>"
      ],
      "text/plain": [
       "<IPython.core.display.HTML object>"
      ]
     },
     "metadata": {},
     "output_type": "display_data"
    },
    {
     "data": {
      "text/html": [
       "<h3>Category: Quality (avg score: 4.29)"
      ],
      "text/plain": [
       "<IPython.core.display.HTML object>"
      ]
     },
     "metadata": {},
     "output_type": "display_data"
    },
    {
     "data": {
      "text/html": [
       "<div>\n",
       "<style scoped>\n",
       "    .dataframe tbody tr th:only-of-type {\n",
       "        vertical-align: middle;\n",
       "    }\n",
       "\n",
       "    .dataframe tbody tr th {\n",
       "        vertical-align: top;\n",
       "    }\n",
       "\n",
       "    .dataframe thead th {\n",
       "        text-align: right;\n",
       "    }\n",
       "</style>\n",
       "<table border=\"1\" class=\"dataframe\">\n",
       "  <thead>\n",
       "    <tr style=\"text-align: right;\">\n",
       "      <th></th>\n",
       "      <th>feature</th>\n",
       "      <th>score</th>\n",
       "      <th>description</th>\n",
       "      <th>tool</th>\n",
       "    </tr>\n",
       "  </thead>\n",
       "  <tbody>\n",
       "    <tr>\n",
       "      <th>14</th>\n",
       "      <td>comp_valid_licenses</td>\n",
       "      <td>0.0</td>\n",
       "      <td>0/201 components with valid license</td>\n",
       "      <td>syft</td>\n",
       "    </tr>\n",
       "    <tr>\n",
       "      <th>15</th>\n",
       "      <td>comp_with_primary_purpose</td>\n",
       "      <td>0.0</td>\n",
       "      <td>0/201 components have primary purpose specified</td>\n",
       "      <td>syft</td>\n",
       "    </tr>\n",
       "    <tr>\n",
       "      <th>16</th>\n",
       "      <td>comp_with_deprecated_licenses</td>\n",
       "      <td>0.0</td>\n",
       "      <td>no licenses found</td>\n",
       "      <td>syft</td>\n",
       "    </tr>\n",
       "    <tr>\n",
       "      <th>17</th>\n",
       "      <td>comp_with_restrictive_licenses</td>\n",
       "      <td>0.0</td>\n",
       "      <td>no licenses found</td>\n",
       "      <td>syft</td>\n",
       "    </tr>\n",
       "    <tr>\n",
       "      <th>18</th>\n",
       "      <td>comp_with_any_vuln_lookup_id</td>\n",
       "      <td>10.0</td>\n",
       "      <td>201/201 components have any lookup id</td>\n",
       "      <td>syft</td>\n",
       "    </tr>\n",
       "    <tr>\n",
       "      <th>19</th>\n",
       "      <td>comp_with_multi_vuln_lookup_id</td>\n",
       "      <td>10.0</td>\n",
       "      <td>201/201 components have multiple lookup id</td>\n",
       "      <td>syft</td>\n",
       "    </tr>\n",
       "    <tr>\n",
       "      <th>20</th>\n",
       "      <td>sbom_with_creator_and_version</td>\n",
       "      <td>10.0</td>\n",
       "      <td>1/1 tools have creator and version</td>\n",
       "      <td>syft</td>\n",
       "    </tr>\n",
       "  </tbody>\n",
       "</table>\n",
       "</div>"
      ],
      "text/plain": [
       "                           feature  score  \\\n",
       "14             comp_valid_licenses    0.0   \n",
       "15       comp_with_primary_purpose    0.0   \n",
       "16   comp_with_deprecated_licenses    0.0   \n",
       "17  comp_with_restrictive_licenses    0.0   \n",
       "18    comp_with_any_vuln_lookup_id   10.0   \n",
       "19  comp_with_multi_vuln_lookup_id   10.0   \n",
       "20   sbom_with_creator_and_version   10.0   \n",
       "\n",
       "                                        description  tool  \n",
       "14             0/201 components with valid license   syft  \n",
       "15  0/201 components have primary purpose specified  syft  \n",
       "16                                no licenses found  syft  \n",
       "17                                no licenses found  syft  \n",
       "18            201/201 components have any lookup id  syft  \n",
       "19       201/201 components have multiple lookup id  syft  \n",
       "20               1/1 tools have creator and version  syft  "
      ]
     },
     "metadata": {},
     "output_type": "display_data"
    },
    {
     "data": {
      "text/html": [
       "<hr>"
      ],
      "text/plain": [
       "<IPython.core.display.HTML object>"
      ]
     },
     "metadata": {},
     "output_type": "display_data"
    },
    {
     "data": {
      "text/html": [
       "<h3>Category: Sharing (avg score: 10.00)"
      ],
      "text/plain": [
       "<IPython.core.display.HTML object>"
      ]
     },
     "metadata": {},
     "output_type": "display_data"
    },
    {
     "data": {
      "text/html": [
       "<div>\n",
       "<style scoped>\n",
       "    .dataframe tbody tr th:only-of-type {\n",
       "        vertical-align: middle;\n",
       "    }\n",
       "\n",
       "    .dataframe tbody tr th {\n",
       "        vertical-align: top;\n",
       "    }\n",
       "\n",
       "    .dataframe thead th {\n",
       "        text-align: right;\n",
       "    }\n",
       "</style>\n",
       "<table border=\"1\" class=\"dataframe\">\n",
       "  <thead>\n",
       "    <tr style=\"text-align: right;\">\n",
       "      <th></th>\n",
       "      <th>feature</th>\n",
       "      <th>score</th>\n",
       "      <th>description</th>\n",
       "      <th>tool</th>\n",
       "    </tr>\n",
       "  </thead>\n",
       "  <tbody>\n",
       "    <tr>\n",
       "      <th>21</th>\n",
       "      <td>sbom_sharable</td>\n",
       "      <td>10.0</td>\n",
       "      <td>doc has a sharable license free 1 :: of 1</td>\n",
       "      <td>syft</td>\n",
       "    </tr>\n",
       "  </tbody>\n",
       "</table>\n",
       "</div>"
      ],
      "text/plain": [
       "          feature  score                                description  tool\n",
       "21  sbom_sharable   10.0  doc has a sharable license free 1 :: of 1  syft"
      ]
     },
     "metadata": {},
     "output_type": "display_data"
    },
    {
     "data": {
      "text/html": [
       "<hr>"
      ],
      "text/plain": [
       "<IPython.core.display.HTML object>"
      ]
     },
     "metadata": {},
     "output_type": "display_data"
    },
    {
     "data": {
      "text/html": [
       "<h2>Tool: tern (avg score: 7.38)</h2>"
      ],
      "text/plain": [
       "<IPython.core.display.HTML object>"
      ]
     },
     "metadata": {},
     "output_type": "display_data"
    },
    {
     "data": {
      "text/html": [
       "<h3>Category: Structural (avg score: 10.00)"
      ],
      "text/plain": [
       "<IPython.core.display.HTML object>"
      ]
     },
     "metadata": {},
     "output_type": "display_data"
    },
    {
     "data": {
      "text/html": [
       "<div>\n",
       "<style scoped>\n",
       "    .dataframe tbody tr th:only-of-type {\n",
       "        vertical-align: middle;\n",
       "    }\n",
       "\n",
       "    .dataframe tbody tr th {\n",
       "        vertical-align: top;\n",
       "    }\n",
       "\n",
       "    .dataframe thead th {\n",
       "        text-align: right;\n",
       "    }\n",
       "</style>\n",
       "<table border=\"1\" class=\"dataframe\">\n",
       "  <thead>\n",
       "    <tr style=\"text-align: right;\">\n",
       "      <th></th>\n",
       "      <th>feature</th>\n",
       "      <th>score</th>\n",
       "      <th>description</th>\n",
       "      <th>tool</th>\n",
       "    </tr>\n",
       "  </thead>\n",
       "  <tbody>\n",
       "    <tr>\n",
       "      <th>0</th>\n",
       "      <td>sbom_spec</td>\n",
       "      <td>10.0</td>\n",
       "      <td>provided sbom is in a supported sbom format of...</td>\n",
       "      <td>tern</td>\n",
       "    </tr>\n",
       "    <tr>\n",
       "      <th>1</th>\n",
       "      <td>sbom_spec_version</td>\n",
       "      <td>10.0</td>\n",
       "      <td>provided sbom should be in supported spec vers...</td>\n",
       "      <td>tern</td>\n",
       "    </tr>\n",
       "    <tr>\n",
       "      <th>2</th>\n",
       "      <td>sbom_spec_file_format</td>\n",
       "      <td>10.0</td>\n",
       "      <td>provided sbom should be in supported file form...</td>\n",
       "      <td>tern</td>\n",
       "    </tr>\n",
       "    <tr>\n",
       "      <th>3</th>\n",
       "      <td>sbom_parsable</td>\n",
       "      <td>10.0</td>\n",
       "      <td>provided sbom is parsable</td>\n",
       "      <td>tern</td>\n",
       "    </tr>\n",
       "  </tbody>\n",
       "</table>\n",
       "</div>"
      ],
      "text/plain": [
       "                 feature  score  \\\n",
       "0              sbom_spec   10.0   \n",
       "1      sbom_spec_version   10.0   \n",
       "2  sbom_spec_file_format   10.0   \n",
       "3          sbom_parsable   10.0   \n",
       "\n",
       "                                         description  tool  \n",
       "0  provided sbom is in a supported sbom format of...  tern  \n",
       "1  provided sbom should be in supported spec vers...  tern  \n",
       "2  provided sbom should be in supported file form...  tern  \n",
       "3                          provided sbom is parsable  tern  "
      ]
     },
     "metadata": {},
     "output_type": "display_data"
    },
    {
     "data": {
      "text/html": [
       "<hr>"
      ],
      "text/plain": [
       "<IPython.core.display.HTML object>"
      ]
     },
     "metadata": {},
     "output_type": "display_data"
    },
    {
     "data": {
      "text/html": [
       "<h3>Category: NTIA-minimum-elements (avg score: 9.42)"
      ],
      "text/plain": [
       "<IPython.core.display.HTML object>"
      ]
     },
     "metadata": {},
     "output_type": "display_data"
    },
    {
     "data": {
      "text/html": [
       "<div>\n",
       "<style scoped>\n",
       "    .dataframe tbody tr th:only-of-type {\n",
       "        vertical-align: middle;\n",
       "    }\n",
       "\n",
       "    .dataframe tbody tr th {\n",
       "        vertical-align: top;\n",
       "    }\n",
       "\n",
       "    .dataframe thead th {\n",
       "        text-align: right;\n",
       "    }\n",
       "</style>\n",
       "<table border=\"1\" class=\"dataframe\">\n",
       "  <thead>\n",
       "    <tr style=\"text-align: right;\">\n",
       "      <th></th>\n",
       "      <th>feature</th>\n",
       "      <th>score</th>\n",
       "      <th>description</th>\n",
       "      <th>tool</th>\n",
       "    </tr>\n",
       "  </thead>\n",
       "  <tbody>\n",
       "    <tr>\n",
       "      <th>4</th>\n",
       "      <td>comp_with_supplier</td>\n",
       "      <td>5.91</td>\n",
       "      <td>107/181 have supplier names</td>\n",
       "      <td>tern</td>\n",
       "    </tr>\n",
       "    <tr>\n",
       "      <th>5</th>\n",
       "      <td>comp_with_name</td>\n",
       "      <td>10.00</td>\n",
       "      <td>181/181 have names</td>\n",
       "      <td>tern</td>\n",
       "    </tr>\n",
       "    <tr>\n",
       "      <th>6</th>\n",
       "      <td>comp_with_version</td>\n",
       "      <td>10.00</td>\n",
       "      <td>181/181 have versions</td>\n",
       "      <td>tern</td>\n",
       "    </tr>\n",
       "    <tr>\n",
       "      <th>7</th>\n",
       "      <td>comp_with_uniq_ids</td>\n",
       "      <td>10.00</td>\n",
       "      <td>181/181 have unique ID's</td>\n",
       "      <td>tern</td>\n",
       "    </tr>\n",
       "    <tr>\n",
       "      <th>8</th>\n",
       "      <td>sbom_dependencies</td>\n",
       "      <td>10.00</td>\n",
       "      <td>doc has 117 relationships</td>\n",
       "      <td>tern</td>\n",
       "    </tr>\n",
       "    <tr>\n",
       "      <th>9</th>\n",
       "      <td>sbom_authors</td>\n",
       "      <td>10.00</td>\n",
       "      <td>doc has 1 authors</td>\n",
       "      <td>tern</td>\n",
       "    </tr>\n",
       "    <tr>\n",
       "      <th>10</th>\n",
       "      <td>sbom_creation_timestamp</td>\n",
       "      <td>10.00</td>\n",
       "      <td>doc has creation timestamp</td>\n",
       "      <td>tern</td>\n",
       "    </tr>\n",
       "  </tbody>\n",
       "</table>\n",
       "</div>"
      ],
      "text/plain": [
       "                    feature  score                  description  tool\n",
       "4        comp_with_supplier   5.91  107/181 have supplier names  tern\n",
       "5            comp_with_name  10.00           181/181 have names  tern\n",
       "6         comp_with_version  10.00        181/181 have versions  tern\n",
       "7        comp_with_uniq_ids  10.00     181/181 have unique ID's  tern\n",
       "8         sbom_dependencies  10.00   doc has 117 relationships   tern\n",
       "9              sbom_authors  10.00            doc has 1 authors  tern\n",
       "10  sbom_creation_timestamp  10.00   doc has creation timestamp  tern"
      ]
     },
     "metadata": {},
     "output_type": "display_data"
    },
    {
     "data": {
      "text/html": [
       "<hr>"
      ],
      "text/plain": [
       "<IPython.core.display.HTML object>"
      ]
     },
     "metadata": {},
     "output_type": "display_data"
    },
    {
     "data": {
      "text/html": [
       "<h3>Category: Semantic (avg score: 4.99)"
      ],
      "text/plain": [
       "<IPython.core.display.HTML object>"
      ]
     },
     "metadata": {},
     "output_type": "display_data"
    },
    {
     "data": {
      "text/html": [
       "<div>\n",
       "<style scoped>\n",
       "    .dataframe tbody tr th:only-of-type {\n",
       "        vertical-align: middle;\n",
       "    }\n",
       "\n",
       "    .dataframe tbody tr th {\n",
       "        vertical-align: top;\n",
       "    }\n",
       "\n",
       "    .dataframe thead th {\n",
       "        text-align: right;\n",
       "    }\n",
       "</style>\n",
       "<table border=\"1\" class=\"dataframe\">\n",
       "  <thead>\n",
       "    <tr style=\"text-align: right;\">\n",
       "      <th></th>\n",
       "      <th>feature</th>\n",
       "      <th>score</th>\n",
       "      <th>description</th>\n",
       "      <th>tool</th>\n",
       "    </tr>\n",
       "  </thead>\n",
       "  <tbody>\n",
       "    <tr>\n",
       "      <th>11</th>\n",
       "      <td>sbom_required_fields</td>\n",
       "      <td>10.00</td>\n",
       "      <td>Doc Fields:true Pkg Fields:true</td>\n",
       "      <td>tern</td>\n",
       "    </tr>\n",
       "    <tr>\n",
       "      <th>12</th>\n",
       "      <td>comp_with_licenses</td>\n",
       "      <td>4.70</td>\n",
       "      <td>85/181 have licenses</td>\n",
       "      <td>tern</td>\n",
       "    </tr>\n",
       "    <tr>\n",
       "      <th>13</th>\n",
       "      <td>comp_with_checksums</td>\n",
       "      <td>0.28</td>\n",
       "      <td>5/181 have checksums</td>\n",
       "      <td>tern</td>\n",
       "    </tr>\n",
       "  </tbody>\n",
       "</table>\n",
       "</div>"
      ],
      "text/plain": [
       "                 feature  score                      description  tool\n",
       "11  sbom_required_fields  10.00  Doc Fields:true Pkg Fields:true  tern\n",
       "12    comp_with_licenses   4.70             85/181 have licenses  tern\n",
       "13   comp_with_checksums   0.28             5/181 have checksums  tern"
      ]
     },
     "metadata": {},
     "output_type": "display_data"
    },
    {
     "data": {
      "text/html": [
       "<hr>"
      ],
      "text/plain": [
       "<IPython.core.display.HTML object>"
      ]
     },
     "metadata": {},
     "output_type": "display_data"
    },
    {
     "data": {
      "text/html": [
       "<h3>Category: Quality (avg score: 4.50)"
      ],
      "text/plain": [
       "<IPython.core.display.HTML object>"
      ]
     },
     "metadata": {},
     "output_type": "display_data"
    },
    {
     "data": {
      "text/html": [
       "<div>\n",
       "<style scoped>\n",
       "    .dataframe tbody tr th:only-of-type {\n",
       "        vertical-align: middle;\n",
       "    }\n",
       "\n",
       "    .dataframe tbody tr th {\n",
       "        vertical-align: top;\n",
       "    }\n",
       "\n",
       "    .dataframe thead th {\n",
       "        text-align: right;\n",
       "    }\n",
       "</style>\n",
       "<table border=\"1\" class=\"dataframe\">\n",
       "  <thead>\n",
       "    <tr style=\"text-align: right;\">\n",
       "      <th></th>\n",
       "      <th>feature</th>\n",
       "      <th>score</th>\n",
       "      <th>description</th>\n",
       "      <th>tool</th>\n",
       "    </tr>\n",
       "  </thead>\n",
       "  <tbody>\n",
       "    <tr>\n",
       "      <th>14</th>\n",
       "      <td>comp_valid_licenses</td>\n",
       "      <td>1.78</td>\n",
       "      <td>65/181 components with valid license</td>\n",
       "      <td>tern</td>\n",
       "    </tr>\n",
       "    <tr>\n",
       "      <th>15</th>\n",
       "      <td>comp_with_primary_purpose</td>\n",
       "      <td>0.00</td>\n",
       "      <td>0/181 components have primary purpose specified</td>\n",
       "      <td>tern</td>\n",
       "    </tr>\n",
       "    <tr>\n",
       "      <th>16</th>\n",
       "      <td>comp_with_deprecated_licenses</td>\n",
       "      <td>7.73</td>\n",
       "      <td>41/181 components have deprecated licenses</td>\n",
       "      <td>tern</td>\n",
       "    </tr>\n",
       "    <tr>\n",
       "      <th>17</th>\n",
       "      <td>comp_with_restrictive_licenses</td>\n",
       "      <td>6.08</td>\n",
       "      <td>71/181 components have restricted licenses</td>\n",
       "      <td>tern</td>\n",
       "    </tr>\n",
       "    <tr>\n",
       "      <th>18</th>\n",
       "      <td>comp_with_any_vuln_lookup_id</td>\n",
       "      <td>5.91</td>\n",
       "      <td>107/181 components have any lookup id</td>\n",
       "      <td>tern</td>\n",
       "    </tr>\n",
       "    <tr>\n",
       "      <th>19</th>\n",
       "      <td>comp_with_multi_vuln_lookup_id</td>\n",
       "      <td>0.00</td>\n",
       "      <td>0/181 components have multiple lookup id</td>\n",
       "      <td>tern</td>\n",
       "    </tr>\n",
       "    <tr>\n",
       "      <th>20</th>\n",
       "      <td>sbom_with_creator_and_version</td>\n",
       "      <td>10.00</td>\n",
       "      <td>1/1 tools have creator and version</td>\n",
       "      <td>tern</td>\n",
       "    </tr>\n",
       "  </tbody>\n",
       "</table>\n",
       "</div>"
      ],
      "text/plain": [
       "                           feature  score  \\\n",
       "14             comp_valid_licenses   1.78   \n",
       "15       comp_with_primary_purpose   0.00   \n",
       "16   comp_with_deprecated_licenses   7.73   \n",
       "17  comp_with_restrictive_licenses   6.08   \n",
       "18    comp_with_any_vuln_lookup_id   5.91   \n",
       "19  comp_with_multi_vuln_lookup_id   0.00   \n",
       "20   sbom_with_creator_and_version  10.00   \n",
       "\n",
       "                                        description  tool  \n",
       "14            65/181 components with valid license   tern  \n",
       "15  0/181 components have primary purpose specified  tern  \n",
       "16       41/181 components have deprecated licenses  tern  \n",
       "17       71/181 components have restricted licenses  tern  \n",
       "18            107/181 components have any lookup id  tern  \n",
       "19         0/181 components have multiple lookup id  tern  \n",
       "20               1/1 tools have creator and version  tern  "
      ]
     },
     "metadata": {},
     "output_type": "display_data"
    },
    {
     "data": {
      "text/html": [
       "<hr>"
      ],
      "text/plain": [
       "<IPython.core.display.HTML object>"
      ]
     },
     "metadata": {},
     "output_type": "display_data"
    },
    {
     "data": {
      "text/html": [
       "<h3>Category: Sharing (avg score: 10.00)"
      ],
      "text/plain": [
       "<IPython.core.display.HTML object>"
      ]
     },
     "metadata": {},
     "output_type": "display_data"
    },
    {
     "data": {
      "text/html": [
       "<div>\n",
       "<style scoped>\n",
       "    .dataframe tbody tr th:only-of-type {\n",
       "        vertical-align: middle;\n",
       "    }\n",
       "\n",
       "    .dataframe tbody tr th {\n",
       "        vertical-align: top;\n",
       "    }\n",
       "\n",
       "    .dataframe thead th {\n",
       "        text-align: right;\n",
       "    }\n",
       "</style>\n",
       "<table border=\"1\" class=\"dataframe\">\n",
       "  <thead>\n",
       "    <tr style=\"text-align: right;\">\n",
       "      <th></th>\n",
       "      <th>feature</th>\n",
       "      <th>score</th>\n",
       "      <th>description</th>\n",
       "      <th>tool</th>\n",
       "    </tr>\n",
       "  </thead>\n",
       "  <tbody>\n",
       "    <tr>\n",
       "      <th>21</th>\n",
       "      <td>sbom_sharable</td>\n",
       "      <td>10.0</td>\n",
       "      <td>doc has a sharable license free 1 :: of 1</td>\n",
       "      <td>tern</td>\n",
       "    </tr>\n",
       "  </tbody>\n",
       "</table>\n",
       "</div>"
      ],
      "text/plain": [
       "          feature  score                                description  tool\n",
       "21  sbom_sharable   10.0  doc has a sharable license free 1 :: of 1  tern"
      ]
     },
     "metadata": {},
     "output_type": "display_data"
    },
    {
     "data": {
      "text/html": [
       "<hr>"
      ],
      "text/plain": [
       "<IPython.core.display.HTML object>"
      ]
     },
     "metadata": {},
     "output_type": "display_data"
    },
    {
     "data": {
      "text/html": [
       "<h2>Tool: trivy (avg score: 6.77)</h2>"
      ],
      "text/plain": [
       "<IPython.core.display.HTML object>"
      ]
     },
     "metadata": {},
     "output_type": "display_data"
    },
    {
     "data": {
      "text/html": [
       "<h3>Category: Structural (avg score: 10.00)"
      ],
      "text/plain": [
       "<IPython.core.display.HTML object>"
      ]
     },
     "metadata": {},
     "output_type": "display_data"
    },
    {
     "data": {
      "text/html": [
       "<div>\n",
       "<style scoped>\n",
       "    .dataframe tbody tr th:only-of-type {\n",
       "        vertical-align: middle;\n",
       "    }\n",
       "\n",
       "    .dataframe tbody tr th {\n",
       "        vertical-align: top;\n",
       "    }\n",
       "\n",
       "    .dataframe thead th {\n",
       "        text-align: right;\n",
       "    }\n",
       "</style>\n",
       "<table border=\"1\" class=\"dataframe\">\n",
       "  <thead>\n",
       "    <tr style=\"text-align: right;\">\n",
       "      <th></th>\n",
       "      <th>feature</th>\n",
       "      <th>score</th>\n",
       "      <th>description</th>\n",
       "      <th>tool</th>\n",
       "    </tr>\n",
       "  </thead>\n",
       "  <tbody>\n",
       "    <tr>\n",
       "      <th>0</th>\n",
       "      <td>sbom_spec</td>\n",
       "      <td>10.0</td>\n",
       "      <td>provided sbom is in a supported sbom format of...</td>\n",
       "      <td>trivy</td>\n",
       "    </tr>\n",
       "    <tr>\n",
       "      <th>1</th>\n",
       "      <td>sbom_spec_version</td>\n",
       "      <td>10.0</td>\n",
       "      <td>provided sbom should be in supported spec vers...</td>\n",
       "      <td>trivy</td>\n",
       "    </tr>\n",
       "    <tr>\n",
       "      <th>2</th>\n",
       "      <td>sbom_spec_file_format</td>\n",
       "      <td>10.0</td>\n",
       "      <td>provided sbom should be in supported file form...</td>\n",
       "      <td>trivy</td>\n",
       "    </tr>\n",
       "    <tr>\n",
       "      <th>3</th>\n",
       "      <td>sbom_parsable</td>\n",
       "      <td>10.0</td>\n",
       "      <td>provided sbom is parsable</td>\n",
       "      <td>trivy</td>\n",
       "    </tr>\n",
       "  </tbody>\n",
       "</table>\n",
       "</div>"
      ],
      "text/plain": [
       "                 feature  score  \\\n",
       "0              sbom_spec   10.0   \n",
       "1      sbom_spec_version   10.0   \n",
       "2  sbom_spec_file_format   10.0   \n",
       "3          sbom_parsable   10.0   \n",
       "\n",
       "                                         description   tool  \n",
       "0  provided sbom is in a supported sbom format of...  trivy  \n",
       "1  provided sbom should be in supported spec vers...  trivy  \n",
       "2  provided sbom should be in supported file form...  trivy  \n",
       "3                          provided sbom is parsable  trivy  "
      ]
     },
     "metadata": {},
     "output_type": "display_data"
    },
    {
     "data": {
      "text/html": [
       "<hr>"
      ],
      "text/plain": [
       "<IPython.core.display.HTML object>"
      ]
     },
     "metadata": {},
     "output_type": "display_data"
    },
    {
     "data": {
      "text/html": [
       "<h3>Category: NTIA-minimum-elements (avg score: 8.50)"
      ],
      "text/plain": [
       "<IPython.core.display.HTML object>"
      ]
     },
     "metadata": {},
     "output_type": "display_data"
    },
    {
     "data": {
      "text/html": [
       "<div>\n",
       "<style scoped>\n",
       "    .dataframe tbody tr th:only-of-type {\n",
       "        vertical-align: middle;\n",
       "    }\n",
       "\n",
       "    .dataframe tbody tr th {\n",
       "        vertical-align: top;\n",
       "    }\n",
       "\n",
       "    .dataframe thead th {\n",
       "        text-align: right;\n",
       "    }\n",
       "</style>\n",
       "<table border=\"1\" class=\"dataframe\">\n",
       "  <thead>\n",
       "    <tr style=\"text-align: right;\">\n",
       "      <th></th>\n",
       "      <th>feature</th>\n",
       "      <th>score</th>\n",
       "      <th>description</th>\n",
       "      <th>tool</th>\n",
       "    </tr>\n",
       "  </thead>\n",
       "  <tbody>\n",
       "    <tr>\n",
       "      <th>4</th>\n",
       "      <td>comp_with_supplier</td>\n",
       "      <td>0.00</td>\n",
       "      <td>0/124 have supplier names</td>\n",
       "      <td>trivy</td>\n",
       "    </tr>\n",
       "    <tr>\n",
       "      <th>5</th>\n",
       "      <td>comp_with_name</td>\n",
       "      <td>10.00</td>\n",
       "      <td>124/124 have names</td>\n",
       "      <td>trivy</td>\n",
       "    </tr>\n",
       "    <tr>\n",
       "      <th>6</th>\n",
       "      <td>comp_with_version</td>\n",
       "      <td>9.52</td>\n",
       "      <td>118/124 have versions</td>\n",
       "      <td>trivy</td>\n",
       "    </tr>\n",
       "    <tr>\n",
       "      <th>7</th>\n",
       "      <td>comp_with_uniq_ids</td>\n",
       "      <td>10.00</td>\n",
       "      <td>124/124 have unique ID's</td>\n",
       "      <td>trivy</td>\n",
       "    </tr>\n",
       "    <tr>\n",
       "      <th>8</th>\n",
       "      <td>sbom_dependencies</td>\n",
       "      <td>10.00</td>\n",
       "      <td>doc has 126 relationships</td>\n",
       "      <td>trivy</td>\n",
       "    </tr>\n",
       "    <tr>\n",
       "      <th>9</th>\n",
       "      <td>sbom_authors</td>\n",
       "      <td>10.00</td>\n",
       "      <td>doc has 2 authors</td>\n",
       "      <td>trivy</td>\n",
       "    </tr>\n",
       "    <tr>\n",
       "      <th>10</th>\n",
       "      <td>sbom_creation_timestamp</td>\n",
       "      <td>10.00</td>\n",
       "      <td>doc has creation timestamp</td>\n",
       "      <td>trivy</td>\n",
       "    </tr>\n",
       "  </tbody>\n",
       "</table>\n",
       "</div>"
      ],
      "text/plain": [
       "                    feature  score                 description   tool\n",
       "4        comp_with_supplier   0.00   0/124 have supplier names  trivy\n",
       "5            comp_with_name  10.00          124/124 have names  trivy\n",
       "6         comp_with_version   9.52       118/124 have versions  trivy\n",
       "7        comp_with_uniq_ids  10.00    124/124 have unique ID's  trivy\n",
       "8         sbom_dependencies  10.00  doc has 126 relationships   trivy\n",
       "9              sbom_authors  10.00           doc has 2 authors  trivy\n",
       "10  sbom_creation_timestamp  10.00  doc has creation timestamp  trivy"
      ]
     },
     "metadata": {},
     "output_type": "display_data"
    },
    {
     "data": {
      "text/html": [
       "<hr>"
      ],
      "text/plain": [
       "<IPython.core.display.HTML object>"
      ]
     },
     "metadata": {},
     "output_type": "display_data"
    },
    {
     "data": {
      "text/html": [
       "<h3>Category: Semantic (avg score: 3.33)"
      ],
      "text/plain": [
       "<IPython.core.display.HTML object>"
      ]
     },
     "metadata": {},
     "output_type": "display_data"
    },
    {
     "data": {
      "text/html": [
       "<div>\n",
       "<style scoped>\n",
       "    .dataframe tbody tr th:only-of-type {\n",
       "        vertical-align: middle;\n",
       "    }\n",
       "\n",
       "    .dataframe tbody tr th {\n",
       "        vertical-align: top;\n",
       "    }\n",
       "\n",
       "    .dataframe thead th {\n",
       "        text-align: right;\n",
       "    }\n",
       "</style>\n",
       "<table border=\"1\" class=\"dataframe\">\n",
       "  <thead>\n",
       "    <tr style=\"text-align: right;\">\n",
       "      <th></th>\n",
       "      <th>feature</th>\n",
       "      <th>score</th>\n",
       "      <th>description</th>\n",
       "      <th>tool</th>\n",
       "    </tr>\n",
       "  </thead>\n",
       "  <tbody>\n",
       "    <tr>\n",
       "      <th>11</th>\n",
       "      <td>sbom_required_fields</td>\n",
       "      <td>10.0</td>\n",
       "      <td>Doc Fields:true Pkg Fields:true</td>\n",
       "      <td>trivy</td>\n",
       "    </tr>\n",
       "    <tr>\n",
       "      <th>12</th>\n",
       "      <td>comp_with_licenses</td>\n",
       "      <td>0.0</td>\n",
       "      <td>0/124 have licenses</td>\n",
       "      <td>trivy</td>\n",
       "    </tr>\n",
       "    <tr>\n",
       "      <th>13</th>\n",
       "      <td>comp_with_checksums</td>\n",
       "      <td>0.0</td>\n",
       "      <td>0/124 have checksums</td>\n",
       "      <td>trivy</td>\n",
       "    </tr>\n",
       "  </tbody>\n",
       "</table>\n",
       "</div>"
      ],
      "text/plain": [
       "                 feature  score                      description   tool\n",
       "11  sbom_required_fields   10.0  Doc Fields:true Pkg Fields:true  trivy\n",
       "12    comp_with_licenses    0.0              0/124 have licenses  trivy\n",
       "13   comp_with_checksums    0.0             0/124 have checksums  trivy"
      ]
     },
     "metadata": {},
     "output_type": "display_data"
    },
    {
     "data": {
      "text/html": [
       "<hr>"
      ],
      "text/plain": [
       "<IPython.core.display.HTML object>"
      ]
     },
     "metadata": {},
     "output_type": "display_data"
    },
    {
     "data": {
      "text/html": [
       "<h3>Category: Quality (avg score: 4.22)"
      ],
      "text/plain": [
       "<IPython.core.display.HTML object>"
      ]
     },
     "metadata": {},
     "output_type": "display_data"
    },
    {
     "data": {
      "text/html": [
       "<div>\n",
       "<style scoped>\n",
       "    .dataframe tbody tr th:only-of-type {\n",
       "        vertical-align: middle;\n",
       "    }\n",
       "\n",
       "    .dataframe tbody tr th {\n",
       "        vertical-align: top;\n",
       "    }\n",
       "\n",
       "    .dataframe thead th {\n",
       "        text-align: right;\n",
       "    }\n",
       "</style>\n",
       "<table border=\"1\" class=\"dataframe\">\n",
       "  <thead>\n",
       "    <tr style=\"text-align: right;\">\n",
       "      <th></th>\n",
       "      <th>feature</th>\n",
       "      <th>score</th>\n",
       "      <th>description</th>\n",
       "      <th>tool</th>\n",
       "    </tr>\n",
       "  </thead>\n",
       "  <tbody>\n",
       "    <tr>\n",
       "      <th>14</th>\n",
       "      <td>comp_valid_licenses</td>\n",
       "      <td>0.00</td>\n",
       "      <td>0/124 components with valid license</td>\n",
       "      <td>trivy</td>\n",
       "    </tr>\n",
       "    <tr>\n",
       "      <th>15</th>\n",
       "      <td>comp_with_primary_purpose</td>\n",
       "      <td>10.00</td>\n",
       "      <td>124/124 components have primary purpose specified</td>\n",
       "      <td>trivy</td>\n",
       "    </tr>\n",
       "    <tr>\n",
       "      <th>16</th>\n",
       "      <td>comp_with_deprecated_licenses</td>\n",
       "      <td>0.00</td>\n",
       "      <td>no licenses found</td>\n",
       "      <td>trivy</td>\n",
       "    </tr>\n",
       "    <tr>\n",
       "      <th>17</th>\n",
       "      <td>comp_with_restrictive_licenses</td>\n",
       "      <td>0.00</td>\n",
       "      <td>no licenses found</td>\n",
       "      <td>trivy</td>\n",
       "    </tr>\n",
       "    <tr>\n",
       "      <th>18</th>\n",
       "      <td>comp_with_any_vuln_lookup_id</td>\n",
       "      <td>9.52</td>\n",
       "      <td>118/124 components have any lookup id</td>\n",
       "      <td>trivy</td>\n",
       "    </tr>\n",
       "    <tr>\n",
       "      <th>19</th>\n",
       "      <td>comp_with_multi_vuln_lookup_id</td>\n",
       "      <td>0.00</td>\n",
       "      <td>0/124 components have multiple lookup id</td>\n",
       "      <td>trivy</td>\n",
       "    </tr>\n",
       "    <tr>\n",
       "      <th>20</th>\n",
       "      <td>sbom_with_creator_and_version</td>\n",
       "      <td>10.00</td>\n",
       "      <td>1/1 tools have creator and version</td>\n",
       "      <td>trivy</td>\n",
       "    </tr>\n",
       "  </tbody>\n",
       "</table>\n",
       "</div>"
      ],
      "text/plain": [
       "                           feature  score  \\\n",
       "14             comp_valid_licenses   0.00   \n",
       "15       comp_with_primary_purpose  10.00   \n",
       "16   comp_with_deprecated_licenses   0.00   \n",
       "17  comp_with_restrictive_licenses   0.00   \n",
       "18    comp_with_any_vuln_lookup_id   9.52   \n",
       "19  comp_with_multi_vuln_lookup_id   0.00   \n",
       "20   sbom_with_creator_and_version  10.00   \n",
       "\n",
       "                                          description   tool  \n",
       "14               0/124 components with valid license   trivy  \n",
       "15  124/124 components have primary purpose specified  trivy  \n",
       "16                                  no licenses found  trivy  \n",
       "17                                  no licenses found  trivy  \n",
       "18              118/124 components have any lookup id  trivy  \n",
       "19           0/124 components have multiple lookup id  trivy  \n",
       "20                 1/1 tools have creator and version  trivy  "
      ]
     },
     "metadata": {},
     "output_type": "display_data"
    },
    {
     "data": {
      "text/html": [
       "<hr>"
      ],
      "text/plain": [
       "<IPython.core.display.HTML object>"
      ]
     },
     "metadata": {},
     "output_type": "display_data"
    },
    {
     "data": {
      "text/html": [
       "<h3>Category: Sharing (avg score: 10.00)"
      ],
      "text/plain": [
       "<IPython.core.display.HTML object>"
      ]
     },
     "metadata": {},
     "output_type": "display_data"
    },
    {
     "data": {
      "text/html": [
       "<div>\n",
       "<style scoped>\n",
       "    .dataframe tbody tr th:only-of-type {\n",
       "        vertical-align: middle;\n",
       "    }\n",
       "\n",
       "    .dataframe tbody tr th {\n",
       "        vertical-align: top;\n",
       "    }\n",
       "\n",
       "    .dataframe thead th {\n",
       "        text-align: right;\n",
       "    }\n",
       "</style>\n",
       "<table border=\"1\" class=\"dataframe\">\n",
       "  <thead>\n",
       "    <tr style=\"text-align: right;\">\n",
       "      <th></th>\n",
       "      <th>feature</th>\n",
       "      <th>score</th>\n",
       "      <th>description</th>\n",
       "      <th>tool</th>\n",
       "    </tr>\n",
       "  </thead>\n",
       "  <tbody>\n",
       "    <tr>\n",
       "      <th>21</th>\n",
       "      <td>sbom_sharable</td>\n",
       "      <td>10.0</td>\n",
       "      <td>doc has a sharable license free 1 :: of 1</td>\n",
       "      <td>trivy</td>\n",
       "    </tr>\n",
       "  </tbody>\n",
       "</table>\n",
       "</div>"
      ],
      "text/plain": [
       "          feature  score                                description   tool\n",
       "21  sbom_sharable   10.0  doc has a sharable license free 1 :: of 1  trivy"
      ]
     },
     "metadata": {},
     "output_type": "display_data"
    },
    {
     "data": {
      "text/html": [
       "<hr>"
      ],
      "text/plain": [
       "<IPython.core.display.HTML object>"
      ]
     },
     "metadata": {},
     "output_type": "display_data"
    }
   ],
   "source": [
    "display_qscores_with_descriptions(feature_qscores)"
   ]
  }
 ],
 "metadata": {
  "kernelspec": {
   "display_name": "python3",
   "language": "python",
   "name": "python3"
  }
 },
 "nbformat": 4,
 "nbformat_minor": 2
}
